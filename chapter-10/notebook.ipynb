{
 "cells": [
  {
   "cell_type": "markdown",
   "metadata": {},
   "source": [
    "# **CHAPTER 10 <br> Design Patterns with First-Class Functions**"
   ]
  },
  {
   "cell_type": "markdown",
   "metadata": {},
   "source": [
    "- In software engineering, a design pattern is a **general recipe for solving a common\n",
    "design problem**. You don’t need to know design patterns to follow this chapter.\n",
    "\n",
    "- Although design patterns are language independent, that does not mean every pattern\n",
    "applies to every language. Therefore implementation language determines which patterns are relevant.\n",
    "- In particular, in the context of languages with first-class functions, Norvig (“Design Patterns in Dynamic Languages”, Peter Norvig, 1996 presentation) suggests rethinking the classic patterns known as **Strategy**, **Command**, **Template Method**, and **Visitor**.\n",
    "\n",
    "- The **goal of this chapter** is to show how—in some cases—functions can do the same work as classes, with code that is more readable and concise."
   ]
  },
  {
   "cell_type": "markdown",
   "metadata": {},
   "source": [
    "# Strategy pattern"
   ]
  },
  {
   "cell_type": "markdown",
   "metadata": {},
   "source": [
    "\n",
    "\n",
    "Define a family of algorithms, encapsulate each one, and make them interchangeable.\n",
    "Strategy lets the algorithm vary independently from clients that use it.\n",
    "\n",
    "- *Context*: Provides a service by delegating some computation to interchangeable components\n",
    "that implement alternative algorithms. In the ecommerce example, the\n",
    "context is an Order, which is configured to apply a promotional discount according\n",
    "to one of several algorithms.\n",
    "\n",
    "- *Strategy*:The interface common to the components that implement the different algorithms.\n",
    "In our example, this role is played by an abstract class called Promotion.\n",
    "\n",
    "- *Concrete strategy*: One of the concrete subclasses of Strategy. FidelityPromo, BulkPromo, and LargeOrderPromo are the three concrete strategies implemented.\n"
   ]
  },
  {
   "cell_type": "code",
   "execution_count": 1,
   "metadata": {},
   "outputs": [],
   "source": [
    "# Example 10.1 Implementation of the Order class with pluggable discount strategies\n",
    "from abc import ABC, abstractmethod\n",
    "from collections.abc import Sequence\n",
    "from decimal import Decimal\n",
    "from typing import NamedTuple, Optional\n",
    "\n",
    "\n",
    "class Customer(NamedTuple):\n",
    "    name: str\n",
    "    fidelity: int\n",
    "\n",
    "\n",
    "class LineItem(NamedTuple):\n",
    "    product: str\n",
    "    quantity: int\n",
    "    price: Decimal\n",
    "\n",
    "    def total(self) -> Decimal:\n",
    "        return self.price * self.quantity\n",
    "\n",
    "\n",
    "class Order(NamedTuple):  # the Context\n",
    "    customer: Customer\n",
    "    cart: Sequence[LineItem]\n",
    "    promotion: Optional['Promotion'] = None\n",
    "\n",
    "    def total(self) -> Decimal:\n",
    "        totals = (item.total() for item in self.cart)\n",
    "        return sum(totals, start=Decimal(0))\n",
    "\n",
    "    def due(self) -> Decimal:\n",
    "        if self.promotion is None:\n",
    "            discount = Decimal(0)\n",
    "        else:\n",
    "            discount = self.promotion.discount(self)\n",
    "        return self.total() - discount\n",
    "\n",
    "    def __repr__(self):\n",
    "        return f'<Order total: {self.total():.2f} due: {self.due():.2f}>'\n",
    "\n",
    "\n",
    "class Promotion(ABC):  # the Strategy: an abstract base class\n",
    "    @abstractmethod\n",
    "    def discount(self, order: Order) -> Decimal:\n",
    "        \"\"\"Return discount as a positive dollar amount\"\"\"\n",
    "\n",
    "\n",
    "class FidelityPromo(Promotion):  # first Concrete Strategy\n",
    "    \"\"\"5% discount for customers with 1000 or more fidelity points\"\"\"\n",
    "\n",
    "    def discount(self, order: Order) -> Decimal:\n",
    "        rate = Decimal('0.05')\n",
    "        if order.customer.fidelity >= 1000:\n",
    "            return order.total() * rate\n",
    "        return Decimal(0)\n",
    "\n",
    "\n",
    "class BulkItemPromo(Promotion):  # second Concrete Strategy\n",
    "    \"\"\"10% discount for each LineItem with 20 or more units\"\"\"\n",
    "\n",
    "    def discount(self, order: Order) -> Decimal:\n",
    "        discount = Decimal(0)\n",
    "        for item in order.cart:\n",
    "            if item.quantity >= 20:\n",
    "                discount += item.total() * Decimal('0.1')\n",
    "        return discount\n",
    "\n",
    "\n",
    "class LargeOrderPromo(Promotion):  # third Concrete Strategy\n",
    "    \"\"\"7% discount for orders with 10 or more distinct items\"\"\"\n",
    "\n",
    "    def discount(self, order: Order) -> Decimal:\n",
    "        distinct_items = {item.product for item in order.cart}\n",
    "        if len(distinct_items) >= 10:\n",
    "            return order.total() * Decimal('0.07')\n",
    "        return Decimal(0)"
   ]
  },
  {
   "cell_type": "code",
   "execution_count": 2,
   "metadata": {},
   "outputs": [],
   "source": [
    "# Two customers: joe has 0 fidelity points, ann has 1,100.\n",
    "joe = Customer('John Doe', 0)\n",
    "ann = Customer('Ann Smith', 1100)\n",
    "cart = (LineItem('banana', 4, Decimal('.5')),\n",
    "    LineItem('apple', 10, Decimal('1.5')),\n",
    "    LineItem('watermelon', 5, Decimal(5)))"
   ]
  },
  {
   "cell_type": "code",
   "execution_count": 3,
   "metadata": {},
   "outputs": [
    {
     "data": {
      "text/plain": [
       "<Order total: 42.00 due: 42.00>"
      ]
     },
     "execution_count": 3,
     "metadata": {},
     "output_type": "execute_result"
    }
   ],
   "source": [
    "# The FidelityPromo promotion gives no discount to joe.\n",
    "Order(joe, cart, FidelityPromo())"
   ]
  },
  {
   "cell_type": "code",
   "execution_count": 4,
   "metadata": {},
   "outputs": [
    {
     "data": {
      "text/plain": [
       "<Order total: 42.00 due: 39.90>"
      ]
     },
     "execution_count": 4,
     "metadata": {},
     "output_type": "execute_result"
    }
   ],
   "source": [
    "# ann gets a 5% discount because she has at least 1,000 points.\n",
    "Order(ann, cart, FidelityPromo())"
   ]
  },
  {
   "cell_type": "markdown",
   "id": "dfc02cba",
   "metadata": {},
   "source": [
    "# Function-Oriented Strategy"
   ]
  },
  {
   "cell_type": "markdown",
   "metadata": {},
   "source": [
    "- Since each concrete strategy is a class with **no attribute** and **single method**, they look a lot like plain functions.\n",
    "\n",
    "- Replacing the concrete strategies with simple functions \n",
    "and removing the Promo abstract  class is a way to refactor Example 10-1. Only small adjustments are needed in the Order class."
   ]
  },
  {
   "cell_type": "code",
   "execution_count": 7,
   "id": "b0153e22",
   "metadata": {},
   "outputs": [],
   "source": [
    "#Example 10.3 Order class with discount strategies implemented as functions\n",
    "\n",
    "from collections.abc import Sequence\n",
    "from dataclasses import dataclass\n",
    "from decimal import Decimal\n",
    "from typing import Optional, Callable, NamedTuple\n",
    "\n",
    "\n",
    "class Customer(NamedTuple):\n",
    "    name: str\n",
    "    fidelity: int\n",
    "\n",
    "\n",
    "class LineItem(NamedTuple):\n",
    "    product: str\n",
    "    quantity: int\n",
    "    price: Decimal\n",
    "\n",
    "    def total(self):\n",
    "        return self.price * self.quantity\n",
    "\n",
    "@dataclass(frozen=True)\n",
    "class Order:  # the Context\n",
    "    customer: Customer\n",
    "    cart: Sequence[LineItem]\n",
    "    promotion: Optional[Callable[['Order'], Decimal]] = None  # <1> promotion may be None, or it may be a callable\n",
    "\n",
    "    def total(self) -> Decimal:\n",
    "        totals = (item.total() for item in self.cart)\n",
    "        return sum(totals, start=Decimal(0))\n",
    "\n",
    "    def due(self) -> Decimal:\n",
    "        if self.promotion is None:\n",
    "            discount = Decimal(0)\n",
    "        else:\n",
    "            discount = self.promotion(self)  # <2> promotion is not a method. It’s an instance\n",
    "        return self.total() - discount\n",
    "\n",
    "    def __repr__(self):\n",
    "        return f'<Order total: {self.total():.2f} due: {self.due():.2f}>'\n",
    "\n",
    "\n",
    "def fidelity_promo(order: Order) -> Decimal:  # <4> Each strategy is a function.\n",
    "    \"\"\"5% discount for customers with 1000 or more fidelity points\"\"\"\n",
    "    if order.customer.fidelity >= 1000:\n",
    "        return order.total() * Decimal('0.05')\n",
    "    return Decimal(0)\n",
    "\n",
    "\n",
    "def bulk_item_promo(order: Order) -> Decimal:\n",
    "    \"\"\"10% discount for each LineItem with 20 or more units\"\"\"\n",
    "    discount = Decimal(0)\n",
    "    for item in order.cart:\n",
    "        if item.quantity >= 20:\n",
    "            discount += item.total() * Decimal('0.1')\n",
    "    return discount\n",
    "\n",
    "\n",
    "def large_order_promo(order: Order) -> Decimal:\n",
    "    \"\"\"7% discount for orders with 10 or more distinct items\"\"\"\n",
    "    distinct_items = {item.product for item in order.cart}\n",
    "    if len(distinct_items) >= 10:\n",
    "        return order.total() * Decimal('0.07')\n",
    "    return Decimal(0)"
   ]
  },
  {
   "cell_type": "code",
   "execution_count": 8,
   "metadata": {},
   "outputs": [],
   "source": [
    "joe = Customer('John Doe', 0)\n",
    "ann = Customer('Ann Smith', 1100)\n",
    "cart = [LineItem('banana', 4, Decimal('.5')),\n",
    "    LineItem('apple', 10, Decimal('1.5')),\n",
    "    LineItem('watermelon', 5, Decimal(5))]\n",
    "banana_cart = [LineItem('banana', 30, Decimal('.5')),\n",
    "    LineItem('apple', 10, Decimal('1.5'))]"
   ]
  },
  {
   "cell_type": "code",
   "execution_count": 9,
   "metadata": {},
   "outputs": [
    {
     "data": {
      "text/plain": [
       "<Order total: 42.00 due: 39.90>"
      ]
     },
     "execution_count": 9,
     "metadata": {},
     "output_type": "execute_result"
    }
   ],
   "source": [
    "Order(ann, cart, fidelity_promo)"
   ]
  },
  {
   "cell_type": "code",
   "execution_count": 10,
   "metadata": {},
   "outputs": [
    {
     "data": {
      "text/plain": [
       "<Order total: 30.00 due: 28.50>"
      ]
     },
     "execution_count": 10,
     "metadata": {},
     "output_type": "execute_result"
    }
   ],
   "source": [
    "\n",
    "Order(joe, banana_cart, bulk_item_promo)"
   ]
  },
  {
   "cell_type": "markdown",
   "metadata": {},
   "source": [
    "Same test fixtures as Example 10-1.\n",
    "To apply a discount strategy to an Order, just pass the promotion function as an\n",
    "argument.\n",
    "A different promotion function is used here and in the next test."
   ]
  },
  {
   "cell_type": "markdown",
   "metadata": {},
   "source": [
    "$\\color{orange}{Note:}$  <br>\n",
    "\n",
    "- Often concrete strategies have no internal state; they only deal with data from the context. If that is the case, then by all means use plain old functions instead of coding single-method classes implementing a single-method interface declared in yet another class. A function is more lightweight than an instance of a user-defined class, and there is no need for Flyweight because each strategy function is created just once per Python process when it loads the module. A plain function is also “a shared\n",
    "object that can be used in multiple contexts simultaneously."
   ]
  },
  {
   "cell_type": "markdown",
   "metadata": {},
   "source": [
    "# Choosing the Best Strategy: Simple Approach"
   ]
  },
  {
   "cell_type": "markdown",
   "metadata": {},
   "source": [
    "Suppose you want to create a “metastrategy” that selects the best available discount for a given Order.\n",
    "\n",
    "In the following examples (6-7-8-9) we study additional refactorings that implement this requirement using a variety of approaches that leverage functions and modules as objects."
   ]
  },
  {
   "cell_type": "code",
   "execution_count": 8,
   "metadata": {},
   "outputs": [],
   "source": [
    "# Example 10-6. best_promo finds the maximum discount iterating over a list of functions\n",
    "from decimal import Decimal\n",
    "\n",
    "promos = [fidelity_promo, bulk_item_promo, large_order_promo]\n",
    "\n",
    "\n",
    "def best_promo(order: Order) -> Decimal:\n",
    "    \"\"\"Compute the best discount available\"\"\"\n",
    "    return max(promo(order) for promo in promos)"
   ]
  },
  {
   "cell_type": "code",
   "execution_count": 9,
   "metadata": {},
   "outputs": [],
   "source": [
    "joe = Customer('John Doe', 0)\n",
    "ann = Customer('Ann Smith', 1100)\n",
    "cart = [LineItem('banana', 4, Decimal('.5')),\n",
    "        LineItem('apple', 10, Decimal('1.5')),\n",
    "        LineItem('watermelon', 5, Decimal(5))]\n",
    "banana_cart = [LineItem('banana', 30, Decimal('.5')),\n",
    "            LineItem('apple', 10, Decimal('1.5'))]\n",
    "long_cart = [LineItem(str(item_code), 1, Decimal(1))\n",
    "            for item_code in range(10)]"
   ]
  },
  {
   "cell_type": "code",
   "execution_count": 10,
   "metadata": {},
   "outputs": [
    {
     "data": {
      "text/plain": [
       "<Order total: 10.00 due: 9.30>"
      ]
     },
     "execution_count": 10,
     "metadata": {},
     "output_type": "execute_result"
    }
   ],
   "source": [
    "Order(joe, long_cart, best_promo)"
   ]
  },
  {
   "cell_type": "code",
   "execution_count": 11,
   "metadata": {},
   "outputs": [
    {
     "data": {
      "text/plain": [
       "<Order total: 30.00 due: 28.50>"
      ]
     },
     "execution_count": 11,
     "metadata": {},
     "output_type": "execute_result"
    }
   ],
   "source": [
    "Order(joe, banana_cart, best_promo)"
   ]
  },
  {
   "cell_type": "code",
   "execution_count": 12,
   "metadata": {},
   "outputs": [
    {
     "data": {
      "text/plain": [
       "<Order total: 42.00 due: 39.90>"
      ]
     },
     "execution_count": 12,
     "metadata": {},
     "output_type": "execute_result"
    }
   ],
   "source": [
    "Order(ann, cart, best_promo)"
   ]
  },
  {
   "cell_type": "markdown",
   "metadata": {},
   "source": [
    "$\\color{orange}{Note:}$  <br>\n",
    "our *main issue with Example 10-6* is the repetition of the function names\n",
    "in their definitions and then in the promos list used by the best_promo function to\n",
    "determine the highest discount applicable. The repetition is problematic because\n",
    "someone may add a new promotional strategy function and forget to manually add it\n",
    "to the promos list—in which case, best_promo will silently ignore the new strategy,\n",
    "introducing a **subtle bug** in the system (Example 10-9 solves this problem).<br>\n",
    "\n",
    "\n",
    "Read on for a couple of solutions to this issue: \n",
    "- Finding Strategies in a Module\n",
    "- Decorator-Enhanced Strategy Pattern"
   ]
  },
  {
   "cell_type": "markdown",
   "metadata": {},
   "source": [
    "# Finding Strategies in a Module"
   ]
  },
  {
   "cell_type": "markdown",
   "metadata": {},
   "source": [
    "## globals()"
   ]
  },
  {
   "cell_type": "markdown",
   "metadata": {},
   "source": []
  },
  {
   "cell_type": "code",
   "execution_count": 1,
   "metadata": {},
   "outputs": [
    {
     "data": {
      "text/plain": [
       "dict_items([('__name__', '__main__'), ('__doc__', 'Automatically created module for IPython interactive environment'), ('__package__', None), ('__loader__', None), ('__spec__', None), ('__builtin__', <module 'builtins' (built-in)>), ('__builtins__', <module 'builtins' (built-in)>), ('_ih', ['', 'globals().items()']), ('_oh', {}), ('_dh', [WindowsPath('c:/Users/amirh/Desktop/Pytorch RL Udemy course/Fluent Python Class codes/Ch 10'), WindowsPath('c:/Users/amirh/Desktop/Pytorch RL Udemy course/Fluent Python Class codes/Ch 10')]), ('In', ['', 'globals().items()']), ('Out', {}), ('get_ipython', <bound method InteractiveShell.get_ipython of <ipykernel.zmqshell.ZMQInteractiveShell object at 0x00000225C3FF2A70>>), ('exit', <IPython.core.autocall.ZMQExitAutocall object at 0x00000225C3FF25C0>), ('quit', <IPython.core.autocall.ZMQExitAutocall object at 0x00000225C3FF25C0>), ('open', <function open at 0x00000225C2744CA0>), ('_', ''), ('__', ''), ('___', ''), ('__vsc_ipynb_file__', 'c:\\\\Users\\\\amirh\\\\Desktop\\\\Pytorch RL Udemy course\\\\Fluent Python Class codes\\\\Ch 10\\\\ch_10_V2.ipynb'), ('_i', ''), ('_ii', ''), ('_iii', ''), ('_i1', 'globals().items()')])"
      ]
     },
     "execution_count": 1,
     "metadata": {},
     "output_type": "execute_result"
    }
   ],
   "source": [
    "globals().items()"
   ]
  },
  {
   "cell_type": "code",
   "execution_count": 11,
   "metadata": {},
   "outputs": [],
   "source": [
    "# Example 10-7. The promos list is built by introspection of the module global namespace\n",
    "from decimal import Decimal\n",
    "\n",
    "promos = [promo for name, promo in globals().items()\n",
    "                if name.endswith('_promo') and\n",
    "                   name != 'best_promo'\n",
    "]\n",
    "\n",
    "\n",
    "def best_promo(order: Order) -> Decimal:\n",
    "    \"\"\"Compute the best discount available\"\"\"\n",
    "    return max(promo(order) for promo in promos)"
   ]
  },
  {
   "cell_type": "code",
   "execution_count": 13,
   "metadata": {},
   "outputs": [],
   "source": [
    "joe = Customer('John Doe', 0)\n",
    "ann = Customer('Ann Smith', 1100)\n",
    "cart = [LineItem('banana', 4, Decimal('.5')),\n",
    "        LineItem('apple', 10, Decimal('1.5')),\n",
    "        LineItem('watermelon', 5, Decimal(5))]\n",
    "banana_cart = [LineItem('banana', 30, Decimal('.5')),\n",
    "            LineItem('apple', 10, Decimal('1.5'))]\n",
    "long_cart = [LineItem(str(item_code), 1, Decimal(1))\n",
    "            for item_code in range(10)]"
   ]
  },
  {
   "cell_type": "code",
   "execution_count": 14,
   "metadata": {},
   "outputs": [
    {
     "data": {
      "text/plain": [
       "<Order total: 10.00 due: 9.30>"
      ]
     },
     "execution_count": 14,
     "metadata": {},
     "output_type": "execute_result"
    }
   ],
   "source": [
    "Order(joe, long_cart, best_promo)"
   ]
  },
  {
   "cell_type": "code",
   "execution_count": 15,
   "metadata": {},
   "outputs": [
    {
     "data": {
      "text/plain": [
       "<Order total: 30.00 due: 28.50>"
      ]
     },
     "execution_count": 15,
     "metadata": {},
     "output_type": "execute_result"
    }
   ],
   "source": [
    "Order(joe, banana_cart, best_promo)"
   ]
  },
  {
   "cell_type": "code",
   "execution_count": 16,
   "metadata": {},
   "outputs": [
    {
     "data": {
      "text/plain": [
       "<Order total: 42.00 due: 39.90>"
      ]
     },
     "execution_count": 16,
     "metadata": {},
     "output_type": "execute_result"
    }
   ],
   "source": [
    "Order(ann, cart, best_promo)"
   ]
  },
  {
   "cell_type": "markdown",
   "metadata": {},
   "source": [
    "## inspect"
   ]
  },
  {
   "cell_type": "markdown",
   "metadata": {},
   "source": [
    "Another way of collecting the available promotions would be to create a module and\n",
    "put all the strategy functions there, except for best_promo.\n",
    "\n",
    "The function inspect.getmembers returns the attributes of an object—in this case,\n",
    "the promotions module—optionally filtered by a predicate (a boolean function). We\n",
    "use inspect.isfunction to get only the functions from the module."
   ]
  },
  {
   "cell_type": "code",
   "execution_count": null,
   "metadata": {},
   "outputs": [],
   "source": [
    "# Example 10-8. The promos list is built by introspection of a new promotions module\n",
    "from decimal import Decimal\n",
    "import inspect\n",
    "# promos list is built by introspection of a new promotions module\n",
    "from strategy import Order\n",
    "import promotions\n",
    "\n",
    "promos = [func for _, func in inspect.getmembers(promotions, inspect.isfunction)]\n",
    "\n",
    "\n",
    "def best_promo(order: Order) -> Decimal:\n",
    "    \"\"\"Compute the best discount available\"\"\"\n",
    "    return max(promo(order) for promo in promos)"
   ]
  },
  {
   "cell_type": "code",
   "execution_count": null,
   "metadata": {},
   "outputs": [],
   "source": [
    "joe = Customer('John Doe', 0)\n",
    "ann = Customer('Ann Smith', 1100)\n",
    "cart = [LineItem('banana', 4, Decimal('.5')),\n",
    "        LineItem('apple', 10, Decimal('1.5')),\n",
    "        LineItem('watermelon', 5, Decimal(5))]\n",
    "banana_cart = [LineItem('banana', 30, Decimal('.5')),\n",
    "            LineItem('apple', 10, Decimal('1.5'))]\n",
    "long_cart = [LineItem(str(item_code), 1, Decimal(1))\n",
    "            for item_code in range(10)]"
   ]
  },
  {
   "cell_type": "markdown",
   "metadata": {},
   "source": [
    "- Example 10-8 works regardless of the names given to the functions (Despite Example 10-7); all that matters is that the promotions module contains only functions that calculate discounts given\n",
    "orders.\n",
    "\n",
    "- Of course, this is an implicit assumption of the code. If someone were to create\n",
    "a function with a different signature in the promotions module, then best_promo\n",
    "would break while trying to apply it to an order.\n",
    "\n",
    "- We could add more stringent tests to filter the functions, by inspecting their arguments\n",
    "for instance. The point of Example 10-8 is not to offer a complete solution, but\n",
    "to highlight one possible use of module introspection.\n",
    "\n",
    "- A more explicit alternative to dynamically collecting promotional discount functions\n",
    "would be to use a simple decorator (Example 10-9)."
   ]
  },
  {
   "cell_type": "markdown",
   "metadata": {},
   "source": [
    "# Decorator-Enhanced Strategy Pattern"
   ]
  },
  {
   "cell_type": "markdown",
   "metadata": {},
   "source": [
    "A more explicit alternative to dynamically collecting promotional discount functions\n",
    "would be to use a simple.\n",
    "\n",
    "This solution has several advantages over the others presented before:\n",
    "\n",
    "- The promotion strategy functions don’t have to use special names—no need for\n",
    "the _promo suffix.\n",
    "\n",
    "- The @promotion decorator highlights the purpose of the decorated function, and\n",
    "also makes it easy to temporarily disable a promotion: just comment out the\n",
    "decorator.\n",
    "\n",
    "- Promotional discount strategies may be defined in other modules, anywhere in\n",
    "the system, as long as the @promotion decorator is applied to them."
   ]
  },
  {
   "cell_type": "code",
   "execution_count": 17,
   "metadata": {},
   "outputs": [],
   "source": [
    "# Example 10-9. The promos list is filled by the Promotion decorator\n",
    "\n",
    "from decimal import Decimal\n",
    "from typing import Callable\n",
    "\n",
    "\n",
    "Promotion = Callable[[Order], Decimal]\n",
    "\n",
    "promos: list[Promotion] = []\n",
    "\n",
    "\n",
    "def promotion(promo: Promotion) -> Promotion:\n",
    "    promos.append(promo)\n",
    "    return promo\n",
    "\n",
    "\n",
    "def best_promo(order: Order) -> Decimal:\n",
    "    \"\"\"Compute the best discount available\"\"\"\n",
    "    return max(promo(order) for promo in promos)\n",
    "\n",
    "\n",
    "@promotion\n",
    "def fidelity(order: Order) -> Decimal:\n",
    "    \"\"\"5% discount for customers with 1000 or more fidelity points\"\"\"\n",
    "    if order.customer.fidelity >= 1000:\n",
    "        return order.total() * Decimal('0.05')\n",
    "    return Decimal(0)\n",
    "\n",
    "\n",
    "@promotion\n",
    "def bulk_item(order: Order) -> Decimal:\n",
    "    \"\"\"10% discount for each LineItem with 20 or more units\"\"\"\n",
    "    discount = Decimal(0)\n",
    "    for item in order.cart:\n",
    "        if item.quantity >= 20:\n",
    "            discount += item.total() * Decimal('0.1')\n",
    "    return discount\n",
    "\n",
    "\n",
    "@promotion\n",
    "def large_order(order: Order) -> Decimal:\n",
    "    \"\"\"7% discount for orders with 10 or more distinct items\"\"\"\n",
    "    distinct_items = {item.product for item in order.cart}\n",
    "    if len(distinct_items) >= 10:\n",
    "        return order.total() * Decimal('0.07')\n",
    "    return Decimal(0)"
   ]
  },
  {
   "cell_type": "code",
   "execution_count": 18,
   "metadata": {},
   "outputs": [],
   "source": [
    "joe = Customer('John Doe', 0)\n",
    "ann = Customer('Ann Smith', 1100)\n",
    "cart = [LineItem('banana', 4, Decimal('.5')),\n",
    "        LineItem('apple', 10, Decimal('1.5')),\n",
    "        LineItem('watermelon', 5, Decimal(5))]\n",
    "\n",
    "banana_cart = [LineItem('banana', 30, Decimal('.5')),\n",
    "            LineItem('apple', 10, Decimal('1.5'))]\n",
    "long_cart = [LineItem(str(item_code), 1, Decimal(1))\n",
    "            for item_code in range(10)]"
   ]
  },
  {
   "cell_type": "markdown",
   "metadata": {},
   "source": [
    "# The Command Pattern"
   ]
  },
  {
   "cell_type": "markdown",
   "metadata": {},
   "source": [
    "- **Command** is another design pattern that can be simplified by the use of functions\n",
    "passed as arguments.\n",
    "\n",
    "- The **goal of Command** is to decouple an object that invokes an operation (the\n",
    "invoker) from the provider object that implements it (the receiver).\n",
    "\n",
    "- Quoting from Design Patterns book, “Commands are an object-oriented replacement for\n",
    "callbacks.” The question is: do we need an object-oriented replacement for callbacks?\n",
    "Sometimes yes, but not always."
   ]
  },
  {
   "cell_type": "code",
   "execution_count": null,
   "metadata": {},
   "outputs": [],
   "source": [
    "\n",
    "class MacroCommand:\n",
    "    \"\"\"A command that executes a list of commands\"\"\"\n",
    "    def __init__(self, commands):\n",
    "        self.commands = list(commands)\n",
    "\n",
    "    def __call__(self):\n",
    "        for command in self.commands:\n",
    "            command()\n"
   ]
  },
  {
   "cell_type": "markdown",
   "metadata": {},
   "source": [
    "- More advanced uses of the Command pattern—to support undo, for example—may\n",
    "require more than a simple callback function. Even then, Python provides a couple of\n",
    "alternatives that deserve consideration:\n",
    "\n",
    "    - A callable instance like MacroCommand in Example 10-10 can keep whatever state\n",
    "is necessary, and provide extra methods in addition to `__call__`.\n",
    "\n",
    "    - A closure can be used to hold the internal state of a function between calls.\n",
    "\n",
    "- At a high level, the approach here was similar to the one we applied to Strategy: replacing\n",
    "with callables the instances of a participant class that implemented a singlemethod\n",
    "interface. After all, every Python callable implements a single-method\n",
    "interface, and that method is named `__call__`."
   ]
  },
  {
   "cell_type": "markdown",
   "metadata": {},
   "source": [
    "# Lecturers\n",
    "\n",
    "1. Amirhossein Nourian [LinkedIn](https://www.linkedin.com/in/amirhnrn/)\n",
    "2. Mehrna Faraji [LinkedIn](https://www.linkedin.com/in/mehranfaraji/)\n",
    "\n",
    "\n",
    "present date : 2023-11-24"
   ]
  },
  {
   "cell_type": "markdown",
   "id": "3fbee50e",
   "metadata": {},
   "source": [
    "# Reviewers"
   ]
  },
  {
   "cell_type": "markdown",
   "id": "d403fb4b",
   "metadata": {},
   "source": [
    "1. Mahya Asgarian, review date: 2023-11-24 [LinkedIn](https://www.linkedin.com/in/mahya-asgarian-9a7b13249)"
   ]
  }
 ],
 "metadata": {
  "kernelspec": {
   "display_name": "Python 3 (ipykernel)",
   "language": "python",
   "name": "python3"
  },
  "language_info": {
   "codemirror_mode": {
    "name": "ipython",
    "version": 3
   },
   "file_extension": ".py",
   "mimetype": "text/x-python",
   "name": "python",
   "nbconvert_exporter": "python",
   "pygments_lexer": "ipython3",
   "version": "3.10.9"
  }
 },
 "nbformat": 4,
 "nbformat_minor": 5
}
