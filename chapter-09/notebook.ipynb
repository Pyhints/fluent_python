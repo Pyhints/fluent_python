{
 "cells": [
  {
   "cell_type": "markdown",
   "metadata": {},
   "source": [
    "# **CHAPTER 9 <br> Decorators and Closures**"
   ]
  },
  {
   "cell_type": "markdown",
   "id": "fab08546",
   "metadata": {},
   "source": [
    "# Decorators 101"
   ]
  },
  {
   "cell_type": "markdown",
   "id": "4ad23df6",
   "metadata": {},
   "source": [
    "* A decorator is a callable that takes another function as an argument (the decorated\n",
    "function).\n",
    "* A decorator may perform some processing with the decorated function, and returns\n",
    "it or replaces it with another function or callable object.\n",
    "* Strictly speaking, decorators are just syntactic sugar.\n",
    "* You can always simply call a decorator like any regular callable, passing another function. Sometimes that is actually convenient, especially when doing metaprogramming—changing program\n",
    "behavior at runtime.\n",
    "\n",
    "**Three essential facts make a good summary of decorators:**\n",
    "- A decorator is a function or another callable.\n",
    "- A decorator may replace the decorated function with a different one.\n",
    "- Decorators are executed immediately when a module is loaded."
   ]
  },
  {
   "cell_type": "code",
   "execution_count": 1,
   "metadata": {},
   "outputs": [],
   "source": [
    "# Example 9-1. A decorator usually replaces a function with a different one\n",
    "def deco(func):\n",
    "    def inner():\n",
    "        print('running inner()')\n",
    "    return inner\n",
    "\n",
    "@deco # target = deco(target)\n",
    "def target():\n",
    "    print('running target()')"
   ]
  },
  {
   "cell_type": "code",
   "execution_count": 2,
   "metadata": {},
   "outputs": [
    {
     "name": "stdout",
     "output_type": "stream",
     "text": [
      "running inner()\n"
     ]
    }
   ],
   "source": [
    "# Invoking the decorated target actually runs inner.\n",
    "target()"
   ]
  },
  {
   "cell_type": "code",
   "execution_count": 3,
   "metadata": {},
   "outputs": [
    {
     "data": {
      "text/plain": [
       "<function __main__.deco.<locals>.inner()>"
      ]
     },
     "execution_count": 3,
     "metadata": {},
     "output_type": "execute_result"
    }
   ],
   "source": [
    "# Inspection reveals that target is a now a reference to inner.\n",
    "target"
   ]
  },
  {
   "cell_type": "markdown",
   "id": "dfc02cba",
   "metadata": {},
   "source": [
    "# When Python Executes Decorators"
   ]
  },
  {
   "cell_type": "markdown",
   "metadata": {},
   "source": [
    "* A key feature of decorators is that they run right after the decorated function is\n",
    "defined. That is usually at import time (i.e., when a module is loaded by Python).This highlights the difference between what Pythonistas call **import time** and **runtime**."
   ]
  },
  {
   "cell_type": "code",
   "execution_count": 4,
   "id": "b0153e22",
   "metadata": {},
   "outputs": [
    {
     "name": "stdout",
     "output_type": "stream",
     "text": [
      "running register(<function f1 at 0x000001C4FE5E55A0>)\n",
      "running register(<function f2 at 0x000001C4FE5E57E0>)\n",
      "running main()\n",
      "registry -> [<function f1 at 0x000001C4FE5E55A0>, <function f2 at 0x000001C4FE5E57E0>]\n",
      "running f1()\n",
      "running f2()\n",
      "running f3()\n"
     ]
    }
   ],
   "source": [
    "#Example 9-2. The registration.py module\n",
    "\n",
    "registry = [] # registry will hold references to functions decorated by @register.\n",
    "\n",
    "def register(func): # register takes a function as an argument.\n",
    "    print(f'running register({func})')\n",
    "    registry.append(func)\n",
    "    return func # we must return a function; here we return the same received as argument.\n",
    "\n",
    "@register\n",
    "def f1():\n",
    "    print('running f1()')\n",
    "\n",
    "@register\n",
    "def f2():\n",
    "    print('running f2()')\n",
    "\n",
    "def f3():\n",
    "    print('running f3()')\n",
    "\n",
    "def main():\n",
    "    print('running main()')\n",
    "    print('registry ->', registry)\n",
    "    f1()\n",
    "    f2()\n",
    "    f3()\n",
    "\n",
    "if __name__ == '__main__':\n",
    "    main()"
   ]
  },
  {
   "cell_type": "markdown",
   "metadata": {},
   "source": [
    "Note that register runs (twice) before any other function in the module.\n",
    "\n",
    "The **main point of Example 9-2** is to emphasize that function decorators are executed as soon as the module is imported, but the decorated functions only run when they are explicitly invoked."
   ]
  },
  {
   "cell_type": "markdown",
   "metadata": {},
   "source": [
    "# Registration Decorators\n",
    "\n",
    "- Example 9-2 is unusual in two ways:\n",
    "    - The decorator function is defined in the same module as the decorated functions.A real decorator is usually defined in one module and applied to functions in other modules.\n",
    "    - The register decorator returns the same function passed as an argument. In practice, most decorators define an inner function and return it to replace the decorated function.\n",
    "\n",
    "- Even though the register decorator in Example 9-2 returns the decorated function unchanged, that technique is not useless. Similar decorators are used in many Python frameworks **to add functions to some central registry**—for example, a registry mapping\n",
    "URL patterns to functions that generate HTTP responses. **Such registration decorators may or may not change the decorated function.** (registration decorator example in chapter 10)\n",
    "\n",
    "- Most decorators do change the decorated function. They usually do it by defining an inner function and returning it to replace the decorated function. Code that uses inner    functions almost always depends on closures to operate correctly."
   ]
  },
  {
   "cell_type": "markdown",
   "id": "119cb957",
   "metadata": {},
   "source": [
    "# Variable Scope Rules"
   ]
  },
  {
   "cell_type": "code",
   "execution_count": 5,
   "id": "135af4b0",
   "metadata": {},
   "outputs": [
    {
     "name": "stdout",
     "output_type": "stream",
     "text": [
      "3\n"
     ]
    },
    {
     "ename": "NameError",
     "evalue": "name 'b' is not defined",
     "output_type": "error",
     "traceback": [
      "\u001b[1;31m---------------------------------------------------------------------------\u001b[0m",
      "\u001b[1;31mNameError\u001b[0m                                 Traceback (most recent call last)",
      "\u001b[1;32me:\\core python\\fluent python 2nd\\presentations\\9\\ch_09_final.ipynb Cell 13\u001b[0m line \u001b[0;36m7\n\u001b[0;32m      <a href='vscode-notebook-cell:/e%3A/core%20python/fluent%20python%202nd/presentations/9/ch_09_final.ipynb#X15sZmlsZQ%3D%3D?line=3'>4</a>\u001b[0m     \u001b[39mprint\u001b[39m(a)\n\u001b[0;32m      <a href='vscode-notebook-cell:/e%3A/core%20python/fluent%20python%202nd/presentations/9/ch_09_final.ipynb#X15sZmlsZQ%3D%3D?line=4'>5</a>\u001b[0m     \u001b[39mprint\u001b[39m(b)\n\u001b[1;32m----> <a href='vscode-notebook-cell:/e%3A/core%20python/fluent%20python%202nd/presentations/9/ch_09_final.ipynb#X15sZmlsZQ%3D%3D?line=6'>7</a>\u001b[0m f1(\u001b[39m3\u001b[39;49m)\n",
      "\u001b[1;32me:\\core python\\fluent python 2nd\\presentations\\9\\ch_09_final.ipynb Cell 13\u001b[0m line \u001b[0;36m5\n\u001b[0;32m      <a href='vscode-notebook-cell:/e%3A/core%20python/fluent%20python%202nd/presentations/9/ch_09_final.ipynb#X15sZmlsZQ%3D%3D?line=1'>2</a>\u001b[0m \u001b[39mdef\u001b[39;00m \u001b[39mf1\u001b[39m(a):\n\u001b[0;32m      <a href='vscode-notebook-cell:/e%3A/core%20python/fluent%20python%202nd/presentations/9/ch_09_final.ipynb#X15sZmlsZQ%3D%3D?line=3'>4</a>\u001b[0m     \u001b[39mprint\u001b[39m(a)\n\u001b[1;32m----> <a href='vscode-notebook-cell:/e%3A/core%20python/fluent%20python%202nd/presentations/9/ch_09_final.ipynb#X15sZmlsZQ%3D%3D?line=4'>5</a>\u001b[0m     \u001b[39mprint\u001b[39m(b)\n",
      "\u001b[1;31mNameError\u001b[0m: name 'b' is not defined"
     ]
    }
   ],
   "source": [
    "#Example 9-3. Function reading a local and a global variable\n",
    "def f1(a):\n",
    "\n",
    "    print(a)\n",
    "    print(b)\n",
    "\n",
    "f1(3)"
   ]
  },
  {
   "cell_type": "code",
   "execution_count": 6,
   "id": "4fe57d84",
   "metadata": {},
   "outputs": [
    {
     "name": "stdout",
     "output_type": "stream",
     "text": [
      "3\n"
     ]
    },
    {
     "ename": "UnboundLocalError",
     "evalue": "local variable 'b' referenced before assignment",
     "output_type": "error",
     "traceback": [
      "\u001b[1;31m---------------------------------------------------------------------------\u001b[0m",
      "\u001b[1;31mUnboundLocalError\u001b[0m                         Traceback (most recent call last)",
      "\u001b[1;32me:\\core python\\fluent python 2nd\\presentations\\9\\ch_09_final.ipynb Cell 14\u001b[0m line \u001b[0;36m1\n\u001b[0;32m      <a href='vscode-notebook-cell:/e%3A/core%20python/fluent%20python%202nd/presentations/9/ch_09_final.ipynb#X16sZmlsZQ%3D%3D?line=7'>8</a>\u001b[0m     \u001b[39mprint\u001b[39m(b)\n\u001b[0;32m      <a href='vscode-notebook-cell:/e%3A/core%20python/fluent%20python%202nd/presentations/9/ch_09_final.ipynb#X16sZmlsZQ%3D%3D?line=8'>9</a>\u001b[0m     b \u001b[39m=\u001b[39m \u001b[39m9\u001b[39m\n\u001b[1;32m---> <a href='vscode-notebook-cell:/e%3A/core%20python/fluent%20python%202nd/presentations/9/ch_09_final.ipynb#X16sZmlsZQ%3D%3D?line=10'>11</a>\u001b[0m f2(\u001b[39m3\u001b[39;49m)\n",
      "\u001b[1;32me:\\core python\\fluent python 2nd\\presentations\\9\\ch_09_final.ipynb Cell 14\u001b[0m line \u001b[0;36m8\n\u001b[0;32m      <a href='vscode-notebook-cell:/e%3A/core%20python/fluent%20python%202nd/presentations/9/ch_09_final.ipynb#X16sZmlsZQ%3D%3D?line=5'>6</a>\u001b[0m \u001b[39mdef\u001b[39;00m \u001b[39mf2\u001b[39m(a):\n\u001b[0;32m      <a href='vscode-notebook-cell:/e%3A/core%20python/fluent%20python%202nd/presentations/9/ch_09_final.ipynb#X16sZmlsZQ%3D%3D?line=6'>7</a>\u001b[0m     \u001b[39mprint\u001b[39m(a)\n\u001b[1;32m----> <a href='vscode-notebook-cell:/e%3A/core%20python/fluent%20python%202nd/presentations/9/ch_09_final.ipynb#X16sZmlsZQ%3D%3D?line=7'>8</a>\u001b[0m     \u001b[39mprint\u001b[39m(b)\n\u001b[0;32m      <a href='vscode-notebook-cell:/e%3A/core%20python/fluent%20python%202nd/presentations/9/ch_09_final.ipynb#X16sZmlsZQ%3D%3D?line=8'>9</a>\u001b[0m     b \u001b[39m=\u001b[39m \u001b[39m9\u001b[39m\n",
      "\u001b[1;31mUnboundLocalError\u001b[0m: local variable 'b' referenced before assignment"
     ]
    }
   ],
   "source": [
    "#Example 9-4. Variable b is local, because it is assigned a value in the body of the function\n",
    "# This is not a bug, but a design choice\n",
    "\n",
    "b = 6\n",
    "\n",
    "def f2(a):\n",
    "    print(a)\n",
    "    print(b)\n",
    "    b = 9\n",
    "\n",
    "f2(3)"
   ]
  },
  {
   "cell_type": "code",
   "execution_count": 7,
   "metadata": {},
   "outputs": [
    {
     "name": "stdout",
     "output_type": "stream",
     "text": [
      "3\n",
      "6\n"
     ]
    }
   ],
   "source": [
    "# If we want the interpreter to treat b as a global variable\n",
    "# and still assign a new value to it within the function\n",
    "\n",
    "b = 6\n",
    "def f3(a):\n",
    "    global b # use the global declaration\n",
    "    print(a)\n",
    "    print(b)\n",
    "    b = 9\n",
    "f3(3)"
   ]
  },
  {
   "cell_type": "code",
   "execution_count": 8,
   "metadata": {},
   "outputs": [
    {
     "data": {
      "text/plain": [
       "9"
      ]
     },
     "execution_count": 8,
     "metadata": {},
     "output_type": "execute_result"
    }
   ],
   "source": [
    "b"
   ]
  },
  {
   "cell_type": "markdown",
   "metadata": {},
   "source": [
    "In the preceding examples, we can see two scopes in action:\n",
    "- The module global scope\n",
    "    - Made of names assigned to values outside of any class or function block.\n",
    "- The f3 function local scope\n",
    "    - Made of names assigned to values as parameters, or directly in the body of the\n",
    "function."
   ]
  },
  {
   "cell_type": "code",
   "execution_count": 9,
   "id": "af850cd0",
   "metadata": {},
   "outputs": [
    {
     "name": "stdout",
     "output_type": "stream",
     "text": [
      "  4           0 LOAD_GLOBAL              0 (print)\n",
      "              2 LOAD_FAST                0 (a)\n",
      "              4 CALL_FUNCTION            1\n",
      "              6 POP_TOP\n",
      "\n",
      "  5           8 LOAD_GLOBAL              0 (print)\n",
      "             10 LOAD_GLOBAL              1 (b)\n",
      "             12 CALL_FUNCTION            1\n",
      "             14 POP_TOP\n",
      "             16 LOAD_CONST               0 (None)\n",
      "             18 RETURN_VALUE\n"
     ]
    }
   ],
   "source": [
    "#Example 9-5. Disassembly of the f1 function from Example 9-3\n",
    "\n",
    "from dis import dis\n",
    "\n",
    "dis(f1)"
   ]
  },
  {
   "cell_type": "code",
   "execution_count": 10,
   "id": "e81581ea",
   "metadata": {},
   "outputs": [
    {
     "name": "stdout",
     "output_type": "stream",
     "text": [
      "  7           0 LOAD_GLOBAL              0 (print)\n",
      "              2 LOAD_FAST                0 (a)\n",
      "              4 CALL_FUNCTION            1\n",
      "              6 POP_TOP\n",
      "\n",
      "  8           8 LOAD_GLOBAL              0 (print)\n",
      "             10 LOAD_FAST                1 (b)\n",
      "             12 CALL_FUNCTION            1\n",
      "             14 POP_TOP\n",
      "\n",
      "  9          16 LOAD_CONST               1 (9)\n",
      "             18 STORE_FAST               1 (b)\n",
      "             20 LOAD_CONST               0 (None)\n",
      "             22 RETURN_VALUE\n"
     ]
    }
   ],
   "source": [
    "#Example 9-6. Disassembly of the f2 function from Example 9-4\n",
    "\n",
    "dis(f2)"
   ]
  },
  {
   "cell_type": "markdown",
   "id": "9e0b24f6",
   "metadata": {},
   "source": [
    "### why error happen in Example 9-4 :\n",
    "- LOAD_GLOBAL (Example 9-5)\n",
    "- LOAD_FAST (Example 9-6) :\n",
    "Load local name b. This shows that the compiler considers b a local variable, even\n",
    "if the assignment to b occurs later, because the nature of the variable—whether it\n",
    "is local or not—cannot change in the body of the function."
   ]
  },
  {
   "cell_type": "markdown",
   "id": "53c6b437",
   "metadata": {},
   "source": [
    "$\\color{orange}{Note}$: Python does not require you to declare variables, but assumes that a variable assigned in the body of a function is local."
   ]
  },
  {
   "cell_type": "markdown",
   "id": "7468930a",
   "metadata": {},
   "source": [
    "# Closures"
   ]
  },
  {
   "cell_type": "markdown",
   "id": "e92cabc1",
   "metadata": {},
   "source": [
    "- A **closure** is a function that retains the bindings of the free variables that exist when the function is defined, so that they can be used later when the function is invoked and the defining scope is no longer available.\n",
    "\n",
    "- Closures are sometimes confused with **anonymous functions**.\n",
    "\n",
    "- Closures only matter when you have **nested functions**.\n",
    "\n",
    "- It does not matter whether the function is anonymous or not; what matters is that it can **access nonglobal variables that are defined outside of its body**.\n",
    "\n",
    "- The **only situation** in which a function may need to deal with **external variables that are nonglobal** is when it is nested in another function and those variables are part of the local scope of the outer function.\n",
    "\n",
    "\n"
   ]
  },
  {
   "cell_type": "code",
   "execution_count": 11,
   "id": "0679a726",
   "metadata": {},
   "outputs": [
    {
     "name": "stdout",
     "output_type": "stream",
     "text": [
      "10.0\n",
      "10.5\n",
      "11.0\n"
     ]
    }
   ],
   "source": [
    "#Example 9-7. average_oo.py: a class to calculate a running average\n",
    "\n",
    "class Averager():\n",
    "\n",
    "    def __init__(self):\n",
    "        self.series = []\n",
    "\n",
    "    def __call__(self, new_value):\n",
    "        self.series.append(new_value)\n",
    "        total = sum(self.series)\n",
    "        return total / len(self.series)\n",
    "\n",
    "# The Averager class creates instances that are callable   \n",
    "avg = Averager() \n",
    "\n",
    "print(avg(10))\n",
    "print(avg(11))\n",
    "print(avg(12))"
   ]
  },
  {
   "cell_type": "code",
   "execution_count": 12,
   "id": "90387015",
   "metadata": {},
   "outputs": [
    {
     "name": "stdout",
     "output_type": "stream",
     "text": [
      "10.0\n",
      "10.5\n",
      "11.0\n"
     ]
    }
   ],
   "source": [
    "#Example 9-8. a higher-order function to calculate a running average\n",
    "#functional implementation of Example 9-7\n",
    "\n",
    "def make_averager():\n",
    "    \n",
    "    series = [] # \"series\" is a local variable of make_averager \n",
    "    \n",
    "    def averager(new_value):\n",
    "        series.append(new_value) # within averager \"series\" is a free variable\n",
    "        total = sum(series)\n",
    "\n",
    "        return total / len(series)\n",
    "    return averager # make_averager() returns an averager function object\n",
    "\n",
    "# Example 9-9\n",
    "\n",
    "avg = make_averager()\n",
    "\n",
    "print(avg(10))\n",
    "print(avg(11))\n",
    "print(avg(12))"
   ]
  },
  {
   "cell_type": "markdown",
   "id": "801c8549",
   "metadata": {},
   "source": [
    "$\\color{orange}{Note:}$\n",
    "- Note the similarities of the last two examples: \n",
    "    - we call `Averager()` or `make_averager()` to get a callable object avg .\n",
    "    - In Example 9-7, avg is an instance of `Averager`.\n",
    "    - in Example 9-8, it is the inner function, `averager`.\n",
    "    \n",
    "- variable `series` is a _local variable_ of `make_averager` because the assignment series\n",
    "= [ ] happens in the body of that function.\n",
    "- Within `averager`, `series` is a _free variable_. This is a technical term meaning a variable\n",
    "that is not bound in the local scope.\n",
    "\n",
    "- Python keeps the names of local and free variables in the `__code__` attribute that represents the compiled body of the function.(Example 9-10)\n",
    "\n",
    "- where does the `avg` keeps history in each example?\n",
    "    - in Example 9-7 It’s obvious the `avg` of the Averager class keeps the history in the `self.series` instance attribute.\n",
    "\n",
    "    - in Example 9-8 Within averager, `series` is a free variable. The value for `series` is kept in the `__closure__` attribute of the returned function `avg`. Each item in `avg.__closure__` corresponds to a name in `avg. __code__.co_freevars`.<br> These items are cells, and they have an attribute called `cell_contents` where the actual value can be found(Example 9-11).\n",
    "\n"
   ]
  },
  {
   "cell_type": "code",
   "execution_count": 13,
   "id": "3d83b777",
   "metadata": {},
   "outputs": [
    {
     "name": "stdout",
     "output_type": "stream",
     "text": [
      "('new_value', 'total')\n",
      "('series',)\n"
     ]
    }
   ],
   "source": [
    "#Example 9-10. Inspecting the function created by make_averager in Example 9-8\n",
    "print(avg.__code__.co_varnames)\n",
    "print(avg.__code__.co_freevars)"
   ]
  },
  {
   "cell_type": "code",
   "execution_count": 14,
   "id": "76653f09",
   "metadata": {},
   "outputs": [
    {
     "name": "stdout",
     "output_type": "stream",
     "text": [
      "(<cell at 0x000001C4FE896920: list object at 0x000001C4FFABA400>,)\n",
      "[10, 11, 12]\n"
     ]
    }
   ],
   "source": [
    "#Example 9-11\n",
    "\n",
    "print (avg.__closure__)\n",
    "print(avg.__closure__[0].cell_contents)"
   ]
  },
  {
   "cell_type": "markdown",
   "id": "ffca0265",
   "metadata": {},
   "source": [
    "# The nonlocal Declaration\n",
    "- previous implementation of make_averager (Example 9-8) was not efficient.\n",
    "\n",
    "- A better implementation would only store the total and the number of items so far, and compute the mean from these two numbers."
   ]
  },
  {
   "cell_type": "code",
   "execution_count": 15,
   "id": "2fb20fc4",
   "metadata": {},
   "outputs": [
    {
     "ename": "UnboundLocalError",
     "evalue": "local variable 'count' referenced before assignment",
     "output_type": "error",
     "traceback": [
      "\u001b[1;31m---------------------------------------------------------------------------\u001b[0m",
      "\u001b[1;31mUnboundLocalError\u001b[0m                         Traceback (most recent call last)",
      "\u001b[1;32me:\\core python\\fluent python 2nd\\presentations\\9\\ch_09_final.ipynb Cell 30\u001b[0m line \u001b[0;36m1\n\u001b[0;32m     <a href='vscode-notebook-cell:/e%3A/core%20python/fluent%20python%202nd/presentations/9/ch_09_final.ipynb#X41sZmlsZQ%3D%3D?line=9'>10</a>\u001b[0m     \u001b[39mreturn\u001b[39;00m averager\n\u001b[0;32m     <a href='vscode-notebook-cell:/e%3A/core%20python/fluent%20python%202nd/presentations/9/ch_09_final.ipynb#X41sZmlsZQ%3D%3D?line=10'>11</a>\u001b[0m avg \u001b[39m=\u001b[39m make_averager()\n\u001b[1;32m---> <a href='vscode-notebook-cell:/e%3A/core%20python/fluent%20python%202nd/presentations/9/ch_09_final.ipynb#X41sZmlsZQ%3D%3D?line=11'>12</a>\u001b[0m avg(\u001b[39m10\u001b[39;49m) \n\u001b[0;32m     <a href='vscode-notebook-cell:/e%3A/core%20python/fluent%20python%202nd/presentations/9/ch_09_final.ipynb#X41sZmlsZQ%3D%3D?line=12'>13</a>\u001b[0m \u001b[39m#error cause we are actually assigning to count in the body of averager, and that makes it a local variable.\u001b[39;00m\n",
      "\u001b[1;32me:\\core python\\fluent python 2nd\\presentations\\9\\ch_09_final.ipynb Cell 30\u001b[0m line \u001b[0;36m7\n\u001b[0;32m      <a href='vscode-notebook-cell:/e%3A/core%20python/fluent%20python%202nd/presentations/9/ch_09_final.ipynb#X41sZmlsZQ%3D%3D?line=5'>6</a>\u001b[0m \u001b[39mdef\u001b[39;00m \u001b[39maverager\u001b[39m(new_value):\n\u001b[1;32m----> <a href='vscode-notebook-cell:/e%3A/core%20python/fluent%20python%202nd/presentations/9/ch_09_final.ipynb#X41sZmlsZQ%3D%3D?line=6'>7</a>\u001b[0m     count \u001b[39m+\u001b[39m\u001b[39m=\u001b[39m \u001b[39m1\u001b[39m\n\u001b[0;32m      <a href='vscode-notebook-cell:/e%3A/core%20python/fluent%20python%202nd/presentations/9/ch_09_final.ipynb#X41sZmlsZQ%3D%3D?line=7'>8</a>\u001b[0m     total \u001b[39m+\u001b[39m\u001b[39m=\u001b[39m new_value\n\u001b[0;32m      <a href='vscode-notebook-cell:/e%3A/core%20python/fluent%20python%202nd/presentations/9/ch_09_final.ipynb#X41sZmlsZQ%3D%3D?line=8'>9</a>\u001b[0m     \u001b[39mreturn\u001b[39;00m total \u001b[39m/\u001b[39m count\n",
      "\u001b[1;31mUnboundLocalError\u001b[0m: local variable 'count' referenced before assignment"
     ]
    }
   ],
   "source": [
    "# Example 9-12\n",
    "#A broken higher-order function to calculate a running average without keeping all history\n",
    "def make_averager():\n",
    "    count = 0\n",
    "    total = 0\n",
    "    def averager(new_value):\n",
    "        count += 1\n",
    "        total += new_value\n",
    "        return total / count\n",
    "    return averager\n",
    "avg = make_averager()\n",
    "avg(10) \n",
    "#error cause we are actually assigning to count in the body of averager, and that makes it a local variable."
   ]
  },
  {
   "cell_type": "markdown",
   "metadata": {},
   "source": [
    "- when count is a number or any **immutable** type, we are actually assigning to count in the body of `averager`, and that makes it a **local variable**.The same problem affects the total variable.\n",
    "\n",
    "- in Example 9-8 we took advantage of the fact that lists are **mutable**.we never assigned to the `series` name; we only called `series.append` and invoked `sum` and `len` on it.\n",
    "\n",
    "- with **immutable** types like numbers, strings, tuples, etc., all you can do is **read**,\n",
    "never update. If you try to rebind them, as in count = count + 1, then you are\n",
    "implicitly creating a *local variable* count. It is no longer a *free variable*, and therefore\n",
    "**it is not saved in the closure**.\n",
    "\n",
    "__*Solution*__, the `nonlocal` keyword:\n",
    "- nonlocal was introduced in Python 3. \n",
    "- It lets you declare a variable as a free variable even when it is assigned within the function. \n",
    "- If a new value is assigned to a nonlocal variable, the binding stored in the closure is\n",
    "changed."
   ]
  },
  {
   "cell_type": "code",
   "execution_count": 16,
   "id": "8c3bd909",
   "metadata": {},
   "outputs": [],
   "source": [
    "# Example 9-13. example 9-12 fixed with the use of nonlocal\n",
    "def make_averager():\n",
    "    count = 0\n",
    "    total = 0\n",
    "    def averager(new_value):\n",
    "        nonlocal count, total\n",
    "        count += 1\n",
    "        total += new_value\n",
    "        return total / count\n",
    "    return averager"
   ]
  },
  {
   "cell_type": "code",
   "execution_count": 17,
   "metadata": {},
   "outputs": [
    {
     "name": "stdout",
     "output_type": "stream",
     "text": [
      "10.0\n",
      "10.5\n",
      "11.0\n"
     ]
    }
   ],
   "source": [
    "avg = make_averager()\n",
    "\n",
    "print(avg(10))\n",
    "print(avg(11))\n",
    "print(avg(12))"
   ]
  },
  {
   "cell_type": "code",
   "execution_count": 18,
   "metadata": {},
   "outputs": [
    {
     "name": "stdout",
     "output_type": "stream",
     "text": [
      "('new_value',)\n",
      "('count', 'total')\n"
     ]
    }
   ],
   "source": [
    "print(avg.__code__.co_varnames)\n",
    "print(avg.__code__.co_freevars)"
   ]
  },
  {
   "cell_type": "code",
   "execution_count": 19,
   "metadata": {},
   "outputs": [
    {
     "name": "stdout",
     "output_type": "stream",
     "text": [
      "(<cell at 0x000001C4FF962830: int object at 0x000001C4F99A0130>, <cell at 0x000001C4FF91A1A0: int object at 0x000001C4F99A04F0>)\n",
      "3\n",
      "33\n"
     ]
    }
   ],
   "source": [
    "print(avg.__closure__)\n",
    "print(avg.__closure__[0].cell_contents)\n",
    "print(avg.__closure__[1].cell_contents)\n"
   ]
  },
  {
   "cell_type": "markdown",
   "id": "4ae97745",
   "metadata": {},
   "source": [
    "## Variable Lookup Logic"
   ]
  },
  {
   "cell_type": "markdown",
   "id": "0737fa05",
   "metadata": {},
   "source": [
    "When a function is defined, the Python bytecode compiler determines how to fetch a\n",
    "variable x that appears in it, based on these rules:\n",
    "* If there is a **global** x declaration, x comes from and is assigned to the x global variable module.\n",
    "\n",
    "* If there is a **nonlocal** x declaration, x comes from and is assigned to the x local variable of the *nearest surrounding function* where x is defined.\n",
    "\n",
    "* If x is a parameter or is assigned a value in the *function body*, then x is the **local** variable.\n",
    "\n",
    "* If x is referenced but is *not assigned* and is *not a parameter*:\n",
    "    * x will be looked up in the *__local__ scopes* of the surrounding function bodies (*__nonlocal__ scopes*).\n",
    "    * If not found in surrounding scopes, it will be read from the module *__global__ scope*.\n",
    "    * If not found in the global scope, it will be read from `__builtins__.__dict__`.\n"
   ]
  },
  {
   "cell_type": "markdown",
   "metadata": {},
   "source": [
    "# Implementing a Simple Decorator"
   ]
  },
  {
   "cell_type": "code",
   "execution_count": 20,
   "id": "179b17f3",
   "metadata": {},
   "outputs": [],
   "source": [
    "# Example 9-14. clockdeco0.py: simple decorator to show the running time of functions\n",
    "import time\n",
    "\n",
    "def clock(func):\n",
    "    def clocked(*args): # Define inner function clocked to accept any number of positional arguments.\n",
    "        t0 = time.perf_counter() \n",
    "        result = func(*args) # the closure for the 'clocked' function,encompasses the 'func' free variable.\n",
    "        elapsed = time.perf_counter() - t0\n",
    "        name = func.__name__\n",
    "        arg_str = ', '.join(repr(arg) for arg in args)\n",
    "        print(f'[{elapsed:0.8f}s] {name}({arg_str}) -> {result!r}')\n",
    "        return result\n",
    "    return clocked #Return the inner function to replace the decorated function."
   ]
  },
  {
   "cell_type": "code",
   "execution_count": 21,
   "id": "cac79f9d",
   "metadata": {},
   "outputs": [
    {
     "name": "stdout",
     "output_type": "stream",
     "text": [
      "**************************************** Calling snooze(.123)\n",
      "[0.12375540s] snooze(0.123) -> None\n",
      "**************************************** Calling factorial(6)\n",
      "[0.00000040s] factorial(1) -> 1\n",
      "[0.00000650s] factorial(2) -> 2\n",
      "[0.00002870s] factorial(3) -> 6\n",
      "[0.00003260s] factorial(4) -> 24\n",
      "[0.00005520s] factorial(5) -> 120\n",
      "[0.00007350s] factorial(6) -> 720\n",
      "6! = 720\n"
     ]
    }
   ],
   "source": [
    "# Example 9-15. Using the clock decorator\n",
    "@clock\n",
    "def snooze(seconds):\n",
    "    time.sleep(seconds)\n",
    "\n",
    "@clock # same as writing  --> factorial = clock(factorial) \n",
    "def factorial(n): \n",
    "    return 1 if n < 2 else n*factorial(n-1)\n",
    "\n",
    "if __name__ == '__main__':\n",
    "    print('*' * 40, 'Calling snooze(.123)')\n",
    "    snooze(.123)\n",
    "    print('*' * 40, 'Calling factorial(6)')\n",
    "    print('6! =', factorial(6))"
   ]
  },
  {
   "cell_type": "markdown",
   "id": "8999c7d6",
   "metadata": {},
   "source": [
    "$\\color{orange}{Note:}$ \n",
    "The clock decorator implemented in Example 9-14 has a few _shortcomings_: \n",
    "- it does not support keyword arguments\n",
    "- it masks the `__name__` and `__doc__` of the decorated function.\n",
    "\n",
    "**solution:** \n",
    "- add `**kwargs` to correctly handle keyword arguments \n",
    "- using the `functools.wraps` decorator to copy the relevant attributes from func to clocked"
   ]
  },
  {
   "cell_type": "code",
   "execution_count": 22,
   "id": "749d2a53",
   "metadata": {},
   "outputs": [
    {
     "data": {
      "text/plain": [
       "'clocked'"
      ]
     },
     "execution_count": 22,
     "metadata": {},
     "output_type": "execute_result"
    }
   ],
   "source": [
    "# factorial now actually holds a reference to the clocked function.\n",
    "factorial.__name__"
   ]
  },
  {
   "cell_type": "code",
   "execution_count": 23,
   "id": "10192dc2",
   "metadata": {},
   "outputs": [],
   "source": [
    "# Example 9-16. clockdeco.py: an improved clock decorator\n",
    "\n",
    "import time\n",
    "import functools\n",
    "\n",
    "def clock(func):\n",
    "    @functools.wraps(func)\n",
    "    def clocked(*args, **kwargs):\n",
    "        t0 = time.perf_counter()\n",
    "        result = func(*args, **kwargs)\n",
    "        elapsed = time.perf_counter() - t0\n",
    "        name = func.__name__\n",
    "        arg_lst = [repr(arg) for arg in args]\n",
    "        arg_lst.extend(f'{k}={v!r}' for k, v in kwargs.items())\n",
    "        arg_str = ', '.join(arg_lst)\n",
    "        print(f'[{elapsed:0.8f}s] {name}({arg_str}) -> {result!r}')\n",
    "        return result\n",
    "    return clocked\n"
   ]
  },
  {
   "cell_type": "markdown",
   "id": "4643ffc6",
   "metadata": {},
   "source": [
    "# Decorators in the Standard Library"
   ]
  },
  {
   "cell_type": "markdown",
   "id": "c746ce58",
   "metadata": {},
   "source": [
    "- Python has three built-in functions that are designed to **decorate methods**:\n",
    "    - `property`\n",
    "    - `classmethod` \n",
    "    - `staticmethod`\n",
    "\n",
    "\n",
    "- we saw another important decorator: `functools.wraps`, a helper for building well-behaved decorators.(Example 9-16)\n",
    "\n",
    "- Some of the most interesting decorators in the standard library (all from the functools module):\n",
    "    - `cache`\n",
    "    - `lru_cache` \n",
    "    - `singledispatch`"
   ]
  },
  {
   "cell_type": "markdown",
   "id": "4f4419f5",
   "metadata": {},
   "source": [
    "## Memoization with functools.cache\n",
    "The `functools.cache` decorator implements **memoization**: an optimization technique that works by saving the results of previous invocations of an expensive function, avoiding repeat computations on previously used arguments.\n",
    "\n",
    "Besides making silly recursive algorithms viable, `@cache` really shines in applications\n",
    "that need to **fetch information from remote APIs**.\n",
    "\n",
    "- Python 3.9                        &rarr;  `@cache`\n",
    "- Python 3.8                        &rarr; replace `@cache` with `@lru_cache`   <br>\n",
    "- prior versions(since Python 3.2 ) &rarr; ` @lru_cache()` \n"
   ]
  },
  {
   "cell_type": "code",
   "execution_count": 24,
   "id": "2482360b",
   "metadata": {},
   "outputs": [
    {
     "name": "stdout",
     "output_type": "stream",
     "text": [
      "[0.00000050s] fibonacci(0) -> 0\n",
      "[0.00000050s] fibonacci(1) -> 1\n",
      "[0.00008170s] fibonacci(2) -> 1\n",
      "[0.00000030s] fibonacci(1) -> 1\n",
      "[0.00000040s] fibonacci(0) -> 0\n",
      "[0.00000030s] fibonacci(1) -> 1\n",
      "[0.00000940s] fibonacci(2) -> 1\n",
      "[0.00003210s] fibonacci(3) -> 2\n",
      "[0.00012790s] fibonacci(4) -> 3\n",
      "[0.00000020s] fibonacci(1) -> 1\n",
      "[0.00000020s] fibonacci(0) -> 0\n",
      "[0.00000020s] fibonacci(1) -> 1\n",
      "[0.00000780s] fibonacci(2) -> 1\n",
      "[0.00001560s] fibonacci(3) -> 2\n",
      "[0.00000020s] fibonacci(0) -> 0\n",
      "[0.00000020s] fibonacci(1) -> 1\n",
      "[0.00000790s] fibonacci(2) -> 1\n",
      "[0.00000020s] fibonacci(1) -> 1\n",
      "[0.00000030s] fibonacci(0) -> 0\n",
      "[0.00000020s] fibonacci(1) -> 1\n",
      "[0.00000810s] fibonacci(2) -> 1\n",
      "[0.00001590s] fibonacci(3) -> 2\n",
      "[0.00003120s] fibonacci(4) -> 3\n",
      "[0.00005390s] fibonacci(5) -> 5\n",
      "[0.00018990s] fibonacci(6) -> 8\n",
      "8\n"
     ]
    }
   ],
   "source": [
    "# Example 9-17\n",
    "#The very costly recursive way to compute the nth number in the Fibonacci series\n",
    "@clock\n",
    "def fibonacci(n):\n",
    "    if n < 2:\n",
    "        return n\n",
    "    return fibonacci(n - 2) + fibonacci(n - 1)\n",
    "\n",
    "if __name__ == '__main__':\n",
    "    print(fibonacci(6))"
   ]
  },
  {
   "cell_type": "code",
   "execution_count": 25,
   "id": "59c01c96",
   "metadata": {},
   "outputs": [
    {
     "name": "stdout",
     "output_type": "stream",
     "text": [
      "[0.00000040s] fibonacci(0) -> 0\n",
      "[0.00000110s] fibonacci(1) -> 1\n",
      "[0.00016250s] fibonacci(2) -> 1\n",
      "[0.00000110s] fibonacci(3) -> 2\n",
      "[0.00019020s] fibonacci(4) -> 3\n",
      "[0.00000050s] fibonacci(5) -> 5\n",
      "[0.00020170s] fibonacci(6) -> 8\n",
      "8\n"
     ]
    }
   ],
   "source": [
    "# Example 9-18\n",
    "#Faster implementation using caching way  to compute the nth number in the Fibonacci series\n",
    "\n",
    "@functools.cache\n",
    "@clock  #stacked decorators: @functools.cache is applied on the function returned by @clock\n",
    "def fibonacci(n):\n",
    "    if n < 2:\n",
    "        return n\n",
    "    return fibonacci(n - 2) + fibonacci(n - 1)\n",
    "\n",
    "if __name__ == '__main__':\n",
    "    print(fibonacci(6))"
   ]
  },
  {
   "cell_type": "markdown",
   "id": "589c125a",
   "metadata": {},
   "source": [
    " ### **Stacked Decorators**\n",
    "If there’s more than one decorator, they behave like nested function calls. This:<br>\n",
    "\n",
    "@alpha<br>\n",
    "@beta<br>\n",
    "def my_fn():<br>\n",
    "...<br>\n",
    "\n",
    "is the same as this:<br>\n",
    "\n",
    "my_fn = alpha(beta(my_fn))<br>\n",
    "\n",
    "In other words, **the beta decorator is applied first, and the function it returns is then passed to alpha.**"
   ]
  },
  {
   "cell_type": "markdown",
   "id": "6023db55",
   "metadata": {},
   "source": [
    "$\\color{orange}{Note:}$  <br>**All the arguments taken by the decorated function must be hashable** <br>\n",
    "because the underlying `lru_cache` uses a `dict` to store the results, and the keys are made from the positional and keyword arguments used in the calls."
   ]
  },
  {
   "cell_type": "markdown",
   "metadata": {},
   "source": [
    "$\\color{red}{Warnning:}$ <br>\n",
    "**`functools.cache` can consume all available memory if there is a\n",
    "very large number of cache entries.**\n",
    "- `functools.cache` is more suitable for use in short-lived command-line scripts. \n",
    "- In long-running processes, using `functools.lru_cache` with a suitable\n",
    "maxsize parameter is recommended."
   ]
  },
  {
   "cell_type": "markdown",
   "id": "1adc4fa6",
   "metadata": {},
   "source": [
    "## Using lru_cache\n",
    "- `lru_cache` function is more flexible and compatible with Python 3.8 and earlier versions.\n",
    "\n",
    "- The main advantage of @lru_cache is that its memory usage is bounded by the\n",
    "`maxsize` parameter\n",
    "\n",
    "- `LRU` stands for Least Recently Used, meaning that older entries that\n",
    "have not been read for a while are discarded to make room for new ones.\n",
    "- Since Python 3.8  &rarr; `@lru_cache` or ` @lru_cache()`\n",
    "\n",
    "- Since Python 3.2  &rarr; `@lru_cache()` \n",
    "\n",
    "- `maxsize = 128` : default value of maxsize\n",
    "- For **optimal performance**, maxsize should be a **power of 2**\n",
    "\n",
    "- `maxsize = None` &rarr; LRU logic is disabled (cache works faster but entries are never discarded,may consume too much memory like `@cache`)\n",
    "- `typed = False` Determines whether the results of different argument types are stored separately: <br>\n",
    "for example float and integer arguments that are considered\n",
    "equal are stored only once <br> \n",
    "`typed = False` &rarr; f(1) == f(1.0) "
   ]
  },
  {
   "cell_type": "markdown",
   "id": "bb963a74",
   "metadata": {},
   "source": [
    "## Single Dispatch Generic Functions"
   ]
  },
  {
   "cell_type": "markdown",
   "id": "0bce8852",
   "metadata": {},
   "source": [
    "The `functools.singledispatch` decorator allows different modules to contribute to\n",
    "the overall solution, and lets you easily provide **specialized functions** even for types\n",
    "that belong to **third-party packages** that you can’t edit. <br>\n",
    "\n",
    "- If you decorate a plain function with `@singledispatch`, it becomes the entry point for a **generic function**: a group of functions to perform the same operation in different ways depending on the type of the *first argument*.\n",
    "\n",
    "- Note that the dispatch happens on the type of the first argument, this is what is meant by the term **single dispatch**. If more arguments were used to select the specific functions, we’d have **multiple dispatch**.\n",
    "\n",
    "- A notable quality of the singledispatch mechanism is that you can register specialized functions anywhere in the system, in any module. If you later add a module with a new user-defined type, you can easily provide a new custom function to handle that type. And you can write custom functions for classes that you did not write and can’t change.\n",
    "\n",
    "- `functools.singledispatch` exists since Python 3.4, but it only supports type hints since Python 3.7.\n",
    "\n",
    "- `@singledispatch` is not designed to bring Java-style method overloading to Python.\n",
    "\n",
    "- The advantage of `@singledispatch` is supporting modular extension: each module can register a specialized function for each type it supports."
   ]
  },
  {
   "cell_type": "code",
   "execution_count": 26,
   "id": "f12516b6",
   "metadata": {},
   "outputs": [],
   "source": [
    "# Example 9-20\n",
    "from functools import singledispatch\n",
    "from collections import abc\n",
    "import fractions\n",
    "import decimal\n",
    "import html\n",
    "import numbers\n",
    "\n",
    "@singledispatch # marks the base function that handles the object type.\n",
    "def htmlize(obj: object) -> str:\n",
    "    content = html.escape(repr(obj))\n",
    "    return f'<pre>{content}</pre>'\n",
    "\n",
    "\n",
    "@htmlize.register # Each specialized function is decorated with @«base».register.\n",
    "def _(text: str) -> str: # The name of the specialized functions is irrelevant so _ is a good choice to make this clear.\n",
    "    content = html.escape(text).replace('\\n', '<br/>\\n')\n",
    "    return f'<p>{content}</p>'\n",
    "\n",
    "@htmlize.register\n",
    "def _(seq: abc.Sequence) -> str:  \n",
    "    inner = '</li>\\n<li>'.join(htmlize(item) for item in seq)\n",
    "    return '<ul>\\n<li>' + inner + '</li>\\n</ul>'\n",
    "\n",
    "@htmlize.register # The numbers ABCs are useful for use with singledispatch\n",
    "def _(n: numbers.Integral) -> str: \n",
    "    return f'<pre>{n} (0x{n:x})</pre>'\n",
    "\n",
    "\n",
    "# bool is a subtype-of numbers.Integral, but the singledispatch logic seeks the implementation with \n",
    "# the most specific matching type, regardless of the order they appear in the code.\n",
    "@htmlize.register\n",
    "def _(n: bool) -> str:\n",
    "    return f'<pre>{n}</pre>'\n",
    "\n",
    "# you can pass a type to the @«base».register decorator. This syntax works in Python 3.4 or later.\n",
    "@htmlize.register(fractions.Fraction)\n",
    "def _(x) -> str:\n",
    "    frac = fractions.Fraction(x)\n",
    "    return f'<pre>{frac.numerator}/{frac.denominator}</pre>'\n",
    "\n",
    "# The @«base».register decorator returns the undecorated function,\n",
    "#  so it’s possible to stack them to register two or more types on the same implementation.\n",
    "@htmlize.register(decimal.Decimal)\n",
    "@htmlize.register(float)\n",
    "def _(x) -> str:\n",
    "    frac = fractions.Fraction(x).limit_denominator()\n",
    "    return f'<pre>{x} ({frac.numerator}/{frac.denominator})</pre>'"
   ]
  },
  {
   "cell_type": "markdown",
   "metadata": {},
   "source": [
    "$\\color{orange}{Note:}$  <br>\n",
    "- When possible, register the specialized functions to handle ABCs (abstract classes)\n",
    "such as `numbers.Integral` and `abc.MutableSequence`, instead of concrete implementations\n",
    "like `int` and `list`.\n",
    "This allows your code to **support a greater variety of compatible types**.\n",
    "\n",
    "- Using **ABCs** or **typing.Protocol** with `@singledispatch` allows your code to support existing or future classes that are actual or virtual subclasses of those ABCs, or that implement those protocols (will be discussed in Chapter 13)."
   ]
  },
  {
   "cell_type": "code",
   "execution_count": 27,
   "metadata": {},
   "outputs": [
    {
     "name": "stdout",
     "output_type": "stream",
     "text": [
      ">>> htmlize({1, 2, 3}) \n",
      " <pre>{1, 2, 3}</pre>\n",
      ">>> htmlize(abs) \n",
      " <pre>&lt;built-in function abs&gt;</pre>\n",
      ">>> htmlize('Heimlich & Co.\\n- a game') \n",
      " <p>Heimlich &amp; Co.<br/>\n",
      "- a game</p>\n",
      ">>> htmlize(42) \n",
      " <pre>42 (0x2a)</pre>\n",
      ">>> print(htmlize(['alpha', 66, {3, 2, 1}])) \n",
      " <ul>\n",
      "<li><p>alpha</p></li>\n",
      "<li><pre>66 (0x42)</pre></li>\n",
      "<li><pre>{1, 2, 3}</pre></li>\n",
      "</ul>\n",
      ">>> htmlize(True)\n",
      " <pre>True</pre>\n",
      ">>> htmlize(fractions.Fraction(2, 3)) \n",
      " <pre>2/3</pre>\n",
      ">>> htmlize(2/3) \n",
      " <pre>0.6666666666666666 (2/3)</pre>\n",
      ">>> htmlize(decimal.Decimal('0.02380952')) \n",
      " <pre>0.02380952 (1/42)</pre>\n"
     ]
    }
   ],
   "source": [
    "# Example 9-19. htmlize() generates HTML tailored to different object types\n",
    "\n",
    "print('>>> htmlize({1, 2, 3}) \\n',htmlize({1, 2, 3}))\n",
    "# '<pre>{1, 2, 3}</pre>'\n",
    "\n",
    "print('>>> htmlize(abs) \\n', htmlize(abs))\n",
    "# '<pre>&lt;built-in function abs&gt;</pre>'\n",
    "\n",
    "print(\">>> htmlize('Heimlich & Co.\\\\n- a game') \\n\",htmlize('Heimlich & Co.\\n- a game'))\n",
    "# '<p>Heimlich &amp; Co.<br/>\\n- a game</p>'\n",
    "\n",
    "print('>>> htmlize(42) \\n',htmlize(42))\n",
    "# '<pre>42 (0x2a)</pre>'\n",
    "\n",
    "print(\">>> print(htmlize(['alpha', 66, {3, 2, 1}])) \\n\", htmlize(['alpha', 66, {3, 2, 1}]))\n",
    "\n",
    "print(\">>> htmlize(True)\\n\",htmlize(True))\n",
    "# '<pre>True</pre>'\n",
    "\n",
    "print(\">>> htmlize(fractions.Fraction(2, 3)) \\n\",htmlize(fractions.Fraction(2, 3)))\n",
    "# '<pre>2/3</pre>'\n",
    "\n",
    "print(\">>> htmlize(2/3) \\n\",htmlize(2/3))\n",
    "# '<pre>0.6666666666666666 (2/3)</pre>'\n",
    "\n",
    "print(\">>> htmlize(decimal.Decimal('0.02380952')) \\n\", htmlize(decimal.Decimal('0.02380952')))\n",
    "# '<pre>0.02380952 (1/42)</pre>'"
   ]
  },
  {
   "cell_type": "markdown",
   "id": "9c1cab68",
   "metadata": {},
   "source": [
    "# Parameterized Decorators"
   ]
  },
  {
   "cell_type": "markdown",
   "metadata": {},
   "source": [
    "\n",
    "To make a parameterized decorator, make a **decorator factory** that takes\n",
    "arguments other than the decorated function and returns a decorator, which is then applied to the function to be\n",
    "decorated.\n",
    "\n",
    "Parameterized decorators almost always involve **at least two nested functions**, maybe\n",
    "more if you want to use `@functools.wraps` to produce a decorator that provides better\n",
    "support for more advanced techniques."
   ]
  },
  {
   "cell_type": "code",
   "execution_count": 28,
   "metadata": {},
   "outputs": [
    {
     "name": "stdout",
     "output_type": "stream",
     "text": [
      "running register(<function f1 at 0x000001C4FE5E51B0>)\n",
      "running main()\n",
      "registry -> [<function f1 at 0x000001C4FE5E51B0>]\n",
      "running f1()\n"
     ]
    }
   ],
   "source": [
    "# Example 9-21. Abridged registration.py module from Example 9-2, repeated here for convenience\n",
    "registry = []\n",
    "\n",
    "def register(func):\n",
    "    print(f'running register({func})')\n",
    "    registry.append(func)\n",
    "    return func\n",
    "\n",
    "@register\n",
    "def f1():\n",
    "    print('running f1()')\n",
    "\n",
    "print('running main()')\n",
    "print('registry ->', registry)\n",
    "f1()"
   ]
  },
  {
   "cell_type": "markdown",
   "metadata": {},
   "source": [
    "### A Parameterized Registration Decorator\n",
    "The new register function is not a decorator but **a decorator factory**. When called, it returns the actual\n",
    "decorator that will be applied to the target function."
   ]
  },
  {
   "cell_type": "code",
   "execution_count": 29,
   "id": "b59a554a",
   "metadata": {},
   "outputs": [
    {
     "name": "stdout",
     "output_type": "stream",
     "text": [
      "running register(active=False)->decorate(<function f1 at 0x000001C4FFAC3880>)\n",
      "running register(active=True)->decorate(<function f2 at 0x000001C4FE5E55A0>)\n"
     ]
    }
   ],
   "source": [
    "# Example 9-22. To accept parameters, the new register decorator must be called as a function\n",
    "\n",
    "registry = set() # registry is now a set, so adding and removing functions is faster\n",
    "\n",
    "def register(active=True): # register takes an optional keyword argument.\n",
    "    def decorate(func): # The decorate inner function is the actual decorator\n",
    "        print('running register'\n",
    "            f'(active={active})->decorate({func})')\n",
    "        if active:\n",
    "            registry.add(func)\n",
    "        else:\n",
    "            registry.discard(func)\n",
    "\n",
    "        return func # Because decorate is a decorator, it must return a function.\n",
    "    return decorate # register is our decorator factory, so it returns decorate.\n",
    "\n",
    "@register(active=False)\n",
    "def f1():\n",
    "    print('running f1()')\n",
    "\n",
    "@register() # If no parameters are passed, register must still be called as a function, to return the actual decorator\n",
    "def f2():\n",
    "    print('running f2()')\n",
    "\n",
    "def f3():\n",
    "    print('running f3()')"
   ]
  },
  {
   "cell_type": "code",
   "execution_count": 30,
   "metadata": {},
   "outputs": [
    {
     "name": "stdout",
     "output_type": "stream",
     "text": [
      "{<function f2 at 0x000001C4FE5E55A0>}\n",
      "****************************************\n",
      "running register(active=True)->decorate(<function f3 at 0x000001C4FE74EB90>)\n",
      "<function f3 at 0x000001C4FE74EB90>\n",
      "{<function f3 at 0x000001C4FE74EB90>, <function f2 at 0x000001C4FE5E55A0>}\n",
      "****************************************\n",
      "running register(active=False)->decorate(<function f2 at 0x000001C4FE5E55A0>)\n",
      "<function f2 at 0x000001C4FE5E55A0>\n",
      "{<function f3 at 0x000001C4FE74EB90>}\n"
     ]
    }
   ],
   "source": [
    "# Example 9-23 \n",
    "\n",
    "# When the module is imported, f2 is in the registry.\n",
    "print(registry)\n",
    "print('*' * 40)\n",
    "\n",
    "# The register() expression returns decorate, which is then applied to f3.\n",
    "print(register()(f3))\n",
    "print(registry)\n",
    "print('*' * 40)\n",
    "\n",
    "# This call removes f2 from the registry\n",
    "print(register(active=False)(f2))\n",
    "print(registry)"
   ]
  },
  {
   "cell_type": "markdown",
   "id": "dac09939",
   "metadata": {},
   "source": [
    "### The Parameterized Clock Decorator\n",
    "For simplicity, Example 9-24 is based on the initial clock implementation from Example 9-14, and not the improved one from Example 9-16 that uses `@functools.wraps`, adding yet another function layer."
   ]
  },
  {
   "cell_type": "code",
   "execution_count": 31,
   "id": "f41fef60",
   "metadata": {},
   "outputs": [
    {
     "name": "stdout",
     "output_type": "stream",
     "text": [
      "[0.12315160s] snooze(0.123) -> None\n",
      "[0.12352800s] snooze(0.123) -> None\n",
      "[0.12327950s] snooze(0.123) -> None\n"
     ]
    }
   ],
   "source": [
    "# Example 9-24 . Module clockdeco_param.py: the parameterized clock decorator\n",
    "\n",
    "import time\n",
    "\n",
    "DEFAULT_FMT = '[{elapsed:0.8f}s] {name}({args}) -> {result}'\n",
    "\n",
    "def clock(fmt=DEFAULT_FMT): # clock is our parameterized decorator factory\n",
    "    def decorate(func):# decorate is the actual decorator.\n",
    "        def clocked(*_args):# clocked wraps the decorated function.\n",
    "            t0 = time.perf_counter()\n",
    "            _result = func(*_args) # _result is the actual result of the decorated function.\n",
    "            elapsed = time.perf_counter() - t0\n",
    "            name = func.__name__\n",
    "            args = ', '.join(repr(arg) for arg in _args) # _args holds the actual arguments of clocked\n",
    "            result = repr(_result) # result is the str representation of _result, for display.\n",
    "            print(fmt.format(**locals())) # Using **locals() here allows any local variable of clocked to\n",
    "                                          # be referenced in the fmt.\n",
    "            return _result \n",
    "        return clocked\n",
    "    return decorate\n",
    "\n",
    "if __name__ == '__main__':\n",
    "\n",
    "    @clock()\n",
    "    def snooze(seconds):\n",
    "        time.sleep(seconds)\n",
    "        \n",
    "    for i in range(3):\n",
    "        snooze(.123)"
   ]
  },
  {
   "cell_type": "code",
   "execution_count": 32,
   "id": "1721d9a1",
   "metadata": {},
   "outputs": [
    {
     "name": "stdout",
     "output_type": "stream",
     "text": [
      "snooze: 0.12299720000009984s\n",
      "snooze: 0.12351620000117691s\n",
      "snooze: 0.12356290000025183s\n"
     ]
    }
   ],
   "source": [
    "#Example 9-25\n",
    "\n",
    "@clock('{name}: {elapsed}s')\n",
    "def snooze(seconds):\n",
    "    time.sleep(seconds)\n",
    "\n",
    "for i in range(3):\n",
    "    snooze(.123)"
   ]
  },
  {
   "cell_type": "code",
   "execution_count": 33,
   "id": "42f9d7c4",
   "metadata": {},
   "outputs": [
    {
     "name": "stdout",
     "output_type": "stream",
     "text": [
      "snooze(0.123) dt=0.123s\n",
      "snooze(0.123) dt=0.123s\n",
      "snooze(0.123) dt=0.123s\n"
     ]
    }
   ],
   "source": [
    "#Example 9-26 \n",
    "\n",
    "@clock('{name}({args}) dt={elapsed:0.3f}s')\n",
    "def snooze(seconds):\n",
    "    time.sleep(seconds)\n",
    "\n",
    "for i in range(3):\n",
    "    snooze(.123)"
   ]
  },
  {
   "cell_type": "markdown",
   "id": "40b94e35",
   "metadata": {},
   "source": [
    "### A Class-Based Clock Decorator\n",
    "For more sophisticated decorators, a class-based implementation using `__call__` may be easier to read and maintain, but to explain the basic idea of this language feature (decorators), functions are easier to understand.\n"
   ]
  },
  {
   "cell_type": "code",
   "execution_count": 34,
   "id": "ca6e3aed",
   "metadata": {},
   "outputs": [],
   "source": [
    "#Example 9-27. Module clockdeco_cls.py: parameterized clock decorator implemented as class\n",
    "\n",
    "import time\n",
    "\n",
    "DEFAULT_FMT = '[{elapsed:0.8f}s] {name}({args}) -> {result}'\n",
    "\n",
    "class clock: # clock class is our parameterized decorator factory.\n",
    "    \n",
    "    def __init__(self, fmt=DEFAULT_FMT): # The argument passed in the clock(my_format) is assigned to the fmt parameter\n",
    "        self.fmt = fmt\n",
    "    \n",
    "    def __call__(self, func):# When invoked, the instance replaces the decorated function with clocked.\n",
    "        def clocked(*_args): # clocked wraps the decorated function\n",
    "            t0 = time.perf_counter()\n",
    "            _result = func(*_args)\n",
    "            elapsed = time.perf_counter() - t0\n",
    "            name = func.__name__\n",
    "            args = ', '.join(repr(arg) for arg in _args)\n",
    "            result = repr(_result)\n",
    "            print(self.fmt.format(**locals()))\n",
    "            return _result\n",
    "        return clocked"
   ]
  },
  {
   "cell_type": "markdown",
   "id": "65cada52",
   "metadata": {},
   "source": [
    "# Lecturers\n",
    "\n",
    "1. Mahya Asgarian [LinkedIn](https://www.linkedin.com/in/mahya-asgarian-9a7b13249)\n",
    "2. Atefeh Hosseini [LinkedIn](https://www.linkedin.com/in/atefeh-hosseini-61160b275)\n",
    "\n",
    "\n",
    "present date : 2023-11-17"
   ]
  },
  {
   "cell_type": "markdown",
   "id": "3fbee50e",
   "metadata": {},
   "source": [
    "# Reviewers"
   ]
  },
  {
   "cell_type": "markdown",
   "id": "d403fb4b",
   "metadata": {},
   "source": [
    "1. Fahimeh Asaadi, review date: 2023-11-16 [LinkedIn](https://www.linkedin.com/in/fahimehasaadi)\n",
    "2. Hosein Toodehroosta, review date: 2023-11-16, [LinkedIn](https://www.linkedin.com/in/hossein-toodehroosta?utm_source=share&utm_campaign=share_via&utm_content=profile&utm_medium=android_app)\n"
   ]
  }
 ],
 "metadata": {
  "kernelspec": {
   "display_name": "Python 3 (ipykernel)",
   "language": "python",
   "name": "python3"
  },
  "language_info": {
   "codemirror_mode": {
    "name": "ipython",
    "version": 3
   },
   "file_extension": ".py",
   "mimetype": "text/x-python",
   "name": "python",
   "nbconvert_exporter": "python",
   "pygments_lexer": "ipython3",
   "version": "3.10.11"
  }
 },
 "nbformat": 4,
 "nbformat_minor": 5
}
