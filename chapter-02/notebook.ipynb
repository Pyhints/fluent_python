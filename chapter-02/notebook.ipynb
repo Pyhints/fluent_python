{
 "cells": [
  {
   "cell_type": "markdown",
   "metadata": {},
   "source": [
    "# Chapter 2 — An Array of Sequences\n",
    "\n",
    "**Sections with code snippets in this chapter:**\n",
    "\n",
    "- [List Comprehensions and Generator Expressions](#List-Comprehensions-and-Generator-Expressions)\n",
    "- [Tuples Are Not Just Immutable Lists](#Tuples-Are-Not-Just-Immutable-Lists)\n",
    "- [Unpacking sequences and iterables](#Unpacking-sequences-and-iterables)\n",
    "- [Pattern Matching with Sequences](#Pattern-Matching-with-Sequences)\n",
    "- [Slicing](#Slicing)\n",
    "- [Using + and \\* with Sequences](#Using-+-and-*-with-Sequences)\n",
    "- [Augmented Assignment with Sequences](#Augmented-Assignment-with-Sequences)\n",
    "- [list.sort and the sorted Built-In Function](#list.sort-and-the-sorted-Built-In-Function)\n",
    "- [When a List Is Not the Answer](#When-a-List-Is-Not-the-Answer)\n",
    "- [Memory Views](#Memory-Views)\n",
    "- [NumPy and SciPy](#NumPy-and-SciPy)\n",
    "- [Deques and Other Queues](#Deques-and-Other-Queues)\n",
    "- [Soapbox](#Soapbox)\n"
   ]
  },
  {
   "cell_type": "markdown",
   "metadata": {},
   "source": [
    "# Overview of Built-In Sequences\n",
    "\n",
    "Sequence: ordered collection, Each element in a sequence has a unique index that distinguishes it from others in the sequence.\n"
   ]
  },
  {
   "cell_type": "markdown",
   "metadata": {},
   "source": [
    "#### Grouping By Container and Flat\n",
    "\n",
    "- Container sequences: Container sequences: A container sequence holds references to the objects it contains, can hold elements of different types, including other sequences or containers. flexible, allow to store a variety of objects within them\n",
    "  - list\n",
    "  - tuple\n",
    "  - collections.deque, ...\n",
    "- Flat sequences (homogeneous sequences): A flat sequence stores the value of its contents in its own memory space, and not as distinct Python objects\n",
    "  - str\n",
    "  - bytes\n",
    "  - array.array, ...\n",
    "  ![Alt text](https://programming.vip/images/doc/5e98fd2450631cfe68f385f5707b2f0e.jpg \"Flat Vs Container\")\n"
   ]
  },
  {
   "cell_type": "markdown",
   "metadata": {},
   "source": [
    "#### Grouping By Mutable and Immutable\n",
    "\n",
    "- Mutable sequences\n",
    "  - list\n",
    "  - bytearray\n",
    "  - array.array\n",
    "  - collections.deque\n",
    "- Immutable sequences\n",
    "  - tuple\n",
    "  - str\n",
    "  - bytes\n"
   ]
  },
  {
   "cell_type": "markdown",
   "metadata": {},
   "source": [
    "## List Comprehensions and Generator Expressions\n"
   ]
  },
  {
   "cell_type": "markdown",
   "metadata": {},
   "source": [
    "`quick way to build a sequence is using a listcomps (List Comprehntions)`\n",
    "\n",
    "- more readable ???\n",
    "- often faster ???\n"
   ]
  },
  {
   "cell_type": "code",
   "execution_count": null,
   "metadata": {},
   "outputs": [],
   "source": [
    "symbols = \"$¢£¥€¤\"\n",
    "\n",
    "codes = []\n",
    "for symbol in symbols:\n",
    "    codes.append(ord(symbol))\n",
    "print(codes)\n",
    "\n",
    "codes = [ord(symbol) for symbol in symbols]\n",
    "print(codes)"
   ]
  },
  {
   "cell_type": "markdown",
   "metadata": {},
   "source": [
    "> ### Tip\n",
    ">\n",
    "> In Python code, line breaks are ignored inside pairs of [], {}, or ().  \n",
    "> also trailing comma will be ignored. so it is thoughtful to put a comma after the last item.\n"
   ]
  },
  {
   "cell_type": "markdown",
   "metadata": {},
   "source": [
    "#### LOCAL SCOPE WITHIN COMPREHENSIONS AND GENERATOR EXPRESSIONS\n"
   ]
  },
  {
   "cell_type": "markdown",
   "metadata": {},
   "source": [
    "list comprehensions, generator expressions, and their siblings set and dict comprehensions have a local scope to hold the variables assigned in the for clause.\n"
   ]
  },
  {
   "cell_type": "code",
   "execution_count": null,
   "metadata": {},
   "outputs": [],
   "source": [
    "x = \"ABC\"\n",
    "\n",
    "codes = [ord(i) for i in x]\n",
    "print(i)"
   ]
  },
  {
   "cell_type": "code",
   "execution_count": null,
   "metadata": {},
   "outputs": [],
   "source": [
    "codes = []\n",
    "for i in x:\n",
    "    codes.append(i)\n",
    "print(i)"
   ]
  },
  {
   "cell_type": "code",
   "execution_count": 9,
   "metadata": {},
   "outputs": [
    {
     "name": "stdout",
     "output_type": "stream",
     "text": [
      "67\n"
     ]
    }
   ],
   "source": [
    "x = \"ABC\"\n",
    "\n",
    "codes = [last := ord(i) for i in x]\n",
    "print(last)"
   ]
  },
  {
   "cell_type": "markdown",
   "metadata": {},
   "source": [
    "#### Listcomps Versus map and filter\n"
   ]
  },
  {
   "cell_type": "code",
   "execution_count": null,
   "metadata": {},
   "outputs": [],
   "source": [
    "symbols = \"$¢£¥€¤\"\n",
    "beyond_ascii = [ord(s) for s in symbols if ord(s) > 127]\n",
    "beyond_ascii"
   ]
  },
  {
   "cell_type": "code",
   "execution_count": null,
   "metadata": {},
   "outputs": [],
   "source": [
    "beyond_ascii = list(filter(lambda c: c > 127, map(ord, symbols)))\n",
    "beyond_ascii"
   ]
  },
  {
   "cell_type": "code",
   "execution_count": 11,
   "metadata": {},
   "outputs": [
    {
     "name": "stdout",
     "output_type": "stream",
     "text": [
      "listcomp        : 0.432 0.433 0.484 0.443 0.445\n",
      "listcomp + func : 0.689 0.687 0.682 0.661 0.673\n",
      "filter + lambda : 0.597 0.584 0.598 0.580 0.598\n",
      "filter + func   : 0.565 0.547 0.568 0.554 0.538\n"
     ]
    }
   ],
   "source": [
    "import timeit\n",
    "\n",
    "TIMES = 1_000_000\n",
    "\n",
    "SETUP = \"\"\"\n",
    "symbols = '$¢£¥€¤'\n",
    "def non_ascii(c):\n",
    "    return c > 127\n",
    "\"\"\"\n",
    "\n",
    "\n",
    "def clock(label, cmd):\n",
    "    res = timeit.repeat(cmd, setup=SETUP, number=TIMES)\n",
    "    print(label, *(f\"{x:.3f}\" for x in res))\n",
    "\n",
    "\n",
    "clock(\"listcomp        :\", \"[ord(s) for s in symbols if ord(s) > 127]\")\n",
    "clock(\"listcomp + func :\", \"[ord(s) for s in symbols if non_ascii(ord(s))]\")\n",
    "clock(\"filter + lambda :\", \"list(filter(lambda c: c > 127, map(ord, symbols)))\")\n",
    "clock(\"filter + func   :\", \"list(filter(non_ascii, map(ord, symbols)))\")"
   ]
  },
  {
   "cell_type": "markdown",
   "metadata": {},
   "source": [
    "#### Cartesian Products List Comprehension (Nested)\n"
   ]
  },
  {
   "cell_type": "code",
   "execution_count": null,
   "metadata": {},
   "outputs": [],
   "source": [
    "colors = [\"black\", \"white\"]\n",
    "sizes = [\"S\", \"M\", \"L\"]\n",
    "tshirts = [(color, size) for color in colors for size in sizes]\n",
    "\n",
    "print(tshirts)"
   ]
  },
  {
   "cell_type": "code",
   "execution_count": null,
   "metadata": {},
   "outputs": [],
   "source": [
    "for color in colors:\n",
    "    for size in sizes:\n",
    "        print((color, size))"
   ]
  },
  {
   "cell_type": "code",
   "execution_count": null,
   "metadata": {},
   "outputs": [],
   "source": [
    "shirts = [(color, size) for size in sizes for color in colors]\n",
    "tshirts"
   ]
  },
  {
   "cell_type": "markdown",
   "metadata": {},
   "source": [
    "## Generator Expressions\n",
    "\n",
    "- save memory\n",
    "- enclosed in parentheses\n",
    "- in single argument positions in functions ther is no need to duplicate the enclosing parentheses.\n"
   ]
  },
  {
   "cell_type": "code",
   "execution_count": null,
   "metadata": {},
   "outputs": [],
   "source": [
    "symbols = \"$¢£¥€¤\"\n",
    "tuple(ord(symbol) for symbol in symbols)"
   ]
  },
  {
   "cell_type": "code",
   "execution_count": null,
   "metadata": {},
   "outputs": [],
   "source": [
    "import array\n",
    "\n",
    "array.array(\"I\", (ord(symbol) for symbol in symbols))"
   ]
  },
  {
   "cell_type": "markdown",
   "metadata": {},
   "source": [
    "#### Example 2-6. Cartesian product in a generator expression\n"
   ]
  },
  {
   "cell_type": "code",
   "execution_count": null,
   "metadata": {},
   "outputs": [],
   "source": [
    "colors = [\"black\", \"white\"]\n",
    "sizes = [\"S\", \"M\", \"L\"]\n",
    "\n",
    "for tshirt in (\"%s %s\" % (c, s) for c in colors for s in sizes):\n",
    "    print(tshirt)"
   ]
  },
  {
   "cell_type": "markdown",
   "metadata": {
    "pycharm": {
     "name": "#%% md\n"
    }
   },
   "source": [
    "## Tuples Are Not Just Immutable Lists\n",
    "\n",
    "- can used as a:\n",
    "  - immutable lists\n",
    "  - records with no field name\n"
   ]
  },
  {
   "cell_type": "markdown",
   "metadata": {
    "pycharm": {
     "name": "#%% md\n"
    }
   },
   "source": [
    "#### Tuples as Records\n"
   ]
  },
  {
   "cell_type": "code",
   "execution_count": null,
   "metadata": {
    "pycharm": {
     "name": "#%%\n"
    }
   },
   "outputs": [],
   "source": [
    "lax_coordinates = (33.9425, -118.408056)\n",
    "city, year, pop, chg, area = (\"Tokyo\", 2003, 32_450, 0.66, 8014)\n",
    "traveler_ids = [(\"USA\", \"31195855\"), (\"BRA\", \"CE342567\"), (\"ESP\", \"XDA205856\")]\n",
    "\n",
    "for passport in sorted(traveler_ids):\n",
    "    print(\"%s/%s\" % passport)"
   ]
  },
  {
   "cell_type": "code",
   "execution_count": null,
   "metadata": {
    "pycharm": {
     "name": "#%%\n"
    }
   },
   "outputs": [],
   "source": [
    "for country, _ in traveler_ids:\n",
    "    print(country)"
   ]
  },
  {
   "cell_type": "markdown",
   "metadata": {},
   "source": [
    "> ---\n",
    ">\n",
    "> ### Tip\n",
    ">\n",
    "> Using \\_ as a dummy variable is just a convention\n",
    ">\n",
    "> 1. In the Python console, the result of executing a line is assigned to \\_ unless the result is None.\n",
    "> 2. ## In a match/case statement, \\_ is a wildcard that matches any value but is never assigned a value\n"
   ]
  },
  {
   "cell_type": "markdown",
   "metadata": {
    "pycharm": {
     "name": "#%% md\n"
    }
   },
   "source": [
    "### Tuples as Immutable Lists\n"
   ]
  },
  {
   "cell_type": "markdown",
   "metadata": {},
   "source": [
    "Two key benefits of using Tuples as Immutable Lists\n",
    "\n",
    "- Clarity: when you see a tuple in code, you know its length will never change\n",
    "- Performance: a tuple uses less memory than a list of the same length, and they allow Python to do some optimizations\n"
   ]
  },
  {
   "cell_type": "markdown",
   "metadata": {},
   "source": [
    "be aware that the immutability of a tuple only applies to the references contained in it. References in a tuple cannot be deleted or replaced. But if one of those references points to a mutable object, and that object is changed, then the value of the tuple changes.\n"
   ]
  },
  {
   "cell_type": "code",
   "execution_count": 1,
   "metadata": {
    "pycharm": {
     "name": "#%%\n"
    }
   },
   "outputs": [
    {
     "data": {
      "text/plain": [
       "True"
      ]
     },
     "execution_count": 1,
     "metadata": {},
     "output_type": "execute_result"
    }
   ],
   "source": [
    "a = (10, \"alpha\", [1, 2])\n",
    "b = (10, \"alpha\", [1, 2])\n",
    "a == b"
   ]
  },
  {
   "cell_type": "code",
   "execution_count": 2,
   "metadata": {
    "pycharm": {
     "name": "#%%\n"
    }
   },
   "outputs": [
    {
     "data": {
      "text/plain": [
       "False"
      ]
     },
     "execution_count": 2,
     "metadata": {},
     "output_type": "execute_result"
    }
   ],
   "source": [
    "b[-1].append(99)\n",
    "a == b"
   ]
  },
  {
   "cell_type": "markdown",
   "metadata": {},
   "source": [
    "an object is only hashable if its value cannot ever change: #edited\n"
   ]
  },
  {
   "cell_type": "code",
   "execution_count": null,
   "metadata": {
    "pycharm": {
     "name": "#%%\n"
    }
   },
   "outputs": [],
   "source": [
    "def fixed(o):\n",
    "    try:\n",
    "        hash(o)\n",
    "    except TypeError:\n",
    "        return False\n",
    "    return True\n",
    "\n",
    "\n",
    "tf = (10, \"alpha\", (1, 2))  # Contains no mutable items\n",
    "tm = (10, \"alpha\", [1, 2])  # Contains a mutable item (list)\n",
    "fixed(tf)"
   ]
  },
  {
   "cell_type": "code",
   "execution_count": null,
   "metadata": {
    "pycharm": {
     "name": "#%%\n"
    }
   },
   "outputs": [],
   "source": [
    "fixed(tm)"
   ]
  },
  {
   "cell_type": "markdown",
   "metadata": {},
   "source": [
    "#### Are tuples more efficient than lists in Python?\n",
    "\n",
    "- the Python compiler generates bytecode for a tuple constant in one operation; but for a list lteral, the generated bytecode pushes each element as a separate constant to the data stack, and then builds the list.\n",
    "- tuple(t) returns reference to `t`. but list(t) return a new copy of `t`.\n",
    "- tuple is allocated the exact memory space it need. but list allocated with room to spare, to mortize the cost of future appends\n",
    "- The references to the items in a tuple are stored in an array in the tuple struct, while a list holds a pointer to an array of references stored elsewhere. The indirection is necessary because when a list grows beyond the space currently allocated, Python needs to reallocate the array of references to make room. The extra indirection makes CPU caches less effective.\n"
   ]
  },
  {
   "cell_type": "markdown",
   "metadata": {
    "pycharm": {
     "name": "#%% md\n"
    }
   },
   "source": [
    "## Unpacking sequences and iterables\n"
   ]
  },
  {
   "cell_type": "markdown",
   "metadata": {},
   "source": [
    "unpacking works with any iterable object as the data source including iterators which don’t support index notation\n"
   ]
  },
  {
   "cell_type": "code",
   "execution_count": null,
   "metadata": {},
   "outputs": [],
   "source": [
    "a, *_, end = (i for i in range(10))"
   ]
  },
  {
   "cell_type": "code",
   "execution_count": 3,
   "metadata": {
    "pycharm": {
     "name": "#%%\n"
    }
   },
   "outputs": [
    {
     "name": "stdout",
     "output_type": "stream",
     "text": [
      "quotient=2\n",
      "remainder=4\n"
     ]
    }
   ],
   "source": [
    "t = (20, 8)\n",
    "quotient, remainder = divmod(*t)\n",
    "# takes two arguments and returns a tuple containing the quotient and remainder of the division operation.\n",
    "\n",
    "print(f\"{quotient=}\\n{remainder=}\")"
   ]
  },
  {
   "cell_type": "code",
   "execution_count": 4,
   "metadata": {
    "pycharm": {
     "name": "#%%\n"
    }
   },
   "outputs": [
    {
     "data": {
      "text/plain": [
       "'id_rsa.pub'"
      ]
     },
     "execution_count": 4,
     "metadata": {},
     "output_type": "execute_result"
    }
   ],
   "source": [
    "import os\n",
    "\n",
    "_, filename = os.path.split(\"/home/luciano/.ssh/id_rsa.pub\")\n",
    "filename"
   ]
  },
  {
   "cell_type": "markdown",
   "metadata": {
    "pycharm": {
     "name": "#%% md\n"
    }
   },
   "source": [
    "### Using \\* to grab excess items\n"
   ]
  },
  {
   "cell_type": "code",
   "execution_count": null,
   "metadata": {
    "pycharm": {
     "name": "#%%\n"
    }
   },
   "outputs": [],
   "source": [
    "a, b, *rest = range(5)\n",
    "a, b, rest"
   ]
  },
  {
   "cell_type": "code",
   "execution_count": 6,
   "metadata": {
    "pycharm": {
     "name": "#%%\n"
    }
   },
   "outputs": [
    {
     "data": {
      "text/plain": [
       "(0, 1, [2])"
      ]
     },
     "execution_count": 6,
     "metadata": {},
     "output_type": "execute_result"
    }
   ],
   "source": [
    "a, b, *rest = range(3)\n",
    "a, b, rest"
   ]
  },
  {
   "cell_type": "code",
   "execution_count": 5,
   "metadata": {
    "pycharm": {
     "name": "#%%\n"
    }
   },
   "outputs": [
    {
     "data": {
      "text/plain": [
       "(0, 1, [])"
      ]
     },
     "execution_count": 5,
     "metadata": {},
     "output_type": "execute_result"
    }
   ],
   "source": [
    "a, b, *rest = range(2)\n",
    "a, b, rest"
   ]
  },
  {
   "cell_type": "markdown",
   "metadata": {
    "pycharm": {
     "name": "#%% md\n"
    }
   },
   "source": [
    "### Unpacking with \\* in function calls and sequence literals\n"
   ]
  },
  {
   "cell_type": "code",
   "execution_count": null,
   "metadata": {
    "pycharm": {
     "name": "#%%\n"
    }
   },
   "outputs": [],
   "source": [
    "def fun(a, b, c, d, *rest):\n",
    "    return a, b, c, d, rest\n",
    "\n",
    "\n",
    "fun(*[1, 2], 3, *range(4, 7))"
   ]
  },
  {
   "cell_type": "code",
   "execution_count": 9,
   "metadata": {
    "pycharm": {
     "name": "#%%\n"
    }
   },
   "outputs": [
    {
     "data": {
      "text/plain": [
       "(0, 1, 2, 3, 4)"
      ]
     },
     "execution_count": 9,
     "metadata": {},
     "output_type": "execute_result"
    }
   ],
   "source": [
    "*range(4), 4"
   ]
  },
  {
   "cell_type": "markdown",
   "metadata": {
    "pycharm": {
     "name": "#%% md\n"
    }
   },
   "source": [
    "### Nested unpacking\n"
   ]
  },
  {
   "cell_type": "code",
   "execution_count": 14,
   "metadata": {},
   "outputs": [
    {
     "name": "stdout",
     "output_type": "stream",
     "text": [
      "hey\n",
      "Tokyo |   35.6897 |  139.6917\n",
      "Delhi NCR |   28.6139 |   77.2089\n"
     ]
    }
   ],
   "source": [
    "metro_areas = [\n",
    "    (\"Tokyo\", \"JP\", 36.933, (35.689722, 139.691667)),\n",
    "    (\"Delhi NCR\", \"IN\", 21.935, (28.613889, 77.208889)),\n",
    "]\n",
    "for name, _, _, (lat, lon) in metro_areas:\n",
    "    print(f\"{name} | {lat:9.4f} | {lon:9.4f}\")"
   ]
  },
  {
   "cell_type": "markdown",
   "metadata": {
    "pycharm": {
     "name": "#%% md\n"
    }
   },
   "source": [
    "## Pattern Matching with Sequences\n",
    "\n",
    "Python pattern matching is a feature that allows for concise and readable code by matching the structure of data against patterns and executing corresponding code blocks.\n"
   ]
  },
  {
   "cell_type": "code",
   "execution_count": 1,
   "metadata": {
    "pycharm": {
     "name": "#%%\n"
    }
   },
   "outputs": [
    {
     "name": "stdout",
     "output_type": "stream",
     "text": [
      "type: dict, handling...\n",
      "type: int, handling...\n",
      "type: Person sadegh 18 <__main__.Person object at 0x7f40024701f0>\n"
     ]
    },
    {
     "ename": "ValueError",
     "evalue": "Value Not Match: ['username', 20, (12345, 54321)]",
     "output_type": "error",
     "traceback": [
      "\u001b[0;31m---------------------------------------------------------------------------\u001b[0m",
      "\u001b[0;31mValueError\u001b[0m                                Traceback (most recent call last)",
      "Cell \u001b[0;32mIn[1], line 27\u001b[0m\n\u001b[1;32m     25\u001b[0m handle_command(\u001b[38;5;241m234\u001b[39m)\n\u001b[1;32m     26\u001b[0m handle_command(Person(name\u001b[38;5;241m=\u001b[39m\u001b[38;5;124m\"\u001b[39m\u001b[38;5;124msadegh\u001b[39m\u001b[38;5;124m\"\u001b[39m, age\u001b[38;5;241m=\u001b[39m\u001b[38;5;241m18\u001b[39m))\n\u001b[0;32m---> 27\u001b[0m \u001b[43mhandle_command\u001b[49m\u001b[43m(\u001b[49m\u001b[43m[\u001b[49m\u001b[38;5;124;43m'\u001b[39;49m\u001b[38;5;124;43musername\u001b[39;49m\u001b[38;5;124;43m'\u001b[39;49m\u001b[43m,\u001b[49m\u001b[43m \u001b[49m\u001b[38;5;241;43m20\u001b[39;49m\u001b[43m,\u001b[49m\u001b[43m \u001b[49m\u001b[43m(\u001b[49m\u001b[38;5;28;43mint\u001b[39;49m\u001b[43m(\u001b[49m\u001b[38;5;241;43m12345\u001b[39;49m\u001b[43m)\u001b[49m\u001b[43m,\u001b[49m\u001b[43m \u001b[49m\u001b[38;5;28;43mint\u001b[39;49m\u001b[43m(\u001b[49m\u001b[38;5;241;43m54321\u001b[39;49m\u001b[43m)\u001b[49m\u001b[43m)\u001b[49m\u001b[43m]\u001b[49m\u001b[43m)\u001b[49m\n",
      "Cell \u001b[0;32mIn[1], line 22\u001b[0m, in \u001b[0;36mhandle_command\u001b[0;34m(data)\u001b[0m\n\u001b[1;32m     19\u001b[0m     \u001b[38;5;28mprint\u001b[39m(\u001b[38;5;124m\"\u001b[39m\u001b[38;5;124mtype: Person\u001b[39m\u001b[38;5;124m\"\u001b[39m, name, age, person)\n\u001b[1;32m     21\u001b[0m \u001b[38;5;28;01mcase\u001b[39;00m\u001b[38;5;250m \u001b[39m\u001b[38;5;28;01m_\u001b[39;00m:\n\u001b[0;32m---> 22\u001b[0m     \u001b[38;5;28;01mraise\u001b[39;00m \u001b[38;5;167;01mValueError\u001b[39;00m(\u001b[38;5;124mf\u001b[39m\u001b[38;5;124m\"\u001b[39m\u001b[38;5;124mValue Not Match: \u001b[39m\u001b[38;5;132;01m{\u001b[39;00mdata\u001b[38;5;132;01m}\u001b[39;00m\u001b[38;5;124m\"\u001b[39m)\n",
      "\u001b[0;31mValueError\u001b[0m: Value Not Match: ['username', 20, (12345, 54321)]"
     ]
    }
   ],
   "source": [
    "# edited\n",
    "class Person:\n",
    "    def __init__(self, name, age):\n",
    "        self.name = name\n",
    "        self.age = age\n",
    "\n",
    "\n",
    "def handle_command(data):\n",
    "    match data:\n",
    "        case {\n",
    "            \"type\": \"person\",\n",
    "            \"name\": str(name),\n",
    "            \"age\": int(age),\n",
    "        } if age >= 18:  # runtime type check: first item must be an instance of str\n",
    "            print(\"type: dict, handling...\")\n",
    "\n",
    "        case int():\n",
    "            print(\"type: int, handling...\")\n",
    "\n",
    "        case [\n",
    "            str(name),\n",
    "            *_,\n",
    "            (float(lat), float(lon)),\n",
    "        ]:  # *_ matches any number of items, without binding them to a variable\n",
    "            print(\"type: list, handling...\")\n",
    "\n",
    "        case Person(name=str(name), age=int(age)) as person:\n",
    "            print(\"type: Person\", name, age, person)\n",
    "\n",
    "        case _:\n",
    "            raise ValueError(f\"Value Not Match: {data}\")\n",
    "\n",
    "\n",
    "handle_command({\"type\": \"person\", \"name\": \"John\", \"age\": 25})\n",
    "handle_command(234)\n",
    "handle_command(Person(name=\"sadegh\", age=18))\n",
    "handle_command([\"username\", 20, (int(12345), int(54321))])"
   ]
  },
  {
   "cell_type": "markdown",
   "metadata": {},
   "source": [
    "#### edited\n",
    "\n",
    "#### Without a catch-all, the whole match statement does nothing when a subject does not match any case—and this can be a silent failure.\n"
   ]
  },
  {
   "cell_type": "markdown",
   "metadata": {
    "pycharm": {
     "name": "#%% md\n"
    }
   },
   "source": [
    "### Pattern Matching Sequences in an Interpreter\n",
    "\n",
    "#### This section compares two implementations of a Lisp interpreter: lis.py and an updated version using Python 3.10's match/case syntax. The comparison highlights the benefits of using pattern matching in Python code.\n",
    "\n",
    "The interpreter evaluates lists of expressions, such as calling functions with arguments or defining new functions, and returns the value of the last expression in the body of a function.\n",
    "\n",
    "#### Example 2-11. Matching patterns without match/case.\n",
    "\n",
    "[02-array-seq/lispy/py3.9/lis.py](02-array-seq/lispy/py3.9/lis.py)\n"
   ]
  },
  {
   "cell_type": "markdown",
   "metadata": {
    "pycharm": {
     "name": "#%% md\n"
    }
   },
   "source": [
    "#### Example 2-12. Pattern matching with match/case—requires Python ≥ 3.10.\n",
    "\n",
    "[02-array-seq/lispy/py3.10/lis.py](02-array-seq/lispy/py3.10/lis.py)\n"
   ]
  },
  {
   "cell_type": "markdown",
   "metadata": {},
   "source": [
    "## Slicing\n",
    "\n",
    "#### Python's sequence types, including list, tuple, and str, support slicing operations that are more powerful than commonly used. This section describes advanced forms of slicing, with implementation in user-defined classes covered in Chapter 12.\n"
   ]
  },
  {
   "cell_type": "markdown",
   "metadata": {},
   "source": [
    "### Why Slices and Range Exclude the Last Item\n",
    "\n",
    "#### The convention of excluding the last item in Python slices and ranges is convenient due to its compatibility with zero-based indexing used in many languages. It allows for easy calculation of slice and range lengths, as well as splitting a sequence into non-overlapping parts at any index. For instance, my_list[:x] and my_list[x:] can be used to split a sequence at index x.\n"
   ]
  },
  {
   "cell_type": "code",
   "execution_count": 1,
   "metadata": {},
   "outputs": [
    {
     "data": {
      "text/plain": [
       "[10, 20]"
      ]
     },
     "execution_count": 1,
     "metadata": {},
     "output_type": "execute_result"
    }
   ],
   "source": [
    "l = [10, 20, 30, 40, 50, 60]\n",
    "\n",
    "l[:2]  # split at 2"
   ]
  },
  {
   "cell_type": "code",
   "execution_count": 2,
   "metadata": {},
   "outputs": [
    {
     "data": {
      "text/plain": [
       "[30, 40, 50, 60]"
      ]
     },
     "execution_count": 2,
     "metadata": {},
     "output_type": "execute_result"
    }
   ],
   "source": [
    "l[2:]"
   ]
  },
  {
   "cell_type": "code",
   "execution_count": null,
   "metadata": {},
   "outputs": [],
   "source": [
    "l[:3]  # split at 3"
   ]
  },
  {
   "cell_type": "code",
   "execution_count": null,
   "metadata": {},
   "outputs": [],
   "source": [
    "l[3:]"
   ]
  },
  {
   "cell_type": "markdown",
   "metadata": {},
   "source": [
    "###### Further reading\n"
   ]
  },
  {
   "cell_type": "markdown",
   "metadata": {},
   "source": [
    "### Slice Objects\n",
    "\n",
    "#### The slice notation s[a:b:c] can be used to specify a stride or step c, which skips items in the resulting slice. The stride can be negative, resulting in items being returned in reverse order.\n"
   ]
  },
  {
   "cell_type": "code",
   "execution_count": null,
   "metadata": {},
   "outputs": [],
   "source": [
    "s = \"bicycle\"\n",
    "s[::3]"
   ]
  },
  {
   "cell_type": "code",
   "execution_count": null,
   "metadata": {},
   "outputs": [],
   "source": [
    "s[::-1]"
   ]
  },
  {
   "cell_type": "code",
   "execution_count": null,
   "metadata": {},
   "outputs": [],
   "source": [
    "s[::-2]"
   ]
  },
  {
   "cell_type": "markdown",
   "metadata": {},
   "source": [
    "#### The notation a:b:c is only valid within [] when used as the indexing or subscript operator, and it produces a slice object. Python calls seq.**getitem**(slice(start, stop, step)) to evaluate the expression seq[start:stop:step]. Knowing about slice objects is useful for assigning names to slices, making code more readable. This is demonstrated in Example 2-13 for parsing flat-file data.\n"
   ]
  },
  {
   "cell_type": "markdown",
   "metadata": {},
   "source": [
    "#### Example 2-13. Line items from a flat-file invoice\n"
   ]
  },
  {
   "cell_type": "code",
   "execution_count": null,
   "metadata": {},
   "outputs": [],
   "source": [
    "invoice = \"\"\"\n",
    "0.....6.................................40........52...55........\n",
    "1909 Pimoroni PiBrella                      $17.50    3    $52.50\n",
    "1489 6mm Tactile Switch x20                  $4.95    2    $9.90\n",
    "1510 Panavise Jr. - PV-201                  $28.00    1    $28.00\n",
    "1601 PiTFT Mini Kit 320x240                 $34.95    1    $34.95\n",
    "\"\"\"\n",
    "\n",
    "SKU = slice(0, 6)\n",
    "DESCRIPTION = slice(6, 40)\n",
    "UNIT_PRICE = slice(40, 52)\n",
    "QUANTITY = slice(52, 55)\n",
    "ITEM_TOTAL = slice(55, None)\n",
    "\n",
    "line_items = invoice.split(\"\\n\")[2:]\n",
    "\n",
    "for item in line_items:\n",
    "    print(item[UNIT_PRICE], item[DESCRIPTION])"
   ]
  },
  {
   "cell_type": "markdown",
   "metadata": {},
   "source": [
    "### Multidimensional Slicing and Ellipsis\n",
    "\n",
    "#### The [] operator can take multiple indexes or slices separated by commas, which are received as a tuple by the **getitem** and **setitem** special methods. The ellipsis is an alias to the Ellipsis object and can be used as a shortcut when slicing arrays of many dimensions in NumPy. These features exist to support user-defined types and extensions such as NumPy. Slices can also be used to change mutable sequences in place.\n"
   ]
  },
  {
   "cell_type": "markdown",
   "metadata": {},
   "source": [
    "### Assigning to Slices\n",
    "\n",
    "#### Slice notation can be used on the left-hand side of an assignment statement or as the target of a del statement to modify mutable sequences in place. This allows for powerful operations such as grafting and excising.\n"
   ]
  },
  {
   "cell_type": "code",
   "execution_count": 5,
   "metadata": {},
   "outputs": [
    {
     "data": {
      "text/plain": [
       "[0, 1, 2, 3, 4, 5, 6, 7, 8, 9]"
      ]
     },
     "execution_count": 5,
     "metadata": {},
     "output_type": "execute_result"
    }
   ],
   "source": [
    "l = list(range(10))\n",
    "l"
   ]
  },
  {
   "cell_type": "code",
   "execution_count": 6,
   "metadata": {},
   "outputs": [
    {
     "data": {
      "text/plain": [
       "[0, 1, 20, 30, 5, 6, 7, 8, 9]"
      ]
     },
     "execution_count": 6,
     "metadata": {},
     "output_type": "execute_result"
    }
   ],
   "source": [
    "l[2:5] = [20, 30]\n",
    "l"
   ]
  },
  {
   "cell_type": "code",
   "execution_count": null,
   "metadata": {},
   "outputs": [],
   "source": [
    "del l[5:7]\n",
    "l"
   ]
  },
  {
   "cell_type": "code",
   "execution_count": null,
   "metadata": {},
   "outputs": [],
   "source": [
    "l[3::2] = [11, 22]\n",
    "l"
   ]
  },
  {
   "cell_type": "markdown",
   "metadata": {},
   "source": [
    "By design, this example raises an exception::\n"
   ]
  },
  {
   "cell_type": "code",
   "execution_count": 8,
   "metadata": {},
   "outputs": [],
   "source": [
    "l[2:5] = [100]"
   ]
  },
  {
   "cell_type": "code",
   "execution_count": 5,
   "metadata": {},
   "outputs": [
    {
     "data": {
      "text/plain": [
       "[10, 20, 100, 60]"
      ]
     },
     "execution_count": 5,
     "metadata": {},
     "output_type": "execute_result"
    }
   ],
   "source": [
    "l[2:5] = [100]\n",
    "l"
   ]
  },
  {
   "cell_type": "markdown",
   "metadata": {},
   "source": [
    "## Using + and \\* with Sequences\n",
    "\n",
    "#### Usually both operands of + must be of the same sequence type, and neither of them is modified, but a new sequence of that same type is created as result of the concatenation\n"
   ]
  },
  {
   "cell_type": "code",
   "execution_count": 9,
   "metadata": {},
   "outputs": [
    {
     "data": {
      "text/plain": [
       "[1, 2, 3, 1, 2, 3, 1, 2, 3, 1, 2, 3, 1, 2, 3]"
      ]
     },
     "execution_count": 9,
     "metadata": {},
     "output_type": "execute_result"
    }
   ],
   "source": [
    "l = [1, 2, 3]\n",
    "l * 5"
   ]
  },
  {
   "cell_type": "code",
   "execution_count": 10,
   "metadata": {},
   "outputs": [
    {
     "data": {
      "text/plain": [
       "'abcdabcdabcdabcdabcd'"
      ]
     },
     "execution_count": 10,
     "metadata": {},
     "output_type": "execute_result"
    }
   ],
   "source": [
    "5 * \"abcd\""
   ]
  },
  {
   "cell_type": "markdown",
   "metadata": {},
   "source": [
    "#### When using the \\* operator to repeat a sequence, be cautious when the sequence contains mutable items. The result may not be what you expect, as the repeated items may reference the same object.\n"
   ]
  },
  {
   "cell_type": "markdown",
   "metadata": {},
   "source": [
    "### Building Lists of Lists\n",
    "\n",
    "#### To initialize a list with a certain number of nested lists, use a list comprehension. This is a better approach than using the \\* operator, especially when dealing with mutable items.\n"
   ]
  },
  {
   "cell_type": "markdown",
   "metadata": {},
   "source": [
    "#### Example 2-14. A list with three lists of length 3 can represent a tic-tac-toe board\n"
   ]
  },
  {
   "cell_type": "code",
   "execution_count": 6,
   "metadata": {},
   "outputs": [
    {
     "data": {
      "text/plain": [
       "[['_', '_', '_'], ['_', '_', '_'], ['_', '_', '_']]"
      ]
     },
     "execution_count": 6,
     "metadata": {},
     "output_type": "execute_result"
    }
   ],
   "source": [
    "board = [[\"_\"] * 3 for i in range(3)]\n",
    "board"
   ]
  },
  {
   "cell_type": "code",
   "execution_count": 7,
   "metadata": {},
   "outputs": [
    {
     "data": {
      "text/plain": [
       "[['_', '_', '_'], ['_', '_', 'X'], ['_', '_', '_']]"
      ]
     },
     "execution_count": 7,
     "metadata": {},
     "output_type": "execute_result"
    }
   ],
   "source": [
    "board[1][2] = \"X\"\n",
    "board"
   ]
  },
  {
   "cell_type": "markdown",
   "metadata": {},
   "source": [
    "#### Example 2-15. A list with three references to the same list is useless\n"
   ]
  },
  {
   "cell_type": "code",
   "execution_count": null,
   "metadata": {},
   "outputs": [],
   "source": [
    "weird_board = [[\"_\"] * 3] * 3\n",
    "weird_board"
   ]
  },
  {
   "cell_type": "code",
   "execution_count": null,
   "metadata": {},
   "outputs": [],
   "source": [
    "weird_board[1][2] = \"O\"\n",
    "weird_board"
   ]
  },
  {
   "cell_type": "markdown",
   "metadata": {},
   "source": [
    "#### Explanation\n"
   ]
  },
  {
   "cell_type": "code",
   "execution_count": 8,
   "metadata": {},
   "outputs": [
    {
     "data": {
      "text/plain": [
       "[['_', '_', '_'], ['_', '_', '_'], ['_', '_', '_']]"
      ]
     },
     "execution_count": 8,
     "metadata": {},
     "output_type": "execute_result"
    }
   ],
   "source": [
    "board = []\n",
    "for i in range(3):\n",
    "    row = [\"_\"] * 3\n",
    "    board.append(row)\n",
    "board"
   ]
  },
  {
   "cell_type": "code",
   "execution_count": null,
   "metadata": {},
   "outputs": [],
   "source": [
    "board[2][0] = \"X\"\n",
    "board"
   ]
  },
  {
   "cell_type": "markdown",
   "metadata": {},
   "source": [
    "## Augmented Assignment with Sequences\n",
    "\n",
    "#### The augmented assignment operators += and \\*= behave differently depending on the first operand. If the first operand implements **iadd** or **imul**, the operation is performed in place. Otherwise, a new object is created and assigned to the first operand. This is true for both mutable and immutable sequences. The **iadd** and **imul** special methods are discussed in Chapter 16 of the book.\n"
   ]
  },
  {
   "cell_type": "code",
   "execution_count": 12,
   "metadata": {},
   "outputs": [
    {
     "name": "stdout",
     "output_type": "stream",
     "text": [
      "2251226702144\n",
      "2251226702144\n",
      "[1, 2, 3, 1, 2]\n"
     ]
    }
   ],
   "source": [
    "l = [1, 2, 3]\n",
    "print(id(l))\n",
    "l += [1, 2]\n",
    "print(id(l))\n",
    "\n",
    "print(l)\n",
    "idl = id(l)"
   ]
  },
  {
   "cell_type": "code",
   "execution_count": null,
   "metadata": {},
   "outputs": [],
   "source": [
    "# NBVAL_IGNORE_OUTPUT\n",
    "idl"
   ]
  },
  {
   "cell_type": "code",
   "execution_count": null,
   "metadata": {},
   "outputs": [],
   "source": [
    "l *= 2\n",
    "l"
   ]
  },
  {
   "cell_type": "code",
   "execution_count": null,
   "metadata": {},
   "outputs": [],
   "source": [
    "id(l) == idl  # same list"
   ]
  },
  {
   "cell_type": "code",
   "execution_count": null,
   "metadata": {},
   "outputs": [],
   "source": [
    "t = (1, 2, 3)\n",
    "idt = id(t)"
   ]
  },
  {
   "cell_type": "code",
   "execution_count": null,
   "metadata": {},
   "outputs": [],
   "source": [
    "# NBVAL_IGNORE_OUTPUT\n",
    "idt"
   ]
  },
  {
   "cell_type": "code",
   "execution_count": null,
   "metadata": {},
   "outputs": [],
   "source": [
    "t *= 2\n",
    "id(t) == idt  # new tuple"
   ]
  },
  {
   "cell_type": "markdown",
   "metadata": {},
   "source": [
    "### A += Assignment Puzzler\n",
    "\n",
    "#### Example 2-16. A riddle\n"
   ]
  },
  {
   "cell_type": "code",
   "execution_count": 15,
   "metadata": {},
   "outputs": [
    {
     "ename": "TypeError",
     "evalue": "'tuple' object does not support item assignment",
     "output_type": "error",
     "traceback": [
      "\u001b[1;31m---------------------------------------------------------------------------\u001b[0m",
      "\u001b[1;31mTypeError\u001b[0m                                 Traceback (most recent call last)",
      "\u001b[1;32mc:\\Users\\user\\Desktop\\ch-02-v3.ipynb Cell 106\u001b[0m line \u001b[0;36m3\n\u001b[0;32m      <a href='vscode-notebook-cell:/c%3A/Users/user/Desktop/ch-02-v3.ipynb#Y210sZmlsZQ%3D%3D?line=0'>1</a>\u001b[0m t \u001b[39m=\u001b[39m (\u001b[39m1\u001b[39m, \u001b[39m2\u001b[39m, [\u001b[39m30\u001b[39m, \u001b[39m40\u001b[39m])\n\u001b[1;32m----> <a href='vscode-notebook-cell:/c%3A/Users/user/Desktop/ch-02-v3.ipynb#Y210sZmlsZQ%3D%3D?line=2'>3</a>\u001b[0m t[\u001b[39m2\u001b[39;49m] \u001b[39m+\u001b[39m\u001b[39m=\u001b[39m [\u001b[39m50\u001b[39m, \u001b[39m60\u001b[39m]   \u001b[39m# the operation can be done with t[2].extend([50,60]), without errors\u001b[39;00m\n",
      "\u001b[1;31mTypeError\u001b[0m: 'tuple' object does not support item assignment"
     ]
    }
   ],
   "source": [
    "t = (1, 2, [30, 40])\n",
    "\n",
    "t[2] += [50, 60]  # the operation can be done with t[2].extend([50,60]), without errors"
   ]
  },
  {
   "cell_type": "markdown",
   "metadata": {
    "pycharm": {
     "name": "#%% md\n"
    }
   },
   "source": [
    "#### Example 2-17. The unexpected result: item t2 is changed and an exception is raised\n"
   ]
  },
  {
   "cell_type": "code",
   "execution_count": 3,
   "metadata": {},
   "outputs": [
    {
     "data": {
      "text/plain": [
       "(1, 2, [30, 40, 50, 60])"
      ]
     },
     "execution_count": 3,
     "metadata": {},
     "output_type": "execute_result"
    }
   ],
   "source": [
    "t"
   ]
  },
  {
   "cell_type": "markdown",
   "metadata": {},
   "source": [
    "#### Example 2-18. Bytecode for the expression s[a] += b\n"
   ]
  },
  {
   "cell_type": "code",
   "execution_count": 10,
   "metadata": {},
   "outputs": [
    {
     "name": "stdout",
     "output_type": "stream",
     "text": [
      "  1           0 LOAD_NAME                0 (s)\n",
      "              2 LOAD_NAME                1 (a)\n",
      "              4 DUP_TOP_TWO\n",
      "              6 BINARY_SUBSCR\n",
      "              8 LOAD_NAME                2 (b)\n",
      "             10 INPLACE_ADD\n",
      "             12 ROT_THREE\n",
      "             14 STORE_SUBSCR\n",
      "             16 LOAD_CONST               0 (None)\n",
      "             18 RETURN_VALUE\n"
     ]
    }
   ],
   "source": [
    "import dis\n",
    "\n",
    "dis.dis(\"s[a] += b\")"
   ]
  },
  {
   "cell_type": "markdown",
   "metadata": {},
   "source": [
    "#### The lessons learned from the example are to avoid putting mutable items in tuples, be aware that augmented assignment is not atomic, and to consider inspecting Python bytecode to better understand what is happening in the code.\n"
   ]
  },
  {
   "cell_type": "markdown",
   "metadata": {},
   "source": [
    "## list.sort and the sorted Built-In Function\n",
    "\n",
    "#### The list.sort() method sorts a list in place and returns None to indicate that the original list was changed and no new list was created (In contrast, the built-in function sorted creates a new list and returns it). This convention is used in Python for functions or methods that modify an object in place. The random.shuffle() function is another example of this convention.\n",
    "\n",
    "###### The convention of returning None to signal in-place changes has a drawback: we cannot cascade calls to those methods.\n",
    "\n",
    "#### Both list.sort() and sorted() functions have two optional keyword arguments: reverse and key. The reverse argument, if set to True, sorts the items in descending order. The key argument is a one-argument function that is applied to each item to produce its sorting key, allowing for custom sorting criteria. The default values are False for reverse and the identity function for key.\n"
   ]
  },
  {
   "cell_type": "code",
   "execution_count": null,
   "metadata": {},
   "outputs": [],
   "source": [
    "fruits = [\"grape\", \"raspberry\", \"apple\", \"banana\"]\n",
    "sorted(fruits)"
   ]
  },
  {
   "cell_type": "code",
   "execution_count": null,
   "metadata": {},
   "outputs": [],
   "source": [
    "fruits"
   ]
  },
  {
   "cell_type": "code",
   "execution_count": null,
   "metadata": {},
   "outputs": [],
   "source": [
    "sorted(fruits, reverse=True)"
   ]
  },
  {
   "cell_type": "code",
   "execution_count": null,
   "metadata": {},
   "outputs": [],
   "source": [
    "sorted(fruits, key=len)"
   ]
  },
  {
   "cell_type": "code",
   "execution_count": null,
   "metadata": {},
   "outputs": [],
   "source": [
    "sorted(fruits, key=len, reverse=True)"
   ]
  },
  {
   "cell_type": "code",
   "execution_count": null,
   "metadata": {},
   "outputs": [],
   "source": [
    "fruits"
   ]
  },
  {
   "cell_type": "code",
   "execution_count": null,
   "metadata": {},
   "outputs": [],
   "source": [
    "fruits.sort()\n",
    "fruits"
   ]
  },
  {
   "cell_type": "markdown",
   "metadata": {},
   "source": [
    "## When a List Is Not the Answer\n",
    "\n",
    "While the list type is flexible, other data structures may be better suited for specific requirements. For example, arrays are more memory-efficient for handling large amounts of floating-point values, while deques are more efficient for constantly adding and removing items from opposite ends of a list. If your code frequently checks whether an item is present in a collection, consider using a set\n"
   ]
  },
  {
   "cell_type": "markdown",
   "metadata": {},
   "source": [
    "### Arrays\n",
    "\n",
    "If a list only contains numbers, using an array.array is more memory-efficient and supports all mutable sequence operations. Arrays are as lean as C arrays and use a typecode to determine the underlying C type used to store each item, saving memory for large sequences of numbers.\n"
   ]
  },
  {
   "cell_type": "code",
   "execution_count": null,
   "metadata": {},
   "outputs": [],
   "source": [
    "from array import array\n",
    "from random import random, seed\n",
    "\n",
    "seed(10)  # Use seed to make the output consistent\n",
    "\n",
    "floats = array(\"d\", (random() for i in range(10**7)))\n",
    "floats[-1]"
   ]
  },
  {
   "cell_type": "code",
   "execution_count": null,
   "metadata": {},
   "outputs": [],
   "source": [
    "with open(\"floats.bin\", \"wb\") as fp:\n",
    "    floats.tofile(fp)"
   ]
  },
  {
   "cell_type": "code",
   "execution_count": null,
   "metadata": {},
   "outputs": [],
   "source": [
    "floats2 = array(\"d\")\n",
    "\n",
    "with open(\"floats.bin\", \"rb\") as fp:\n",
    "    floats2.fromfile(fp, 10**7)\n",
    "\n",
    "floats2[-1]"
   ]
  },
  {
   "cell_type": "code",
   "execution_count": null,
   "metadata": {},
   "outputs": [],
   "source": [
    "floats2 == floats"
   ]
  },
  {
   "cell_type": "markdown",
   "metadata": {},
   "source": [
    "##### Table 2-3\n"
   ]
  },
  {
   "cell_type": "markdown",
   "metadata": {},
   "source": [
    "|                            | List    | Array   |                                                            |\n",
    "| -------------------------- | ------- | ------- | ---------------------------------------------------------- |\n",
    "| `s.__add__(s2)`            | &#9679; | &#9679; | `s + s2` -- concatination                                  |\n",
    "| `s.__iadd__(s2)`           | &#9679; | &#9679; | `s += s2` -- In-place concatenation                        |\n",
    "| `s.append(e)`              | &#9679; | &#9679; | Append                                                     |\n",
    "| `s.byteswap()`             |         | &#9679; | Swap bytes of all items in array for endianness conversion |\n",
    "| `s.clear()`                | &#9679; |         | Delete all items                                           |\n",
    "| `s.__contains__(e)`        | &#9679; | &#9679; | `e in s`                                                   |\n",
    "| `s.copy()`                 | &#9679; |         | Shallow copy of the list                                   |\n",
    "| `s.__copy__()`             |         | &#9679; | Support for copy.copy                                      |\n",
    "| `s.count(e)`               | &#9679; | &#9679; | Count occurrences of an element                            |\n",
    "| `s.__deepcopy__()`         |         | &#9679; | Optimized support for copy.deepcopy                        |\n",
    "| `s.__delitem__(p)`         | &#9679; | &#9679; | Delete item at position p                                  |\n",
    "| `s.extend(it)`             | &#9679; | &#9679; | Append items from iterable it                              |\n",
    "| `s.frombytes(b)`           |         | &#9679; | Append items from byte sequence                            |\n",
    "| `s.fromfile(f, n)`         |         | &#9679; | Append n items from binary file f                          |\n",
    "| `s.fromlist(l)`            |         | &#9679; | Append items from list                                     |\n",
    "| `s.__getitem__(p)`         | &#9679; | &#9679; | s[p]                                                       |\n",
    "| `s.insert(p, e)`           | &#9679; | &#9679; | Find position of first occurrence of e                     |\n",
    "| `s.index(e)`               | &#9679; | &#9679; | Insert element e before the item at position p             |\n",
    "| `s.itemsize`               |         | &#9679; | Length in bytes of each array item                         |\n",
    "| `s.__iter__()`             | &#9679; | &#9679; | Get iterator                                               |\n",
    "| `s.__len__()`              | &#9679; | &#9679; | len(s)                                                     |\n",
    "| `s.__mul__(n)`             | &#9679; | &#9679; | `s * n` -- repeated concatenation                          |\n",
    "| `s.__imul__(n)`            | &#9679; | &#9679; | `s *= n` -- in-place repeated concatenation                |\n",
    "| `s.__rmul__(n)`            | &#9679; | &#9679; | `n * s` -- revesedrepeated concatenation                   |\n",
    "| `s.pop([p])`               | &#9679; | &#9679; | Remove and return item at position p                       |\n",
    "| `s.remove(e)`              | &#9679; | &#9679; | Remove first occurrence of element e by value              |\n",
    "| `s.reverse()`              | &#9679; | &#9679; | Reverse the order of the items in place                    |\n",
    "| `s.__reversed__()`         | &#9679; |         | Get iterator to scan items from last to first              |\n",
    "| `s.__setitem__(p, e)`      | &#9679; | &#9679; | `s[p] = e`-- put e in position p                           |\n",
    "| `s.sort([key], [reverse])` | &#9679; |         | Sort items in-place                                        |\n",
    "| `s.tobytes()`              |         | &#9679; | Return items as packed machine values in a bytes object    |\n",
    "| `s.tofile(f)`              |         | &#9679; | Save items as packed machine values to binary file f       |\n",
    "| `s.tolist()`               |         | &#9679; | Return items as numeric objects in a list                  |\n",
    "| `s.typecode`               |         | &#9679; | C type of the items                                        |\n"
   ]
  },
  {
   "cell_type": "markdown",
   "metadata": {},
   "source": [
    "### Memory Views\n"
   ]
  },
  {
   "cell_type": "markdown",
   "metadata": {},
   "source": [
    "The memoryview class is a shared-memory sequence type that allows handling slices of arrays without copying bytes. It is inspired by NumPy and allows sharing memory between data structures without copying, which is important for large datasets. The memoryview.cast method lets you change the way multiple bytes are read or written as units without moving bits around.\n"
   ]
  },
  {
   "cell_type": "code",
   "execution_count": null,
   "metadata": {
    "pycharm": {
     "name": "#%%\n"
    }
   },
   "outputs": [],
   "source": [
    "octets = array(\"B\", range(6))\n",
    "m1 = memoryview(octets)\n",
    "m1.tolist()"
   ]
  },
  {
   "cell_type": "code",
   "execution_count": null,
   "metadata": {
    "pycharm": {
     "name": "#%%\n"
    }
   },
   "outputs": [],
   "source": [
    "m2 = m1.cast(\"B\", [2, 3])\n",
    "m2.tolist()"
   ]
  },
  {
   "cell_type": "code",
   "execution_count": null,
   "metadata": {
    "pycharm": {
     "name": "#%%\n"
    }
   },
   "outputs": [],
   "source": [
    "m3 = m1.cast(\"B\", [3, 2])\n",
    "m3.tolist()"
   ]
  },
  {
   "cell_type": "code",
   "execution_count": null,
   "metadata": {
    "pycharm": {
     "name": "#%%\n"
    }
   },
   "outputs": [],
   "source": [
    "m2[1, 1] = 22\n",
    "m3[1, 1] = 33\n",
    "octets"
   ]
  },
  {
   "cell_type": "code",
   "execution_count": null,
   "metadata": {},
   "outputs": [],
   "source": [
    "numbers = array(\"h\", [-2, -1, 0, 1, 2])\n",
    "memv = memoryview(numbers)\n",
    "len(memv)"
   ]
  },
  {
   "cell_type": "code",
   "execution_count": null,
   "metadata": {},
   "outputs": [],
   "source": [
    "memv[0]"
   ]
  },
  {
   "cell_type": "code",
   "execution_count": null,
   "metadata": {},
   "outputs": [],
   "source": [
    "memv_oct = memv.cast(\"B\")\n",
    "memv_oct.tolist()"
   ]
  },
  {
   "cell_type": "code",
   "execution_count": null,
   "metadata": {},
   "outputs": [],
   "source": [
    "memv_oct[5] = 4\n",
    "numbers"
   ]
  },
  {
   "cell_type": "markdown",
   "metadata": {},
   "source": [
    "### NumPy\n"
   ]
  },
  {
   "cell_type": "markdown",
   "metadata": {},
   "source": [
    "NumPy is a powerful library for advanced array and matrix operations in scientific computing applications. It implements multi-dimensional, homogeneous arrays and matrix types and provides efficient element-wise operations. SciPy is a library built on top of NumPy that offers many scientific computing algorithms and leverages C and Fortran codebase for fast and reliable performance. Example 2-22 demonstrates some basic operations with two-dimensional arrays using NumPy.\n"
   ]
  },
  {
   "cell_type": "code",
   "execution_count": null,
   "metadata": {},
   "outputs": [],
   "source": [
    "import numpy as np\n",
    "\n",
    "a = np.arange(12)\n",
    "a"
   ]
  },
  {
   "cell_type": "code",
   "execution_count": null,
   "metadata": {},
   "outputs": [],
   "source": [
    "type(a)"
   ]
  },
  {
   "cell_type": "code",
   "execution_count": null,
   "metadata": {},
   "outputs": [],
   "source": [
    "a.shape"
   ]
  },
  {
   "cell_type": "code",
   "execution_count": null,
   "metadata": {},
   "outputs": [],
   "source": [
    "a.shape = 3, 4\n",
    "a"
   ]
  },
  {
   "cell_type": "code",
   "execution_count": null,
   "metadata": {},
   "outputs": [],
   "source": [
    "a[2]"
   ]
  },
  {
   "cell_type": "code",
   "execution_count": null,
   "metadata": {},
   "outputs": [],
   "source": [
    "a[2, 1]"
   ]
  },
  {
   "cell_type": "code",
   "execution_count": null,
   "metadata": {},
   "outputs": [],
   "source": [
    "a[:, 1]"
   ]
  },
  {
   "cell_type": "code",
   "execution_count": null,
   "metadata": {},
   "outputs": [],
   "source": [
    "a.transpose()"
   ]
  },
  {
   "cell_type": "markdown",
   "metadata": {},
   "source": [
    "#### Loading, saving, and vectorized operations\n"
   ]
  },
  {
   "cell_type": "code",
   "execution_count": null,
   "metadata": {},
   "outputs": [],
   "source": [
    "with open(\"floats-1M-lines.txt\", \"wt\") as fp:\n",
    "    for _ in range(1_000_000):\n",
    "        fp.write(f\"{random()}\\n\")"
   ]
  },
  {
   "cell_type": "code",
   "execution_count": null,
   "metadata": {},
   "outputs": [],
   "source": [
    "floats = np.loadtxt(\"floats-1M-lines.txt\")"
   ]
  },
  {
   "cell_type": "code",
   "execution_count": null,
   "metadata": {},
   "outputs": [],
   "source": [
    "floats[-3:]"
   ]
  },
  {
   "cell_type": "code",
   "execution_count": null,
   "metadata": {},
   "outputs": [],
   "source": [
    "floats *= 0.5\n",
    "floats[-3:]"
   ]
  },
  {
   "cell_type": "code",
   "execution_count": null,
   "metadata": {},
   "outputs": [],
   "source": [
    "from time import perf_counter as pc\n",
    "\n",
    "t0 = pc()\n",
    "floats /= 3\n",
    "(pc() - t0) < 0.01"
   ]
  },
  {
   "cell_type": "code",
   "execution_count": null,
   "metadata": {},
   "outputs": [],
   "source": [
    "np.save(\"floats-1M\", floats)\n",
    "floats2 = np.load(\"floats-1M.npy\", \"r+\")\n",
    "floats2 *= 6"
   ]
  },
  {
   "cell_type": "code",
   "execution_count": null,
   "metadata": {},
   "outputs": [],
   "source": [
    "floats2[-3:]"
   ]
  },
  {
   "cell_type": "markdown",
   "metadata": {},
   "source": [
    "### Deques and Other Queues\n"
   ]
  },
  {
   "cell_type": "markdown",
   "metadata": {},
   "source": [
    "The class collections.deque is a thread-safe double-ended queue that allows for fast inserting and removing from both ends. It is useful for implementing stacks, queues, and keeping a list of \"last seen items\" with a fixed maximum length. Example 2-23 demonstrates typical operations performed on a deque.\n"
   ]
  },
  {
   "cell_type": "markdown",
   "metadata": {},
   "source": [
    "|                            | List    | Deque   |                                                |\n",
    "| -------------------------- | ------- | ------- | ---------------------------------------------- |\n",
    "| `s.__add__(s2)`            | &#9679; |         | `s + s2` -- concatination                      |\n",
    "| `s.__iadd__(s2)`           | &#9679; | &#9679; | `s += s2` -- In-place concatenation            |\n",
    "| `s.append(e)`              | &#9679; | &#9679; | Append one element to the right (after last)   |\n",
    "| `s.appendleft(e)`          |         | &#9679; | Append one element to the left (before first)  |\n",
    "| `s.clear()`                | &#9679; | &#9679; | Delete all items                               |\n",
    "| `s.__contains__(e)`        | &#9679; |         | `e in s`                                       |\n",
    "| `s.copy()`                 | &#9679; |         | Shallow copy of the list                       |\n",
    "| `s.__copy__()`             |         | &#9679; | Support for copy.copy                          |\n",
    "| `s.count(e)`               | &#9679; | &#9679; | Count occurrences of an element                |\n",
    "| `s.__delitem__(p)`         | &#9679; | &#9679; | Delete item at position p                      |\n",
    "| `s.extend(i)`              | &#9679; | &#9679; | Append items from iterable i to the right      |\n",
    "| `s.extendleft(i)`          |         | &#9679; | Append items from iterable i to the left       |\n",
    "| `s.__getitem__(p)`         | &#9679; | &#9679; | s[p]                                           |\n",
    "| `s.insert(p, e)`           | &#9679; |         | Find position of first occurrence of e         |\n",
    "| `s.index(e)`               | &#9679; |         | Insert element e before the item at position p |\n",
    "| `s.__iter__()`             | &#9679; | &#9679; | Get iterator                                   |\n",
    "| `s.__len__()`              | &#9679; | &#9679; | len(s)                                         |\n",
    "| `s.__mul__(n)`             | &#9679; |         | `s * n` -- repeated concatenation              |\n",
    "| `s.__imul__(n)`            | &#9679; |         | `s *= n` -- in-place repeated concatenation    |\n",
    "| `s.__rmul__(n)`            | &#9679; |         | `n * s` -- revesedrepeated concatenation       |\n",
    "| `s.pop()*`                 | &#9679; | &#9679; | Remove and return last item                    |\n",
    "| `s.popleft()`              |         | &#9679; | Remove and return first item                   |\n",
    "| `s.remove(e)`              | &#9679; | &#9679; | Remove first occurrence of element e by value  |\n",
    "| `s.reverse()`              | &#9679; | &#9679; | Reverse the order of the items in place        |\n",
    "| `s.__reversed__()`         | &#9679; | &#9679; | Get iterator to scan items from last to first  |\n",
    "| `s.rotate()`               |         | &#9679; | Move n items from one end to the other         |\n",
    "| `s.__setitem__(p, e)`      | &#9679; | &#9679; | `s[p] = e`-- put e in position p               |\n",
    "| `s.sort([key], [reverse])` | &#9679; |         | Sort items in-place                            |\n",
    "\n",
    "\\*a_list.pop(p) allows removing from position p\n"
   ]
  },
  {
   "cell_type": "markdown",
   "metadata": {},
   "source": [
    "#### Example 2-23. Working with a deque\n"
   ]
  },
  {
   "cell_type": "code",
   "execution_count": null,
   "metadata": {},
   "outputs": [],
   "source": [
    "import collections\n",
    "\n",
    "dq = collections.deque(range(10), maxlen=10)\n",
    "dq"
   ]
  },
  {
   "cell_type": "code",
   "execution_count": null,
   "metadata": {},
   "outputs": [],
   "source": [
    "dq.rotate(3)\n",
    "dq"
   ]
  },
  {
   "cell_type": "code",
   "execution_count": null,
   "metadata": {},
   "outputs": [],
   "source": [
    "dq.rotate(-4)\n",
    "dq"
   ]
  },
  {
   "cell_type": "code",
   "execution_count": null,
   "metadata": {},
   "outputs": [],
   "source": [
    "dq.appendleft(-1)\n",
    "dq"
   ]
  },
  {
   "cell_type": "code",
   "execution_count": null,
   "metadata": {},
   "outputs": [],
   "source": [
    "dq.extend([11, 22, 33])\n",
    "dq"
   ]
  },
  {
   "cell_type": "code",
   "execution_count": null,
   "metadata": {},
   "outputs": [],
   "source": [
    "dq.extendleft([10, 20, 30, 40])\n",
    "dq"
   ]
  },
  {
   "cell_type": "markdown",
   "metadata": {},
   "source": [
    "## Soapbox\n"
   ]
  },
  {
   "cell_type": "markdown",
   "metadata": {},
   "source": [
    "the creator of Python, highlighted the similarities and differences between ABC compounds and Python tuples. While compounds lacked the ability to be iterated or accessed by index, tuples were made to behave as sequences, contributing to Python's success. The main use case for tuples as records is not as clear, but the addition of immutable lists was a valuable feature.\n"
   ]
  },
  {
   "cell_type": "markdown",
   "metadata": {},
   "source": [
    "### Flat Versus Container Sequences\n",
    "\n",
    "the similarities and differences between ABC compounds and Python tuples, highlighting how tuples were made to behave as sequences, contributing to Python's success. The author also introduces the concepts of container and flat sequences, and how they differ in terms of memory models. The article concludes with a discussion on the use of the term \"container\" and its different meanings in Python documentation.\n"
   ]
  },
  {
   "cell_type": "markdown",
   "metadata": {},
   "source": [
    "### Mixed bag lists\n"
   ]
  },
  {
   "cell_type": "code",
   "execution_count": 17,
   "metadata": {},
   "outputs": [],
   "source": [
    "l = [28, 14, \"28\", 5, \"9\", \"1\", 0, 6, \"23\", 19]"
   ]
  },
  {
   "cell_type": "code",
   "execution_count": 19,
   "metadata": {},
   "outputs": [
    {
     "data": {
      "text/plain": [
       "[0, '1', 5, 6, '9', 14, 19, '23', 28, '28']"
      ]
     },
     "execution_count": 19,
     "metadata": {},
     "output_type": "execute_result"
    }
   ],
   "source": [
    "sorted(l, key=lambda x: int(x))"
   ]
  },
  {
   "cell_type": "markdown",
   "metadata": {},
   "source": [
    "### Key is Brilliant\n"
   ]
  },
  {
   "cell_type": "code",
   "execution_count": 20,
   "metadata": {},
   "outputs": [
    {
     "data": {
      "text/plain": [
       "[0, '1', 5, 6, '9', 14, 19, '23', 28, '28']"
      ]
     },
     "execution_count": 20,
     "metadata": {},
     "output_type": "execute_result"
    }
   ],
   "source": [
    "l = [28, 14, \"28\", 5, \"9\", \"1\", 0, 6, \"23\", 19]\n",
    "\n",
    "sorted(l, key=int)"
   ]
  },
  {
   "cell_type": "code",
   "execution_count": null,
   "metadata": {},
   "outputs": [],
   "source": [
    "sorted(l, key=str)"
   ]
  },
  {
   "cell_type": "markdown",
   "metadata": {},
   "source": [
    "### Lecturers\n",
    "\n",
    "1. Mohammad Sadegh Majidi date: 04-10-2023, [GitHub](https://github.com/cmatrix1/)\n",
    "2. Mehrdad biukian date: 04-10-2023, [LinkedIn](www.linkedin.com/in/mehrdad-biukian-naeini)\n",
    "\n",
    "#### Reviewers\n",
    "\n",
    "1. Reza Hashemian date: 09-29-2023, [LinkedIn](https://www.linkedin.com/in/rezahashemian)\n",
    "2. Fahimeh Asaadi date: 05-10-2023, [LinkedIn](https://www.linkedin.com/in/fahimehasaadi)\n"
   ]
  }
 ],
 "metadata": {
  "kernelspec": {
   "display_name": "Python 3 (ipykernel)",
   "language": "python",
   "name": "python3"
  },
  "language_info": {
   "codemirror_mode": {
    "name": "ipython",
    "version": 3
   },
   "file_extension": ".py",
   "mimetype": "text/x-python",
   "name": "python",
   "nbconvert_exporter": "python",
   "pygments_lexer": "ipython3",
   "version": "3.10.13"
  }
 },
 "nbformat": 4,
 "nbformat_minor": 2
}
