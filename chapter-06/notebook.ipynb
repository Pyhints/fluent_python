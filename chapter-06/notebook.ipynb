{
 "cells": [
  {
   "cell_type": "markdown",
   "id": "1bfc3fbb",
   "metadata": {},
   "source": [
    "# Object References, Mutability, and Recycling\n",
    "\n",
    "## Object References and Mutability\n",
    "\n",
    "In Python, variables are essentially references to objects in memory. When you assign a value to a variable, you're creating a reference to the object. Understanding this reference behavior is essential to grasp how object mutability works.\n",
    "\n",
    "## Variables Are Not Boxes\n",
    "\n",
    "Consider variables as labels pointing to objects, rather than boxes storing values. This perspective is vital when dealing with mutable objects like lists and dictionaries.\n",
    "\n"
   ]
  },
  {
   "cell_type": "markdown",
   "id": "e6f8495b",
   "metadata": {},
   "source": [
    "With reference variables, it makes much more sense to say that the variable is assigned to an object, and not the other way around. After all, the object is created before the assignment.  \n",
    "To understand an assignment in Python, read the righthand side first: that’s where the object is created or retrieved. After that, the variable on the left is bound to the object, like a label stuck to it. Just forget about the boxes."
   ]
  },
  {
   "cell_type": "code",
   "execution_count": 1,
   "id": "d621ce36",
   "metadata": {},
   "outputs": [
    {
     "data": {
      "text/plain": [
       "[1, 2, 3, 4]"
      ]
     },
     "execution_count": 1,
     "metadata": {},
     "output_type": "execute_result"
    }
   ],
   "source": [
    "a = [1, 2, 3]\n",
    "b = a  # Bind the variable b to the same value that a is referencing\n",
    "a.append(4)\n",
    "b"
   ]
  },
  {
   "cell_type": "code",
   "execution_count": 2,
   "id": "761829ec",
   "metadata": {},
   "outputs": [
    {
     "name": "stdout",
     "output_type": "stream",
     "text": [
      "Gizmo id: 140472343798896\n",
      "Gizmo id: 140472342539104\n"
     ]
    },
    {
     "ename": "TypeError",
     "evalue": "unsupported operand type(s) for *: 'Gizmo' and 'int'",
     "output_type": "error",
     "traceback": [
      "\u001b[0;31m---------------------------------------------------------------------------\u001b[0m",
      "\u001b[0;31mTypeError\u001b[0m                                 Traceback (most recent call last)",
      "\u001b[1;32m/home/killing-joke/Projects/Fluentpython/ch_06_v1/ch-06-06.ipynb Cell 4\u001b[0m line \u001b[0;36m6\n\u001b[1;32m      <a href='vscode-notebook-cell:/home/killing-joke/Projects/Fluentpython/ch_06_v1/ch-06-06.ipynb#W3sZmlsZQ%3D%3D?line=3'>4</a>\u001b[0m         \u001b[39mprint\u001b[39m(\u001b[39mf\u001b[39m\u001b[39m'\u001b[39m\u001b[39mGizmo id: \u001b[39m\u001b[39m{\u001b[39;00m\u001b[39mid\u001b[39m(\u001b[39mself\u001b[39m)\u001b[39m}\u001b[39;00m\u001b[39m'\u001b[39m)\n\u001b[1;32m      <a href='vscode-notebook-cell:/home/killing-joke/Projects/Fluentpython/ch_06_v1/ch-06-06.ipynb#W3sZmlsZQ%3D%3D?line=4'>5</a>\u001b[0m x \u001b[39m=\u001b[39m Gizmo()\n\u001b[0;32m----> <a href='vscode-notebook-cell:/home/killing-joke/Projects/Fluentpython/ch_06_v1/ch-06-06.ipynb#W3sZmlsZQ%3D%3D?line=5'>6</a>\u001b[0m y \u001b[39m=\u001b[39m Gizmo() \u001b[39m*\u001b[39;49m \u001b[39m10\u001b[39;49m\n",
      "\u001b[0;31mTypeError\u001b[0m: unsupported operand type(s) for *: 'Gizmo' and 'int'"
     ]
    }
   ],
   "source": [
    "# Example 6-2. Variables are bound to objects only after the objects are created\n",
    "class Gizmo:\n",
    "    def __init__(self):\n",
    "        print(f'Gizmo id: {id(self)}')\n",
    "x = Gizmo()\n",
    "y = Gizmo() * 10"
   ]
  },
  {
   "cell_type": "code",
   "execution_count": 3,
   "id": "a3c80261",
   "metadata": {},
   "outputs": [
    {
     "data": {
      "text/plain": [
       "['Gizmo',\n",
       " 'In',\n",
       " 'Out',\n",
       " '_',\n",
       " '_1',\n",
       " '__',\n",
       " '___',\n",
       " '__builtin__',\n",
       " '__builtins__',\n",
       " '__doc__',\n",
       " '__loader__',\n",
       " '__name__',\n",
       " '__package__',\n",
       " '__spec__',\n",
       " '__vsc_ipynb_file__',\n",
       " '_dh',\n",
       " '_i',\n",
       " '_i1',\n",
       " '_i2',\n",
       " '_i3',\n",
       " '_ih',\n",
       " '_ii',\n",
       " '_iii',\n",
       " '_oh',\n",
       " 'a',\n",
       " 'b',\n",
       " 'exit',\n",
       " 'get_ipython',\n",
       " 'open',\n",
       " 'quit',\n",
       " 'x']"
      ]
     },
     "execution_count": 3,
     "metadata": {},
     "output_type": "execute_result"
    }
   ],
   "source": [
    "dir()"
   ]
  },
  {
   "cell_type": "code",
   "execution_count": 3,
   "id": "84ab8500",
   "metadata": {},
   "outputs": [
    {
     "data": {
      "text/plain": [
       "True"
      ]
     },
     "execution_count": 3,
     "metadata": {},
     "output_type": "execute_result"
    }
   ],
   "source": [
    "z = x\n",
    "z is x"
   ]
  },
  {
   "cell_type": "markdown",
   "id": "d179ff47",
   "metadata": {},
   "source": [
    "## Identity, Equality, and Aliases\n",
    "\n",
    "Every object in Python has an identity (unique identifier), which you can access using the id() function. You can check if two variables reference the same object using the is operator, or if their values are equivalent using the == operator. Sometimes, two variables can be aliases, meaning they reference the same object.\n"
   ]
  },
  {
   "cell_type": "markdown",
   "id": "3379f06f",
   "metadata": {},
   "source": [
    "An object’s identity never changes once it has been created; you may think of it as the object’s address in memory. The is operator compares the identity of two objects; the id() function returns an integer representing its identity.  \n",
    "\n",
    "The real meaning of an object’s ID is implementation dependent. In CPython, id() returns the memory address of the object, but it may be something else in another Python interpreter. The key point is that the ID is guaranteed to be a unique integer label, and it will never change during the life of the object.  \n",
    "\n",
    "the most frequent use for id() is while debugging, when the repr() of two objects look alike, but you need to understand whether two references are aliases or point to separate objects.  \n",
    "\n",
    "The `==` operator compares the values of objects (the data they hold), while is compares their identities.  \n",
    "\n",
    "The is operator is faster than ‍‍`==` , because it cannot be overloaded, so Python does not have to find and invoke special methods to evaluate it, and computing is as simple as comparing two integer IDs. "
   ]
  },
  {
   "cell_type": "code",
   "execution_count": 4,
   "id": "05427b32",
   "metadata": {},
   "outputs": [
    {
     "data": {
      "text/plain": [
       "True"
      ]
     },
     "execution_count": 4,
     "metadata": {},
     "output_type": "execute_result"
    }
   ],
   "source": [
    "# Example 6-3. charles and lewis refer to the same object\n",
    "charles = {'name': 'Charles L. Dodgson', 'born': 1832}\n",
    "lewis = charles\n",
    "lewis is charles"
   ]
  },
  {
   "cell_type": "code",
   "execution_count": 5,
   "id": "f2a7cefd",
   "metadata": {},
   "outputs": [
    {
     "data": {
      "text/plain": [
       "(140288030783744, 140288030783744)"
      ]
     },
     "execution_count": 5,
     "metadata": {},
     "output_type": "execute_result"
    }
   ],
   "source": [
    "id(charles), id(lewis)\n"
   ]
  },
  {
   "cell_type": "code",
   "execution_count": 6,
   "id": "6348d3e4",
   "metadata": {},
   "outputs": [
    {
     "data": {
      "text/plain": [
       "{'name': 'Charles L. Dodgson', 'born': 1832, 'balance': 950}"
      ]
     },
     "execution_count": 6,
     "metadata": {},
     "output_type": "execute_result"
    }
   ],
   "source": [
    "lewis['balance'] = 950\n",
    "charles"
   ]
  },
  {
   "cell_type": "markdown",
   "id": "7fdcd9c6",
   "metadata": {},
   "source": [
    "### Choosing Between == and is\n",
    "\n",
    "Each object has its own `identity`, `type` and `value`. Only the identity does not change once it is created. The is operator compares the identity of two objects. (Use the id() function)\n",
    "\n",
    "`is` is faster than `==` because is only compares the ids of two Objects with singletons like `None`. `a == b` is equivalent to the abbreviation of `a.__eq__(b)`. The` __eq__` method is inherited from objects that compare ids, but most build-in data types override the `__eq__` method to match their equality behavior.\n",
    "\n",
    "\n",
    "Let's make it clear:\n",
    "\n",
    "* `==`     compares values of objects\n",
    "* `is`     compares identity of Objects\n"
   ]
  },
  {
   "cell_type": "code",
   "execution_count": 4,
   "id": "0a5d28d3",
   "metadata": {},
   "outputs": [
    {
     "data": {
      "text/plain": [
       "False"
      ]
     },
     "execution_count": 4,
     "metadata": {},
     "output_type": "execute_result"
    }
   ],
   "source": [
    "x is None"
   ]
  },
  {
   "cell_type": "code",
   "execution_count": 5,
   "id": "d3addc0c",
   "metadata": {},
   "outputs": [
    {
     "data": {
      "text/plain": [
       "True"
      ]
     },
     "execution_count": 5,
     "metadata": {},
     "output_type": "execute_result"
    }
   ],
   "source": [
    "x is not None"
   ]
  },
  {
   "cell_type": "markdown",
   "id": "115eb9ae",
   "metadata": {},
   "source": [
    "## The Relative Immutability of Tuples"
   ]
  },
  {
   "cell_type": "markdown",
   "id": "bebea1d8",
   "metadata": {},
   "source": [
    "When we use mutable data types in a tuple, the mutable data type can change, but the reference to the tuple remains the same while the value of the list within it changes."
   ]
  },
  {
   "cell_type": "code",
   "execution_count": 8,
   "id": "37d2cddb",
   "metadata": {},
   "outputs": [
    {
     "data": {
      "text/plain": [
       "True"
      ]
     },
     "execution_count": 8,
     "metadata": {},
     "output_type": "execute_result"
    }
   ],
   "source": [
    "t1 = (1, 2, [30, 40])\n",
    "t2 = (1, 2, [30, 40])\n",
    "t1 == t2"
   ]
  },
  {
   "cell_type": "code",
   "execution_count": 9,
   "id": "98d22f84",
   "metadata": {},
   "outputs": [
    {
     "data": {
      "text/plain": [
       "140288030783232"
      ]
     },
     "execution_count": 9,
     "metadata": {},
     "output_type": "execute_result"
    }
   ],
   "source": [
    "id(t1[-1])"
   ]
  },
  {
   "cell_type": "code",
   "execution_count": 10,
   "id": "d7612a38",
   "metadata": {},
   "outputs": [
    {
     "data": {
      "text/plain": [
       "(1, 2, [30, 40, 99])"
      ]
     },
     "execution_count": 10,
     "metadata": {},
     "output_type": "execute_result"
    }
   ],
   "source": [
    "t1[-1].append(99)\n",
    "t1"
   ]
  },
  {
   "cell_type": "code",
   "execution_count": 11,
   "id": "32399b5f",
   "metadata": {},
   "outputs": [
    {
     "data": {
      "text/plain": [
       "140288030783232"
      ]
     },
     "execution_count": 11,
     "metadata": {},
     "output_type": "execute_result"
    }
   ],
   "source": [
    "id(t1[-1])"
   ]
  },
  {
   "cell_type": "code",
   "execution_count": 12,
   "id": "0015793d",
   "metadata": {},
   "outputs": [
    {
     "data": {
      "text/plain": [
       "False"
      ]
     },
     "execution_count": 12,
     "metadata": {},
     "output_type": "execute_result"
    }
   ],
   "source": [
    "t1 == t2"
   ]
  },
  {
   "cell_type": "markdown",
   "id": "ec870ebb",
   "metadata": {},
   "source": [
    "## Copies Are Shallow by Default\n",
    "\n",
    "When you create a copy of a mutable object using the assignment operator or a copy method like copy(), you get a shallow copy. This means that the top-level object is duplicated, but the inner objects are still references. For deep copies, you can use the copy module's deepcopy() function.\n"
   ]
  },
  {
   "cell_type": "code",
   "execution_count": 6,
   "id": "8345b909",
   "metadata": {},
   "outputs": [],
   "source": [
    "l1 = [3, [55, 44], (7, 8, 9)]\n",
    "l2 = list(l1) # or l2 = l1[:]\n"
   ]
  },
  {
   "cell_type": "code",
   "execution_count": 7,
   "id": "ac7697c6",
   "metadata": {},
   "outputs": [
    {
     "data": {
      "text/plain": [
       "[3, [55, 44], (7, 8, 9)]"
      ]
     },
     "execution_count": 7,
     "metadata": {},
     "output_type": "execute_result"
    }
   ],
   "source": [
    "l2"
   ]
  },
  {
   "cell_type": "code",
   "execution_count": 8,
   "id": "73288b34",
   "metadata": {},
   "outputs": [
    {
     "data": {
      "text/plain": [
       "True"
      ]
     },
     "execution_count": 8,
     "metadata": {},
     "output_type": "execute_result"
    }
   ],
   "source": [
    "l2 == l1"
   ]
  },
  {
   "cell_type": "code",
   "execution_count": 9,
   "id": "ce3242ad",
   "metadata": {},
   "outputs": [
    {
     "data": {
      "text/plain": [
       "False"
      ]
     },
     "execution_count": 9,
     "metadata": {},
     "output_type": "execute_result"
    }
   ],
   "source": [
    "l2 is l1"
   ]
  },
  {
   "cell_type": "code",
   "execution_count": 17,
   "id": "c4571331",
   "metadata": {},
   "outputs": [
    {
     "name": "stdout",
     "output_type": "stream",
     "text": [
      "l1 : [3, [66, 44], (7, 8, 9), 100]\n",
      "l2 : [3, [66, 44], (7, 8, 9)]\n",
      "\n",
      "l1 : [3, [66, 44, 33, 22], (7, 8, 9), 100]\n",
      "l2 : [3, [66, 44, 33, 22], (7, 8, 9, 10, 11)]\n",
      "\n"
     ]
    }
   ],
   "source": [
    "#example 6-6\n",
    "l1 = [3, [66, 55, 44], (7, 8, 9)]\n",
    "l2 = list(l1)\n",
    "\n",
    "l1.append(100)\n",
    "l1[1].remove(55)\n",
    "\n",
    "print(f'l1 : {l1}')\n",
    "print(f'l2 : {l2}\\n')\n",
    "\n",
    "l2[1] += [33, 22] # Changes the list in place so this change happens in l1 too.\n",
    "l2[2] += (10, 11) # Creates a new tuple with new id so this change only happen in l2.\n",
    "\n",
    "print(f'l1 : {l1}')\n",
    "print(f'l2 : {l2}\\n')"
   ]
  },
  {
   "cell_type": "markdown",
   "id": "b7684bee",
   "metadata": {},
   "source": [
    "### Deep and Shallow Copies of Arbitrary Objects"
   ]
  },
  {
   "cell_type": "markdown",
   "id": "34df02fa",
   "metadata": {},
   "source": [
    "Note that making deep copies is not a simple matter in the general case. Objects may have cyclic references that would cause a naive algorithm to enter an infinite loop. The deepcopy function remembers the objects already copied to handle cyclic references gracefully."
   ]
  },
  {
   "cell_type": "code",
   "execution_count": 11,
   "id": "801eb443",
   "metadata": {},
   "outputs": [],
   "source": [
    "# Example 6-8. Bus picks up and drops off passengers\n",
    "class Bus:\n",
    "    def __init__(self, passengers=None):\n",
    "        if passengers is None:\n",
    "            self.passengers = []\n",
    "        else:\n",
    "            self.passengers = list(passengers)\n",
    "    \n",
    "    def pick(self, name):\n",
    "        self.passengers.append(name)\n",
    "    \n",
    "    def drop(self, name):\n",
    "        self.passengers.remove(name)"
   ]
  },
  {
   "cell_type": "code",
   "execution_count": 12,
   "id": "5c128570",
   "metadata": {},
   "outputs": [],
   "source": [
    "import copy\n",
    "bus1 = Bus(['Alice', 'Bill', 'Claire', 'David'])\n",
    "bus2 = copy.copy(bus1) #  bus2 is a shallow copy of bus1\n",
    "bus3 = copy.deepcopy(bus1)\n",
    "bus1.drop('Bill')\n"
   ]
  },
  {
   "cell_type": "code",
   "execution_count": 13,
   "id": "2ee44ed8",
   "metadata": {},
   "outputs": [
    {
     "data": {
      "text/plain": [
       "['Alice', 'Claire', 'David']"
      ]
     },
     "execution_count": 13,
     "metadata": {},
     "output_type": "execute_result"
    }
   ],
   "source": [
    "bus2.passengers"
   ]
  },
  {
   "cell_type": "code",
   "execution_count": 14,
   "id": "5de69f8f",
   "metadata": {},
   "outputs": [
    {
     "data": {
      "text/plain": [
       "['Alice', 'Bill', 'Claire', 'David']"
      ]
     },
     "execution_count": 14,
     "metadata": {},
     "output_type": "execute_result"
    }
   ],
   "source": [
    "bus3.passengers"
   ]
  },
  {
   "cell_type": "markdown",
   "id": "3543ab22",
   "metadata": {},
   "source": [
    "#### Cyclic references"
   ]
  },
  {
   "cell_type": "code",
   "execution_count": 15,
   "id": "93bf0a06",
   "metadata": {},
   "outputs": [],
   "source": [
    "# Example 6-10. Cyclic references: b refers to a, and then is appended to a; deepcopy still manages to copy a\n",
    "a = [10, 20]\n",
    "b = [a, 30]\n",
    "a.append(b)"
   ]
  },
  {
   "cell_type": "code",
   "execution_count": 16,
   "id": "cd788198",
   "metadata": {},
   "outputs": [
    {
     "data": {
      "text/plain": [
       "[10, 20, [[...], 30]]"
      ]
     },
     "execution_count": 16,
     "metadata": {},
     "output_type": "execute_result"
    }
   ],
   "source": [
    "a"
   ]
  },
  {
   "cell_type": "code",
   "execution_count": 17,
   "id": "6c1da922",
   "metadata": {},
   "outputs": [],
   "source": [
    "from copy import deepcopy\n",
    "c = deepcopy(a)"
   ]
  },
  {
   "cell_type": "code",
   "execution_count": 18,
   "id": "d53ad202",
   "metadata": {},
   "outputs": [
    {
     "data": {
      "text/plain": [
       "[10, 20, [[...], 30]]"
      ]
     },
     "execution_count": 18,
     "metadata": {},
     "output_type": "execute_result"
    }
   ],
   "source": [
    "c"
   ]
  },
  {
   "cell_type": "markdown",
   "id": "1ae98879",
   "metadata": {},
   "source": [
    "To customize the behavior of `copy()` or `deepcopy()` we must implement `__copy__()` or `__deepcopy__()`"
   ]
  },
  {
   "cell_type": "markdown",
   "id": "7a742c6f",
   "metadata": {},
   "source": [
    "## Function Parameters as References\n",
    "\n",
    "Understanding how function parameters work as references is crucial for writing correct and efficient code.\n"
   ]
  },
  {
   "cell_type": "markdown",
   "id": "769f22d3",
   "metadata": {},
   "source": [
    "Python call functions with call by sharing method."
   ]
  },
  {
   "cell_type": "markdown",
   "id": "1c256089",
   "metadata": {},
   "source": [
    "Call by sharing means that each formal parameter of the function gets a copy of each reference in the arguments. In other words, the parameters inside the function become aliases of the actual arguments. \n",
    "The result of this scheme is that a function may change any mutable object passed as a parameter, but it cannot change the identity of those objects"
   ]
  },
  {
   "cell_type": "code",
   "execution_count": 26,
   "id": "a22924d7",
   "metadata": {},
   "outputs": [],
   "source": [
    "# Example 6-11. A function may change any mutable object it receives\n",
    "def f(a, b):\n",
    "    a += b\n",
    "    return a\n",
    "x = 1\n",
    "y = 2\n"
   ]
  },
  {
   "cell_type": "code",
   "execution_count": 27,
   "id": "d115f1ef",
   "metadata": {},
   "outputs": [
    {
     "data": {
      "text/plain": [
       "3"
      ]
     },
     "execution_count": 27,
     "metadata": {},
     "output_type": "execute_result"
    }
   ],
   "source": [
    "f(x, y)"
   ]
  },
  {
   "cell_type": "code",
   "execution_count": 28,
   "id": "5c002068",
   "metadata": {},
   "outputs": [
    {
     "data": {
      "text/plain": [
       "(1, 2)"
      ]
     },
     "execution_count": 28,
     "metadata": {},
     "output_type": "execute_result"
    }
   ],
   "source": [
    "x, y"
   ]
  },
  {
   "cell_type": "code",
   "execution_count": 29,
   "id": "98c5d70f",
   "metadata": {},
   "outputs": [],
   "source": [
    "a = [1, 2]\n",
    "b = [3, 4]"
   ]
  },
  {
   "cell_type": "code",
   "execution_count": 30,
   "id": "813bce22",
   "metadata": {},
   "outputs": [
    {
     "data": {
      "text/plain": [
       "[1, 2, 3, 4]"
      ]
     },
     "execution_count": 30,
     "metadata": {},
     "output_type": "execute_result"
    }
   ],
   "source": [
    "f(a, b)"
   ]
  },
  {
   "cell_type": "code",
   "execution_count": 31,
   "id": "3fb03526",
   "metadata": {},
   "outputs": [
    {
     "data": {
      "text/plain": [
       "([1, 2, 3, 4], [3, 4])"
      ]
     },
     "execution_count": 31,
     "metadata": {},
     "output_type": "execute_result"
    }
   ],
   "source": [
    "a, b"
   ]
  },
  {
   "cell_type": "code",
   "execution_count": 32,
   "id": "985214d2",
   "metadata": {},
   "outputs": [],
   "source": [
    "t = (10, 20)\n",
    "u = (30, 40)"
   ]
  },
  {
   "cell_type": "code",
   "execution_count": 33,
   "id": "34354156",
   "metadata": {},
   "outputs": [
    {
     "data": {
      "text/plain": [
       "(10, 20, 30, 40)"
      ]
     },
     "execution_count": 33,
     "metadata": {},
     "output_type": "execute_result"
    }
   ],
   "source": [
    "f(t, u)"
   ]
  },
  {
   "cell_type": "code",
   "execution_count": 34,
   "id": "f6e2e809",
   "metadata": {},
   "outputs": [
    {
     "data": {
      "text/plain": [
       "((10, 20), (30, 40))"
      ]
     },
     "execution_count": 34,
     "metadata": {},
     "output_type": "execute_result"
    }
   ],
   "source": [
    "t, u"
   ]
  },
  {
   "cell_type": "markdown",
   "id": "4f40fd48",
   "metadata": {},
   "source": [
    "## Mutable Types as Parameter Defaults: Bad Idea\n",
    "\n",
    "When defining a function with mutable default arguments, such as lists or dictionaries, you should be cautious. The default value is evaluated only once, when the function is defined. This can lead to unexpected behavior, especially when multiple calls to the function share the same default object.\n"
   ]
  },
  {
   "cell_type": "code",
   "execution_count": 19,
   "id": "a3dd4302",
   "metadata": {},
   "outputs": [],
   "source": [
    "class HauntedBus:\n",
    "    \"\"\"A bus model haunted by ghost passengers\"\"\"\n",
    "\n",
    "    def __init__(self, passengers=[]):\n",
    "        self.passengers = passengers\n",
    "\n",
    "    def pick(self, name):\n",
    "        self.passengers.append(name)\n",
    "\n",
    "    def drop(self, name):\n",
    "        self.passengers.remove(name)"
   ]
  },
  {
   "cell_type": "code",
   "execution_count": 36,
   "id": "6d257984",
   "metadata": {},
   "outputs": [],
   "source": [
    "bus1 = HauntedBus(['Alice', 'Bill'])"
   ]
  },
  {
   "cell_type": "code",
   "execution_count": 37,
   "id": "19e58490",
   "metadata": {},
   "outputs": [
    {
     "data": {
      "text/plain": [
       "['Alice', 'Bill']"
      ]
     },
     "execution_count": 37,
     "metadata": {},
     "output_type": "execute_result"
    }
   ],
   "source": [
    "bus1.passengers"
   ]
  },
  {
   "cell_type": "code",
   "execution_count": 38,
   "id": "4d4e6838",
   "metadata": {},
   "outputs": [],
   "source": [
    "bus1.pick('Charlie')\n",
    "bus1.drop('Alice')"
   ]
  },
  {
   "cell_type": "code",
   "execution_count": 39,
   "id": "ffeff443",
   "metadata": {},
   "outputs": [
    {
     "data": {
      "text/plain": [
       "['Bill', 'Charlie']"
      ]
     },
     "execution_count": 39,
     "metadata": {},
     "output_type": "execute_result"
    }
   ],
   "source": [
    "bus1.passengers"
   ]
  },
  {
   "cell_type": "code",
   "execution_count": 40,
   "id": "4be7d422",
   "metadata": {},
   "outputs": [],
   "source": [
    "bus2 = HauntedBus()\n",
    "bus2.pick('Carrie')"
   ]
  },
  {
   "cell_type": "code",
   "execution_count": 41,
   "id": "a54d36e4",
   "metadata": {},
   "outputs": [
    {
     "data": {
      "text/plain": [
       "['Carrie']"
      ]
     },
     "execution_count": 41,
     "metadata": {},
     "output_type": "execute_result"
    }
   ],
   "source": [
    "bus2.passengers"
   ]
  },
  {
   "cell_type": "code",
   "execution_count": 42,
   "id": "5850feec",
   "metadata": {},
   "outputs": [],
   "source": [
    "bus3 = HauntedBus()"
   ]
  },
  {
   "cell_type": "code",
   "execution_count": 43,
   "id": "5927b03f",
   "metadata": {},
   "outputs": [
    {
     "data": {
      "text/plain": [
       "['Carrie']"
      ]
     },
     "execution_count": 43,
     "metadata": {},
     "output_type": "execute_result"
    }
   ],
   "source": [
    "bus3.passengers"
   ]
  },
  {
   "cell_type": "code",
   "execution_count": 44,
   "id": "994d794a",
   "metadata": {},
   "outputs": [],
   "source": [
    "bus3.pick('Dave')"
   ]
  },
  {
   "cell_type": "code",
   "execution_count": 45,
   "id": "5a44be15",
   "metadata": {},
   "outputs": [
    {
     "data": {
      "text/plain": [
       "['Carrie', 'Dave']"
      ]
     },
     "execution_count": 45,
     "metadata": {},
     "output_type": "execute_result"
    }
   ],
   "source": [
    "bus2.passengers"
   ]
  },
  {
   "cell_type": "code",
   "execution_count": 46,
   "id": "f5d2f759",
   "metadata": {},
   "outputs": [
    {
     "data": {
      "text/plain": [
       "True"
      ]
     },
     "execution_count": 46,
     "metadata": {},
     "output_type": "execute_result"
    }
   ],
   "source": [
    "bus2.passengers is bus3.passengers"
   ]
  },
  {
   "cell_type": "code",
   "execution_count": 47,
   "id": "11d4891e",
   "metadata": {},
   "outputs": [
    {
     "data": {
      "text/plain": [
       "['Bill', 'Charlie']"
      ]
     },
     "execution_count": 47,
     "metadata": {},
     "output_type": "execute_result"
    }
   ],
   "source": [
    "bus1.passengers"
   ]
  },
  {
   "cell_type": "code",
   "execution_count": 48,
   "id": "70ebd01b",
   "metadata": {},
   "outputs": [
    {
     "data": {
      "text/plain": [
       "['__annotations__',\n",
       " '__builtins__',\n",
       " '__call__',\n",
       " '__class__',\n",
       " '__closure__',\n",
       " '__code__',\n",
       " '__defaults__',\n",
       " '__delattr__',\n",
       " '__dict__',\n",
       " '__dir__',\n",
       " '__doc__',\n",
       " '__eq__',\n",
       " '__format__',\n",
       " '__ge__',\n",
       " '__get__',\n",
       " '__getattribute__',\n",
       " '__globals__',\n",
       " '__gt__',\n",
       " '__hash__',\n",
       " '__init__',\n",
       " '__init_subclass__',\n",
       " '__kwdefaults__',\n",
       " '__le__',\n",
       " '__lt__',\n",
       " '__module__',\n",
       " '__name__',\n",
       " '__ne__',\n",
       " '__new__',\n",
       " '__qualname__',\n",
       " '__reduce__',\n",
       " '__reduce_ex__',\n",
       " '__repr__',\n",
       " '__setattr__',\n",
       " '__sizeof__',\n",
       " '__str__',\n",
       " '__subclasshook__']"
      ]
     },
     "execution_count": 48,
     "metadata": {},
     "output_type": "execute_result"
    }
   ],
   "source": [
    "dir(HauntedBus.__init__)"
   ]
  },
  {
   "cell_type": "code",
   "execution_count": 49,
   "id": "beb99a2b",
   "metadata": {},
   "outputs": [
    {
     "data": {
      "text/plain": [
       "(['Carrie', 'Dave'],)"
      ]
     },
     "execution_count": 49,
     "metadata": {},
     "output_type": "execute_result"
    }
   ],
   "source": [
    "HauntedBus.__init__.__defaults__"
   ]
  },
  {
   "cell_type": "code",
   "execution_count": 50,
   "id": "aedfe3c5",
   "metadata": {},
   "outputs": [
    {
     "data": {
      "text/plain": [
       "True"
      ]
     },
     "execution_count": 50,
     "metadata": {},
     "output_type": "execute_result"
    }
   ],
   "source": [
    "HauntedBus.__init__.__defaults__[0] is bus2.passengers"
   ]
  },
  {
   "cell_type": "code",
   "execution_count": 20,
   "id": "0f8d9e18",
   "metadata": {},
   "outputs": [
    {
     "data": {
      "text/plain": [
       "mappingproxy({'__module__': '__main__',\n",
       "              '__doc__': 'A bus model haunted by ghost passengers',\n",
       "              '__init__': <function __main__.HauntedBus.__init__(self, passengers=[])>,\n",
       "              'pick': <function __main__.HauntedBus.pick(self, name)>,\n",
       "              'drop': <function __main__.HauntedBus.drop(self, name)>,\n",
       "              '__dict__': <attribute '__dict__' of 'HauntedBus' objects>,\n",
       "              '__weakref__': <attribute '__weakref__' of 'HauntedBus' objects>})"
      ]
     },
     "execution_count": 20,
     "metadata": {},
     "output_type": "execute_result"
    }
   ],
   "source": [
    "HauntedBus.__dict__"
   ]
  },
  {
   "cell_type": "markdown",
   "id": "856c9d82",
   "metadata": {},
   "source": [
    "## Defensive Programming with Mutable Parameters\n",
    "\n",
    "When a function receives a mutable parameter, you should consider whether the caller expects the argument to be changed or not. This is about aligning the expectations of the coder of the function and the caller.\n"
   ]
  },
  {
   "cell_type": "code",
   "execution_count": 51,
   "id": "d61beb83",
   "metadata": {},
   "outputs": [],
   "source": [
    "class TwilightBus:\n",
    "    \"\"\"A bus model that makes passengers vanish\"\"\"\n",
    "\n",
    "    def __init__(self, passengers=None):\n",
    "        if passengers is None:\n",
    "            self.passengers = []\n",
    "        else:\n",
    "            self.passengers = passengers\n",
    "\n",
    "    def pick(self, name):\n",
    "        self.passengers.append(name)\n",
    "\n",
    "    def drop(self, name):\n",
    "        self.passengers.remove(name)"
   ]
  },
  {
   "cell_type": "code",
   "execution_count": 52,
   "id": "e668ff0f",
   "metadata": {},
   "outputs": [
    {
     "data": {
      "text/plain": [
       "['Sue', 'Maya', 'Diana']"
      ]
     },
     "execution_count": 52,
     "metadata": {},
     "output_type": "execute_result"
    }
   ],
   "source": [
    "basketball_team = ['Sue', 'Tina', 'Maya', 'Diana', 'Pat']\n",
    "bus = TwilightBus(basketball_team)\n",
    "bus.drop('Tina')\n",
    "bus.drop('Pat')\n",
    "basketball_team"
   ]
  },
  {
   "cell_type": "code",
   "execution_count": 53,
   "id": "20a34fcc",
   "metadata": {},
   "outputs": [],
   "source": [
    "class TwilightBus:\n",
    "    \"\"\"A bus model that makes passengers vanish\"\"\"\n",
    "\n",
    "    def __init__(self, passengers=None):\n",
    "        if passengers is None:\n",
    "            self.passengers = []\n",
    "        else:\n",
    "            self.passengers = list(passengers)\n",
    "\n",
    "    def pick(self, name):\n",
    "        self.passengers.append(name)\n",
    "\n",
    "    def drop(self, name):\n",
    "        self.passengers.remove(name)"
   ]
  },
  {
   "cell_type": "code",
   "execution_count": 54,
   "id": "7c5b2669",
   "metadata": {},
   "outputs": [
    {
     "data": {
      "text/plain": [
       "['Sue', 'Tina', 'Maya', 'Diana', 'Pat']"
      ]
     },
     "execution_count": 54,
     "metadata": {},
     "output_type": "execute_result"
    }
   ],
   "source": [
    "basketball_team = ['Sue', 'Tina', 'Maya', 'Diana', 'Pat']\n",
    "bus = TwilightBus(basketball_team)\n",
    "bus.drop('Tina')\n",
    "bus.drop('Pat')\n",
    "basketball_team"
   ]
  },
  {
   "cell_type": "markdown",
   "id": "235201e6",
   "metadata": {},
   "source": [
    "## del and Garbage Collection\n",
    "\n",
    "The del statement in Python doesn't delete objects. Instead, it deletes references to objects. When the number of references to an object reaches zero, the object may be garbage collected. The __del__ special method, when defined, allows an object to release external resources before being destroyed.\n"
   ]
  },
  {
   "cell_type": "code",
   "execution_count": 21,
   "id": "b8ec4a76",
   "metadata": {},
   "outputs": [
    {
     "data": {
      "text/plain": [
       "[1, 2]"
      ]
     },
     "execution_count": 21,
     "metadata": {},
     "output_type": "execute_result"
    }
   ],
   "source": [
    "a = [1, 2]\n",
    "b = a\n",
    "del a\n",
    "b"
   ]
  },
  {
   "cell_type": "code",
   "execution_count": 22,
   "id": "ae3a5cf5",
   "metadata": {},
   "outputs": [],
   "source": [
    "b = [3] #Rebinding b to a different object removes the last remaining reference to [1, 2]."
   ]
  },
  {
   "cell_type": "markdown",
   "id": "6dd70e83",
   "metadata": {},
   "source": [
    "**Note**\n",
    "* There is a `__del__` special method, but it does not cause the disposal\n",
    "of the instance, and **should not be called by your code**.\n",
    "* `__del__` is invoked by the Python interpreter when the instance is\n",
    "about to be destroyed to give it a chance to release external\n",
    "resources. \n",
    "* You will seldom need to implement `__del__` in your\n",
    "own code.\n",
    "* The proper use of `__del__` is rather tricky. See the\n",
    "`__del__` special method documentation in the “Data Model” chapter\n",
    "of The Python Language Reference"
   ]
  },
  {
   "cell_type": "code",
   "execution_count": 23,
   "id": "393af146",
   "metadata": {},
   "outputs": [
    {
     "data": {
      "text/plain": [
       "True"
      ]
     },
     "execution_count": 23,
     "metadata": {},
     "output_type": "execute_result"
    }
   ],
   "source": [
    "# Example 6-16. Watching the end of an object when no more references point to it\n",
    "import weakref\n",
    "s1 = {1, 2, 3}\n",
    "s2 = s1\n",
    "def bye():\n",
    "    print('...like tears in the rain.')\n",
    "\n",
    "ender = weakref.finalize(s1, bye)\n",
    "ender.alive"
   ]
  },
  {
   "cell_type": "markdown",
   "id": "8de4cc96",
   "metadata": {},
   "source": [
    "**Weak reference**\n",
    "\n",
    "* `finalize` method holds a `weak reference` to `{1, 2, 3}`.\n",
    "* Weak reference to an object does not increase its reference count.\n",
    "* It does not prevent the target object from being garbage collected.\n",
    "* Weak references are useful in caching applications. "
   ]
  },
  {
   "cell_type": "code",
   "execution_count": 24,
   "id": "8360c5a0",
   "metadata": {},
   "outputs": [
    {
     "data": {
      "text/plain": [
       "True"
      ]
     },
     "execution_count": 24,
     "metadata": {},
     "output_type": "execute_result"
    }
   ],
   "source": [
    "del s1\n",
    "ender.alive"
   ]
  },
  {
   "cell_type": "code",
   "execution_count": 25,
   "id": "605d5e06",
   "metadata": {},
   "outputs": [
    {
     "name": "stdout",
     "output_type": "stream",
     "text": [
      "...like tears in the rain.\n"
     ]
    }
   ],
   "source": [
    "#Rebinding the last reference, s2, makes {1, 2, 3} unreachable.It is destroyed,the bye callback is invoked.\n",
    "s2 = 'spam' "
   ]
  },
  {
   "cell_type": "code",
   "execution_count": 26,
   "id": "20e90ec4",
   "metadata": {},
   "outputs": [
    {
     "data": {
      "text/plain": [
       "False"
      ]
     },
     "execution_count": 26,
     "metadata": {},
     "output_type": "execute_result"
    }
   ],
   "source": [
    "ender.alive"
   ]
  },
  {
   "cell_type": "code",
   "execution_count": 61,
   "id": "84daba32",
   "metadata": {},
   "outputs": [],
   "source": [
    "class Cheese:\n",
    "\n",
    "    def __init__(self, kind):\n",
    "        self.kind = kind\n",
    "\n",
    "    def __repr__(self):\n",
    "        return f'Cheese({self.kind!r})'"
   ]
  },
  {
   "cell_type": "code",
   "execution_count": 62,
   "id": "834d234d",
   "metadata": {},
   "outputs": [],
   "source": [
    "import weakref\n",
    "stock = weakref.WeakValueDictionary()\n",
    "catalog = [Cheese('Red Leicester'), Cheese('Tilsit'),\n",
    "           Cheese('Brie'), Cheese('Parmesan')]\n",
    "\n",
    "for cheese in catalog:\n",
    "    stock[cheese.kind] = cheese\n"
   ]
  },
  {
   "cell_type": "code",
   "execution_count": 63,
   "id": "474731a8",
   "metadata": {},
   "outputs": [
    {
     "data": {
      "text/plain": [
       "['Brie', 'Parmesan', 'Red Leicester', 'Tilsit']"
      ]
     },
     "execution_count": 63,
     "metadata": {},
     "output_type": "execute_result"
    }
   ],
   "source": [
    "sorted(stock.keys())"
   ]
  },
  {
   "cell_type": "code",
   "execution_count": 64,
   "id": "04722ae5",
   "metadata": {},
   "outputs": [
    {
     "data": {
      "text/plain": [
       "['Parmesan']"
      ]
     },
     "execution_count": 64,
     "metadata": {},
     "output_type": "execute_result"
    }
   ],
   "source": [
    "del catalog\n",
    "sorted(stock.keys())"
   ]
  },
  {
   "cell_type": "code",
   "execution_count": 65,
   "id": "428dc212",
   "metadata": {},
   "outputs": [
    {
     "data": {
      "text/plain": [
       "[]"
      ]
     },
     "execution_count": 65,
     "metadata": {},
     "output_type": "execute_result"
    }
   ],
   "source": [
    "del cheese\n",
    "sorted(stock.keys())"
   ]
  },
  {
   "cell_type": "markdown",
   "id": "ba6beae7",
   "metadata": {},
   "source": [
    "## Tricks Python Plays with Immutables\n",
    "\n",
    "Python has some unique behaviors when it comes to immutables like tuples, strings, bytes, and frozensets. For instance, creating a new tuple from another doesn't create a copy but returns a reference to the same object. String literals may also create shared objects as an optimization technique called interning.\n"
   ]
  },
  {
   "cell_type": "code",
   "execution_count": 27,
   "id": "99b303a1",
   "metadata": {},
   "outputs": [],
   "source": [
    "t1 = (1, 2, 3)\n",
    "t2 = tuple(t1)"
   ]
  },
  {
   "cell_type": "code",
   "execution_count": 28,
   "id": "aa7d3248",
   "metadata": {},
   "outputs": [
    {
     "data": {
      "text/plain": [
       "True"
      ]
     },
     "execution_count": 28,
     "metadata": {},
     "output_type": "execute_result"
    }
   ],
   "source": [
    "t2 is t1"
   ]
  },
  {
   "cell_type": "code",
   "execution_count": 29,
   "id": "089920dc",
   "metadata": {},
   "outputs": [
    {
     "data": {
      "text/plain": [
       "True"
      ]
     },
     "execution_count": 29,
     "metadata": {},
     "output_type": "execute_result"
    }
   ],
   "source": [
    "t3 = t1[:]\n",
    "t3 is t1"
   ]
  },
  {
   "cell_type": "code",
   "execution_count": 30,
   "id": "8e179981",
   "metadata": {},
   "outputs": [
    {
     "data": {
      "text/plain": [
       "False"
      ]
     },
     "execution_count": 30,
     "metadata": {},
     "output_type": "execute_result"
    }
   ],
   "source": [
    "# Example 6-18. String literals may create shared objects\n",
    "t1 = (1, 2, 3)\n",
    "t3 = (1, 2, 3)\n",
    "t3 is t1"
   ]
  },
  {
   "cell_type": "code",
   "execution_count": 31,
   "id": "c1433c67",
   "metadata": {},
   "outputs": [
    {
     "data": {
      "text/plain": [
       "True"
      ]
     },
     "execution_count": 31,
     "metadata": {},
     "output_type": "execute_result"
    }
   ],
   "source": [
    "# Surprise: a and b refer to the same str!\n",
    "s1 = 'ABC'\n",
    "s2 = 'ABC'\n",
    "s2 is s1 "
   ]
  },
  {
   "cell_type": "markdown",
   "id": "cdb1463e",
   "metadata": {},
   "source": [
    "\n",
    "Remember to use == to compare strings or integers for equality instead of is. Interning is an optimization for internal use of the Python interpreter and should not impact your code.\n",
    "\n",
    "Understanding object references, mutability, and recycling is crucial for writing clean and efficient Python code. These concepts enable you to work with Python's rich data structures effectively while avoiding common pitfalls and unexpected behavior.\n"
   ]
  },
  {
   "cell_type": "markdown",
   "id": "a4d33b63",
   "metadata": {},
   "source": [
    "# Lecturers\n",
    "\n",
    "1. Mohammad Rajabi ..., [Linkedin](https://www.linkedin.com/in/mohammad-rajabi-me/)\n",
    "2. Pooya Fekri, [Linkedin](https://www.linkedin.com/in/pooyafekri)\n",
    "\n",
    "\n",
    "present date : 2023-10-27"
   ]
  },
  {
   "cell_type": "markdown",
   "id": "eb00051f",
   "metadata": {},
   "source": [
    "# Reviewers\n",
    "\n",
    "1. Hosein Toodehroosta, review date: 2023-10-26, [LinkedIn](https://www.linkedin.com/in/hossein-toodehroosta/)\n",
    "2. Zohreh Alizadeh, review date: 2023-10-27, [LinkedIn](https://ir.linkedin.com/in/zohreh-bayramalizadeh/)\n",
    "3. Mehran Faraji, review date: 2023-10-27, [LinkedIn](https://www.linkedin.com/in/mehranfaraji/)\n",
    "4. Mahya Asgarian, review date: 2023-10-27, [LinkedIn](https://www.linkedin.com/in/mahya-asgarian-9a7b13249/)\n",
    "5. Saeed Hemmati, review date: 2023-10-27, [LinkedIn](https://www.linkedin.com/in/saeed-hemati/)"
   ]
  }
 ],
 "metadata": {
  "kernelspec": {
   "display_name": "Python 3 (ipykernel)",
   "language": "python",
   "name": "python3"
  },
  "language_info": {
   "codemirror_mode": {
    "name": "ipython",
    "version": 3
   },
   "file_extension": ".py",
   "mimetype": "text/x-python",
   "name": "python",
   "nbconvert_exporter": "python",
   "pygments_lexer": "ipython3",
   "version": "3.10.12"
  }
 },
 "nbformat": 4,
 "nbformat_minor": 5
}
