{
 "cells": [
  {
   "cell_type": "markdown",
   "id": "521b9925",
   "metadata": {},
   "source": [
    " # Chapter 11 - A Pythonic Object \n",
    "\n",
    " **Sections with code snippets in this chapter:**\n",
    " * [Pythonic Object](#pythonic-object)\n",
    " * [Vector Class Redux](#vector-class-redux)\n",
    " * [An Alternative Constructor](#an-alternative-constructor)\n",
    " * [Classmethod Verus Staticmethod](#classmethod-versus-staticmethodsmethod-versus-staticmethod)\n",
    " * [Formatted Display](#formatted-displaymatted-display)\n",
    " * [A Hashable Vector2d](#a-hashable-vector2dashable-vector2d)\n",
    " * [Supporting positional pattern matching](#supporting-positional-pattern-matching)\n",
    " * [Compelete listing of vector2d](#compelete-listing-of-vector2d-version-3)\n",
    " * [Private and protected attributes](#private-and-protected-attributes-in-python)\n",
    " * [Saving Memory with `__slots__`](#saving-memory-with-__slots__)\n",
    " * [Overrinding Class Attributes](#overriding-class-attributes)\n",
    "\n",
    "\n"
   ]
  },
  {
   "cell_type": "markdown",
   "id": "b843b9ac",
   "metadata": {},
   "source": [
    "**The aim of this chapter is to demonstrate the use of special methods and conventions in the construction of a well-behaved `pythonic class`.**"
   ]
  },
  {
   "cell_type": "markdown",
   "id": "d02c622a",
   "metadata": {},
   "source": [
    "## Pythonic Object"
   ]
  },
  {
   "cell_type": "markdown",
   "id": "1ff3b1a1",
   "metadata": {},
   "source": [
    "\n",
    "- \"For a library or framework to be Pythonic is to make it as easy and natural as possible\n",
    "for a Python programmer to pick up how to perform a task.\" __Martijn Faassen\n",
    "\n",
    "- This chapter starts when chapter1 (Data Model) ends.\n",
    "\n",
    "- in Python data model, your user-defined types can behave as naturally as the build-in types.\n",
    "\n",
    "- We can build user-defined classes that behave as real Python objects."
   ]
  },
  {
   "cell_type": "markdown",
   "id": "c1365e39",
   "metadata": {},
   "source": [
    "### Object representation\n",
    "use some special method that called by related build-in function to getting alternative type representation of object\n",
    "- repr() # string representation for programmers\n",
    "- str() # string representation for end users\n",
    "\n",
    "- bytes() # represent object as byte sequence\n",
    "- format() # get string display of object"
   ]
  },
  {
   "cell_type": "markdown",
   "id": "663bc3e4",
   "metadata": {},
   "source": [
    "## Vector Class Redux"
   ]
  },
  {
   "cell_type": "markdown",
   "id": "822b8a58",
   "metadata": {},
   "source": [
    "In order to demonstrate methods used to generate object representation we'll use `Vector2d` class "
   ]
  },
  {
   "cell_type": "code",
   "execution_count": null,
   "metadata": {},
   "outputs": [],
   "source": [
    "# behaviour we expected\n",
    "\"\"\"\n",
    "Vector2d instances have several representations\n",
    ">>> v1 = Vector2d(3, 4) \n",
    "\n",
    ">>> print(v1.x, v1.y) \n",
    "3.0 4.0\n",
    "\n",
    ">>>x,y = v1 #__iter__ # unpacking\n",
    ">>>x,y\n",
    "(3.0, 4.0)\n",
    "\n",
    ">>> v1 #__repr__\n",
    "Vector2d(3.0, 4.0)\n",
    "\n",
    ">>> v1_clone = eval(repr(v1))  # test repr\n",
    ">>> v1 == v1_clone #__eq__\n",
    "True\n",
    "\n",
    ">>> print(v1) #__str__\n",
    "(3.0, 4.0)\n",
    "\n",
    ">>> octets = bytes(v1) #__bytes__\n",
    ">>> octets \n",
    "b'd\\\\x00\\\\x00\\\\x00\\\\x00\\\\x00\\\\x00\\\\x08@\\\\x00\\\\x00\\\\x00\\\\x00\\\\x00\\\\x00\\\\x10@' \n",
    "\n",
    ">>> abs(v1) #__abs__\n",
    "5.0\n",
    "\n",
    ">>> bool(v1), bool(Vector2d(0, 0)) #__bool__\n",
    "(True, False)\n",
    "\"\"\""
   ]
  },
  {
   "cell_type": "code",
   "execution_count": 1,
   "id": "1b8ced04",
   "metadata": {},
   "outputs": [],
   "source": [
    "# implement this code based on chapter1 to behave as we expect\n",
    "\n",
    "from array import array\n",
    "import math\n",
    "\n",
    "\n",
    "class Vector2d:\n",
    "    typecode = 'd'  \n",
    "\n",
    "    def __init__(self, x, y):\n",
    "        self.x = float(x)    \n",
    "        self.y = float(y)\n",
    "\n",
    "    def __iter__(self):\n",
    "        return (i for i in (self.x, self.y))  \n",
    "\n",
    "    def __repr__(self):\n",
    "        class_name = type(self).__name__\n",
    "        return '{}({!r}, {!r})'.format(class_name, *self)  \n",
    "\n",
    "    def __str__(self):\n",
    "        return str(tuple(self))  \n",
    "\n",
    "    def __bytes__(self):\n",
    "        return (bytes([ord(self.typecode)]) +  \n",
    "                bytes(array(self.typecode, self)))  \n",
    "\n",
    "    def __eq__(self, other):\n",
    "        return tuple(self) == tuple(other) \n",
    "\n",
    "    def __abs__(self):\n",
    "        return math.hypot(self.x, self.y)  \n",
    "\n",
    "    def __bool__(self):\n",
    "        return bool(abs(self))  "
   ]
  },
  {
   "cell_type": "markdown",
   "id": "adb50740",
   "metadata": {},
   "source": [
    "## An Alternative Constructor"
   ]
  },
  {
   "cell_type": "markdown",
   "id": "94758261",
   "metadata": {},
   "source": [
    "Since we can export a Vector2d as bytes, naturally we need a method that imports a Vector2d from a binary sequence."
   ]
  },
  {
   "cell_type": "code",
   "execution_count": null,
   "id": "3771314a",
   "metadata": {},
   "outputs": [],
   "source": [
    "# rebuild a Vector2d from binary representation produced by bytes() \n",
    "\n",
    "@classmethod  # modify method, so method can be called directly on class itself rather than instance of class\n",
    "def frombytes(cls, octests):  # no 'self' argument, instead the class argument passed as first argument\n",
    "    typecode = chr(octests[0])\n",
    "    memv = memoryview(octests[1:]).cast(typecode)\n",
    "    return cls(*memv)  \n",
    "# use the cls argument by invoking it to build a new instance by takes unpacked memv result as parameter"
   ]
  },
  {
   "cell_type": "markdown",
   "id": "3bba5980",
   "metadata": {},
   "source": [
    "### classmethod Versus staticmethod\n",
    "\n",
    "`@classmethod`\n",
    "- use to define a method that operate on class not on instance \n",
    "- changes the way method is called\n",
    "- receive the class itself as the first argument instead of an instance\n",
    "- classmethod is very handy and clearly useful"
   ]
  },
  {
   "cell_type": "markdown",
   "id": "491b2340",
   "metadata": {},
   "source": [
    "\n",
    "`@staticmethod` \n",
    "- changes a method so that it receives no special first argument\n",
    "- as a simple function that defined in class body, not in module level\n",
    "- good use cases for staticmethod are very rare in authors experience\n",
    "- staticmethod is not so useful, module-level functions are simpler"
   ]
  },
  {
   "cell_type": "code",
   "execution_count": 3,
   "id": "2e5eea8a",
   "metadata": {},
   "outputs": [],
   "source": [
    "# comparing behvaiors of classmethod vs staticmethod\n",
    "# both methods return all positinal argument\n",
    "\n",
    "class Demo:\n",
    "    @classmethod\n",
    "    def klassmeth(*args):\n",
    "        return args\n",
    "    @staticmethod \n",
    "    def statmeth(*args):\n",
    "        return args "
   ]
  },
  {
   "cell_type": "code",
   "execution_count": 4,
   "id": "2a2840cd",
   "metadata": {},
   "outputs": [
    {
     "data": {
      "text/plain": [
       "(__main__.Demo,)"
      ]
     },
     "execution_count": 4,
     "metadata": {},
     "output_type": "execute_result"
    }
   ],
   "source": [
    "# no matter how invoke method affected by classmethod decorator\n",
    "# it receives class as the first argument\n",
    "\n",
    "Demo.klassmeth()"
   ]
  },
  {
   "cell_type": "code",
   "execution_count": 5,
   "id": "4334a964",
   "metadata": {},
   "outputs": [
    {
     "data": {
      "text/plain": [
       "(__main__.Demo, 'spam')"
      ]
     },
     "execution_count": 5,
     "metadata": {},
     "output_type": "execute_result"
    }
   ],
   "source": [
    "Demo.klassmeth('spam')"
   ]
  },
  {
   "cell_type": "code",
   "execution_count": 6,
   "id": "a79df4dd",
   "metadata": {},
   "outputs": [
    {
     "data": {
      "text/plain": [
       "()"
      ]
     },
     "execution_count": 6,
     "metadata": {},
     "output_type": "execute_result"
    }
   ],
   "source": [
    "# mathod affected by staticmethod act as simple function\n",
    "Demo.statmeth()"
   ]
  },
  {
   "cell_type": "code",
   "execution_count": 7,
   "id": "ade32978",
   "metadata": {},
   "outputs": [
    {
     "data": {
      "text/plain": [
       "('spam',)"
      ]
     },
     "execution_count": 7,
     "metadata": {},
     "output_type": "execute_result"
    }
   ],
   "source": [
    "Demo.statmeth('spam')"
   ]
  },
  {
   "cell_type": "markdown",
   "id": "e0368d3c",
   "metadata": {},
   "source": [
    "## Formatted Display"
   ]
  },
  {
   "cell_type": "markdown",
   "id": "2b58b387",
   "metadata": {},
   "source": [
    "Aim of this section is to show the Format Specification Mini-Language are extensible to support user-defined types."
   ]
  },
  {
   "cell_type": "markdown",
   "id": "dbdec92f",
   "metadata": {},
   "source": [
    "to get string display of objects;  `__format__` is used by:"
   ]
  },
  {
   "cell_type": "markdown",
   "id": "cf24e67d",
   "metadata": {},
   "source": [
    "- `f-strings` \n",
    "- `format()` build in function \n",
    "- `str.format()` method\n",
    "\n",
    " all represent formatting to each type by calling `obj.__format__(format_spec)` method."
   ]
  },
  {
   "cell_type": "markdown",
   "id": "ae713695",
   "metadata": {},
   "source": [
    "the `format_spec` is either:\n",
    "\n",
    "- second argument in `format(my_obj, format_spec)`\n",
    "or \n",
    "- whatever appears after the colon in a replacement field {} inside an `f-strings` or fmt in fmt.str.format()"
   ]
  },
  {
   "cell_type": "code",
   "execution_count": 8,
   "id": "3d32a74e",
   "metadata": {},
   "outputs": [
    {
     "data": {
      "text/plain": [
       "0.20746887966804978"
      ]
     },
     "execution_count": 8,
     "metadata": {},
     "output_type": "execute_result"
    }
   ],
   "source": [
    "brl = 1 / 4.82\n",
    "brl"
   ]
  },
  {
   "cell_type": "code",
   "execution_count": 9,
   "id": "5155cdb7",
   "metadata": {},
   "outputs": [
    {
     "data": {
      "text/plain": [
       "'0.2075'"
      ]
     },
     "execution_count": 9,
     "metadata": {},
     "output_type": "execute_result"
    }
   ],
   "source": [
    "# 1 format()\n",
    "format(brl, '0.4f')"
   ]
  },
  {
   "cell_type": "code",
   "execution_count": 10,
   "id": "764bc5c5",
   "metadata": {},
   "outputs": [
    {
     "data": {
      "text/plain": [
       "'1brl = 0.21 USD'"
      ]
     },
     "execution_count": 10,
     "metadata": {},
     "output_type": "execute_result"
    }
   ],
   "source": [
    "# 2 fmt.str.format()\n",
    "'1brl = {rate:0.2f} USD'.format(rate = brl)"
   ]
  },
  {
   "cell_type": "code",
   "execution_count": 11,
   "id": "bf92a654",
   "metadata": {},
   "outputs": [
    {
     "data": {
      "text/plain": [
       "'1 USD = 0.21 BRL'"
      ]
     },
     "execution_count": 11,
     "metadata": {},
     "output_type": "execute_result"
    }
   ],
   "source": [
    "# 3 f-string\n",
    "f'1 USD = {brl:0.2f} BRL'"
   ]
  },
  {
   "cell_type": "markdown",
   "id": "ff4b0158",
   "metadata": {},
   "source": [
    "a format string such {0.mass:5.3e} uses two separate notation:\n",
    "\n",
    "- the left of the colon -> field_name: arbirtaty -> 0.mass\n",
    "\n",
    "- after the colon -> formatting specifier -> 5.3e\n",
    "\n"
   ]
  },
  {
   "cell_type": "markdown",
   "id": "24da9891",
   "metadata": {},
   "source": [
    "\n",
    "The notation used in formatting specifier is called **Format Specification Mini-Language**\n"
   ]
  },
  {
   "cell_type": "markdown",
   "id": "026c56f8",
   "metadata": {},
   "source": [
    "- A few build-in types have their own representation code in the Format Specification Mini-Language. \n",
    "- The Format Specification Mini-Language is **extensible**\n",
    "    - each class gets to interpret the format_spec arguments as it likes.\n",
    "\n",
    "for example:"
   ]
  },
  {
   "cell_type": "code",
   "execution_count": 12,
   "id": "edfbde0b",
   "metadata": {},
   "outputs": [],
   "source": [
    "from datetime import datetime \n",
    "now = datetime.now()\n"
   ]
  },
  {
   "cell_type": "code",
   "execution_count": 13,
   "id": "d7c5e895",
   "metadata": {},
   "outputs": [
    {
     "data": {
      "text/plain": [
       "'22:39:30'"
      ]
     },
     "execution_count": 13,
     "metadata": {},
     "output_type": "execute_result"
    }
   ],
   "source": [
    "format(now, '%H:%M:%S')"
   ]
  },
  {
   "cell_type": "code",
   "execution_count": 14,
   "id": "39eade37",
   "metadata": {},
   "outputs": [
    {
     "data": {
      "text/plain": [
       "\"It's now 10:39 PM\""
      ]
     },
     "execution_count": 14,
     "metadata": {},
     "output_type": "execute_result"
    }
   ],
   "source": [
    "\"It's now {:%I:%M %p}\".format(now)"
   ]
  },
  {
   "cell_type": "markdown",
   "id": "234a6941",
   "metadata": {},
   "source": [
    "**Note:**\n",
    " If a class has no `__format__` the method inherited from object returns `str(my_object).`\n",
    "\n",
    "Because Vector2d has a ` __str__` this works:"
   ]
  },
  {
   "cell_type": "code",
   "execution_count": 15,
   "id": "c96ab743",
   "metadata": {},
   "outputs": [
    {
     "data": {
      "text/plain": [
       "'(3.0, 4.0)'"
      ]
     },
     "execution_count": 15,
     "metadata": {},
     "output_type": "execute_result"
    }
   ],
   "source": [
    "v1 = Vector2d(3, 4)\n",
    "format(v1)"
   ]
  },
  {
   "cell_type": "code",
   "execution_count": 16,
   "id": "989879be",
   "metadata": {},
   "outputs": [
    {
     "ename": "TypeError",
     "evalue": "unsupported format string passed to Vector2d.__format__",
     "output_type": "error",
     "traceback": [
      "\u001b[0;31m---------------------------------------------------------------------------\u001b[0m",
      "\u001b[0;31mTypeError\u001b[0m                                 Traceback (most recent call last)",
      "\u001b[1;32m/Users/bit/Py/Fluent python/ch-11-v3.ipynb Cell 37\u001b[0m line \u001b[0;36m3\n\u001b[1;32m      <a href='vscode-notebook-cell:/Users/bit/Py/Fluent%20python/ch-11-v3.ipynb#X51sZmlsZQ%3D%3D?line=0'>1</a>\u001b[0m \u001b[39m#pass a format specifier, object.__format__ raises TypeError:\u001b[39;00m\n\u001b[0;32m----> <a href='vscode-notebook-cell:/Users/bit/Py/Fluent%20python/ch-11-v3.ipynb#X51sZmlsZQ%3D%3D?line=2'>3</a>\u001b[0m \u001b[39mformat\u001b[39;49m(v1, \u001b[39m'\u001b[39;49m\u001b[39m.3f\u001b[39;49m\u001b[39m'\u001b[39;49m)\n",
      "\u001b[0;31mTypeError\u001b[0m: unsupported format string passed to Vector2d.__format__"
     ]
    }
   ],
   "source": [
    "#pass a format specifier, object.__format__ raises TypeError:\n",
    "\n",
    "format(v1, '.3f')"
   ]
  },
  {
   "cell_type": "code",
   "execution_count": null,
   "id": "3d57a6a2",
   "metadata": {},
   "outputs": [],
   "source": [
    "# This is the result we want\n",
    "# By implementing our own format mini-language \n",
    "\"\"\"\"\n",
    "\n",
    ">>> v1 = Vector2d(3, 4) \n",
    ">>> format(v1)\n",
    "'(3.0, 4.0)'\n",
    "\n",
    ">>> format(v1, '.2f') \n",
    "'(3.00, 4.00)'\n",
    "\n",
    ">>> format(v1, '.3e') \n",
    "'(3.000e+00, 4.000e+00)'\n",
    "\n",
    "\"\"\""
   ]
  },
  {
   "cell_type": "code",
   "execution_count": null,
   "id": "000e5091",
   "metadata": {},
   "outputs": [],
   "source": [
    "# implement __format__\n",
    "# Use the format built-in to apply the fmt_spec to each vector component\n",
    "\n",
    "def __format__(self, fmt_spec=''):\n",
    "    components = (format(c, fmt_spec) for c in self) \n",
    "    return '({}, {})'.format(*components)"
   ]
  },
  {
   "cell_type": "code",
   "execution_count": null,
   "id": "c04c9dba",
   "metadata": {},
   "outputs": [],
   "source": [
    "# code a simple angle method using the math.atan2() function to get the angle\n",
    "\n",
    "def angle(self):\n",
    "    return math.atan2(self.y, self.x)"
   ]
  },
  {
   "cell_type": "markdown",
   "id": "98bb7a6e",
   "metadata": {},
   "source": [
    "enhance our `__format__` to produce polar coordinates"
   ]
  },
  {
   "cell_type": "code",
   "execution_count": null,
   "id": "675110a1",
   "metadata": {},
   "outputs": [],
   "source": [
    "# Vector2d.__format__ take #2 now with polar coordinates\n",
    "\n",
    "def __format__(self, fmt_spec=''):\n",
    "    if fmt_spec.endswith('p'):\n",
    "        fmt_spec = fmt_spec[:-1]\n",
    "        coords = (abs(self), self.angle())\n",
    "        outer_fmt = '<{}, {}>'\n",
    "    else:\n",
    "        coords = self\n",
    "        outer_fmt = '({}, {})'\n",
    "        components = (format(c, fmt_spec) for c in coords)\n",
    "        return outer_fmt.format(*components)"
   ]
  },
  {
   "cell_type": "code",
   "execution_count": null,
   "id": "57aee195",
   "metadata": {},
   "outputs": [],
   "source": [
    "\"\"\"\n",
    "With Example 11-6, we get results similar to these:\n",
    "\n",
    ">>> format(Vector2d(1, 1), 'p') \n",
    "'<1.4142135623730951, 0.7853981633974483>' \n",
    "\n",
    ">>> format(Vector2d(1, 1), '.3ep') \n",
    "'<1.414e+00, 7.854e-01>'\n",
    "\n",
    ">>> format(Vector2d(1, 1), '0.5fp') \n",
    "'<1.41421, 0.78540>'\n",
    "\"\"\""
   ]
  },
  {
   "cell_type": "markdown",
   "id": "9cc7a32f",
   "metadata": {},
   "source": [
    "## A Hashable Vector2d"
   ]
  },
  {
   "cell_type": "markdown",
   "id": "3aa035ae",
   "metadata": {},
   "source": [
    "- aim of this section is to make an object hashable for use in sets and as dict keys\n",
    "- Our Vector2d instances are unhashable\n",
    "- to make it hashable must implement `__hash__`\n",
    "- also need to make vector2d instances *immutable* to ensure they don't modified\n",
    "- prevent accidental change in attibutes by make them **read-only** properties"
   ]
  },
  {
   "cell_type": "code",
   "execution_count": 17,
   "id": "1ad164a7",
   "metadata": {},
   "outputs": [
    {
     "ename": "TypeError",
     "evalue": "unhashable type: 'Vector2d'",
     "output_type": "error",
     "traceback": [
      "\u001b[0;31m---------------------------------------------------------------------------\u001b[0m",
      "\u001b[0;31mTypeError\u001b[0m                                 Traceback (most recent call last)",
      "\u001b[1;32m/Users/bit/Py/Fluent python/ch-11-v3.ipynb Cell 46\u001b[0m line \u001b[0;36m4\n\u001b[1;32m      <a href='vscode-notebook-cell:/Users/bit/Py/Fluent%20python/ch-11-v3.ipynb#X63sZmlsZQ%3D%3D?line=0'>1</a>\u001b[0m \u001b[39m# our vector2d instance are unhashbe\u001b[39;00m\n\u001b[1;32m      <a href='vscode-notebook-cell:/Users/bit/Py/Fluent%20python/ch-11-v3.ipynb#X63sZmlsZQ%3D%3D?line=2'>3</a>\u001b[0m v1 \u001b[39m=\u001b[39m Vector2d(\u001b[39m3\u001b[39m, \u001b[39m4\u001b[39m)\n\u001b[0;32m----> <a href='vscode-notebook-cell:/Users/bit/Py/Fluent%20python/ch-11-v3.ipynb#X63sZmlsZQ%3D%3D?line=3'>4</a>\u001b[0m \u001b[39mhash\u001b[39;49m(v1)\n",
      "\u001b[0;31mTypeError\u001b[0m: unhashable type: 'Vector2d'"
     ]
    }
   ],
   "source": [
    "# our vector2d instance are unhashbe\n",
    "\n",
    "v1 = Vector2d(3, 4)\n",
    "hash(v1)"
   ]
  },
  {
   "cell_type": "code",
   "execution_count": 18,
   "id": "387c93ce",
   "metadata": {},
   "outputs": [
    {
     "ename": "TypeError",
     "evalue": "unhashable type: 'Vector2d'",
     "output_type": "error",
     "traceback": [
      "\u001b[0;31m---------------------------------------------------------------------------\u001b[0m",
      "\u001b[0;31mTypeError\u001b[0m                                 Traceback (most recent call last)",
      "\u001b[1;32m/Users/bit/Py/Fluent python/ch-11-v3.ipynb Cell 47\u001b[0m line \u001b[0;36m2\n\u001b[1;32m      <a href='vscode-notebook-cell:/Users/bit/Py/Fluent%20python/ch-11-v3.ipynb#X64sZmlsZQ%3D%3D?line=0'>1</a>\u001b[0m \u001b[39m# v1 is unhashable so can't put in a set\u001b[39;00m\n\u001b[0;32m----> <a href='vscode-notebook-cell:/Users/bit/Py/Fluent%20python/ch-11-v3.ipynb#X64sZmlsZQ%3D%3D?line=1'>2</a>\u001b[0m \u001b[39mset\u001b[39;49m([v1])\n",
      "\u001b[0;31mTypeError\u001b[0m: unhashable type: 'Vector2d'"
     ]
    }
   ],
   "source": [
    "# v1 is unhashable so can't put in a set\n",
    "set([v1])"
   ]
  },
  {
   "cell_type": "code",
   "execution_count": 19,
   "id": "11493699",
   "metadata": {},
   "outputs": [
    {
     "data": {
      "text/plain": [
       "(3.0, 4.0)"
      ]
     },
     "execution_count": 19,
     "metadata": {},
     "output_type": "execute_result"
    }
   ],
   "source": [
    "# anyone can modify attribute , to be immutable should prevent it\n",
    "v1.x , v1.y"
   ]
  },
  {
   "cell_type": "code",
   "execution_count": null,
   "id": "8d9221e5",
   "metadata": {},
   "outputs": [],
   "source": [
    "# this is the behvaiour we want \n",
    "\"\"\"\n",
    ">>> v1.x=7\n",
    "Traceback (most recent call last):\n",
    "...\n",
    "AttributeError: can't set attribute\n",
    "\"\"\"\n",
    "# do it by making attributes \"read-only\""
   ]
  },
  {
   "cell_type": "markdown",
   "id": "4bf4e9a0",
   "metadata": {},
   "source": [
    "\n",
    "#### changes need to make Vector2d immutable : private attributes , read-only attributes\n",
    "- **make attributes \"private\";** \n",
    "    - use two leading underscore(with zero or one trailing underscore)\n"
   ]
  },
  {
   "cell_type": "markdown",
   "id": "0ebbdd4d",
   "metadata": {},
   "source": [
    "\n",
    "- **make attributes \"read-only\"** \n",
    "    - use `@property` decorator;\n",
    "        - allow to define a method that acts like an attribute but is read-only\n",
    "\n",
    "\n",
    "        - getter method named after public property it exposes\n",
    "-  in every method that just reads attributes, can use public attribute instead of private attribute \n",
    "- @property and read/write properties will covered in chapter 22"
   ]
  },
  {
   "cell_type": "code",
   "execution_count": null,
   "id": "dc5cb053",
   "metadata": {},
   "outputs": [],
   "source": [
    "# changes need to make Vector2d immutable\n",
    "\n",
    "class Vector2d:\n",
    "    typecode = 'd'\n",
    "    def __init__(self, x, y):\n",
    "        self.__x = float(x) \n",
    "        self.__y = float(y)\n",
    "\n",
    "    @property \n",
    "    def x(self):\n",
    "        return self.__x\n",
    "    \n",
    "    @property\n",
    "    def y(self):\n",
    "        return self.__y\n",
    "    \n",
    "    def __iter__(self): # use public attribute in all other methods tthat just read attributes\n",
    "        return (i for i in (self.x, self.y))\n"
   ]
  },
  {
   "cell_type": "code",
   "execution_count": null,
   "id": "b815f861",
   "metadata": {},
   "outputs": [],
   "source": [
    "# implementation of hash\n",
    "def __hash__(self):\n",
    "    return hash((self.x, self.y))"
   ]
  },
  {
   "cell_type": "markdown",
   "id": "99244871",
   "metadata": {},
   "source": [
    "- **`__hash__` special method:** \n",
    "    - Should return an int.\n",
    "    - Ideally take into account the hashes of the object attributes that are also used in `__eq__` method.\n",
    "    - `__hash__` documentation suggests computing the hash of a tuple with the components."
   ]
  },
  {
   "cell_type": "code",
   "execution_count": 21,
   "id": "205926fe",
   "metadata": {},
   "outputs": [
    {
     "data": {
      "text/plain": [
       "(1079245023883434373, 1994163070182233067)"
      ]
     },
     "execution_count": 21,
     "metadata": {},
     "output_type": "execute_result"
    }
   ],
   "source": [
    "# now have hashable vectors\n",
    "v1 = Vector2d(3, 4)\n",
    "v2 = Vector2d(3.1, 4.2)\n",
    "hash(v1), hash(v2)"
   ]
  },
  {
   "cell_type": "code",
   "execution_count": 22,
   "id": "edf24f5c",
   "metadata": {},
   "outputs": [
    {
     "data": {
      "text/plain": [
       "{Vector2d(3.0, 4.0), Vector2d(3.1, 4.2)}"
      ]
     },
     "execution_count": 22,
     "metadata": {},
     "output_type": "execute_result"
    }
   ],
   "source": [
    "{v1, v2}"
   ]
  },
  {
   "cell_type": "markdown",
   "id": "14af9b89",
   "metadata": {},
   "source": [
    "## Supporting Positional Pattern Matching"
   ]
  },
  {
   "cell_type": "markdown",
   "id": "56f752eb",
   "metadata": {},
   "source": [
    "instances are compatible with class keyword pattern\n",
    "\n",
    "to support positional pattern , add class attribute `__match_args__`\n",
    "- listing the instance attributes in the order they will be used for positional pattern matching.\n",
    "- If the class `__init__` has required and optional arguments that are assigned to instance attributes, it may be reasonable to name the required arguments in `__match_args__` but not the optional ones."
   ]
  },
  {
   "cell_type": "code",
   "execution_count": 23,
   "id": "9c00da25",
   "metadata": {},
   "outputs": [],
   "source": [
    "# implement keyword pattern for vector2d\n",
    "def keyword_pattern_demo(v: Vector2d) -> None:\n",
    "    match v:\n",
    "        case Vector2d(x=0, y=0):\n",
    "            print(f'{v!r} is null')\n",
    "        case Vector2d(x=0):\n",
    "            print(f'{v!r} is vertical')\n",
    "        case Vector2d(y=0):\n",
    "            print(f'{v!r} is horizontal')\n",
    "        case Vector2d(x=x, y=y) if x==y:\n",
    "            print(f'{v!r} is diagonal')\n",
    "        case _:\n",
    "            print(f'{v!r} is awesome')\n"
   ]
  },
  {
   "cell_type": "code",
   "execution_count": null,
   "id": "e7e66725",
   "metadata": {},
   "outputs": [],
   "source": [
    "# if you try to use a positional pattern , you get error\n",
    "\n",
    "\"\"\"\n",
    ">>> case Vector2d(_, 0): \n",
    "        print(f'{v!r} is horizontal')\n",
    "\n",
    "    TypeError: Vector2d() accepts 0 positional sub-patterns (1 given)\n",
    "\"\"\""
   ]
  },
  {
   "cell_type": "code",
   "execution_count": null,
   "id": "1e64771e",
   "metadata": {},
   "outputs": [],
   "source": [
    "# add class attribute __match_args__ to class\n",
    "class Vector2d:\n",
    "    __match_args__ = ('x', 'y')\n",
    "    \n",
    "    # etc ...."
   ]
  },
  {
   "cell_type": "code",
   "execution_count": 24,
   "id": "8050642e",
   "metadata": {},
   "outputs": [],
   "source": [
    "# implement positinal pattern\n",
    "\n",
    "def positional_pattern_demo(v: Vector2d) -> None:\n",
    "    match v:\n",
    "        case Vector2d(0, 0):\n",
    "            print(f'{v!r} is null')\n",
    "        case Vector2d(0):\n",
    "            print(f'{v!r} is vertical')\n",
    "        case Vector2d(_, 0):\n",
    "            print(f'{v!r} is horizontal')\n",
    "        case Vector2d(x, y) if x==y:\n",
    "            print(f'{v!r} is diagonal')\n",
    "        case _:\n",
    "            print(f'{v!r} is awesome')"
   ]
  },
  {
   "cell_type": "markdown",
   "id": "e6f8cf77",
   "metadata": {},
   "source": [
    "## Compelete Listing of Vector2d, Version 3"
   ]
  },
  {
   "cell_type": "code",
   "execution_count": 20,
   "id": "518841f3",
   "metadata": {},
   "outputs": [],
   "source": [
    "\"\"\"\n",
    "A 2-dimensional vector class\n",
    "\n",
    "    >>> v1 = Vector2d(3, 4)\n",
    "    >>> print(v1.x, v1.y)\n",
    "    3.0 4.0\n",
    "    >>> x, y = v1\n",
    "    >>> x, y\n",
    "    (3.0, 4.0)\n",
    "    >>> v1\n",
    "    Vector2d(3.0, 4.0)\n",
    "    >>> v1_clone = eval(repr(v1))\n",
    "    >>> v1 == v1_clone\n",
    "    True\n",
    "    >>> print(v1)\n",
    "    (3.0, 4.0)\n",
    "    >>> octets = bytes(v1)\n",
    "    >>> octets\n",
    "    b'd\\\\x00\\\\x00\\\\x00\\\\x00\\\\x00\\\\x00\\\\x08@\\\\x00\\\\x00\\\\x00\\\\x00\\\\x00\\\\x00\\\\x10@'\n",
    "    >>> abs(v1)\n",
    "    5.0\n",
    "    >>> bool(v1), bool(Vector2d(0, 0))\n",
    "    (True, False)\n",
    "\n",
    "\n",
    "Test of ``.frombytes()`` class method:\n",
    "\n",
    "    >>> v1_clone = Vector2d.frombytes(bytes(v1))\n",
    "    >>> v1_clone\n",
    "    Vector2d(3.0, 4.0)\n",
    "    >>> v1 == v1_clone\n",
    "    True\n",
    "\n",
    "\n",
    "Tests of ``format()`` with Cartesian coordinates:\n",
    "\n",
    "    >>> format(v1)\n",
    "    '(3.0, 4.0)'\n",
    "    >>> format(v1, '.2f')\n",
    "    '(3.00, 4.00)'\n",
    "    >>> format(v1, '.3e')\n",
    "    '(3.000e+00, 4.000e+00)'\n",
    "\n",
    "\n",
    "Tests of the ``angle`` method::\n",
    "\n",
    "    >>> Vector2d(0, 0).angle()\n",
    "    0.0\n",
    "    >>> Vector2d(1, 0).angle()\n",
    "    0.0\n",
    "    >>> epsilon = 10**-8\n",
    "    >>> abs(Vector2d(0, 1).angle() - math.pi/2) < epsilon\n",
    "    True\n",
    "    >>> abs(Vector2d(1, 1).angle() - math.pi/4) < epsilon\n",
    "    True\n",
    "\n",
    "\n",
    "Tests of ``format()`` with polar coordinates:\n",
    "\n",
    "    >>> format(Vector2d(1, 1), 'p')  # doctest:+ELLIPSIS\n",
    "    '<1.414213..., 0.785398...>'\n",
    "    >>> format(Vector2d(1, 1), '.3ep')\n",
    "    '<1.414e+00, 7.854e-01>'\n",
    "    >>> format(Vector2d(1, 1), '0.5fp')\n",
    "    '<1.41421, 0.78540>'\n",
    "\n",
    "\n",
    "Tests of `x` and `y` read-only properties:\n",
    "\n",
    "    >>> v1.x, v1.y\n",
    "    (3.0, 4.0)\n",
    "    >>> v1.x = 123\n",
    "    Traceback (most recent call last):\n",
    "      ...\n",
    "    AttributeError: can't set attribute 'x'\n",
    "\n",
    "Tests of hashing:\n",
    "\n",
    "    >>> v1 = Vector2d(3, 4)\n",
    "    >>> v2 = Vector2d(3.1, 4.2)\n",
    "    >>> len({v1, v2})\n",
    "    2\n",
    "\n",
    "\"\"\"\n",
    "\n",
    "from array import array\n",
    "import math\n",
    "\n",
    "# tag::VECTOR2D_V3_SLOTS[]\n",
    "class Vector2d:\n",
    "    __match_args__ = ('x', 'y') \n",
    "\n",
    "    typecode = 'd'\n",
    "\n",
    "    def __init__(self, x, y):\n",
    "        self.__x = float(x)\n",
    "        self.__y = float(y)\n",
    "\n",
    "    @property\n",
    "    def x(self):\n",
    "        return self.__x\n",
    "\n",
    "    @property\n",
    "    def y(self):\n",
    "        return self.__y\n",
    "\n",
    "    def __iter__(self):\n",
    "        return (i for i in (self.x, self.y))\n",
    "\n",
    "    def __repr__(self):\n",
    "        class_name = type(self).__name__\n",
    "        return '{}({!r}, {!r})'.format(class_name, *self)\n",
    "\n",
    "    def __str__(self):\n",
    "        return str(tuple(self))\n",
    "\n",
    "    def __bytes__(self):\n",
    "        return (bytes([ord(self.typecode)]) +\n",
    "                bytes(array(self.typecode, self)))\n",
    "\n",
    "    def __eq__(self, other):\n",
    "        return tuple(self) == tuple(other)\n",
    "\n",
    "    def __hash__(self):\n",
    "        return hash((self.x, self.y))\n",
    "\n",
    "    def __abs__(self):\n",
    "        return math.hypot(self.x, self.y)\n",
    "\n",
    "    def __bool__(self):\n",
    "        return bool(abs(self))\n",
    "\n",
    "    def angle(self):\n",
    "        return math.atan2(self.y, self.x)\n",
    "\n",
    "    def __format__(self, fmt_spec=''):\n",
    "        if fmt_spec.endswith('p'):\n",
    "            fmt_spec = fmt_spec[:-1]\n",
    "            coords = (abs(self), self.angle())\n",
    "            outer_fmt = '<{}, {}>'\n",
    "        else:\n",
    "            coords = self\n",
    "            outer_fmt = '({}, {})'\n",
    "        components = (format(c, fmt_spec) for c in coords)\n",
    "        return outer_fmt.format(*components)\n",
    "\n",
    "    @classmethod\n",
    "    def frombytes(cls, octets):\n",
    "        typecode = chr(octets[0])\n",
    "        memv = memoryview(octets[1:]).cast(typecode)\n",
    "        return cls(*memv)"
   ]
  },
  {
   "cell_type": "markdown",
   "id": "20f730aa",
   "metadata": {},
   "source": [
    "## Private and \"Protected\" Attributes in Python"
   ]
  },
  {
   "cell_type": "markdown",
   "id": "6dc54abd",
   "metadata": {},
   "source": [
    "in python there is no way create literaly private variable.\n",
    "\n",
    "just simple mechansim to prevent accidental overwriting of \"private\" attribute in a subclass.<br>\n",
    "assign same name for two attributes one in superclass and one in subclass<br>\n",
    " will lead to clobber the attribute used by the method inherited. <br> this would be a pain to debug\n",
    "\n",
    "to prevent this, named instance attribute with feature called ***name mangling***:\n",
    " - Name instance in form two leading underscore and zero or at most one trailing underscore \n",
    " - Name mangling, changes the form instances saved in `__dict__`"
   ]
  },
  {
   "cell_type": "code",
   "execution_count": 2,
   "id": "ac88bb51",
   "metadata": {},
   "outputs": [
    {
     "data": {
      "text/plain": [
       "{'x': 3.0, 'y': 4.0}"
      ]
     },
     "execution_count": 2,
     "metadata": {},
     "output_type": "execute_result"
    }
   ],
   "source": [
    "# this cell should run before run \"comlpelete listing of vector2d version3\" to work correctly\n",
    "# attribute names in __dict__ before mangeled \n",
    "v1 = Vector2d(3, 4)\n",
    "v1.__dict__"
   ]
  },
  {
   "cell_type": "code",
   "execution_count": 25,
   "id": "bcace410",
   "metadata": {},
   "outputs": [
    {
     "data": {
      "text/plain": [
       "{'_Vector2d__x': 3.0, '_Vector2d__y': 4.0}"
      ]
     },
     "execution_count": 25,
     "metadata": {},
     "output_type": "execute_result"
    }
   ],
   "source": [
    "# private attribute names are \"mangled\" by prefixing the _ and the class name\n",
    "v1 = Vector2d(3, 4)\n",
    "v1.__dict__"
   ]
  },
  {
   "cell_type": "code",
   "execution_count": 26,
   "id": "2f0ea0e6",
   "metadata": {},
   "outputs": [
    {
     "data": {
      "text/plain": [
       "3.0"
      ]
     },
     "execution_count": 26,
     "metadata": {},
     "output_type": "execute_result"
    }
   ],
   "source": [
    "# anyone can access private attribute so that is not really private \n",
    "# just make them safe from accidental access\n",
    "\n",
    "v1._Vector2d__x"
   ]
  },
  {
   "cell_type": "markdown",
   "id": "40dd86db",
   "metadata": {},
   "source": [
    "- name mangling is about **safety not security**\n",
    "\n",
    "\n",
    "- anyone who knows how private names are mangled can read the private attribute directly and assign a value to private attribute that mangled.\n",
    " >>> `v1._Vector2d__x = 7`\n"
   ]
  },
  {
   "cell_type": "markdown",
   "id": "1e554059",
   "metadata": {},
   "source": [
    "![figure 1-2](https://zehtab.ir/fluentpython%20fig11.png)\n",
    "\n",
    "A cover on a switch is a safety device, not a security one: it prevents accidents, not sabotage."
   ]
  },
  {
   "cell_type": "markdown",
   "id": "f30bfa97",
   "metadata": {},
   "source": [
    "- not all python programers use name mangling \n",
    "- some prefer use just protected attribute with only one underscore prefix\n",
    "- single underscore prefix does not have any meaning to the python intrepreter when used in attribute names (don't change the form instance saved in `__dict__`)\n",
    "- just a convention that you should not access such attributes from outside the class"
   ]
  },
  {
   "cell_type": "markdown",
   "id": "47993838",
   "metadata": {},
   "source": [
    "## Saving memory with `__slots__`\n",
    "\n",
    "`__slots__` save memory by:\n",
    "- prevent dynamic creation of instance attributes in dictionary that is memory intenstive\n",
    "- restrict the instance attributes to only those explicity listed in `__slots__`"
   ]
  },
  {
   "cell_type": "markdown",
   "id": "4907edd5",
   "metadata": {},
   "source": [
    "##### why using `__slots__`\n",
    "- By default python stores attributes of each instance in a dict named `__dict__`\n",
    "- Dict has significant memory overhead\n",
    "- class attribute `__slots__` holding a sequence of attribute (hidden array of refrence) that use less memory than a `dict`\n",
    "##### how implement `__slots__`\n",
    "- `__slots__` must be present when the class is created. adding or changing it later has no effect.\n",
    "- write attribute name in `tuple` or `list` in `__slots__` (preferably do it with tuple)\n",
    "\n",
    "##### effect of `__slots__`\n",
    "- prevent having `__dict__` for instance of a class\n",
    "- instance will only be able to have attributes listed in `__slots__`\n",
    "- you must redeclare `__slots__` in each subclass to prevent their instance from having `__dict__`\n"
   ]
  },
  {
   "cell_type": "markdown",
   "id": "9ca344de",
   "metadata": {},
   "source": [
    "##### caution of using `__slots__`\n",
    "- when `__slots__` defined, weak reference support disabled. \n",
    "    - unless add `__weakref__` in __slots__.\n",
    "- if you want use `@cached_property` decorator:\n",
    "    - it is neccessary to add `__dict__` in `__slots__` (it can entirely defeat optimization and memory saving)\n",
    "\n"
   ]
  },
  {
   "cell_type": "markdown",
   "id": "c6c0ef50",
   "metadata": {},
   "source": [
    "**NOTE:** <br>\n",
    "\n",
    "Because using `__slots__` has side effects, it really makes sense only when handling a very large number of instances—think millions of instances, not just thousands. In many such cases, using `pandas` may be the best option."
   ]
  },
  {
   "cell_type": "code",
   "execution_count": 27,
   "id": "e8fa3e75",
   "metadata": {},
   "outputs": [
    {
     "ename": "AttributeError",
     "evalue": "'Pixel' object has no attribute '__dict__'",
     "output_type": "error",
     "traceback": [
      "\u001b[0;31m---------------------------------------------------------------------------\u001b[0m",
      "\u001b[0;31mAttributeError\u001b[0m                            Traceback (most recent call last)",
      "\u001b[1;32m/Users/bit/Py/Fluent python/ch-11-v3.ipynb Cell 76\u001b[0m line \u001b[0;36m7\n\u001b[1;32m      <a href='vscode-notebook-cell:/Users/bit/Py/Fluent%20python/ch-11-v3.ipynb#Y133sZmlsZQ%3D%3D?line=3'>4</a>\u001b[0m     \u001b[39m__slots__\u001b[39m \u001b[39m=\u001b[39m (\u001b[39m'\u001b[39m\u001b[39mx\u001b[39m\u001b[39m'\u001b[39m, \u001b[39m'\u001b[39m\u001b[39my\u001b[39m\u001b[39m'\u001b[39m)\n\u001b[1;32m      <a href='vscode-notebook-cell:/Users/bit/Py/Fluent%20python/ch-11-v3.ipynb#Y133sZmlsZQ%3D%3D?line=5'>6</a>\u001b[0m p \u001b[39m=\u001b[39m Pixel()\n\u001b[0;32m----> <a href='vscode-notebook-cell:/Users/bit/Py/Fluent%20python/ch-11-v3.ipynb#Y133sZmlsZQ%3D%3D?line=6'>7</a>\u001b[0m p\u001b[39m.\u001b[39;49m\u001b[39m__dict__\u001b[39;49m \u001b[39m# instances of Pixel have no __dict__\u001b[39;00m\n",
      "\u001b[0;31mAttributeError\u001b[0m: 'Pixel' object has no attribute '__dict__'"
     ]
    }
   ],
   "source": [
    "# Pixel class uses __slots__\n",
    "\n",
    "class Pixel:\n",
    "    __slots__ = ('x', 'y')\n",
    "\n",
    "p = Pixel()\n",
    "p.__dict__ # instances of Pixel have no __dict__"
   ]
  },
  {
   "cell_type": "code",
   "execution_count": 28,
   "id": "293de172",
   "metadata": {},
   "outputs": [
    {
     "ename": "AttributeError",
     "evalue": "'Pixel' object has no attribute 'color'",
     "output_type": "error",
     "traceback": [
      "\u001b[0;31m---------------------------------------------------------------------------\u001b[0m",
      "\u001b[0;31mAttributeError\u001b[0m                            Traceback (most recent call last)",
      "\u001b[1;32m/Users/bit/Py/Fluent python/ch-11-v3.ipynb Cell 77\u001b[0m line \u001b[0;36m3\n\u001b[1;32m      <a href='vscode-notebook-cell:/Users/bit/Py/Fluent%20python/ch-11-v3.ipynb#Y134sZmlsZQ%3D%3D?line=0'>1</a>\u001b[0m p\u001b[39m.\u001b[39mx \u001b[39m=\u001b[39m \u001b[39m10\u001b[39m\n\u001b[1;32m      <a href='vscode-notebook-cell:/Users/bit/Py/Fluent%20python/ch-11-v3.ipynb#Y134sZmlsZQ%3D%3D?line=1'>2</a>\u001b[0m p\u001b[39m.\u001b[39my \u001b[39m=\u001b[39m \u001b[39m20\u001b[39m\n\u001b[0;32m----> <a href='vscode-notebook-cell:/Users/bit/Py/Fluent%20python/ch-11-v3.ipynb#Y134sZmlsZQ%3D%3D?line=2'>3</a>\u001b[0m p\u001b[39m.\u001b[39;49mcolor \u001b[39m=\u001b[39m \u001b[39m'\u001b[39m\u001b[39mred\u001b[39m\u001b[39m'\u001b[39m \u001b[39m# color attribute not listed in __slots__\u001b[39;00m\n",
      "\u001b[0;31mAttributeError\u001b[0m: 'Pixel' object has no attribute 'color'"
     ]
    }
   ],
   "source": [
    "p.x = 10\n",
    "p.y = 20\n",
    "p.color = 'red' # color attribute not listed in __slots__"
   ]
  },
  {
   "cell_type": "code",
   "execution_count": 29,
   "id": "bfdf9e81",
   "metadata": {},
   "outputs": [
    {
     "data": {
      "text/plain": [
       "{}"
      ]
     },
     "execution_count": 29,
     "metadata": {},
     "output_type": "execute_result"
    }
   ],
   "source": [
    "# study subclass of Pixel \n",
    "\n",
    "class OpenPixel(Pixel):\n",
    "    pass\n",
    "op =  OpenPixel()\n",
    "op.__dict__"
   ]
  },
  {
   "cell_type": "code",
   "execution_count": 30,
   "id": "da5518b0",
   "metadata": {},
   "outputs": [
    {
     "data": {
      "text/plain": [
       "{}"
      ]
     },
     "execution_count": 30,
     "metadata": {},
     "output_type": "execute_result"
    }
   ],
   "source": [
    "op.x = 8\n",
    "op.__dict__"
   ]
  },
  {
   "cell_type": "code",
   "execution_count": 31,
   "id": "4897da75",
   "metadata": {},
   "outputs": [
    {
     "data": {
      "text/plain": [
       "8"
      ]
     },
     "execution_count": 31,
     "metadata": {},
     "output_type": "execute_result"
    }
   ],
   "source": [
    "op.x"
   ]
  },
  {
   "cell_type": "code",
   "execution_count": 32,
   "id": "06cb9e3e",
   "metadata": {},
   "outputs": [
    {
     "data": {
      "text/plain": [
       "{'color': 'green'}"
      ]
     },
     "execution_count": 32,
     "metadata": {},
     "output_type": "execute_result"
    }
   ],
   "source": [
    "op.color = 'green' # if set attribute not in __slots__ it stores in instance__dict__\n",
    "op.__dict__"
   ]
  },
  {
   "cell_type": "markdown",
   "id": "0088737a",
   "metadata": {},
   "source": [
    "To make sure instance of subclass have no `__dict__`: \n",
    "- must declare `__slots__` again in the subclass "
   ]
  },
  {
   "cell_type": "code",
   "execution_count": 33,
   "id": "3bac1aa8",
   "metadata": {},
   "outputs": [],
   "source": [
    "class ColorPixel(Pixel):\n",
    "    __slots__ = ('color',)\n",
    "cp = ColorPixel()\n"
   ]
  },
  {
   "cell_type": "code",
   "execution_count": 34,
   "id": "ecf488c8",
   "metadata": {},
   "outputs": [
    {
     "ename": "AttributeError",
     "evalue": "'ColorPixel' object has no attribute '__dict__'",
     "output_type": "error",
     "traceback": [
      "\u001b[0;31m---------------------------------------------------------------------------\u001b[0m",
      "\u001b[0;31mAttributeError\u001b[0m                            Traceback (most recent call last)",
      "\u001b[1;32m/Users/bit/Py/Fluent python/ch-11-v3.ipynb Cell 84\u001b[0m line \u001b[0;36m1\n\u001b[0;32m----> <a href='vscode-notebook-cell:/Users/bit/Py/Fluent%20python/ch-11-v3.ipynb#Y144sZmlsZQ%3D%3D?line=0'>1</a>\u001b[0m cp\u001b[39m.\u001b[39;49m\u001b[39m__dict__\u001b[39;49m\n",
      "\u001b[0;31mAttributeError\u001b[0m: 'ColorPixel' object has no attribute '__dict__'"
     ]
    }
   ],
   "source": [
    "cp.__dict__"
   ]
  },
  {
   "cell_type": "code",
   "execution_count": 35,
   "id": "30a8f4f4",
   "metadata": {},
   "outputs": [
    {
     "ename": "AttributeError",
     "evalue": "'ColorPixel' object has no attribute 'flavor'",
     "output_type": "error",
     "traceback": [
      "\u001b[0;31m---------------------------------------------------------------------------\u001b[0m",
      "\u001b[0;31mAttributeError\u001b[0m                            Traceback (most recent call last)",
      "\u001b[1;32m/Users/bit/Py/Fluent python/ch-11-v3.ipynb Cell 85\u001b[0m line \u001b[0;36m4\n\u001b[1;32m      <a href='vscode-notebook-cell:/Users/bit/Py/Fluent%20python/ch-11-v3.ipynb#Y145sZmlsZQ%3D%3D?line=1'>2</a>\u001b[0m cp\u001b[39m.\u001b[39mx \u001b[39m=\u001b[39m \u001b[39m2\u001b[39m \n\u001b[1;32m      <a href='vscode-notebook-cell:/Users/bit/Py/Fluent%20python/ch-11-v3.ipynb#Y145sZmlsZQ%3D%3D?line=2'>3</a>\u001b[0m cp\u001b[39m.\u001b[39mcolor \u001b[39m=\u001b[39m \u001b[39m'\u001b[39m\u001b[39mblue\u001b[39m\u001b[39m'\u001b[39m \n\u001b[0;32m----> <a href='vscode-notebook-cell:/Users/bit/Py/Fluent%20python/ch-11-v3.ipynb#Y145sZmlsZQ%3D%3D?line=3'>4</a>\u001b[0m cp\u001b[39m.\u001b[39;49mflavor \u001b[39m=\u001b[39m \u001b[39m'\u001b[39m\u001b[39mbanana\u001b[39m\u001b[39m'\u001b[39m\n",
      "\u001b[0;31mAttributeError\u001b[0m: 'ColorPixel' object has no attribute 'flavor'"
     ]
    }
   ],
   "source": [
    "# when implement __slots__ in both super and subclass we can set attributes declared in the __slots__ of subclass and superclass but no other.\n",
    "cp.x = 2 \n",
    "cp.color = 'blue' \n",
    "cp.flavor = 'banana'\n"
   ]
  },
  {
   "cell_type": "markdown",
   "id": "5c9ab63c",
   "metadata": {},
   "source": [
    "### Simple Measure of `__slot__` Savings"
   ]
  },
  {
   "cell_type": "code",
   "execution_count": null,
   "id": "e2e05e3c",
   "metadata": {},
   "outputs": [],
   "source": [
    "# Example 11-16\n",
    "class vector2d:\n",
    "    __match_args__ = ('x', 'y')\n",
    "    __slots__ = ('__x', '__y')\n",
    "\n",
    "    typecode = 'd'\n",
    "    #method are the same as the previous version"
   ]
  },
  {
   "cell_type": "code",
   "execution_count": null,
   "id": "6d131c88",
   "metadata": {},
   "outputs": [],
   "source": [
    "#Example 11-17. mem_test.py creates 10 million Vector2d instances using the class defined in the named module\n",
    "\"\"\"\n",
    "$ time python3 mem_test.py vector2d_v3\n",
    "Selected Vector2d type: vector2d_v3.Vector2d\n",
    "Creating 10,000,000 Vector2d instances\n",
    "Initial RAM usage:      6,983,680\n",
    "  Final RAM usage:  1,666,535,424\n",
    "real 0m11.990s\n",
    "user 0m10.861s\n",
    "sys 0m0.978s\n",
    "\n",
    "\n",
    "$ time python3 mem_test.py vector2d_v3_slots\n",
    "Selected Vector2d type: vector2d_v3_slots.Vector2d\n",
    "Creating 10,000,000 Vector2d instances\n",
    "Initial RAM usage:      6,995,968\n",
    "  Final RAM usage:    577,839,104\n",
    "real 0m8.381s\n",
    "user 0m8.006s\n",
    "sys 0m0.352s\n",
    "\"\"\""
   ]
  },
  {
   "cell_type": "markdown",
   "id": "e0f0ab12",
   "metadata": {},
   "source": [
    "## Overriding Class Attributes"
   ]
  },
  {
   "cell_type": "markdown",
   "id": "1d9d0677",
   "metadata": {},
   "source": [
    "A distinctive feature of Python is that how class attributes can be used as default values for instance attributes.\n",
    "\n",
    "for example `typecode` class attribute in vector2d\n",
    "- if instance created without a `typecode` attribute of their own, `self.typecode` will get `typecode` class attribute by default.\n",
    "- if you write an instance attribute that are not exist you create new instance attribute(`typecode` instance attribute) then `self.typecode` retrived the instance typecode\n",
    "\n",
    "**this opens posibility of customizing an individual instance with a different typecode.**\n"
   ]
  },
  {
   "cell_type": "code",
   "execution_count": 36,
   "id": "94a77d23",
   "metadata": {},
   "outputs": [
    {
     "data": {
      "text/plain": [
       "b'd\\x9a\\x99\\x99\\x99\\x99\\x99\\xf1?\\x9a\\x99\\x99\\x99\\x99\\x99\\x01@'"
      ]
     },
     "execution_count": 36,
     "metadata": {},
     "output_type": "execute_result"
    }
   ],
   "source": [
    "# customizing an instance by setting typecode attribute\n",
    "# f typecode means each component represent as 4-byte single precision float \n",
    "# d typecode means each component represent as 8-byte double precision float (vector2d class typecode = 'd')\n",
    "v1 = Vector2d(1.1, 2.2)\n",
    "dumpd = bytes(v1)\n",
    "dumpd"
   ]
  },
  {
   "cell_type": "code",
   "execution_count": 37,
   "id": "ee3199dd",
   "metadata": {},
   "outputs": [
    {
     "data": {
      "text/plain": [
       "17"
      ]
     },
     "execution_count": 37,
     "metadata": {},
     "output_type": "execute_result"
    }
   ],
   "source": [
    "len(dumpd)"
   ]
  },
  {
   "cell_type": "code",
   "execution_count": 38,
   "id": "f31150b7",
   "metadata": {},
   "outputs": [
    {
     "data": {
      "text/plain": [
       "b'f\\xcd\\xcc\\x8c?\\xcd\\xcc\\x0c@'"
      ]
     },
     "execution_count": 38,
     "metadata": {},
     "output_type": "execute_result"
    }
   ],
   "source": [
    "# set the typecode in the v1 instance \n",
    "v1.typecode = 'f'\n",
    "dumpf = bytes(v1)\n",
    "dumpf"
   ]
  },
  {
   "cell_type": "code",
   "execution_count": 39,
   "id": "0af88a08",
   "metadata": {},
   "outputs": [
    {
     "data": {
      "text/plain": [
       "9"
      ]
     },
     "execution_count": 39,
     "metadata": {},
     "output_type": "execute_result"
    }
   ],
   "source": [
    "len(dumpf)"
   ]
  },
  {
   "cell_type": "code",
   "execution_count": 40,
   "id": "f47e6b4e",
   "metadata": {},
   "outputs": [
    {
     "data": {
      "text/plain": [
       "'d'"
      ]
     },
     "execution_count": 40,
     "metadata": {},
     "output_type": "execute_result"
    }
   ],
   "source": [
    "# vector2d.typecode is unchanged; only the v1 instance uses typecode 'f'\n",
    "\n",
    "Vector2d.typecode"
   ]
  },
  {
   "cell_type": "code",
   "execution_count": null,
   "id": "5582dbd7",
   "metadata": {},
   "outputs": [],
   "source": [
    "# if want change class attribute, must set it on the class directly\n",
    "\n",
    "\"\"\"\"\"\n",
    " Vector2d.typecode = 'f'\n",
    " \n",
    "\"\"\"\"\""
   ]
  },
  {
   "cell_type": "markdown",
   "id": "f1c6fe7d",
   "metadata": {},
   "source": [
    "#### Pythonic way for customizing: \n",
    "##### use subclass to customize a class attribue : \n",
    "class attributes are public , they are inherited by subclass.\n",
    "\n",
    "- more premanent effect\n",
    "- more explicit about the change\n",
    "\n",
    "create subclass just to overwrite the default class attribute "
   ]
  },
  {
   "cell_type": "code",
   "execution_count": 41,
   "id": "52b2c49d",
   "metadata": {},
   "outputs": [
    {
     "data": {
      "text/plain": [
       "Shortvector2d(0.09090909090909091, 0.037037037037037035)"
      ]
     },
     "execution_count": 41,
     "metadata": {},
     "output_type": "execute_result"
    }
   ],
   "source": [
    "# create ShortvVector2d as a Vector2d subclass just to overwrite the typecode class attribute\n",
    "\n",
    "class Shortvector2d(Vector2d):\n",
    "    typecode = 'f'\n",
    "\n",
    "sv = Shortvector2d(1/11, 1/27)\n",
    "sv"
   ]
  },
  {
   "cell_type": "code",
   "execution_count": 42,
   "id": "8b9e1fcd",
   "metadata": {},
   "outputs": [
    {
     "data": {
      "text/plain": [
       "9"
      ]
     },
     "execution_count": 42,
     "metadata": {},
     "output_type": "execute_result"
    }
   ],
   "source": [
    "len(bytes(sv))"
   ]
  },
  {
   "cell_type": "markdown",
   "id": "c4e74795",
   "metadata": {},
   "source": [
    "This example justify why we wrote vector2d class_name in `__repr__` in form `type(self).__name__` but not in hardcode form <br>\n",
    "if hardcoded the class_name , then had to overwrite `__repr__` to just change the classname.<br>\n",
    "but now, by reading the name form the type of the instance, we made `__repr__` safer to inherit"
   ]
  },
  {
   "cell_type": "markdown",
   "id": "8075449a",
   "metadata": {},
   "source": [
    "# Lecturers \n",
    "\n",
    "1. Ilya Izadifar [Linkedin](https://www.linkedin.com/in/izadifar)\n",
    "2. Aidin Zehtab [Linkedin](https://linkedin.com/in/aidin-zehtab)\n",
    "\n",
    "\n",
    "present date : 2023-01-12"
   ]
  },
  {
   "cell_type": "markdown",
   "id": "d2759acb",
   "metadata": {},
   "source": [
    "# Reviewers\n",
    "1. Mahya Asgarian, review date: 2023-11-30 [LinkedIn](https://www.linkedin.com/in/mahya-asgarian-9a7b13249)\n",
    "2. Saeed Hemmati, review date: 2023-12-1 [LinkedIn](https://www.linkedin.com/in/saeed-hemati/)\n",
    "3.  Mohammad Ansarifard, review date : 2023-12-1 [Linkedin](https://www.linkedin.com/in/mohammad-ansarifard)"
   ]
  }
 ],
 "metadata": {
  "kernelspec": {
   "display_name": "Python 3 (ipykernel)",
   "language": "python",
   "name": "python3"
  },
  "language_info": {
   "codemirror_mode": {
    "name": "ipython",
    "version": 3
   },
   "file_extension": ".py",
   "mimetype": "text/x-python",
   "name": "python",
   "nbconvert_exporter": "python",
   "pygments_lexer": "ipython3",
   "version": "3.10.9"
  }
 },
 "nbformat": 4,
 "nbformat_minor": 5
}
