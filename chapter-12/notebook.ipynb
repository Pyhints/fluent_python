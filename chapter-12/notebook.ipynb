{
 "cells": [
  {
   "cell_type": "markdown",
   "metadata": {
    "id": "WEmUmFiMIh_B"
   },
   "source": [
    "## Special Methods for Sequences"
   ]
  },
  {
   "cell_type": "markdown",
   "metadata": {
    "id": "Xnazq8qbKjxm"
   },
   "source": [
    "### Vector: A User-Defined Sequence Type"
   ]
  },
  {
   "cell_type": "markdown",
   "metadata": {
    "id": "p4mQPgy6I4ru"
   },
   "source": [
    "* Goal: Create a class to represent multidimensional Vector\n",
    "* `Vector` will behave like standard Python immutable flat sequence\n",
    "  * Baisc sequence protocol: `__len__` and `__getitem__`\n",
    "  * Safe representation of instances with many items\n",
    "  * Proper slicing support, producing new vector instances\n",
    "  * Aggregate hashing, taking into account every contained element value\n",
    "  * Custom formatting language extension\n",
    "  * Dynamic attribute access with `__getattr__`\n",
    "* Strategy: Composition instead of inheritance ---> store components in an array of floats"
   ]
  },
  {
   "cell_type": "markdown",
   "metadata": {
    "id": "0M-42EJXKZAx"
   },
   "source": [
    "### Vector Take #1: Vector2d Compatible"
   ]
  },
  {
   "cell_type": "markdown",
   "metadata": {
    "id": "YtOAxbkJKqP9"
   },
   "source": [
    "* Constructor: Take data as an iterable argument in the constructor, i.e:\n",
    "```\n",
    "Vector([1, 2, 3])\n",
    "```\n",
    "  * Could have subclassed `Vector` from `Vector2d` but incompatible constructors make subclassing not advisable.\n",
    "\n",
    "* Use `reprlib` module to produce limited-length representation\n",
    "  * Because of its role in debugging, calling `repr()` on an object should never raise exception"
   ]
  },
  {
   "cell_type": "code",
   "execution_count": 4,
   "metadata": {
    "id": "79RHuFk8IYNE"
   },
   "outputs": [],
   "source": [
    "from array import array\n",
    "import reprlib\n",
    "import math\n",
    "import operator\n",
    "\n",
    "\n",
    "class Vector1:\n",
    "    typecode = 'd'\n",
    "\n",
    "    def __init__(self, components):\n",
    "        self._components = array(self.typecode, components)  # self._components: protected attribute, array with Vector components\n",
    "\n",
    "    def __iter__(self):\n",
    "        return iter(self._components)  # iterator over self._components\n",
    "\n",
    "    def __repr__(self):\n",
    "        components = reprlib.repr(self._components)\n",
    "        components = components[components.find('['):-1]\n",
    "        return f'Vector({components})'\n",
    "\n",
    "    def __str__(self):\n",
    "        return str(tuple(self))\n",
    "\n",
    "    def __bytes__(self):\n",
    "        return (bytes([ord(self.typecode)]) +\n",
    "                bytes(self._components))\n",
    "\n",
    "    def __eq__(self, other):\n",
    "        return tuple(self) == tuple(other)\n",
    "\n",
    "    def __abs__(self):\n",
    "        return math.hypot(*self)  # since python 3.8: math.hypot accecpts N-dimensional points\n",
    "\n",
    "    def __bool__(self):\n",
    "        return bool(abs(self))\n",
    "\n",
    "    @classmethod\n",
    "    def frombytes(cls, octets):\n",
    "        typecode = chr(octets[0])\n",
    "        memv = memoryview(octets[1:]).cast(typecode)\n",
    "        return cls(memv)  # Pass memoryview withount unpacking with * to constructor"
   ]
  },
  {
   "cell_type": "markdown",
   "metadata": {
    "id": "MaF_2c2XRTBF"
   },
   "source": [
    "### Protocols and Duck Typing"
   ]
  },
  {
   "cell_type": "markdown",
   "metadata": {
    "id": "F2ptbfEsRZQK"
   },
   "source": [
    "* Don't need to inherit from any special class to create a fully functional sequence type in Python.\n",
    "* Just need to implement the methods that fulfill the sequence *protocol*.\n",
    "* Protocol is an informal interface defined only in documentation and not in code.\n",
    "* Sequence protocol in Python: just implement `__len__` and `__getitem__` methods.\n",
    "* All that matters is that it provides the necessary methods ----> This became know as *duck typing*\n",
    "* Because protocols are informal and unenforced, can often get away with implementing just part of a protocl if know the specific context where a class will be used, e.g to support iteration only `__getitem__` is needed, no need to `__len__`.\n",
    "* Two kinds of protoclos: *static protocol* and *dynamic protocol*\n",
    "* One key difference between them is that static protocol implementations must provide all methods defined in the protocol class (More about protocols in Chapter 13)."
   ]
  },
  {
   "cell_type": "markdown",
   "metadata": {
    "id": "c-jBlqkPVQSD"
   },
   "source": [
    "### Vector Take #2: A sliceable Sequence"
   ]
  },
  {
   "cell_type": "markdown",
   "metadata": {
    "id": "MQsObv6jVcEd"
   },
   "source": [
    "* Need `__len__` and `__getitem__` in `Vector` to support sequence protocol.\n",
    "* Slice of a `Vector` should be a `Vector` instance ----> Need to analyze the arguments get in `__getitem__`."
   ]
  },
  {
   "cell_type": "code",
   "execution_count": 5,
   "metadata": {
    "colab": {
     "base_uri": "https://localhost:8080/"
    },
    "id": "XDJBszmKNvxk",
    "outputId": "4584731f-252c-4304-b272-adef73057af2"
   },
   "outputs": [
    {
     "name": "stdout",
     "output_type": "stream",
     "text": [
      "1\n",
      "slice(1, 4, None)\n",
      "slice(1, 4, 2)\n",
      "(slice(1, 4, 2), 9)\n",
      "(slice(1, 4, 2), slice(7, 9, None))\n"
     ]
    }
   ],
   "source": [
    "# example 12-4\n",
    "class MySeq:\n",
    "    def __getitem__(self, index):\n",
    "        return index\n",
    "\n",
    "s = MySeq()\n",
    "print(s[1])\n",
    "print(s[1:4])\n",
    "print(s[1:4:2])\n",
    "print(s[1:4:2, 9])  # presence of commas inside [] means __getitem__ receives a tuple\n",
    "print(s[1:4:2, 7:9])"
   ]
  },
  {
   "cell_type": "code",
   "execution_count": 6,
   "metadata": {
    "colab": {
     "base_uri": "https://localhost:8080/"
    },
    "id": "dM8AMO8YW97t",
    "outputId": "8d66df92-9fbd-4265-a499-02461276780c"
   },
   "outputs": [
    {
     "data": {
      "text/plain": [
       "['__class__',\n",
       " '__delattr__',\n",
       " '__dir__',\n",
       " '__doc__',\n",
       " '__eq__',\n",
       " '__format__',\n",
       " '__ge__',\n",
       " '__getattribute__',\n",
       " '__getstate__',\n",
       " '__gt__',\n",
       " '__hash__',\n",
       " '__init__',\n",
       " '__init_subclass__',\n",
       " '__le__',\n",
       " '__lt__',\n",
       " '__ne__',\n",
       " '__new__',\n",
       " '__reduce__',\n",
       " '__reduce_ex__',\n",
       " '__repr__',\n",
       " '__setattr__',\n",
       " '__sizeof__',\n",
       " '__str__',\n",
       " '__subclasshook__',\n",
       " 'indices',\n",
       " 'start',\n",
       " 'step',\n",
       " 'stop']"
      ]
     },
     "execution_count": 6,
     "metadata": {},
     "output_type": "execute_result"
    }
   ],
   "source": [
    "dir(slice)  # start, stop, step attributes, indices mthod"
   ]
  },
  {
   "cell_type": "code",
   "execution_count": 7,
   "metadata": {
    "colab": {
     "base_uri": "https://localhost:8080/"
    },
    "id": "GRoAVuo0XcOM",
    "outputId": "b5efad63-937f-4a3b-9d64-182d879a1bc0"
   },
   "outputs": [
    {
     "name": "stdout",
     "output_type": "stream",
     "text": [
      "Help on method_descriptor:\n",
      "\n",
      "indices(...)\n",
      "    S.indices(len) -> (start, stop, stride)\n",
      "    \n",
      "    Assuming a sequence of length len, calculate the start and stop\n",
      "    indices, and the stride length of the extended slice described by\n",
      "    S. Out of bounds indices are clipped in a manner consistent with the\n",
      "    handling of normal slices.\n",
      "\n"
     ]
    }
   ],
   "source": [
    "help(slice.indices)"
   ]
  },
  {
   "cell_type": "markdown",
   "metadata": {
    "id": "nKYTQ9xiX1Mg"
   },
   "source": [
    "* `indices` method gracefully handle missing or negative indices and slices that are longer than the original sequence.\n",
    "* This method produces normalized tuples of nonnegative start, stop and stride integers tailored to a sequence of the given length"
   ]
  },
  {
   "cell_type": "code",
   "execution_count": 8,
   "metadata": {},
   "outputs": [
    {
     "name": "stdout",
     "output_type": "stream",
     "text": [
      "(0, 5, 2)\n",
      "(2, 5, 1)\n"
     ]
    }
   ],
   "source": [
    "print(slice(None, 10, 2).indices(5))    # The length of the sequence is 5.\n",
    "print(slice(-3, None, None).indices(5))"
   ]
  },
  {
   "cell_type": "markdown",
   "metadata": {
    "id": "hDTpUBNpYt24"
   },
   "source": [
    "* `Vector` won't need the `slice.indices()` method because `array` in constructor will handle it."
   ]
  },
  {
   "cell_type": "code",
   "execution_count": 9,
   "metadata": {
    "id": "RCWzRohwXvI1"
   },
   "outputs": [],
   "source": [
    "class Vector2(Vector1):\n",
    "    def __len__(self):\n",
    "        return len(self._components)\n",
    "\n",
    "    def __getitem__(self, key):\n",
    "        if isinstance(key, slice):\n",
    "            cls = type(self)\n",
    "            return cls(self._components[key])  # invoke the class to build another Vector instance from a slice of the _components array\n",
    "        index = operator.index(key)\n",
    "        return self._components[index]  # return specific item from _components"
   ]
  },
  {
   "cell_type": "markdown",
   "metadata": {
    "id": "eXKucmACfhEr"
   },
   "source": [
    "* `operator.index()` ----> calls the `__index__` special method.\n",
    "* `operator.index()` and `__index__` defined in PEP 357 to allow any of numerous types of integers in `Numpy` to be used as indexes and slice arguments.\n",
    "* Key difference between `int()` and `operator.index()` is that the former is intended for this specific purpose, e.g , `int(3.14)` returns 3 and `operator.index(3.14)` raise `TypeError`.\n"
   ]
  },
  {
   "cell_type": "code",
   "execution_count": 10,
   "metadata": {
    "colab": {
     "base_uri": "https://localhost:8080/"
    },
    "id": "OZ8-N7E3ZhZX",
    "outputId": "60a89d2b-83cc-400c-a47d-af632ccb8131"
   },
   "outputs": [
    {
     "data": {
      "text/plain": [
       "6.0"
      ]
     },
     "execution_count": 10,
     "metadata": {},
     "output_type": "execute_result"
    }
   ],
   "source": [
    "# example 12-7\n",
    "v = Vector2(range(7))\n",
    "v[-1]"
   ]
  },
  {
   "cell_type": "code",
   "execution_count": 11,
   "metadata": {
    "colab": {
     "base_uri": "https://localhost:8080/"
    },
    "id": "F_-EgtQRhZNR",
    "outputId": "14139937-9baf-4e67-ac87-8216c9b495f2"
   },
   "outputs": [
    {
     "data": {
      "text/plain": [
       "Vector([1.0, 2.0, 3.0])"
      ]
     },
     "execution_count": 11,
     "metadata": {},
     "output_type": "execute_result"
    }
   ],
   "source": [
    "v[1:4]"
   ]
  },
  {
   "cell_type": "code",
   "execution_count": 12,
   "metadata": {
    "colab": {
     "base_uri": "https://localhost:8080/"
    },
    "id": "N_ODF61rh_e_",
    "outputId": "27efabae-2d0c-48c1-ca21-6b8a3d31d376"
   },
   "outputs": [
    {
     "data": {
      "text/plain": [
       "Vector([6.0])"
      ]
     },
     "execution_count": 12,
     "metadata": {},
     "output_type": "execute_result"
    }
   ],
   "source": [
    "v[-1:]  # slice of len = 1 creates a Vector"
   ]
  },
  {
   "cell_type": "code",
   "execution_count": 13,
   "metadata": {
    "colab": {
     "base_uri": "https://localhost:8080/",
     "height": 279
    },
    "id": "-YdLmHd-iBMW",
    "outputId": "8861ad1f-1309-4057-c289-ebbc4e42853d"
   },
   "outputs": [
    {
     "ename": "TypeError",
     "evalue": "'tuple' object cannot be interpreted as an integer",
     "output_type": "error",
     "traceback": [
      "\u001b[0;31m---------------------------------------------------------------------------\u001b[0m",
      "\u001b[0;31mTypeError\u001b[0m                                 Traceback (most recent call last)",
      "\u001b[1;32m/home/mehdi/Downloads/Telegram Desktop/ch-12-v3.ipynb Cell 22\u001b[0m line \u001b[0;36m1\n\u001b[0;32m----> <a href='vscode-notebook-cell:/home/mehdi/Downloads/Telegram%20Desktop/ch-12-v3.ipynb#X30sZmlsZQ%3D%3D?line=0'>1</a>\u001b[0m v[\u001b[39m1\u001b[39;49m,\u001b[39m2\u001b[39;49m]\n",
      "\u001b[1;32m/home/mehdi/Downloads/Telegram Desktop/ch-12-v3.ipynb Cell 22\u001b[0m line \u001b[0;36m9\n\u001b[1;32m      <a href='vscode-notebook-cell:/home/mehdi/Downloads/Telegram%20Desktop/ch-12-v3.ipynb#X30sZmlsZQ%3D%3D?line=6'>7</a>\u001b[0m     \u001b[39mcls\u001b[39m \u001b[39m=\u001b[39m \u001b[39mtype\u001b[39m(\u001b[39mself\u001b[39m)\n\u001b[1;32m      <a href='vscode-notebook-cell:/home/mehdi/Downloads/Telegram%20Desktop/ch-12-v3.ipynb#X30sZmlsZQ%3D%3D?line=7'>8</a>\u001b[0m     \u001b[39mreturn\u001b[39;00m \u001b[39mcls\u001b[39m(\u001b[39mself\u001b[39m\u001b[39m.\u001b[39m_components[key])  \u001b[39m# invoke the class to build another Vector instance from a slice of the _components array\u001b[39;00m\n\u001b[0;32m----> <a href='vscode-notebook-cell:/home/mehdi/Downloads/Telegram%20Desktop/ch-12-v3.ipynb#X30sZmlsZQ%3D%3D?line=8'>9</a>\u001b[0m index \u001b[39m=\u001b[39m operator\u001b[39m.\u001b[39;49mindex(key)\n\u001b[1;32m     <a href='vscode-notebook-cell:/home/mehdi/Downloads/Telegram%20Desktop/ch-12-v3.ipynb#X30sZmlsZQ%3D%3D?line=9'>10</a>\u001b[0m \u001b[39mreturn\u001b[39;00m \u001b[39mself\u001b[39m\u001b[39m.\u001b[39m_components[index]\n",
      "\u001b[0;31mTypeError\u001b[0m: 'tuple' object cannot be interpreted as an integer"
     ]
    }
   ],
   "source": [
    "v[1,2]"
   ]
  },
  {
   "cell_type": "markdown",
   "metadata": {
    "id": "tL9gVkaliMhf"
   },
   "source": [
    "### Vector Take #3: Dynamic Atrribute Access"
   ]
  },
  {
   "cell_type": "markdown",
   "metadata": {
    "id": "iPzXC6yoiUcc"
   },
   "source": [
    "* Want to access the first few components with shortcut letters like x, y, z instead of `v[0]`, `v[1]`, `v[2]`.\n",
    "* Can provide read-only access to x, y using `@property`.\n",
    "* `__getattr__` special method is better.\n",
    "* `__getattr__` is invoked by the interpreter when attribute lookup fails.\n",
    "* Given expression `obj.x`, Python checks if the `obj` intance has an attribute named `x`.\n",
    "  * if not, search goes to the class (`obj.__class__`) and then up to the inheritance graph.\n",
    "  * if not found, `__getattr__` method defined in class of `obj` is called with `self` and name of attribute as string."
   ]
  },
  {
   "cell_type": "code",
   "execution_count": 14,
   "metadata": {
    "colab": {
     "base_uri": "https://localhost:8080/"
    },
    "id": "VR8nI9ABiDFK",
    "outputId": "dcef21e6-fde7-4245-cda0-c16a332ddfa0"
   },
   "outputs": [
    {
     "name": "stdout",
     "output_type": "stream",
     "text": [
      "0.0\n",
      "10\n"
     ]
    },
    {
     "data": {
      "text/plain": [
       "Vector([0.0, 1.0, 2.0, 3.0, 4.0])"
      ]
     },
     "execution_count": 14,
     "metadata": {},
     "output_type": "execute_result"
    }
   ],
   "source": [
    "class vector3(Vector2):\n",
    "    __match_args__ = ('x', 'y', 'z', 't')  # allow positional pattern matching on dynamic attributes supported by __getattr__\n",
    "\n",
    "    def __getattr__(self, name):\n",
    "        cls = type(self)  # <2>\n",
    "        try:\n",
    "            pos = cls.__match_args__.index(name)  # get position of name in __match_args__\n",
    "        except ValueError:  # if name not found\n",
    "            pos = -1\n",
    "        if 0 <= pos < len(self._components):  # <5>\n",
    "            return self._components[pos]\n",
    "        msg = f'{cls.__name__!r} object has no attribute {name!r}'  # <6>\n",
    "        raise AttributeError(msg)\n",
    "\n",
    "v3 = vector3(range(5))\n",
    "print(v3.x)\n",
    "v3.x = 10  # Assigning new value to x should raise an exception\n",
    "print(v3.x)\n",
    "v3  #  vector components did not change"
   ]
  },
  {
   "cell_type": "code",
   "execution_count": 15,
   "metadata": {},
   "outputs": [
    {
     "name": "stdout",
     "output_type": "stream",
     "text": [
      "{'_components': array('d', [0.0, 1.0, 2.0, 3.0, 4.0]), 'x': 10}\n"
     ]
    }
   ],
   "source": [
    "print(v3.__dict__)"
   ]
  },
  {
   "cell_type": "markdown",
   "metadata": {
    "id": "4ydXlaKvln60"
   },
   "source": [
    "* After assinging value to attribute `x`, `v3` object now has `x` attribute so `__getattr__` will no longer be called to retrieve `v3.x`.\n",
    "* The interpreter just return the value 10 that is bound to `v3.x`.\n",
    "* `__getattr__` pays no attention to instance attributes other than `self._components` from where it retrieves the values of the virtual attributes listed in `__match_args__`.\n",
    "* Need to customize the logic for setting attribute in order to avoid inconsistency by implementing `__setattr__`.\n",
    "* When implementing `__getattr__`, very often need to code `__setattr__` to avoid inconsistent behavior in objects.\n",
    "* If want to allow changing components, can implement:\n",
    "    * `__setitem__` to enable `v[0] = 1.1`\n",
    "    * `__setattr__` to make `v.x = 1.1` work.\n",
    "* `Vector` is immutable so no need to allow changing components."
   ]
  },
  {
   "cell_type": "code",
   "execution_count": null,
   "metadata": {
    "id": "7Kh_jTlLlTCy"
   },
   "outputs": [],
   "source": [
    "class Vector3(Vector2):\n",
    "    __match_args__ = ('x', 'y', 'z', 't')\n",
    "\n",
    "    def __getattr__(self, name):\n",
    "        cls = type(self)\n",
    "        try:\n",
    "            pos = cls.__match_args__.index(name)\n",
    "        except ValueError:\n",
    "            pos = -1\n",
    "        if 0 <= pos < len(self._components):\n",
    "            return self._components[pos]\n",
    "        msg = f'{cls.__name__!r} object has no attribute {name!r}'\n",
    "        raise AttributeError(msg)\n",
    "\n",
    "    def __setattr__(self, name, value):\n",
    "        cls = type(self)\n",
    "        if len(name) == 1:\n",
    "            if name in cls.__match_args__:\n",
    "                error = 'readonly attribute {attr_name!r}'\n",
    "            elif name.islower():\n",
    "                error = \"can't set attributes 'a' to 'z' in {cls_name!r}\"\n",
    "            else:\n",
    "                error = ''\n",
    "            if error:\n",
    "                msg = error.format(cls_name=cls.__name__, attr_name=name)\n",
    "                raise AttributeError(msg)\n",
    "        super().__setattr__(name, value)  # call __setattr__ on superclass for standard behavior"
   ]
  },
  {
   "cell_type": "markdown",
   "metadata": {
    "id": "dnFVgeVovKUD"
   },
   "source": [
    "* Can use `__slots__` at class level to prevent setting new instance attributes.\n",
    "* Using `__slots__` just to prevent instance attribute creation is not recommended.\n",
    "* `__slots__` should be used only to save memory."
   ]
  },
  {
   "cell_type": "markdown",
   "metadata": {
    "id": "-vL14Wdoyi_e"
   },
   "source": [
    "### Vector Take #4: Hashing and a Faster =="
   ]
  },
  {
   "cell_type": "markdown",
   "metadata": {
    "id": "N-ety69VyrBk"
   },
   "source": [
    "* `__hash__` and `__eq__` will make `Vector` instances hashable.\n",
    "* Can't use tuple to compute hash like in `Vector2d` because `Vector` instances may be dealing with thousands of components.\n",
    "* Use `^` (xor) operator to the hashes of every component in succession ----> `functools.reduce` will be used.\n",
    "* Key idea of `reduce()` is to reduce a series of values to a single value:\n",
    "  * First argument to `reduce()` is a two-argument function.\n",
    "  * Second argument is an iterable.\n",
    "  * Third argument is initializer. `initializer` is the value returned if the sequence is empty and is used as the first argument in reducing loop, so it should be the identity value of the operation.\n",
    "  * When using `reduce`, it's good practice to provide `initializer` to prevent `TypeError` exception.\n",
    "  * When calling `reduce(fn, list)`, `fn` will be applied to the first pair of elements of the iterable ----> `fn(list[0], list[1])` ----> producing first result `r1`.\n",
    "  * Then `fn` is applied to `r1` and next element ----> `fn(r1, list[2])` ----> producing second result `r2`.\n",
    "  * `fn(r2, list[3])` ----> producing `r3`\n",
    "  * until last element when a single result `rN` is returned.\n",
    "* For `^` operator can use `operator.xor`.\n",
    "* `operator` module provides functionality of all python infix operators in function form ----> less need to `lambda`.\n",
    "* Can use `map-reduce` computation ----> The mapping step produces one hash for each component, reduce step aggregates all hashes with the xor operator.\n",
    "* In Python3, `map` is lazy; it creates a generator that yields the results on demand, thus saving memory.\n",
    "* `__eq__` method for `Vector` instances that may have thousands of components is inefficient. It builds two tuples copying the entire contents of the operands just to use `__eq__` of tuple. Also it considers `Vector([1,2])` equal to `(1, 2)` which may be a problem"
   ]
  },
  {
   "cell_type": "code",
   "execution_count": null,
   "metadata": {
    "id": "IXVM1t6OvGXj"
   },
   "outputs": [],
   "source": [
    "import functools\n",
    "\n",
    "class Vector4(Vector3):\n",
    "    def __eq__(self, other):\n",
    "        return (len(self) == len(other) and  # Checking len, because zip stops producing values without warning as soon as one of the inputs is exhausted.\n",
    "                all(a == b for a, b in zip(self, other)))  # zip produces a generator of tuples made from the items in each iterable.\n",
    "\n",
    "    def __hash__(self):\n",
    "        hashes = (hash(x) for x in self)\n",
    "        return functools.reduce(operator.xor, hashes, 0)"
   ]
  },
  {
   "cell_type": "markdown",
   "metadata": {
    "id": "pRvMH1ON7tyI"
   },
   "source": [
    "* `all` function used in `__eq__` can produce same aggregate computation of `for` loop in one line. If all comparisons between corresponding components in the operands are `True`, result is `True`. As soon as one comparison is `False`, `all` returns `False`."
   ]
  },
  {
   "cell_type": "markdown",
   "metadata": {
    "id": "budh0jxr8LlG"
   },
   "source": [
    "### Vector Take #5: Formatting"
   ]
  },
  {
   "cell_type": "markdown",
   "metadata": {
    "id": "CA913dAO8PyZ"
   },
   "source": [
    "* `Vector` will use spherical coordinates.\n",
    "* Change custom format suffix from `'p'` to `'h'`.\n",
    "* `'h'` code will produce a display like `<r, a1, a2, a3>`, `r` is the magnitude, and the remaining numbers are the angular components a1, a2, a3.\n",
    "* `angle(n)` method compute one of the angular coordinates.\n",
    "* `angles()` return an iterable of all angular coordinates."
   ]
  },
  {
   "cell_type": "code",
   "execution_count": 16,
   "metadata": {
    "id": "ZXFmIQbj8GGy"
   },
   "outputs": [],
   "source": [
    "import itertools\n",
    "\n",
    "class Vector:\n",
    "    typecode = 'd'\n",
    "\n",
    "    def __init__(self, components):\n",
    "        self._components = array(self.typecode, components)\n",
    "\n",
    "    def __iter__(self):\n",
    "        return iter(self._components)\n",
    "\n",
    "    def __repr__(self):\n",
    "        components = reprlib.repr(self._components)\n",
    "        components = components[components.find('['):-1]\n",
    "        return f'Vector({components})'\n",
    "\n",
    "    def __str__(self):\n",
    "        return str(tuple(self))\n",
    "\n",
    "    def __bytes__(self):\n",
    "        return (bytes([ord(self.typecode)]) +\n",
    "                bytes(self._components))\n",
    "\n",
    "    def __eq__(self, other):\n",
    "        return (len(self) == len(other) and\n",
    "                all(a == b for a, b in zip(self, other)))\n",
    "\n",
    "    def __hash__(self):\n",
    "        hashes = (hash(x) for x in self)\n",
    "        return functools.reduce(operator.xor, hashes, 0)\n",
    "\n",
    "    def __abs__(self):\n",
    "        return math.hypot(*self)\n",
    "\n",
    "    def __bool__(self):\n",
    "        return bool(abs(self))\n",
    "\n",
    "    def __len__(self):\n",
    "        return len(self._components)\n",
    "\n",
    "    def __getitem__(self, key):\n",
    "        if isinstance(key, slice):\n",
    "            cls = type(self)\n",
    "            return cls(self._components[key])\n",
    "        index = operator.index(key)\n",
    "        return self._components[index]\n",
    "\n",
    "    __match_args__ = ('x', 'y', 'z', 't')\n",
    "\n",
    "    def __getattr__(self, name):\n",
    "        print(\"test\")\n",
    "        cls = type(self)\n",
    "        try:\n",
    "            pos = cls.__match_args__.index(name)\n",
    "        except ValueError:\n",
    "            pos = -1\n",
    "        if 0 <= pos < len(self._components):\n",
    "            return self._components[pos]\n",
    "        msg = f'{cls.__name__!r} object has no attribute {name!r}'\n",
    "        raise AttributeError(msg)\n",
    "\n",
    "    def angle(self, n):\n",
    "        r = math.hypot(*self[n:])\n",
    "        a = math.atan2(r, self[n-1])\n",
    "        if (n == len(self) - 1) and (self[-1] < 0):\n",
    "            return math.pi * 2 - a\n",
    "        else:\n",
    "            return a\n",
    "\n",
    "    def angles(self):\n",
    "        return (self.angle(n) for n in range(1, len(self)))\n",
    "\n",
    "    def __format__(self, fmt_spec=''):\n",
    "        if fmt_spec.endswith('h'):  # hyperspherical coordinates\n",
    "            fmt_spec = fmt_spec[:-1]\n",
    "            coords = itertools.chain([abs(self)],\n",
    "                                     self.angles())  # use itertools.chain to produce genexp to iterate seamlessly over the magnitude and angular coordinates\n",
    "            outer_fmt = '<{}>'\n",
    "        else:\n",
    "            coords = self\n",
    "            outer_fmt = '({})'\n",
    "        components = (format(c, fmt_spec) for c in coords)\n",
    "        return outer_fmt.format(', '.join(components))\n",
    "\n",
    "    @classmethod\n",
    "    def frombytes(cls, octets):\n",
    "        typecode = chr(octets[0])\n",
    "        memv = memoryview(octets[1:]).cast(typecode)\n",
    "        return cls(memv)"
   ]
  },
  {
   "cell_type": "code",
   "execution_count": 18,
   "metadata": {},
   "outputs": [
    {
     "name": "stdout",
     "output_type": "stream",
     "text": [
      "(0.0, 1.0, 2.0)\n"
     ]
    }
   ],
   "source": [
    "v1 = Vector(range(3))\n",
    "print(v1)"
   ]
  },
  {
   "cell_type": "markdown",
   "metadata": {
    "id": "pXUPlNOLBUTS"
   },
   "source": [
    "### Lecturers"
   ]
  },
  {
   "cell_type": "markdown",
   "metadata": {
    "id": "8tsL-0RLBXCD"
   },
   "source": [
    "\n",
    "\n",
    "*   Mohammad Mehdi Heidari: [Linkedin](https://www.linkedin.com/in/mohammad-mehdi-heidari-70b76611a)\n",
    "*   Saeed Hemmati : [Linkedin](https://www.linkedin.com/in/saeed-hemati/)\n",
    "\n",
    "Presentation Date : 12-08-2023"
   ]
  },
  {
   "cell_type": "markdown",
   "metadata": {
    "id": "SJb1BZJisCIB"
   },
   "source": [
    "### Reviewers"
   ]
  },
  {
   "cell_type": "markdown",
   "metadata": {
    "id": "v5DzZV8gsHfy"
   },
   "source": [
    "\n",
    "\n",
    "1.   Mahya Asgarian, Review Date : 12-08-2023, [Linkedin](https://www.linkedin.com/in/mahya-asgarian-9a7b13249/)\n"
   ]
  }
 ],
 "metadata": {
  "colab": {
   "provenance": [],
   "toc_visible": true
  },
  "kernelspec": {
   "display_name": "Python 3 (ipykernel)",
   "language": "python",
   "name": "python3"
  },
  "language_info": {
   "codemirror_mode": {
    "name": "ipython",
    "version": 3
   },
   "file_extension": ".py",
   "mimetype": "text/x-python",
   "name": "python",
   "nbconvert_exporter": "python",
   "pygments_lexer": "ipython3",
   "version": "3.11.2"
  }
 },
 "nbformat": 4,
 "nbformat_minor": 1
}
