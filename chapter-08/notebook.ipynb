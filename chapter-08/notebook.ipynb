{
  "cells": [
    {
      "cell_type": "markdown",
      "id": "5b5334ce",
      "metadata": {
        "id": "5b5334ce"
      },
      "source": [
        "# Gradual Typing\n"
      ]
    },
    {
      "cell_type": "markdown",
      "id": "1bfc3fbb",
      "metadata": {
        "id": "1bfc3fbb"
      },
      "source": [
        "- optional: type checker doesn't emit warning. It assumes the Any type when it cannot determine\n",
        "  the type of an object. The Any type is considered compatible with all other types\n",
        "- Does not catch type errors at runtime\n",
        "- Does not enhance performance: In theory type annotations are like labels you can put on your code\n",
        "  to tell what kind of data should go where.\n",
        "  However, as of July 2021, no version of Python actually uses these labels to speed up your code.\n",
        "\n",
        "Note that: Type hints are optional at all levels: you can have entire packages with no type hints\n",
        "\n",
        "$\\color{red}{warning}$: it’s better not to use type hints every where. For example, if adding type hints would make a function harder to use (less “user-friendly”) or would make the code more complicated than it needs to be, it’s better to leave them out\n"
      ]
    },
    {
      "cell_type": "code",
      "execution_count": 1,
      "id": "52a4fcf0",
      "metadata": {
        "id": "52a4fcf0",
        "outputId": "a771c9ae-4843-47f8-8f81-744748015725"
      },
      "outputs": [
        {
          "name": "stdout",
          "output_type": "stream",
          "text": [
            "99 birds\n",
            "1 bird\n"
          ]
        }
      ],
      "source": [
        "# Example 8-1\n",
        "# without type hints\n",
        "def show_count(count, word):\n",
        "    if count == 1:\n",
        "        return f\"1 {word}\"\n",
        "    count_str = str(count) if count else \"no\"\n",
        "    return f\"{count_str} {word}s\"\n",
        "\n",
        "\n",
        "print(show_count(99, \"bird\"))\n",
        "print(show_count(1, \"bird\"))"
      ]
    },
    {
      "cell_type": "code",
      "execution_count": 6,
      "id": "817f1e9c",
      "metadata": {
        "id": "817f1e9c"
      },
      "outputs": [],
      "source": [
        "from pytest import mark\n",
        "\n",
        "\n",
        "#!pip install mypy\n",
        "# possibility of different results because occasional changes in it break backward compatibility.\n",
        "# Example 8-2\n",
        "@mark.parametrize(\n",
        "    \"qty, expected\",\n",
        "    [\n",
        "        (1, \"1 part\"),\n",
        "        (2, \"2 parts\"),\n",
        "    ],\n",
        ")\n",
        "def test_show_count(qty, expected):\n",
        "    got = show_count(qty, \"part\")\n",
        "    assert got == expected\n",
        "\n",
        "\n",
        "def test_show_count_zero():\n",
        "    got = show_count(0, \"part\")\n",
        "    assert got == \"no parts\""
      ]
    },
    {
      "cell_type": "markdown",
      "id": "90052608",
      "metadata": {
        "id": "90052608"
      },
      "source": [
        "- --disallow-untyped-defs makes Mypy report an error for any function that does not have type hints for all its parameters\n",
        "\n",
        "- --disallow-incomplete-defs makes Mypy report an error for any function that has incomplete type hints. Incomplete type hints are type hints that are missing some information, such as the type of some parameters or the return value\n",
        "\n",
        "$\\color{red}{Note}$ $\\color{red}{that}$\n",
        "\n",
        "Using --disallow-untyped-defs on messages_test.py produces <u>three errors and a note</u>, because none of the functions in messages.py and messages_test.py have type hints.\n",
        "\n",
        "Using --disallow-incomplete-defs on messages_test.py produces <u>no errors</u>, because none of the functions have any type hints\n",
        "\n",
        "**Another way is using mypy.ini**\n",
        "\n",
        "[mypy]\n",
        "\n",
        "python_version = 3.9\n",
        "\n",
        "warn_unused_configs = True\n",
        "\n",
        "disallow_incomplete_defs = True\n"
      ]
    },
    {
      "cell_type": "code",
      "execution_count": null,
      "id": "dab7a640",
      "metadata": {
        "id": "dab7a640"
      },
      "outputs": [],
      "source": [
        "def show_count(count: int, word: str) -> str:\n",
        "    pass"
      ]
    },
    {
      "cell_type": "code",
      "execution_count": null,
      "id": "7d1bc595",
      "metadata": {
        "id": "7d1bc595"
      },
      "outputs": [],
      "source": [
        "# Example 8-3.\n",
        "def show_count(count: int, singular: str, plural: str = \"\") -> str:\n",
        "    if count == 1:\n",
        "        return f\"1 {singular}\"\n",
        "    count_str = str(count) if count else \"no\"\n",
        "    if not plural:\n",
        "        plural = singular + \"s\"\n",
        "    return f\"{count_str} {plural}\"\n",
        "\n",
        "\n",
        "# fixing type error in message_test file in result of adding this function\n",
        "def test_irregular() -> None:\n",
        "    got = show_count(2, \"child\", \"children\")\n",
        "    assert got == \"2 children\""
      ]
    },
    {
      "cell_type": "markdown",
      "id": "e400dc78",
      "metadata": {
        "id": "e400dc78"
      },
      "source": [
        "def hex2rgb(color=str) -> tuple[int, int, int]:\n",
        "\n",
        "$\\color{red}{error}$ : Function is missing a type annotation for one or more arguments\n"
      ]
    },
    {
      "cell_type": "markdown",
      "id": "72e97b88",
      "metadata": {
        "id": "72e97b88"
      },
      "source": [
        "replace for Example 8-3\n",
        "\n",
        "In this example if you don’t assign a default value to plural, the Python runtime will treat it as a required parameter.\n",
        "\n",
        "$\\color{green}{Optional[str]}$ just means: the type of this parameter may be str or NoneType\n"
      ]
    },
    {
      "cell_type": "code",
      "execution_count": null,
      "id": "22ae29f6",
      "metadata": {
        "id": "22ae29f6"
      },
      "outputs": [],
      "source": [
        "from typing import Optional\n",
        "\n",
        "\n",
        "def show_count(count: int, singular: str, plural: Optional[str] = None) -> str:\n",
        "    pass"
      ]
    },
    {
      "cell_type": "markdown",
      "id": "95ad4d4b",
      "metadata": {
        "id": "95ad4d4b"
      },
      "source": [
        "# Types Are Defined by Supported Operations\n"
      ]
    },
    {
      "cell_type": "markdown",
      "id": "454d17ed",
      "metadata": {
        "id": "454d17ed"
      },
      "source": [
        "Note that: Instead of looking at the representation or the value space of a data type, it is more useful to look at the set of supported operations as the defining characteristic of a data type.\n"
      ]
    },
    {
      "cell_type": "markdown",
      "id": "8ebf9a7c",
      "metadata": {
        "id": "8ebf9a7c"
      },
      "source": [
        "Now assume these two examples:\n",
        "x can be (int, complex, Fraction, numpy.uint32, etc.) or (str, tuple, list, array)\n",
        "or any type the inherits a `mul` method\n",
        "\n",
        "```python\n",
        "def double(x):\n",
        "    return x * 2\n",
        "```\n",
        "\n",
        "A type checker will reject below code. If you tell Mypy that x is of type abc.Sequence, it\n",
        "will flag x \\* 2 as an error because the Sequence ABC does not implement or inherit\n",
        "the `mul` method.\n",
        "\n",
        "```python\n",
        "def double(x: collections.abc.Sequence):\n",
        "    return x * 2\n",
        "```\n"
      ]
    },
    {
      "cell_type": "markdown",
      "id": "ceb47eb1",
      "metadata": {
        "id": "ceb47eb1"
      },
      "source": [
        "**two different views of types**\n",
        "\n",
        "- `Duck typing:` It doesn’t matter what the declared type of the object is, only what operations it actually supports. The name comes from the saying “If it walks like a duck and quacks like a duck, then it must be a duck”\n",
        "\n",
        "- `Nominal typing:` Check the types of the objects and variables before running the code, and require that the types match exactly or be compatible. The type checker will only look at the names or declarations of the types, not their structures or behaviors\n"
      ]
    },
    {
      "cell_type": "markdown",
      "id": "lsFzh5TOke8Z",
      "metadata": {
        "id": "lsFzh5TOke8Z"
      },
      "source": [
        "`duck typing vs nominal typing` <br>\n",
        "duck typing is more flexible at the cost of allowing more errors at the run time while\n",
        "nominal typing is more rigid with the advantage of catching some bugs earlier in a build pipeline, or even as the code is typed in an IDE.\n"
      ]
    },
    {
      "cell_type": "markdown",
      "id": "ff2966d1",
      "metadata": {
        "id": "ff2966d1"
      },
      "source": [
        "Mypy sees that alert_bird is problematic: the type\n",
        "hint declares the birdie parameter with type Bird, but the body of the function calls\n",
        "birdie.quack()—and the Bird class has no such method.\n"
      ]
    },
    {
      "cell_type": "code",
      "execution_count": null,
      "id": "88d67fdc",
      "metadata": {
        "id": "88d67fdc",
        "outputId": "28f678c3-c000-40a0-cbe4-03819246241d"
      },
      "outputs": [
        {
          "name": "stdout",
          "output_type": "stream",
          "text": [
            "Quack!\n",
            "Quack!\n",
            "Quack!\n"
          ]
        }
      ],
      "source": [
        "# Example 8-4\n",
        "class Bird:\n",
        "    pass\n",
        "\n",
        "\n",
        "class Duck(Bird):\n",
        "    def quack(self):\n",
        "        print(\"Quack!\")\n",
        "\n",
        "\n",
        "def alert(birdie):\n",
        "    birdie.quack()\n",
        "\n",
        "\n",
        "def alert_duck(birdie: Duck) -> None:\n",
        "    birdie.quack()\n",
        "\n",
        "\n",
        "def alert_bird(birdie: Bird) -> None:\n",
        "    birdie.quack()\n",
        "\n",
        "\n",
        "# Example 8-5.\n",
        "daffy = Duck()\n",
        "alert(daffy)\n",
        "alert_duck(daffy)\n",
        "alert_bird(daffy)"
      ]
    },
    {
      "cell_type": "code",
      "execution_count": null,
      "id": "e923cf25",
      "metadata": {
        "id": "e923cf25",
        "outputId": "b2c66c48-b736-4170-d637-84ed2106e470"
      },
      "outputs": [
        {
          "ename": "AttributeError",
          "evalue": "'Bird' object has no attribute 'quack'",
          "output_type": "error",
          "traceback": [
            "\u001b[1;31m---------------------------------------------------------------------------\u001b[0m",
            "\u001b[1;31mAttributeError\u001b[0m                            Traceback (most recent call last)",
            "\u001b[1;32mc:\\Users\\Asus\\Desktop\\python_works\\fluent_python\\ch-08-01.ipynb Cell 15\u001b[0m in \u001b[0;36m<cell line: 2>\u001b[1;34m()\u001b[0m\n\u001b[0;32m      <a href='vscode-notebook-cell:/c%3A/Users/Asus/Desktop/python_works/fluent_python/ch-08-01.ipynb#X15sZmlsZQ%3D%3D?line=0'>1</a>\u001b[0m woody \u001b[39m=\u001b[39m Bird()\n\u001b[1;32m----> <a href='vscode-notebook-cell:/c%3A/Users/Asus/Desktop/python_works/fluent_python/ch-08-01.ipynb#X15sZmlsZQ%3D%3D?line=1'>2</a>\u001b[0m alert(woody)\n\u001b[0;32m      <a href='vscode-notebook-cell:/c%3A/Users/Asus/Desktop/python_works/fluent_python/ch-08-01.ipynb#X15sZmlsZQ%3D%3D?line=2'>3</a>\u001b[0m alert_duck(woody)\n\u001b[0;32m      <a href='vscode-notebook-cell:/c%3A/Users/Asus/Desktop/python_works/fluent_python/ch-08-01.ipynb#X15sZmlsZQ%3D%3D?line=3'>4</a>\u001b[0m alert_bird(woody)\n",
            "\u001b[1;32mc:\\Users\\Asus\\Desktop\\python_works\\fluent_python\\ch-08-01.ipynb Cell 15\u001b[0m in \u001b[0;36malert\u001b[1;34m(birdie)\u001b[0m\n\u001b[0;32m      <a href='vscode-notebook-cell:/c%3A/Users/Asus/Desktop/python_works/fluent_python/ch-08-01.ipynb#X15sZmlsZQ%3D%3D?line=6'>7</a>\u001b[0m \u001b[39mdef\u001b[39;00m \u001b[39malert\u001b[39m(birdie): \u001b[39m#alert has no type hints, so the type checker ignores it.\u001b[39;00m\n\u001b[1;32m----> <a href='vscode-notebook-cell:/c%3A/Users/Asus/Desktop/python_works/fluent_python/ch-08-01.ipynb#X15sZmlsZQ%3D%3D?line=7'>8</a>\u001b[0m     birdie\u001b[39m.\u001b[39;49mquack()\n",
            "\u001b[1;31mAttributeError\u001b[0m: 'Bird' object has no attribute 'quack'"
          ]
        }
      ],
      "source": [
        "# Example 8-6\n",
        "woody = Bird()\n",
        "alert(woody)\n",
        "alert_duck(\n",
        "    woody\n",
        ")  # Mypy reported the problem: Argument 1 to \"alert_duck\" has incompatible type \"Bird\"; expected \"Duck\".\n",
        "alert_bird(woody)\n",
        "\n",
        "# Mypy errors\n",
        "\"\"\" …/birds/ $ mypy woody.py\n",
        "birds.py:16: error: \"Bird\" has no attribute \"quack\"\n",
        "woody.py:5: error: Argument 1 to \"alert_duck\" has incompatible type \"Bird\";\n",
        "expected \"Duck\"\n",
        "Found 2 errors in 2 files (checked 1 source file) \"\"\""
      ]
    },
    {
      "cell_type": "markdown",
      "id": "d3e1c309",
      "metadata": {
        "id": "d3e1c309"
      },
      "source": [
        "- Mypy could not detect this error because there are no type hints in alert.\n",
        "- Mypy has been telling us since Example 8-4 that the body of the alert_bird\n",
        "  function is wrong: \"Bird\" has no attribute \"quack\".\n"
      ]
    },
    {
      "cell_type": "markdown",
      "id": "21c40078",
      "metadata": {
        "id": "21c40078"
      },
      "source": [
        "This little experiment shows that duck typing is easier to get started and is more flexible,\n",
        "but allows unsupported operations to cause errors at runtime. Nominal typing\n",
        "detects errors before runtime, but sometimes can reject code that actually runs—such\n",
        "as the call alert_bird(daffy)\n"
      ]
    },
    {
      "cell_type": "code",
      "execution_count": null,
      "id": "10f02381",
      "metadata": {
        "id": "10f02381",
        "outputId": "2c4ac4e8-1916-466f-a1f4-dbd37412a65d"
      },
      "outputs": [
        {
          "ename": "AttributeError",
          "evalue": "'Bird' object has no attribute 'quack'",
          "output_type": "error",
          "traceback": [
            "\u001b[1;31m---------------------------------------------------------------------------\u001b[0m",
            "\u001b[1;31mAttributeError\u001b[0m                            Traceback (most recent call last)",
            "\u001b[1;32mc:\\Users\\Asus\\Desktop\\python_works\\fluent_python\\ch-08-01.ipynb Cell 16\u001b[0m in \u001b[0;36m<cell line: 2>\u001b[1;34m()\u001b[0m\n\u001b[0;32m      <a href='vscode-notebook-cell:/c%3A/Users/Asus/Desktop/python_works/fluent_python/ch-08-01.ipynb#X16sZmlsZQ%3D%3D?line=0'>1</a>\u001b[0m woody \u001b[39m=\u001b[39m Bird()\n\u001b[1;32m----> <a href='vscode-notebook-cell:/c%3A/Users/Asus/Desktop/python_works/fluent_python/ch-08-01.ipynb#X16sZmlsZQ%3D%3D?line=1'>2</a>\u001b[0m alert(woody)\n",
            "\u001b[1;32mc:\\Users\\Asus\\Desktop\\python_works\\fluent_python\\ch-08-01.ipynb Cell 16\u001b[0m in \u001b[0;36malert\u001b[1;34m(birdie)\u001b[0m\n\u001b[0;32m      <a href='vscode-notebook-cell:/c%3A/Users/Asus/Desktop/python_works/fluent_python/ch-08-01.ipynb#X16sZmlsZQ%3D%3D?line=6'>7</a>\u001b[0m \u001b[39mdef\u001b[39;00m \u001b[39malert\u001b[39m(birdie): \u001b[39m#alert has no type hints, so the type checker ignores it.\u001b[39;00m\n\u001b[1;32m----> <a href='vscode-notebook-cell:/c%3A/Users/Asus/Desktop/python_works/fluent_python/ch-08-01.ipynb#X16sZmlsZQ%3D%3D?line=7'>8</a>\u001b[0m     birdie\u001b[39m.\u001b[39;49mquack()\n",
            "\u001b[1;31mAttributeError\u001b[0m: 'Bird' object has no attribute 'quack'"
          ]
        }
      ],
      "source": [
        "# Example 8-7.\n",
        "woody = Bird()\n",
        "# same error for all of them\n",
        "alert(woody)\n",
        "alert_duck(woody)\n",
        "alert_bird(woody)"
      ]
    },
    {
      "cell_type": "markdown",
      "id": "544931ce",
      "metadata": {
        "id": "544931ce"
      },
      "source": [
        "# Types Usable in Annotations\n"
      ]
    },
    {
      "cell_type": "markdown",
      "id": "e167865f",
      "metadata": {
        "id": "e167865f"
      },
      "source": [
        "This section covers all the major types you can use with annotations:\n",
        "\n",
        "- typing.Any\n",
        "- Simple types and classes\n",
        "- typing.Optional and typing.Union\n",
        "- Generic collections, including tuples and mappings\n",
        "- Abstract base classes\n",
        "- Generic iterables\n",
        "- Parameterized generics and TypeVar\n",
        "- typing.Protocols—the key to static duck typing\n",
        "- typing.Callable\n",
        "- typing.NoReturn—a good way to end this list\n"
      ]
    },
    {
      "cell_type": "markdown",
      "id": "9fc8e752",
      "metadata": {
        "id": "9fc8e752"
      },
      "source": [
        "## The Any Type\n"
      ]
    },
    {
      "cell_type": "markdown",
      "id": "5a40854a",
      "metadata": {
        "id": "5a40854a"
      },
      "source": [
        "compatiable with all types, can be used when you don’t know or don’t care about the type of a value\n",
        "\n",
        "When a type checker sees an untyped function like this:\n",
        "\n",
        "def double(x):\n",
        "\n",
        "        return x * 2\n",
        "\n",
        "it assumes this:\n",
        "\n",
        "def double(x: Any) -> Any:\n",
        "\n",
        "        return x * 2\n"
      ]
    },
    {
      "cell_type": "markdown",
      "id": "0e9d5538",
      "metadata": {
        "id": "0e9d5538"
      },
      "source": [
        "object is like any but in contrast the type checker rejects it becuase does not support the ** mul ** operation\n",
        "\n",
        "def double(x: object) -> object:\n",
        "\n",
        "        return x * 2\n",
        "\n",
        "More general types have narrower interfaces, i.e., they support fewer operations.Any accepts values of every type and the most specialized type, supporting every possible operation. At\n",
        "least, that’s how the type checker understands Any.\n",
        "\n",
        "Of course, no type can support every possible operation, so using Any prevents the\n",
        "type checker from fulfilling its core mission: detecting potentially illegal operations\n",
        "before your program crashes with a runtime exception.\n"
      ]
    },
    {
      "cell_type": "markdown",
      "id": "6b666ea5",
      "metadata": {
        "id": "6b666ea5"
      },
      "source": [
        "### Subtype-of versus consistent-with\n"
      ]
    },
    {
      "cell_type": "markdown",
      "id": "0a9b29ce",
      "metadata": {
        "id": "0a9b29ce"
      },
      "source": [
        "If you have a class T1 and a subclass T2, then T2 is a subtype of T1. This is based on the `Liskov Substitution Principle (LSP)`, which states that if an object of type T2 can replace an object of type T1 without altering any of the desirable properties of the program, then T2 is a subtype of T1. This is also known as behavioral subtyping\n"
      ]
    },
    {
      "cell_type": "markdown",
      "id": "bdb81606",
      "metadata": {
        "id": "bdb81606"
      },
      "source": [
        "In this example, T2 is a subclass of T1, so you can use an instance of T2 wherever T1 is expected. However, the reverse is not true\n"
      ]
    },
    {
      "cell_type": "code",
      "execution_count": null,
      "id": "0a870c47",
      "metadata": {
        "id": "0a870c47"
      },
      "outputs": [],
      "source": [
        "class T1: ...\n",
        "\n",
        "\n",
        "class T2(T1): ...\n",
        "\n",
        "\n",
        "def f1(p: T1) -> None: ...\n",
        "\n",
        "\n",
        "o2 = T2()\n",
        "f1(o2)  # OK\n",
        "\n",
        "\n",
        "def f2(p: T2) -> None: ...\n",
        "\n",
        "\n",
        "o1 = T1()\n",
        "f2(o1)  # type error"
      ]
    },
    {
      "cell_type": "markdown",
      "id": "0075355c",
      "metadata": {
        "id": "0075355c"
      },
      "source": [
        "Consistent-with:\n",
        "\n",
        "1. Given T1 and a subtype T2, then T2 is consistent-with T1 (Liskov substitution).\n",
        "\n",
        "2. Every type is consistent-with Any: you can pass objects of every type to an argument declared of type Any.\n",
        "\n",
        "3. Any is consistent-with every type: you can always pass an object of type Any where an argument of another type is expected.\n"
      ]
    },
    {
      "cell_type": "code",
      "execution_count": null,
      "id": "97a4dfa9",
      "metadata": {
        "id": "97a4dfa9"
      },
      "outputs": [],
      "source": [
        "from typing import Any\n",
        "\n",
        "\n",
        "def f3(p: Any) -> None: ...\n",
        "\n",
        "\n",
        "o0 = object()\n",
        "o1 = T1()\n",
        "o2 = T2()\n",
        "f3(o0)  #\n",
        "f3(o1)  # all OK: rule #2\n",
        "f3(o2)  #\n",
        "\n",
        "\n",
        "def f4():  # implicit type: `Any`\n",
        "    ...\n",
        "\n",
        "\n",
        "o4 = f4()  # inferred type: `Any`\n",
        "f1(o4)  #\n",
        "f2(o4)  # all OK: rule #3\n",
        "f3(o4)  #"
      ]
    },
    {
      "cell_type": "markdown",
      "id": "eb72a516",
      "metadata": {
        "id": "eb72a516"
      },
      "source": [
        "Inference: Modern type checkers in Python and other languages don’t require type annotations everywhere because they can infer the type of many expressions. For example, if you write x = len(s) \\* 10, the type checker doesn’t need an explicit local declaration to know that x is an int, as long as it can find type hints for the len built-in.\n"
      ]
    },
    {
      "cell_type": "markdown",
      "id": "3be36d87",
      "metadata": {
        "id": "3be36d87"
      },
      "source": [
        "## Simple Types and Classes\n"
      ]
    },
    {
      "cell_type": "markdown",
      "id": "56d9e3f7",
      "metadata": {
        "id": "56d9e3f7"
      },
      "source": [
        "Simple types like int, float, str, and bytes can be used directly in type hints.\n",
        "\n",
        "In the context of classes, the consistent-with relationship is defined similarly to the subtype-of relationship: a subclass is consistent-with all its superclasses.\n"
      ]
    },
    {
      "cell_type": "markdown",
      "id": "81a73de0",
      "metadata": {
        "id": "81a73de0"
      },
      "source": [
        "There is no nominal subtype relationship between the built-in types int, float, and complex: they are direct subclasses of object. However, PEP 484 declares that int is consistent-with float, and float is consistent-with complex. This makes sense in practice: int implements all operations that float does, and int implements additional ones as well—bitwise operations like &, |, <<, etc. The end result is: int is consistent-with complex. For i = 3, i.real is 3, and i.imag is 0.\n"
      ]
    },
    {
      "cell_type": "markdown",
      "id": "6380ed64",
      "metadata": {
        "id": "6380ed64"
      },
      "source": [
        "## Optional and Union types\n"
      ]
    },
    {
      "cell_type": "markdown",
      "id": "fa2d34dd",
      "metadata": {
        "id": "fa2d34dd"
      },
      "source": [
        "The construct Optional[str] is actually a shortcut for Union[str, None], which\n",
        "means the type of plural may be str or None.\n",
        "\n",
        "In python 3.10, we can write `str | bytes` instead of `Union[str, bytes]` :\n",
        "\n",
        "- Before - > `plural: Optional[str] = None `\n",
        "- After - > `plural: str | None = None `\n"
      ]
    },
    {
      "cell_type": "code",
      "execution_count": null,
      "id": "20d0f7b2",
      "metadata": {
        "id": "20d0f7b2"
      },
      "outputs": [],
      "source": [
        "from typing import Optional\n",
        "from typing import Union\n",
        "\n",
        "\n",
        "def show_count(count: int, singular: str, plural: Optional[str] = None) -> str: ...\n",
        "def ord(c: Union[str, bytes]) -> int: ...\n",
        "def parse_token(token: str) -> Union[str, float]:  # may return a str or a float:\n",
        "    try:\n",
        "        return float(token)\n",
        "    except ValueError:\n",
        "        return token\n",
        "\n",
        "\n",
        "# Union[A, B, Union[C, D, E]] == Union[A, B, C, D, E]\n",
        "# Not a good use case Union[int, float]  because int is consistent-with float."
      ]
    },
    {
      "cell_type": "markdown",
      "id": "bbdbe0d1",
      "metadata": {
        "id": "bbdbe0d1"
      },
      "source": [
        "## Generic Collections\n"
      ]
    },
    {
      "cell_type": "code",
      "execution_count": null,
      "id": "935a54ec",
      "metadata": {
        "id": "935a54ec"
      },
      "outputs": [],
      "source": [
        "# Example 8-8. tokenize with type hints for Python ≥ 3.9\n",
        "def tokenize(text: str) -> list[str]:  # returns a list where every item is of type str\n",
        "    return text.upper().split()"
      ]
    },
    {
      "cell_type": "markdown",
      "id": "025d77c5",
      "metadata": {
        "id": "025d77c5"
      },
      "source": [
        "The annotations `stuff: list` and `stuff: list[Any]` mean the same thing.\n",
        "\n",
        "Collections from the standard library accepting generic type hints:\\\n",
        "`list, collections.deque, abc.Sequence, abc.MutableSequenceو set, abc.Container, abc.Set, abc.MutableSet, frozenset, abc.Collection`\n"
      ]
    },
    {
      "cell_type": "markdown",
      "id": "032df6f5",
      "metadata": {
        "id": "032df6f5"
      },
      "source": [
        "$\\color{red}{warning:}$\n",
        "There is no good way to annotate array.array, taking into\n",
        "account the typecode constructor argument, which determines whether integers or\n",
        "floats are stored in the array. An even harder problem is how to type check integer\n",
        "ranges to prevent OverflowError at runtime when adding elements to arrays.\n",
        "\n",
        "$\\color{green}{example:}$ if you try to add 256 to an array with typecode=‘B’, you will get an OverflowError. The type system cannot detect this error before running the code, because it does not know the value of 256, only that it is an integer.\n"
      ]
    },
    {
      "cell_type": "markdown",
      "id": "30652142",
      "metadata": {
        "id": "30652142"
      },
      "source": [
        "## Tuple Types\n"
      ]
    },
    {
      "cell_type": "markdown",
      "id": "eead656c",
      "metadata": {
        "id": "eead656c"
      },
      "source": [
        "- **Tuples as records**\n"
      ]
    },
    {
      "cell_type": "code",
      "execution_count": null,
      "id": "459621f9",
      "metadata": {
        "id": "459621f9",
        "outputId": "ee06b709-8484-43fd-8b53-61ee30552bbe"
      },
      "outputs": [
        {
          "data": {
            "text/plain": [
              "'wtw3sjq6q'"
            ]
          },
          "execution_count": 8,
          "metadata": {},
          "output_type": "execute_result"
        }
      ],
      "source": [
        "from geolib import geohash as gh  # type: ignore 'stops mypy from reporting that the geolib package doesn't have type hints'\n",
        "\n",
        "PRECISION = 9\n",
        "\n",
        "\n",
        "def geohash(lat_lon: tuple[float, float]) -> str:\n",
        "    return gh.encode(*lat_lon, PRECISION)\n",
        "\n",
        "\n",
        "shanghai = 31.2304, 121.4737\n",
        "geohash(shanghai)"
      ]
    },
    {
      "cell_type": "markdown",
      "id": "4410eca7",
      "metadata": {
        "id": "4410eca7"
      },
      "source": [
        "- **Tuples as records with named fields** <br>\n",
        "  `typing.NamedTuple` is a factory for tuple subclasses, so Coordinate is _consistent-with_ <br> `tuple[float, float]` but **the reverse is not true** . <br>\n",
        "  Also, Coordinate has extra methods added by NamedTuple, like `._asdict()`, and could also have user-defined methods.\n"
      ]
    },
    {
      "cell_type": "code",
      "execution_count": null,
      "id": "5c5dabdd",
      "metadata": {
        "id": "5c5dabdd"
      },
      "outputs": [],
      "source": [
        "from typing import NamedTuple\n",
        "from geolib import geohash as gh  # type: ignore\n",
        "\n",
        "PRECISION = 9\n",
        "\n",
        "\n",
        "class Coordinate(NamedTuple):\n",
        "    lat: float\n",
        "    lon: float\n",
        "\n",
        "\n",
        "def geohash(lat_lon: Coordinate) -> str:\n",
        "    return gh.encode(*lat_lon, PRECISION)"
      ]
    },
    {
      "cell_type": "markdown",
      "id": "ee1d9669",
      "metadata": {
        "id": "ee1d9669"
      },
      "source": [
        "- **Tuples as immutable sequence**\n",
        "\n",
        "  `tuple[int, ...]` is a tuple with int items. The ellipsis indicates that any number of elements >= 1 is acceptable. <br>\n",
        "  There is no way to specify fields of different types for tuples of arbitrary length.\n"
      ]
    },
    {
      "cell_type": "code",
      "execution_count": null,
      "id": "89492718",
      "metadata": {
        "id": "89492718",
        "outputId": "a82274c1-a89f-4dd6-95a6-6464dde9e019"
      },
      "outputs": [
        {
          "data": {
            "text/plain": [
              "[('drake', 'koala', 'yak'),\n",
              " ('fawn', 'lynx', 'zapus'),\n",
              " ('heron', 'tahr'),\n",
              " ('ibex', 'xerus')]"
            ]
          },
          "execution_count": 4,
          "metadata": {},
          "output_type": "execute_result"
        }
      ],
      "source": [
        "# Example 8-13.\n",
        "from collections.abc import Sequence\n",
        "\n",
        "\n",
        "def columnize(sequence: Sequence[str], num_columns: int = 0) -> list[tuple[str, ...]]:\n",
        "    if num_columns == 0:\n",
        "        num_columns = round(len(sequence) ** 0.5)\n",
        "    num_rows, reminder = divmod(len(sequence), num_columns)\n",
        "    num_rows += bool(reminder)\n",
        "    return [tuple(sequence[i::num_rows]) for i in range(num_rows)]\n",
        "\n",
        "\n",
        "animals = \"drake fawn heron ibex koala lynx tahr xerus yak zapus\".split()\n",
        "columnize(animals)"
      ]
    },
    {
      "cell_type": "markdown",
      "id": "a8961862",
      "metadata": {
        "id": "a8961862"
      },
      "source": [
        "## Generic Mappings\n"
      ]
    },
    {
      "cell_type": "markdown",
      "id": "82b105d6",
      "metadata": {
        "id": "82b105d6"
      },
      "source": [
        "Generic mapping types are annotated as `MappingType[KeyType, ValueType]`\n"
      ]
    },
    {
      "cell_type": "code",
      "execution_count": null,
      "id": "dba0d192",
      "metadata": {
        "id": "dba0d192"
      },
      "outputs": [],
      "source": [
        "# Example 8-14.\n",
        "import sys\n",
        "import re\n",
        "import unicodedata\n",
        "from collections.abc import Iterator\n",
        "\n",
        "RE_WORD = re.compile(r\"\\w+\")\n",
        "STOP_CODE = sys.maxunicode + 1\n",
        "\n",
        "\n",
        "def tokenize(text: str) -> Iterator[str]:\n",
        "    \"\"\"return iterable of uppercased words\"\"\"\n",
        "    for match in RE_WORD.finditer(text):\n",
        "        yield match.group().upper()\n",
        "\n",
        "\n",
        "def name_index(start: int = 32, end: int = STOP_CODE) -> dict[str, set[str]]:\n",
        "    index: dict[str, set[str]] = {}  # str as key set of str as value\n",
        "\n",
        "    for char in (chr(i) for i in range(start, end)):\n",
        "        if name := unicodedata.name(char, \"\"):\n",
        "            for word in tokenize(name):\n",
        "                index.setdefault(word, set()).add(char)\n",
        "    return index"
      ]
    },
    {
      "cell_type": "markdown",
      "id": "8f59e7fb",
      "metadata": {
        "id": "8f59e7fb"
      },
      "source": [
        "## Abstract Base class\n"
      ]
    },
    {
      "cell_type": "markdown",
      "id": "6dc81518",
      "metadata": {
        "id": "6dc81518"
      },
      "source": [
        "Be conservative in what you send (do), be liberal in what you accept.\n",
        "\n",
        "—Postel’s law, a.k.a. the Robustness Principle\n",
        "\n",
        "using ABCs in type hints is better than using concrete types, because it gives more flexibility to the caller of the function\n",
        "\n",
        "why ?\n",
        "\n",
        "- Using Mapping[str, int] is better, because it allows the caller to provide any object that is a subclass of Mapping, such as dict, defaultdict, ChainMap, or a custom class that inherits from UserDict. This way, the function can accept different kinds of mapping objects, as long as they have the required methods and properties defined by the ABC\n",
        "\n",
        "- Using dict[str, int], which is more restrictive, because it only accepts objects that are subclasses of dict, such as defaultdict or OrderedDict. This excludes some objects that are also valid mapping objects, such as a custom class that inherits from UserDict.\n",
        "\n",
        "using ABCs in type hints is a way of being liberal in what you accept, because it allows more variations and diversity in the input types. However, using concrete types in type hints is a way of being conservative in what you send, because it ensures more consistency and precision in the output types.\n"
      ]
    },
    {
      "cell_type": "code",
      "execution_count": null,
      "id": "c3a99e3e",
      "metadata": {
        "id": "c3a99e3e"
      },
      "outputs": [],
      "source": [
        "from collections.abc import Mapping\n",
        "\n",
        "\n",
        "def name2hex(\n",
        "    name: str, color_map: Mapping[str, int]\n",
        ") -> str: ...  #   subtype-of Mapping.\n",
        "def name2hex(\n",
        "    name: str, color_map: dict[str, int]\n",
        ") -> str: ...  # must be a dict or one of its subtypes,"
      ]
    },
    {
      "cell_type": "markdown",
      "id": "de82d4a8",
      "metadata": {
        "id": "de82d4a8"
      },
      "source": [
        "The fall of the numeric tower\n",
        "\n",
        "- Number\n",
        "- Complex\n",
        "- Real\n",
        "- Rational\n",
        "- Integral\n",
        "\n",
        "In practice, if you want to annotate numeric arguments for static type checking, you\n",
        "have a few options:\n",
        "\n",
        "1. Use one of the concrete types int, float, or complex—as recommended by PEP\n",
        "2. Declare a union type like Union[float, Decimal, Fraction].\n",
        "3. If you want to avoid hardcoding concrete types, use numeric protocols like Supports Float, covered in “Runtime Checkable Static Protocols” on page 468.\n"
      ]
    },
    {
      "cell_type": "markdown",
      "id": "16a360cb",
      "metadata": {
        "id": "16a360cb"
      },
      "source": [
        "## Iterable\n"
      ]
    },
    {
      "cell_type": "markdown",
      "id": "7a9560c4",
      "metadata": {
        "id": "7a9560c4"
      },
      "source": [
        "- Iterable\n",
        "  most useful ABCs for type hints: Iterable.\n"
      ]
    },
    {
      "cell_type": "code",
      "execution_count": null,
      "id": "7a2e658b",
      "metadata": {
        "id": "7a2e658b",
        "outputId": "32103185-2b6d-4f05-b1a6-86b7d176695c"
      },
      "outputs": [
        {
          "data": {
            "text/plain": [
              "'m4d sk1ll3d n00b p0wn3d l33t'"
            ]
          },
          "execution_count": 4,
          "metadata": {},
          "output_type": "execute_result"
        }
      ],
      "source": [
        "from collections.abc import Iterable\n",
        "\n",
        "FromTo = tuple[str, str]\n",
        "\n",
        "\n",
        "def zip_replace(text: str, changes: Iterable[FromTo]) -> str:\n",
        "    for from_, to in changes:\n",
        "        text = text.replace(from_, to)\n",
        "    return text\n",
        "\n",
        "\n",
        "l33t = [(\"a\", \"4\"), (\"e\", \"3\"), (\"i\", \"1\"), (\"o\", \"0\")]\n",
        "text = \"mad skilled noob powned leet\"\n",
        "zip_replace(text, l33t)\n",
        "\n",
        "# from typing import TypeAlias\n",
        "# FromTo: TypeAlias = tuple[str, str]"
      ]
    },
    {
      "cell_type": "markdown",
      "id": "u3Vgo2Www-7x",
      "metadata": {
        "id": "u3Vgo2Www-7x"
      },
      "source": [
        "**abc.Iterable vs abc.Sequence**\n",
        "\n",
        "- `abc.Iterable` represents any object that can be iterated over, but it doesn't make any guarantees about the order of iteration or the ability to index elements.\n",
        "- `abc.Sequence`, on the other hand represents a finite ordered set of elements. You can access elements by index, and it has a defined length.\n"
      ]
    },
    {
      "cell_type": "markdown",
      "id": "bf69d043",
      "metadata": {
        "id": "bf69d043"
      },
      "source": [
        "## Parameterized Generics and TypeVar\n"
      ]
    },
    {
      "cell_type": "markdown",
      "id": "dJ-b8jTm0fyb",
      "metadata": {
        "id": "dJ-b8jTm0fyb"
      },
      "source": [
        "A parameterized generic is a generic type, written as `list[T]`, where `T` is a type variable\n",
        "that will be bound to a specific type with each usage.\n"
      ]
    },
    {
      "cell_type": "code",
      "execution_count": null,
      "id": "a0f4b025",
      "metadata": {
        "id": "a0f4b025"
      },
      "outputs": [],
      "source": [
        "# Example 8-16. sample.py\n",
        "from collections.abc import Sequence\n",
        "from random import shuffle\n",
        "from typing import TypeVar\n",
        "\n",
        "T = TypeVar(\"T\")\n",
        "\n",
        "\n",
        "def sample(\n",
        "    population: Sequence[T], size: int\n",
        ") -> list[\n",
        "    T\n",
        "]:  # T could be any type—int, str, float, etc., In this case it returns the same type\n",
        "    if size < 1:\n",
        "        raise ValueError(\"size must be >= 1\")\n",
        "    result = list(population)\n",
        "    shuffle(result)\n",
        "    return result[:size]"
      ]
    },
    {
      "cell_type": "code",
      "execution_count": 1,
      "id": "7TKGI_kU1Usc",
      "metadata": {
        "colab": {
          "base_uri": "https://localhost:8080/"
        },
        "id": "7TKGI_kU1Usc",
        "outputId": "8b8f24ff-43da-4e49-a8e0-34f1d4ffd55a"
      },
      "outputs": [
        {
          "data": {
            "text/plain": [
              "3"
            ]
          },
          "execution_count": 1,
          "metadata": {},
          "output_type": "execute_result"
        }
      ],
      "source": [
        "# Example 8-17. mode_float.py: mode that operates on float and subtypes\n",
        "from collections import Counter\n",
        "from collections.abc import Iterable\n",
        "\n",
        "\n",
        "def mode(data: Iterable[float]) -> float:\n",
        "    pairs = Counter(data).most_common(1)\n",
        "    if len(pairs) == 0:\n",
        "        raise ValueError(\"no mode for empty data\")\n",
        "    return pairs[0][0]\n",
        "\n",
        "\n",
        "mode([1, 1, 2, 3, 3, 3, 3, 4])"
      ]
    },
    {
      "cell_type": "markdown",
      "id": "V_eL15acy8bO",
      "metadata": {
        "id": "V_eL15acy8bO"
      },
      "source": [
        "we see that the Counter class is used for\n",
        "ranking. Counter is based on dict, therefore the element type of the data iterable\n",
        "must be hashable. Now the problem is that the type of the returned item is Hashable: an ABC that\n",
        "implements only the ** hash ** method. So the type checker will not let us do anything\n",
        "with the return value except call hash() on it.\n",
        "\n",
        "We need to restrict the\n",
        "possible types assigned to T. Using **Restricted TypeVar** and **Bounded TypeVar**.\n"
      ]
    },
    {
      "cell_type": "markdown",
      "id": "aeW6xOvxzaNE",
      "metadata": {
        "id": "aeW6xOvxzaNE"
      },
      "source": [
        "- **Restricted TypeVar**\n"
      ]
    },
    {
      "cell_type": "markdown",
      "id": "d2JrEbEb1heN",
      "metadata": {
        "id": "d2JrEbEb1heN"
      },
      "source": [
        "A restricted type variable will be set to one of the types named in the TypeVar\n",
        "declaration.\n"
      ]
    },
    {
      "cell_type": "code",
      "execution_count": null,
      "id": "3522b8f5",
      "metadata": {
        "id": "3522b8f5"
      },
      "outputs": [],
      "source": [
        "# Restricted TypeVar\n",
        "from collections.abc import Iterable\n",
        "from decimal import Decimal\n",
        "from fractions import Fraction\n",
        "from typing import TypeVar\n",
        "\n",
        "NumberT = TypeVar(\"NumberT\", float, Decimal, Fraction)\n",
        "NumberT = TypeVar(\n",
        "    \"NumberT\", float, Decimal, Fraction, str\n",
        ")  # this would make the name NumberT misleading"
      ]
    },
    {
      "cell_type": "markdown",
      "id": "nTtSi_E81mGX",
      "metadata": {
        "id": "nTtSi_E81mGX"
      },
      "source": [
        "- **Bounded TypeVar**\n",
        "\n",
        "  A bounded type variable will be set to the inferred type of the expression—as\n",
        "  long as the inferred type is consistent-with the boundary declared in the bound=\n",
        "  keyword argument of TypeVar.\n"
      ]
    },
    {
      "cell_type": "markdown",
      "id": "30562512",
      "metadata": {},
      "source": [
        "`issue:` type checker will not let us do anything with the return value except call `hash()` on it.\n"
      ]
    },
    {
      "cell_type": "code",
      "execution_count": null,
      "id": "576d7060",
      "metadata": {
        "id": "576d7060"
      },
      "outputs": [],
      "source": [
        "# Bounded TypeVar\n",
        "# Example 8-18.\n",
        "from collections import Counter\n",
        "from collections.abc import Iterable, Hashable\n",
        "from typing import TypeVar\n",
        "\n",
        "HashableT = TypeVar(\"HashableT\", bound=Hashable)  # hashable and any subtype of it\n",
        "\n",
        "\n",
        "def mode(data: Iterable[HashableT]) -> HashableT:\n",
        "    pairs = Counter(data).most_common(1)\n",
        "    if len(pairs) == 0:\n",
        "        raise ValueError(\"no mode for empty data\")\n",
        "    return pairs[0][0]"
      ]
    },
    {
      "cell_type": "markdown",
      "id": "fb8a83fd",
      "metadata": {
        "id": "fb8a83fd"
      },
      "source": [
        "The typing module includes a predefined TypeVar named AnyStr that accept either bytes or str and return values of the given type.\n"
      ]
    },
    {
      "cell_type": "code",
      "execution_count": null,
      "id": "TdAAFaUzke8n",
      "metadata": {
        "id": "TdAAFaUzke8n"
      },
      "outputs": [],
      "source": [
        "AnyStr = TypeVar(\"AnyStr\", bytes, str)"
      ]
    },
    {
      "cell_type": "markdown",
      "id": "31db9d8a",
      "metadata": {
        "id": "31db9d8a"
      },
      "source": [
        "# Static Protocols\n"
      ]
    },
    {
      "cell_type": "markdown",
      "id": "9477878d",
      "metadata": {
        "id": "9477878d"
      },
      "source": [
        "- In Python, a protocol definition is written as a typing.Protocol subclass. However,\n",
        "  classes that implement a protocol don’t need to inherit, register, or declare any relationship\n",
        "  with the class that defines the protocol. It’s up to the type checker to find the\n",
        "  available protocol types and enforce their usage.\n"
      ]
    },
    {
      "cell_type": "code",
      "execution_count": null,
      "id": "a24d14e0",
      "metadata": {
        "id": "a24d14e0",
        "outputId": "9f6122ff-a0ed-4152-8a2f-6495ca2a1615"
      },
      "outputs": [
        {
          "ename": "TypeError",
          "evalue": "'<' not supported between instances of 'object' and 'object'",
          "output_type": "error",
          "traceback": [
            "\u001b[1;31m---------------------------------------------------------------------------\u001b[0m",
            "\u001b[1;31mTypeError\u001b[0m                                 Traceback (most recent call last)",
            "\u001b[1;32mc:\\Users\\Asus\\Desktop\\python_works\\fluent_python\\ch-08-01.ipynb Cell 61\u001b[0m in \u001b[0;36m<cell line: 6>\u001b[1;34m()\u001b[0m\n\u001b[0;32m      <a href='vscode-notebook-cell:/c%3A/Users/Asus/Desktop/python_works/fluent_python/ch-08-01.ipynb#Y114sZmlsZQ%3D%3D?line=2'>3</a>\u001b[0m     ordered \u001b[39m=\u001b[39m \u001b[39msorted\u001b[39m(series, reverse\u001b[39m=\u001b[39m\u001b[39mTrue\u001b[39;00m)\n\u001b[0;32m      <a href='vscode-notebook-cell:/c%3A/Users/Asus/Desktop/python_works/fluent_python/ch-08-01.ipynb#Y114sZmlsZQ%3D%3D?line=3'>4</a>\u001b[0m     \u001b[39mreturn\u001b[39;00m ordered[:length]\n\u001b[1;32m----> <a href='vscode-notebook-cell:/c%3A/Users/Asus/Desktop/python_works/fluent_python/ch-08-01.ipynb#Y114sZmlsZQ%3D%3D?line=5'>6</a>\u001b[0m \u001b[39msorted\u001b[39;49m([\u001b[39mobject\u001b[39;49m() \u001b[39mfor\u001b[39;49;00m _ \u001b[39min\u001b[39;49;00m \u001b[39mrange\u001b[39;49m(\u001b[39m4\u001b[39;49m)])\n",
            "\u001b[1;31mTypeError\u001b[0m: '<' not supported between instances of 'object' and 'object'"
          ]
        }
      ],
      "source": [
        "# Example 8-19 The problem is how to constrain T?\n",
        "def top(series: Iterable[T], length: int) -> list[T]:\n",
        "    ordered = sorted(series, reverse=True)\n",
        "    return ordered[:length]\n",
        "\n",
        "\n",
        "sorted([object() for _ in range(4)])"
      ]
    },
    {
      "cell_type": "code",
      "execution_count": null,
      "id": "acf96ee5",
      "metadata": {
        "id": "acf96ee5",
        "outputId": "46ed5222-4a3a-4d46-9342-7853d65e3750"
      },
      "outputs": [
        {
          "data": {
            "text/plain": [
              "[Spam(1) , Spam(2) , Spam(3) , Spam(4) , Spam(5) ]"
            ]
          },
          "execution_count": 10,
          "metadata": {},
          "output_type": "execute_result"
        }
      ],
      "source": [
        "class Spam:  # we can use sorted() because of __lt__\n",
        "    def __init__(self, n):\n",
        "        self.n = n\n",
        "\n",
        "    def __lt__(self, other):\n",
        "        return self.n < other.n\n",
        "\n",
        "    def __repr__(self):\n",
        "        return f\"Spam({self.n}) \"\n",
        "\n",
        "\n",
        "sorted([Spam(n) for n in range(5, 0, -1)])"
      ]
    },
    {
      "cell_type": "markdown",
      "id": "78ee2ee0",
      "metadata": {
        "id": "78ee2ee0"
      },
      "source": [
        "A type T is consistent-with a protocol P if T implements all the methods defined in P,\n",
        "with matching type signatures.\n"
      ]
    },
    {
      "cell_type": "code",
      "execution_count": null,
      "id": "9065c4cc",
      "metadata": {
        "id": "9065c4cc"
      },
      "outputs": [],
      "source": [
        "from typing import Protocol, Any\n",
        "\n",
        "\n",
        "class SupportsLessThan(Protocol):\n",
        "    def __lt__(self, other: Any) -> bool: ..."
      ]
    },
    {
      "cell_type": "code",
      "execution_count": null,
      "id": "1183c427",
      "metadata": {
        "id": "1183c427"
      },
      "outputs": [],
      "source": [
        "from collections.abc import Iterable\n",
        "from typing import TypeVar\n",
        "\n",
        "LT = TypeVar(\"LT\", bound=SupportsLessThan)\n",
        "\n",
        "\n",
        "def top(series: Iterable[LT], length: int) -> list[LT]:\n",
        "    ordered = sorted(series, reverse=True)\n",
        "    return ordered[:length]"
      ]
    },
    {
      "cell_type": "markdown",
      "id": "c312ea36",
      "metadata": {
        "id": "c312ea36"
      },
      "source": [
        "The tests are designed to confirm that the top function works as expected with series of tuples, and raises a TypeError when the series contains plain object instances (which do not support the < operator).\n"
      ]
    },
    {
      "cell_type": "code",
      "execution_count": null,
      "id": "556afbf4",
      "metadata": {
        "id": "556afbf4"
      },
      "outputs": [],
      "source": [
        "# Example 8-22.\n",
        "from collections.abc import Iterator\n",
        "from typing import TYPE_CHECKING\n",
        "import pytest\n",
        "\n",
        "\n",
        "def test_top_tuples() -> None:\n",
        "    fruit = \"mango pear apple kiwi banana\".split()\n",
        "    series: Iterator[tuple[int, str]] = ((len(s), s) for s in fruit)\n",
        "    length = 3\n",
        "    expected = [(6, \"banana\"), (5, \"mango\"), (5, \"apple\")]\n",
        "    result = top(series, length)\n",
        "    if TYPE_CHECKING:  # useful for code that only needs to be seen by the type checker and not executed at runtime\n",
        "        reveal_type(series)\n",
        "        reveal_type(expected)\n",
        "        reveal_type(result)\n",
        "    assert result == expected\n",
        "\n",
        "\n",
        "# intentional type error\n",
        "def test_top_objects_error() -> None:\n",
        "    series = [object() for _ in range(4)]\n",
        "    if TYPE_CHECKING:\n",
        "        reveal_type(series)\n",
        "    with pytest.raises(TypeError) as excinfo:\n",
        "        top(series, 3)\n",
        "    assert \"'<' not supported\" in str(excinfo.value)"
      ]
    },
    {
      "cell_type": "markdown",
      "id": "5d3c826e",
      "metadata": {
        "id": "5d3c826e"
      },
      "source": [
        "The mypy output also shows a \\* after any type that was inferred, indicating that the type was not explicitly annotated. The error flagged by mypy is intentional and confirms that the top function raises a TypeError when the series contains object instances.\n"
      ]
    },
    {
      "cell_type": "markdown",
      "id": "c2321fc0",
      "metadata": {
        "id": "c2321fc0"
      },
      "source": [
        "Example 8-23. Output of mypy top_test.py (lines split for readability)\n",
        "\n",
        "```\n",
        "…/comparable/ $ mypy top_test.py\n",
        "top_test.py:32: note:\n",
        "Revealed type is \"typing.Iterator[Tuple[builtins.int, builtins.str]]\"\n",
        "\n",
        "top_test.py:33: note:\n",
        "Revealed type is \"builtins.list[Tuple[builtins.int, builtins.str]]\"\n",
        "\n",
        "top_test.py:34: note:\n",
        "Revealed type is \"builtins.list[Tuple[builtins.int, builtins.str]]\"\n",
        "\n",
        "top_test.py:41: note:\n",
        "Revealed type is \"builtins.list[builtins.object*]\"\n",
        "\n",
        "top_test.py:43: error:\n",
        "Value of type variable \"LT\" of \"top\" cannot be \"object\"\n",
        "\n",
        "Found 1 error in 1 file (checked 1 source file)\n",
        "```\n",
        "\n",
        "Now we can make duck typing explicit for static type checkers. That’s why it makes\n",
        "sense to say that typing.Protocol gives us static duck typing.\n"
      ]
    },
    {
      "cell_type": "markdown",
      "id": "af0c75e0",
      "metadata": {
        "id": "af0c75e0"
      },
      "source": [
        "## Callable\n"
      ]
    },
    {
      "cell_type": "markdown",
      "id": "77156ed8",
      "metadata": {
        "id": "77156ed8"
      },
      "source": [
        "A Callable type is parameterized likethis:\n",
        "Callable[[ParamType1, ParamType2], ReturnType]\n"
      ]
    },
    {
      "cell_type": "code",
      "execution_count": null,
      "id": "9d8be29b",
      "metadata": {
        "id": "9d8be29b"
      },
      "outputs": [],
      "source": [
        "from typing import Callable, Any\n",
        "\n",
        "\n",
        "def repl(input_fn: Callable[[Any], str] = input) -> None: ..."
      ]
    },
    {
      "cell_type": "markdown",
      "id": "87b86365",
      "metadata": {
        "id": "87b86365"
      },
      "source": [
        "- Covariance: If B is a subtype of A, then Container[B] can be treated as a subtype of Container[A]. This is safe for return types.\n",
        "- Contravariance: If B is a subtype of A, then Container[A] can be treated as a subtype of Container[B]. This is safe for input types.\n",
        "\n",
        "In the context of Callable, the return type is covariant, and the parameter types are contravariant. This means that if a function is expected to return a float (which is a supertype of int), it’s acceptable to provide a function that returns an int. However, if a function is expected to take a float as an argument, it’s not acceptable to provide a function that takes an int.\n",
        "\n",
        "If a function is expected to return a float (which is a supertype of int), it’s acceptable to provide a function that returns an int. However, if a function is expected to take a float as an argument, it’s not acceptable to provide a function that takes an int\n",
        "Formally, we say that Callable[[], int] is subtype-of Callable[[], float]\n",
        "\n",
        "Most parameterized generic types are invariant, which means that they don’t allow covariance or contravariance. Formally, Callable[[int], None] is not a subtype-of Callable[[float], None].\n",
        "Although int is subtype-of float, in the parameterized Callable type the relationship\n",
        "is reversed: Callable[[float], None] is subtype-of Callable[[int], None].\n",
        "Therefore we say that Callable is contravariant on the declared parameter types.\n"
      ]
    },
    {
      "cell_type": "code",
      "execution_count": null,
      "id": "c52e08ed",
      "metadata": {
        "id": "c52e08ed"
      },
      "outputs": [],
      "source": [
        "# Example 8-24. Illustrating variance.\n",
        "from collections.abc import Callable\n",
        "\n",
        "\n",
        "def update(probe: Callable[[], float], display: Callable[[float], None]) -> None:\n",
        "    temperature = probe()\n",
        "    # imagine lots of control code here\n",
        "    display(temperature)\n",
        "\n",
        "\n",
        "def probe_ok() -> int:\n",
        "    return 42\n",
        "\n",
        "\n",
        "def display_wrong(temperature: int) -> None:\n",
        "    print(hex(temperature))\n",
        "\n",
        "\n",
        "update(probe_ok, display_wrong)  # type error\n",
        "\n",
        "\n",
        "def display_ok(temperature: complex) -> None:\n",
        "    print(temperature)\n",
        "    update(probe_ok, display_ok)  # Ok"
      ]
    },
    {
      "cell_type": "markdown",
      "id": "05e9df23",
      "metadata": {
        "id": "05e9df23"
      },
      "source": [
        "## NoReturn\n"
      ]
    },
    {
      "cell_type": "markdown",
      "id": "1a8d50e2",
      "metadata": {
        "id": "1a8d50e2"
      },
      "source": [
        "A special type used only to annotate the return type of functions that never\n",
        "return\n"
      ]
    },
    {
      "cell_type": "code",
      "execution_count": null,
      "id": "9f513df2",
      "metadata": {
        "id": "9f513df2"
      },
      "outputs": [],
      "source": [
        "from typing import NoReturn\n",
        "\n",
        "\n",
        "def exit(__status: object = ...) -> NoReturn: ..."
      ]
    },
    {
      "cell_type": "markdown",
      "id": "3c2eb3c8",
      "metadata": {
        "id": "3c2eb3c8"
      },
      "source": [
        "## Annotating Positional Only and Variadic Parameters\n"
      ]
    },
    {
      "cell_type": "code",
      "execution_count": null,
      "id": "e9c2d650",
      "metadata": {
        "id": "e9c2d650"
      },
      "outputs": [],
      "source": [
        "from typing import Optional\n",
        "\n",
        "\n",
        "def tag(\n",
        "    name: str,\n",
        "    /,\n",
        "    *content: str,\n",
        "    class_: Optional[str] = None,\n",
        "    **attrs: str,\n",
        ") -> str:\n",
        "    pass"
      ]
    },
    {
      "cell_type": "markdown",
      "id": "59d15690",
      "metadata": {
        "id": "59d15690"
      },
      "source": [
        "\\*content: str => all arguments must be of type str\\\n",
        "\\*\\*attrs: float => dict[str, float]\n"
      ]
    },
    {
      "cell_type": "markdown",
      "id": "adbc123a",
      "metadata": {
        "id": "adbc123a"
      },
      "source": [
        "**Imperfect Typing and Strong Testing**\n",
        "\n",
        "- Static Typing and Bug Detection: Static type checkers can help find and fix many bugs in large codebases more cheaply than if the bugs were discovered only after the code is running in production. However, automated testing was widely adopted long before static typing was introduced.\n",
        "\n",
        "- Limitations of Static Typing: Static typing cannot be trusted as the ultimate arbiter of correctness. It can produce false positives (reporting type errors on correct code) and false negatives (not reporting type errors on incorrect code).\n",
        "\n",
        "- Loss of Expressiveness: If we are forced to type check everything, we lose some of the expressive power of Python. Some handy features can’t be statically checked, like argument unpacking (config(\\*\\*settings)), and advanced features like properties, descriptors, metaclasses, and metaprogramming are poorly supported or beyond comprehension for type checkers.\n",
        "\n",
        "- Lagging Behind Python Releases: Type checkers can lag behind Python releases, rejecting or even crashing while analyzing code with new language features.\n",
        "\n",
        "- Inability to Express Common Data Constraints: Type hints are unable to ensure certain data constraints. For example, they can’t ensure “quantity must be an integer > 0” or “label must be a string with 6 to 12 ASCII letters.” In general, type hints are not helpful to catch errors in business logic.\n",
        "\n",
        "- Type Hints and Software Quality: Given these caveats, type hints cannot be the mainstay of software quality, and making them mandatory without exception would amplify the downsides.\n",
        "\n",
        "- Static Type Checker as a Tool in CI Pipeline: A static type checker should be considered as one of the tools in a modern Continuous Integration (CI) pipeline, along with test runners, linters, etc. The point of a CI pipeline is to reduce software failures, and automated tests catch many bugs that are beyond the reach of type hints.\n",
        "\n",
        "- Strong Typing vs. Strong Testing: The title and conclusion of this section were inspired by Bruce Eckel’s article “Strong Typing vs. Strong Testing”. He was a static typing advocate until he learned Python and concluded that if a Python program has adequate unit tests, it can be as robust as a C++, Java, or C# program with adequate unit tests (although the tests in Python will be faster to write).\n"
      ]
    },
    {
      "cell_type": "markdown",
      "id": "a4d33b63",
      "metadata": {
        "id": "a4d33b63"
      },
      "source": [
        "# Lecturers\n",
        "\n",
        "1. Mahyar Jahaninasab [Github](https://github.com/mahyar-jahaninasab)\n",
        "2. Ghazal Tajik [Linkedin](https://www.linkedin.com/in/ghazal-tajik-1736a126b)\n",
        "\n",
        "present date :\n"
      ]
    },
    {
      "cell_type": "markdown",
      "id": "8f53cc22",
      "metadata": {
        "id": "8f53cc22"
      },
      "source": [
        "# Reviewers\n",
        "\n",
        "1. Fahimeh Asadi , review date: 2023-11-10, [LinkedIn](https://www.linkedin.com/in/fahimehasaadi/)\n",
        "2. Mahya Asgarian , review date: 2023-11-10, [LinkedIn](https://www.linkedin.com/in/mahya-asgarian-9a7b13249/)\n"
      ]
    }
  ],
  "metadata": {
    "colab": {
      "collapsed_sections": [
        "5b5334ce",
        "95ad4d4b",
        "9fc8e752",
        "3be36d87",
        "6380ed64",
        "bbdbe0d1",
        "30652142",
        "a8961862",
        "8f59e7fb"
      ],
      "provenance": []
    },
    "kernelspec": {
      "display_name": "Python 3 (ipykernel)",
      "language": "python",
      "name": "python3"
    },
    "language_info": {
      "codemirror_mode": {
        "name": "ipython",
        "version": 3
      },
      "file_extension": ".py",
      "mimetype": "text/x-python",
      "name": "python",
      "nbconvert_exporter": "python",
      "pygments_lexer": "ipython3",
      "version": "3.10.13"
    }
  },
  "nbformat": 4,
  "nbformat_minor": 5
}
