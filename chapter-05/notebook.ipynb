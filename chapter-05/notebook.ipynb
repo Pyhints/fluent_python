{
 "cells": [
  {
   "cell_type": "code",
   "execution_count": null,
   "metadata": {
    "colab": {
     "base_uri": "https://localhost:8080/"
    },
    "id": "9qed5skFSQyF",
    "outputId": "7556f17d-e76d-405d-bd1e-6eecb89461b9"
   },
   "outputs": [
    {
     "name": "stdout",
     "output_type": "stream",
     "text": [
      "Cloning into 'example-code-2e'...\n",
      "remote: Enumerating objects: 3524, done.\u001b[K\n",
      "remote: Counting objects: 100% (131/131), done.\u001b[K\n",
      "remote: Compressing objects: 100% (37/37), done.\u001b[K\n",
      "remote: Total 3524 (delta 104), reused 94 (delta 94), pack-reused 3393\u001b[K\n",
      "Receiving objects: 100% (3524/3524), 13.38 MiB | 32.87 MiB/s, done.\n",
      "Resolving deltas: 100% (1911/1911), done.\n",
      "/content/example-code-2e/05-data-classes\n"
     ]
    }
   ],
   "source": [
    "# !git clone https://github.com/fluentpython/example-code-2e.git\n",
    "# %cd /content/example-code-2e/05-data-classes"
   ]
  },
  {
   "cell_type": "markdown",
   "metadata": {
    "id": "f2CIo5ElRnUN"
   },
   "source": [
    "# Data Class Builders"
   ]
  },
  {
   "cell_type": "markdown",
   "metadata": {
    "id": "_UBsH6CudM8H"
   },
   "source": [
    "Data classes, introduced in `Python 3.7` via `PEP 557,` are decorator and functions for creating classes primarily to store data.\n",
    "\n",
    "* Various class builders serve as shortcuts to write data classes:\n",
    "\n",
    "1. `collections.namedtuple`: A straightforward method to create data classes. Available since Python 2.6.\n",
    "2.  `typing.NamedTuple`: Introduced in Python 3.5; class syntax added in 3.6. Requires type hints on the fields.\n",
    "3. `@dataclasses.dataclass`: A class decorator offering more customization than other methods. Available from Python 3.7 onwards. Provides various options, potentially adding complexity.\n",
    "\n",
    "**NOTE**: `typing.TypedDict`: While it might appear similar to other data class builders, it's distinct.\n",
    "Found after typing.NamedTuple in Python 3.9's typing module documentation. It does not create concrete classes for instantiation. It provides syntax for type hints for function parameters and variables accepting mapping values used as records."
   ]
  },
  {
   "cell_type": "markdown",
   "metadata": {
    "id": "RUzsE3NXRz9D"
   },
   "source": [
    "## Overview of Data Class Builders"
   ]
  },
  {
   "cell_type": "code",
   "execution_count": null,
   "metadata": {
    "id": "XrGyi04mRSIR"
   },
   "outputs": [],
   "source": [
    "class Coordinate:\n",
    "    def __init__(self, lat, lon): # latitude and longitude attributes\n",
    "        self.lat = lat\n",
    "        self.lon = lon"
   ]
  },
  {
   "cell_type": "code",
   "execution_count": null,
   "metadata": {
    "colab": {
     "base_uri": "https://localhost:8080/"
    },
    "id": "VqJunER8nJZ3",
    "outputId": "d3e3803d-5f2d-468c-b0f9-174b3b5f5d9c"
   },
   "outputs": [
    {
     "data": {
      "text/plain": [
       "<__main__.Coordinate at 0x7c5175b7cb80>"
      ]
     },
     "execution_count": 3,
     "metadata": {},
     "output_type": "execute_result"
    }
   ],
   "source": [
    "moscow = Coordinate(55.76, 37.62)\n",
    "moscow  # __repr__ inherited from object is not very helpful."
   ]
  },
  {
   "cell_type": "code",
   "execution_count": null,
   "metadata": {
    "colab": {
     "base_uri": "https://localhost:8080/"
    },
    "id": "Y1FcPVBFnRnG",
    "outputId": "8d2c95ad-2cf5-4195-ee0b-8e4d32b26f04"
   },
   "outputs": [
    {
     "data": {
      "text/plain": [
       "<__main__.Coordinate at 0x7c5175b7caf0>"
      ]
     },
     "execution_count": 4,
     "metadata": {},
     "output_type": "execute_result"
    }
   ],
   "source": [
    "location = Coordinate(55.76, 37.62)\n",
    "location"
   ]
  },
  {
   "cell_type": "code",
   "execution_count": null,
   "metadata": {
    "id": "0DqRBBJT4qwG"
   },
   "outputs": [],
   "source": [
    "Coordinate.__doc__"
   ]
  },
  {
   "cell_type": "code",
   "execution_count": null,
   "metadata": {
    "colab": {
     "base_uri": "https://localhost:8080/"
    },
    "id": "LsRk-RDuR2aU",
    "outputId": "8122f4cd-577e-4eef-990e-ee7d0faf29f0"
   },
   "outputs": [
    {
     "data": {
      "text/plain": [
       "False"
      ]
     },
     "execution_count": 5,
     "metadata": {},
     "output_type": "execute_result"
    }
   ],
   "source": [
    "location == moscow # Meaningless ==; the __eq__ method inherited from object compares object IDs."
   ]
  },
  {
   "cell_type": "code",
   "execution_count": null,
   "metadata": {
    "colab": {
     "base_uri": "https://localhost:8080/"
    },
    "id": "92GNe_3sR2Xi",
    "outputId": "61e27b9b-15cd-4ce9-be13-8843871bb845"
   },
   "outputs": [
    {
     "name": "stdout",
     "output_type": "stream",
     "text": [
      "True\n"
     ]
    }
   ],
   "source": [
    "# Comparing two coordinates requires explicit comparison of each attribute.\n",
    "print((location.lat, location.lon) == (moscow.lat, moscow.lon))"
   ]
  },
  {
   "cell_type": "markdown",
   "metadata": {
    "id": "O2IMrDsJoREn"
   },
   "source": [
    "**Data Class Builders** in Python:\n",
    "* Automatically provide essential methods:\n",
    " * `__init__`\n",
    " * `__repr__`\n",
    " * `__eq__`\n",
    "\n",
    "* They also come with other handy features.\n",
    " * Key Points: No dependence on inheritance for their operation.\n",
    " * `collections.namedtuple` and `typing.NamedTuple` create classes that subclass tuple.\n",
    " * `@dataclass` is a class decorator with no impact on the class hierarchy.\n",
    "Various metaprogramming techniques are employed to inject methods and attributes into the class."
   ]
  },
  {
   "cell_type": "markdown",
   "metadata": {
    "id": "iCxvIQMAqhHD"
   },
   "source": [
    "### `namedtuple`\n",
    "\n",
    "- `namedtuple` is a factory function that builds a subclass of tuple with the name and fields you specif"
   ]
  },
  {
   "cell_type": "code",
   "execution_count": null,
   "metadata": {
    "colab": {
     "base_uri": "https://localhost:8080/"
    },
    "id": "xqstsObWlXqp",
    "outputId": "a331eb28-9c56-41df-c3f9-bf1996b19800"
   },
   "outputs": [
    {
     "name": "stdout",
     "output_type": "stream",
     "text": [
      "<class '__main__.Coordinate'>\n",
      "Coordinate(lat, lon)\n"
     ]
    }
   ],
   "source": [
    "from collections import namedtuple\n",
    "\n",
    "Coordinate = namedtuple('Coordinate', 'lat lon')\n",
    "print(Coordinate)\n",
    "print(Coordinate.__doc__) # docstring for the new class"
   ]
  },
  {
   "cell_type": "code",
   "execution_count": null,
   "metadata": {
    "colab": {
     "base_uri": "https://localhost:8080/"
    },
    "id": "R1l6ryu6r2vv",
    "outputId": "1056cf1d-6fa0-4b0e-9380-de7a348082f2"
   },
   "outputs": [
    {
     "name": "stdout",
     "output_type": "stream",
     "text": [
      "True\n"
     ]
    }
   ],
   "source": [
    "print(issubclass(Coordinate, tuple))"
   ]
  },
  {
   "cell_type": "code",
   "execution_count": null,
   "metadata": {
    "colab": {
     "base_uri": "https://localhost:8080/"
    },
    "id": "Pe25958srUPK",
    "outputId": "17c34829-a42e-4da6-99e1-c7bb47d6b9b8"
   },
   "outputs": [
    {
     "name": "stdout",
     "output_type": "stream",
     "text": [
      "Coordinate(lat=55.756, lon=37.617)\n"
     ]
    }
   ],
   "source": [
    "moscow = Coordinate(55.756, 37.617) # Useful __repr__.\n",
    "print(moscow)"
   ]
  },
  {
   "cell_type": "code",
   "execution_count": null,
   "metadata": {
    "colab": {
     "base_uri": "https://localhost:8080/"
    },
    "id": "qwWEAE5CtLjN",
    "outputId": "e00f4460-b295-4e1a-a112-001f7f3223cc"
   },
   "outputs": [
    {
     "name": "stdout",
     "output_type": "stream",
     "text": [
      "True\n"
     ]
    }
   ],
   "source": [
    "print(moscow == Coordinate(lat=55.756, lon=37.617)) # Meaningful __eq__."
   ]
  },
  {
   "cell_type": "markdown",
   "metadata": {
    "id": "ZEV_eu7jqiz6"
   },
   "source": [
    "### `typing.NamedTuple`\n",
    "NamedTuple provides the same functionality, adding a type annotation to each field\n",
    "\n",
    "* NOTE: using type hints with NamedTuple doesn't enforce type-checking at runtime; it's primarily for static type analysis tools like mypy or enhancing code clarity for developers."
   ]
  },
  {
   "cell_type": "code",
   "execution_count": null,
   "metadata": {
    "id": "Sf1TDjLypxa2"
   },
   "outputs": [],
   "source": [
    "import typing\n",
    "\n",
    "# typing.NamedTuple with type hints:\n",
    "class Coordinate(typing.NamedTuple):\n",
    "    lat: float\n",
    "    lon: float"
   ]
  },
  {
   "cell_type": "code",
   "execution_count": null,
   "metadata": {
    "id": "N3SiJo6nqGlu"
   },
   "outputs": [],
   "source": [
    "# typing.NamedTuple using keyword arguments:\n",
    "\n",
    "# Coordinate = typing.NamedTuple('Coordinate',[('lat', float), ('lon', float)])\n",
    "Coordinate = typing.NamedTuple('Coordinate',lat=float,lon=float)  # more readable"
   ]
  },
  {
   "cell_type": "code",
   "execution_count": null,
   "metadata": {
    "colab": {
     "base_uri": "https://localhost:8080/"
    },
    "id": "S5M911AxrAFj",
    "outputId": "a372131a-f951-412c-baf8-28a18a4afb0b"
   },
   "outputs": [
    {
     "name": "stdout",
     "output_type": "stream",
     "text": [
      "True\n",
      "{'lat': <class 'float'>, 'lon': <class 'float'>}\n"
     ]
    }
   ],
   "source": [
    "print(issubclass(Coordinate, tuple))\n",
    "print(typing.get_type_hints(Coordinate))"
   ]
  },
  {
   "cell_type": "code",
   "execution_count": null,
   "metadata": {
    "id": "BjKwCCl0rB7F"
   },
   "outputs": [],
   "source": [
    "# Example 5-2: Using typing.NamedTuple with a Class Statement\n",
    "from typing import NamedTuple\n",
    "\n",
    "class Coordinate(NamedTuple):  # Coordinate not inherits from the NamedTuple class\n",
    "    lat: float\n",
    "    lon: float\n",
    "\n",
    "    def __str__(self):\n",
    "        ns = 'N' if self.lat >= 0 else 'S'\n",
    "        ew = 'E' if self.lon >= 0 else 'W'\n",
    "        return f\"{abs(self.lat):.1f}°{ns}, {abs(self.lon):.1f}°{ew}\"\n"
   ]
  },
  {
   "cell_type": "markdown",
   "metadata": {
    "id": "hM9mZL35tKkT"
   },
   "source": [
    "NOTE: The `typing.NamedTuple` is indeed special and doesn't behave like a typical base class in traditional inheritance.\n",
    "\n",
    "It makes use of `metaclasses` to achieve its behavior, which is an advanced topic in Python."
   ]
  },
  {
   "cell_type": "code",
   "execution_count": null,
   "metadata": {
    "colab": {
     "base_uri": "https://localhost:8080/"
    },
    "id": "7d837Yg2sjld",
    "outputId": "6276f6e8-2436-4720-a592-3fc2b659a938"
   },
   "outputs": [
    {
     "name": "stdout",
     "output_type": "stream",
     "text": [
      "[<class '__main__.Coordinate'>, <class 'tuple'>, <class 'object'>]\n"
     ]
    }
   ],
   "source": [
    "print(Coordinate.mro()) # Coordinate directly inherits from tuple, not from NamedTuple"
   ]
  },
  {
   "cell_type": "code",
   "execution_count": null,
   "metadata": {
    "colab": {
     "base_uri": "https://localhost:8080/",
     "height": 182
    },
    "id": "H0CHSynQtX8z",
    "outputId": "4ca9f508-70c1-4c9a-c2cd-5e8b230487bd"
   },
   "outputs": [
    {
     "ename": "TypeError",
     "evalue": "ignored",
     "output_type": "error",
     "traceback": [
      "\u001b[0;31m---------------------------------------------------------------------------\u001b[0m",
      "\u001b[0;31mTypeError\u001b[0m                                 Traceback (most recent call last)",
      "\u001b[0;32m<ipython-input-21-be22d9932628>\u001b[0m in \u001b[0;36m<cell line: 1>\u001b[0;34m()\u001b[0m\n\u001b[0;32m----> 1\u001b[0;31m \u001b[0missubclass\u001b[0m\u001b[0;34m(\u001b[0m\u001b[0mCoordinate\u001b[0m\u001b[0;34m,\u001b[0m \u001b[0mNamedTuple\u001b[0m\u001b[0;34m)\u001b[0m\u001b[0;34m\u001b[0m\u001b[0;34m\u001b[0m\u001b[0m\n\u001b[0m",
      "\u001b[0;31mTypeError\u001b[0m: issubclass() arg 2 must be a class, a tuple of classes, or a union"
     ]
    }
   ],
   "source": [
    "issubclass(Coordinate, NamedTuple)"
   ]
  },
  {
   "cell_type": "code",
   "execution_count": null,
   "metadata": {
    "colab": {
     "base_uri": "https://localhost:8080/"
    },
    "id": "g707gcUYtfnj",
    "outputId": "b2deacac-f5e7-46a6-bae1-884dbd8156ec"
   },
   "outputs": [
    {
     "data": {
      "text/plain": [
       "True"
      ]
     },
     "execution_count": 22,
     "metadata": {},
     "output_type": "execute_result"
    }
   ],
   "source": [
    "issubclass(Coordinate, tuple)"
   ]
  },
  {
   "cell_type": "markdown",
   "metadata": {
    "id": "GcgzkR-Dtv7x"
   },
   "source": [
    "### @dataclass"
   ]
  },
  {
   "cell_type": "markdown",
   "metadata": {
    "id": "ocGVqnrJZ-w2"
   },
   "source": [
    "- **Definition**: A decorator to auto-generate special methods for classes, like `__init__`, `__repr__`, and `__eq__`.\n",
    "\n",
    "- **Module**: Part of the `dataclasses` module introduced in Python 3.7.\n",
    "\n",
    "- **Field Defaults**: Supports default values for fields. If no default is provided, the field is assumed to be required in the `__init__` method.\n",
    "\n",
    "- **Type Hints**: Encourages the use of type hints, but doesn't enforce them at runtime.\n",
    "\n",
    "- **Immutability**: Create immutable instances using `@dataclass(frozen=True)`.\n",
    "\n",
    "- **Comparison**\n",
    "  - Auto-generates comparison (`__eq__`) method. Can also auto-generate ordering methods (`__lt__`, `__le__`, `__gt__`, `__ge__`) with the `order=True` parameter.\n",
    "\n",
    "- **Post-Initialization**: Supports a `__post_init__` method that runs after the generated `__init__` method.\n",
    "\n",
    "- **Field Metadata**: Allows for field metadata which can be used for various purposes, like validation or serialization.\n",
    "\n",
    "- **Inheritance**: Compatible with class inheritance. Base classes can be dataclasses as well.\n",
    "\n",
    "- **Utility Functions**\n",
    "  - The `dataclasses` module provides utility functions like `asdict`, `astuple`, and `replace` for working with dataclass instances.\n",
    "\n"
   ]
  },
  {
   "cell_type": "code",
   "execution_count": null,
   "metadata": {
    "colab": {
     "base_uri": "https://localhost:8080/"
    },
    "id": "oTKVSOF3sjjo",
    "outputId": "caaa67c3-fb82-4403-8fc2-d673339678be"
   },
   "outputs": [
    {
     "data": {
      "text/plain": [
       "Coordinate(lat=55.8, lon=37.6)"
      ]
     },
     "execution_count": 23,
     "metadata": {},
     "output_type": "execute_result"
    }
   ],
   "source": [
    "# Example 5-3. dataclass/coordinates.py\n",
    "from dataclasses import dataclass\n",
    "\n",
    "@dataclass(frozen=True)\n",
    "class Coordinate:\n",
    "    lat: float\n",
    "    lon: float\n",
    "\n",
    "    def __str__(self) -> str:\n",
    "        ns = 'N' if self.lat >= 0 else 'S'\n",
    "        we = 'E' if self.lon >= 0 else 'W'\n",
    "        return f'{abs(self.lat):.1f}°{ns}, {abs(self.lon):.1f}°{we}'\n",
    "\n",
    "coord = Coordinate(55.8, 37.6)\n",
    "coord"
   ]
  },
  {
   "cell_type": "markdown",
   "metadata": {
    "id": "duz0y0Ojub8V"
   },
   "source": [
    "## Main Features"
   ]
  },
  {
   "cell_type": "markdown",
   "metadata": {
    "id": "AnshdoXVXXiN"
   },
   "source": [
    "| Feature                        | `namedtuple`   | `NamedTuple`    | `dataclass`                                     |\n",
    "|--------------------------------|----------------|-----------------|-------------------------------------------------|\n",
    "| Mutable instances              | NO             | NO              | YES                                             |\n",
    "| Class statement syntax         | NO             | YES             | YES                                             |\n",
    "| Construct dict                 | `x._asdict()`  | `x._asdict()`   | `dataclasses.asdict(x)`                         |\n",
    "| Get field names                | `x._fields`    | `x._fields`     | `[f.name for f in dataclasses.fields(x)]`       |\n",
    "| Get defaults                   | `x._field_defaults` | `x._field_defaults` | `[f.default for f in dataclasses.fields(x)]` |\n",
    "| Get field types                | N/A            | `x.__annotations__` | `x.__annotations__`                           |\n",
    "| New instance with changes      | `x._replace(...)` | `x._replace(...)` | `dataclasses.replace(x, ...)`              |\n",
    "| New class at runtime           | `namedtuple(...)` | `NamedTuple(...)`  | `dataclasses.make_dataclass(...)`         |\n"
   ]
  },
  {
   "cell_type": "markdown",
   "metadata": {
    "id": "pRt2Ow6abkLL"
   },
   "source": [
    "## Key Takeaways on Data Class Builders:\n",
    "\n",
    "- **Mutability**:\n",
    "  - `collections.namedtuple` and `typing.NamedTuple` create **immutable** tuple subclasses.\n",
    "  - `@dataclass` produces **mutable** classes by default.\n",
    "  - Use `frozen=True` with `@dataclass` to make it immutable, preventing post-initialization assignment.\n",
    "\n",
    "- **Class Syntax**:\n",
    "  - Both `typing.NamedTuple` and `@dataclass` support the standard class statement, allowing for easier method addition and docstrings.\n",
    "\n",
    "- **Dictionary Construction**:\n",
    "  - `namedtuple` and `NamedTuple`: Use `._asdict()` method.\n",
    "  - `@dataclass`: Use `dataclasses.asdict()` function.\n",
    "\n",
    "- **Field Metadata**:\n",
    "  - Retrieve field names and defaults:\n",
    "    - `namedtuple`: `._fields` and `._fields_defaults`.\n",
    "    - `@dataclass`: Use `dataclasses.fields()` function.\n",
    "  - Field types:\n",
    "    - `typing.NamedTuple` and `@dataclass` use `__annotations__` for type hints.\n",
    "    - Prefer `typing.get_type_hints()` over direct `__annotations__` access.\n",
    "\n",
    "- **Instance Modification**:\n",
    "  - Create a new modified instance:\n",
    "    - `namedtuple`: Use `x._replace(**kwargs)`.\n",
    "    - `@dataclass`: Use `dataclasses.replace(x, **kwargs)`.\n",
    "\n",
    "- **Runtime Class Creation**:\n",
    "  - For dynamic class creation:\n",
    "    - Use standard function call syntax for `collections.namedtuple` and `typing.NamedTuple`.\n",
    "    - `@dataclass` provides `dataclasses.make_dataclass()` for this purpose.\n"
   ]
  },
  {
   "cell_type": "markdown",
   "metadata": {
    "id": "C9GMtlL-uGkw"
   },
   "source": [
    "## Classic Named Tuples"
   ]
  },
  {
   "cell_type": "code",
   "execution_count": null,
   "metadata": {
    "colab": {
     "base_uri": "https://localhost:8080/"
    },
    "id": "ezX1vYJ2sjhE",
    "outputId": "671c82b9-52a4-4891-9380-03ca3bc00dbe"
   },
   "outputs": [
    {
     "data": {
      "text/plain": [
       "City(name='Tokyo', country='JP', population=36.933, coordinates=(35.689722, 139.691667))"
      ]
     },
     "execution_count": 24,
     "metadata": {},
     "output_type": "execute_result"
    }
   ],
   "source": [
    "# Example 5-4. Defining and using a named tuple type\n",
    "from collections import namedtuple\n",
    "\n",
    "# Two parameters are required to create a named tuple: a class name and a list of field names\n",
    "# As a tuple subclass, City inherits useful methods such as __eq__ and __lt__\n",
    "City = namedtuple('City', 'name country population coordinates')\n",
    "\n",
    "tokyo = City('Tokyo', 'JP', 36.933, (35.689722, 139.691667))\n",
    "tokyo"
   ]
  },
  {
   "cell_type": "code",
   "execution_count": null,
   "metadata": {
    "colab": {
     "base_uri": "https://localhost:8080/"
    },
    "id": "qF2DXo9aumT5",
    "outputId": "8d903403-5848-42ca-8807-ab4b2df62610"
   },
   "outputs": [
    {
     "data": {
      "text/plain": [
       "36.933"
      ]
     },
     "execution_count": 25,
     "metadata": {},
     "output_type": "execute_result"
    }
   ],
   "source": [
    "tokyo.population  # access the fields by name or position."
   ]
  },
  {
   "cell_type": "code",
   "execution_count": null,
   "metadata": {
    "colab": {
     "base_uri": "https://localhost:8080/"
    },
    "id": "re0nTdqqu0D5",
    "outputId": "54d7a30a-eaf0-4a38-f7be-a8bd9b2d0b75"
   },
   "outputs": [
    {
     "data": {
      "text/plain": [
       "(35.689722, 139.691667)"
      ]
     },
     "execution_count": 26,
     "metadata": {},
     "output_type": "execute_result"
    }
   ],
   "source": [
    "tokyo.coordinates"
   ]
  },
  {
   "cell_type": "code",
   "execution_count": null,
   "metadata": {
    "colab": {
     "base_uri": "https://localhost:8080/",
     "height": 35
    },
    "id": "Khz_B-5xu2Cz",
    "outputId": "c62226e2-211d-467e-88fc-03a6981af1e6"
   },
   "outputs": [
    {
     "data": {
      "application/vnd.google.colaboratory.intrinsic+json": {
       "type": "string"
      },
      "text/plain": [
       "'JP'"
      ]
     },
     "execution_count": 27,
     "metadata": {},
     "output_type": "execute_result"
    }
   ],
   "source": [
    "tokyo[1]"
   ]
  },
  {
   "cell_type": "code",
   "execution_count": null,
   "metadata": {
    "colab": {
     "base_uri": "https://localhost:8080/"
    },
    "id": "NcagWU5nvnAt",
    "outputId": "69266c58-549e-4727-e25c-489ba3993dfd"
   },
   "outputs": [
    {
     "data": {
      "text/plain": [
       "('name', 'country', 'population', 'coordinates')"
      ]
     },
     "execution_count": 28,
     "metadata": {},
     "output_type": "execute_result"
    }
   ],
   "source": [
    "# Example 5-5. Named tuple attributes and methods (continued from the previous example)\n",
    "\n",
    "City._fields # ._fields is a tuple with the field names of the class."
   ]
  },
  {
   "cell_type": "code",
   "execution_count": null,
   "metadata": {
    "colab": {
     "base_uri": "https://localhost:8080/"
    },
    "id": "pF_U1N37vogy",
    "outputId": "faffe525-6c43-4396-cbe7-11829dc28e11"
   },
   "outputs": [
    {
     "data": {
      "text/plain": [
       "{'name': 'Delhi NCR',\n",
       " 'country': 'IN',\n",
       " 'population': 21.935,\n",
       " 'coordinates': Coordinate(lat=28.613889, lon=77.208889)}"
      ]
     },
     "execution_count": 29,
     "metadata": {},
     "output_type": "execute_result"
    }
   ],
   "source": [
    "Coordinate = namedtuple('Coordinate', 'lat lon')\n",
    "\n",
    "delhi_data = ('Delhi NCR', 'IN', 21.935, Coordinate(28.613889, 77.208889))\n",
    "delhi = City._make(delhi_data) # ._make() builds City from an iterable; City(*delhi_data) would do the same.\n",
    "delhi._asdict() # ._asdict() returns a dict built from the named tuple instance."
   ]
  },
  {
   "cell_type": "code",
   "execution_count": null,
   "metadata": {
    "colab": {
     "base_uri": "https://localhost:8080/",
     "height": 35
    },
    "id": "xNQZZChgu5DO",
    "outputId": "ebc287e0-ccf2-4326-c3d8-fdcb63dc9c2d"
   },
   "outputs": [
    {
     "data": {
      "application/vnd.google.colaboratory.intrinsic+json": {
       "type": "string"
      },
      "text/plain": [
       "'{\"name\": \"Delhi NCR\", \"country\": \"IN\", \"population\": 21.935, \"coordinates\": [28.613889, 77.208889]}'"
      ]
     },
     "execution_count": 30,
     "metadata": {},
     "output_type": "execute_result"
    }
   ],
   "source": [
    "import json\n",
    "json.dumps(delhi._asdict()) # ._asdict() is useful to serialize the data in JSON format, for example."
   ]
  },
  {
   "cell_type": "code",
   "execution_count": null,
   "metadata": {
    "colab": {
     "base_uri": "https://localhost:8080/"
    },
    "id": "-FHe5YZ4u5uP",
    "outputId": "081e0457-6df5-4248-b0d6-96191387ce0d"
   },
   "outputs": [
    {
     "data": {
      "text/plain": [
       "Coordinate(lat=0, lon=0, reference='WGS84')"
      ]
     },
     "execution_count": 78,
     "metadata": {},
     "output_type": "execute_result"
    }
   ],
   "source": [
    "# Example 5-6. Named tuple attributes and methods, continued from Example 5-5\n",
    "\n",
    "Coordinate = namedtuple('Coordinate', 'lat lon reference', defaults=[23, 'WGS84'])\n",
    "Coordinate(0,0)"
   ]
  },
  {
   "cell_type": "code",
   "execution_count": null,
   "metadata": {
    "colab": {
     "base_uri": "https://localhost:8080/"
    },
    "id": "Z9nTYWSZu5rr",
    "outputId": "3bd841bb-8b84-4ca7-92f3-4a512afcf507"
   },
   "outputs": [
    {
     "data": {
      "text/plain": [
       "{'lon': 23, 'reference': 'WGS84'}"
      ]
     },
     "execution_count": 79,
     "metadata": {},
     "output_type": "execute_result"
    }
   ],
   "source": [
    "Coordinate._field_defaults"
   ]
  },
  {
   "cell_type": "markdown",
   "metadata": {
    "id": "0qlExN1pwajt"
   },
   "source": [
    "## Typed Named Tuples"
   ]
  },
  {
   "cell_type": "markdown",
   "metadata": {
    "id": "Us5QYSYOZRf-"
   },
   "source": [
    "- **Definition**:  An extension of the standard `namedtuple` providing type annotations for fields.\n",
    "  \n",
    "- **Module**: Part of the `typing` module since Python 3.5.\n",
    "\n",
    "- **Type Checking**: Provides static type checks when used with tools like `mypy`.\n",
    "  \n",
    "- **Immutability**: Instances are immutable, similar to regular `namedtuple`.\n",
    "  \n",
    "- **Methods**\n",
    "  - Inherits methods from `namedtuple` like `_asdict()`, `_fields`, `_replace()`, etc.\n",
    "  \n",
    "- **Custom Methods**\n",
    "  - Supports adding custom methods, which is not possible with regular `namedtuple`.\n",
    "  \n",
    "- **Metaclass Functionality**: Uses metaclasses for class creation, making it seem like a superclass but it's not.\n",
    "  \n",
    "- **Limitations**: Doesn't enforce type constraints at runtime. Incorrect types will be stored without error.\n",
    "  \n"
   ]
  },
  {
   "cell_type": "code",
   "execution_count": null,
   "metadata": {
    "id": "jG-TkXlFu5pE"
   },
   "outputs": [],
   "source": [
    "# The Coordinate class with a default field from Example 5-6 can be written using typing.NamedTuple\n",
    "from typing import NamedTuple\n",
    "\n",
    "class Coordinate(NamedTuple):\n",
    "  lat: float # Every instance field must be annotated with a type.\n",
    "  lon: float\n",
    "  reference: str = 'WGS84' # The reference instance field is annotated with a type and a default value."
   ]
  },
  {
   "cell_type": "markdown",
   "metadata": {
    "id": "ZsGrKocrw0EM"
   },
   "source": [
    "## Type Hints 101"
   ]
  },
  {
   "cell_type": "markdown",
   "metadata": {
    "id": "eRnK3rkgYH_P"
   },
   "source": [
    "- Type hints, introduced in PEP 484, allow type annotations in Python.\n",
    "  \n",
    "- **Interpreter Behavior**: Not enforced at runtime by the Python interpreter.\n",
    "      \n",
    "- **Static Type Checkers**: Tools like `mypy` check code for type consistency based on hints.\n",
    "  \n",
    "- **Optional Types**: Use `Optional` from `typing` for values that can be `None`.\n",
    "  \n",
    "- **Complex Types**: The `typing` module offers types like `List`, `Dict`, `Tuple`, etc.\n",
    "- **Generics**: Allow type parameters for type-safe classes/functions.\n",
    "  \n",
    "- **Class & Variable Annotations**: Type hints aren't limited to function signatures.\n",
    "  \n",
    "- **Runtime Type Checking**: Possible with tools like `typeguard`, though not native to type hints.\n"
   ]
  },
  {
   "cell_type": "markdown",
   "metadata": {
    "id": "4tNBjZXkw4Es"
   },
   "source": [
    "### No Runtime Effect"
   ]
  },
  {
   "cell_type": "code",
   "execution_count": null,
   "metadata": {
    "id": "2WoSIfHywgr4"
   },
   "outputs": [],
   "source": [
    "# Example 5-9. Python does not enforce type hints at runtime\n",
    "import typing\n",
    "\n",
    "class Coordinate(typing.NamedTuple):\n",
    "    lat: float\n",
    "    lon: float # instance must be of type float\n"
   ]
  },
  {
   "cell_type": "code",
   "execution_count": null,
   "metadata": {
    "colab": {
     "base_uri": "https://localhost:8080/"
    },
    "id": "Dcti0wz3xdPt",
    "outputId": "05161bb8-565f-4032-a666-0f8f8a583564"
   },
   "outputs": [
    {
     "data": {
      "text/plain": [
       "Coordinate(lat='Ni!', lon=None)"
      ]
     },
     "execution_count": 35,
     "metadata": {},
     "output_type": "execute_result"
    }
   ],
   "source": [
    "trash = Coordinate('Ni!', None) # the assignment to trash uses a str and None\n",
    "trash"
   ]
  },
  {
   "cell_type": "code",
   "execution_count": null,
   "metadata": {
    "colab": {
     "base_uri": "https://localhost:8080/"
    },
    "id": "XBJDFLHTxkO2",
    "outputId": "523c8b83-8831-4710-9ba7-a49a90f506e4"
   },
   "outputs": [
    {
     "data": {
      "text/plain": [
       "Coordinate(lat='Ni!', lon=None)"
      ]
     },
     "execution_count": 36,
     "metadata": {},
     "output_type": "execute_result"
    }
   ],
   "source": [
    "Coordinate(lat='Ni!', lon=None) # no type checking at runtime!"
   ]
  },
  {
   "cell_type": "markdown",
   "metadata": {
    "id": "95kavwpVx9OX"
   },
   "source": [
    "* The type hints are intended primarily to support third-party type checkers, like Mypy or the PyCharm IDE built-in type checker.\n",
    "* they check Python source code “at rest,” not running code."
   ]
  },
  {
   "cell_type": "markdown",
   "metadata": {
    "id": "Obl7FT31xBsg"
   },
   "source": [
    "### Variable Annotation Syntax"
   ]
  },
  {
   "cell_type": "markdown",
   "metadata": {
    "id": "qvXMRksmyzeM"
   },
   "source": [
    "* A concrete class, for example, str or FrenchDeck\n",
    "* A parameterized collection type, like list[int], tuple[str, float], etc.\n",
    "* typing.Optional, for example, Optional[str]—to declare a field that can be a str or None\n"
   ]
  },
  {
   "cell_type": "markdown",
   "metadata": {
    "id": "Y0z8qdUAcbGF"
   },
   "source": [
    "**NOTE**: The classes built by `typing.NamedTuple` and `@dataclass` have an `__annotations__` attribute holding the type hints for the fields. However, reading from `__annotations__` directly is not recommended. Instead, the recommended best practice to get that information is to call `inspect.get_annotations(MyClass)` (added in Python 3.10) or `typing.get_type_hints(MyClass)` (Python 3.5 to 3.9)."
   ]
  },
  {
   "cell_type": "markdown",
   "metadata": {
    "id": "qWWk2EcfxEcB"
   },
   "source": [
    "### The Meaning of Variable Annotations"
   ]
  },
  {
   "cell_type": "code",
   "execution_count": null,
   "metadata": {
    "id": "EuxdBaO0xFGg"
   },
   "outputs": [],
   "source": [
    "# Example 5-10. meaning/demo_plain.py: a plain class with type hints\n",
    "class DemoPlainClass:\n",
    "  a: int            # entry in __annotations__ , no attribute named a is created in the class.\n",
    "  b: float = 1.1     # saved as an annotation , a class attribute with value 1.1.\n",
    "  c = 'spam'        # just a plain old class attribute, not an annotatio"
   ]
  },
  {
   "cell_type": "code",
   "execution_count": null,
   "metadata": {
    "colab": {
     "base_uri": "https://localhost:8080/"
    },
    "id": "_M-o0ipHzfC-",
    "outputId": "dfee7e22-988e-4847-b3d0-2e2f029848bc"
   },
   "outputs": [
    {
     "data": {
      "text/plain": [
       "{'a': int, 'b': float}"
      ]
     },
     "execution_count": 38,
     "metadata": {},
     "output_type": "execute_result"
    }
   ],
   "source": [
    "DemoPlainClass.__annotations__"
   ]
  },
  {
   "cell_type": "code",
   "execution_count": null,
   "metadata": {
    "colab": {
     "base_uri": "https://localhost:8080/",
     "height": 182
    },
    "id": "BT4FRq0mzvbH",
    "outputId": "0657adf2-4470-40d9-bfa6-c10cb037a99f"
   },
   "outputs": [
    {
     "ename": "AttributeError",
     "evalue": "ignored",
     "output_type": "error",
     "traceback": [
      "\u001b[0;31m---------------------------------------------------------------------------\u001b[0m",
      "\u001b[0;31mAttributeError\u001b[0m                            Traceback (most recent call last)",
      "\u001b[0;32m<ipython-input-39-d9b4e0756add>\u001b[0m in \u001b[0;36m<cell line: 1>\u001b[0;34m()\u001b[0m\n\u001b[0;32m----> 1\u001b[0;31m \u001b[0mDemoPlainClass\u001b[0m\u001b[0;34m.\u001b[0m\u001b[0ma\u001b[0m\u001b[0;34m\u001b[0m\u001b[0;34m\u001b[0m\u001b[0m\n\u001b[0m",
      "\u001b[0;31mAttributeError\u001b[0m: type object 'DemoPlainClass' has no attribute 'a'"
     ]
    }
   ],
   "source": [
    "DemoPlainClass.a"
   ]
  },
  {
   "cell_type": "code",
   "execution_count": null,
   "metadata": {
    "colab": {
     "base_uri": "https://localhost:8080/"
    },
    "id": "m9OeT8elzy9o",
    "outputId": "ea2cd5a7-8665-4c4b-b737-6b36627b09c6"
   },
   "outputs": [
    {
     "data": {
      "text/plain": [
       "1.1"
      ]
     },
     "execution_count": 40,
     "metadata": {},
     "output_type": "execute_result"
    }
   ],
   "source": [
    "DemoPlainClass.b"
   ]
  },
  {
   "cell_type": "code",
   "execution_count": null,
   "metadata": {
    "colab": {
     "base_uri": "https://localhost:8080/",
     "height": 35
    },
    "id": "xE09Toz-zy62",
    "outputId": "f08e6d59-11ff-4ea2-c0c6-0824c77cdd38"
   },
   "outputs": [
    {
     "data": {
      "application/vnd.google.colaboratory.intrinsic+json": {
       "type": "string"
      },
      "text/plain": [
       "'spam'"
      ]
     },
     "execution_count": 41,
     "metadata": {},
     "output_type": "execute_result"
    }
   ],
   "source": [
    "DemoPlainClass.c"
   ]
  },
  {
   "cell_type": "code",
   "execution_count": null,
   "metadata": {
    "colab": {
     "base_uri": "https://localhost:8080/",
     "height": 237
    },
    "id": "ZQgLQI4Jz8Xw",
    "outputId": "0877cd3c-03cc-4319-e585-262d75efe0ca"
   },
   "outputs": [
    {
     "ename": "AttributeError",
     "evalue": "ignored",
     "output_type": "error",
     "traceback": [
      "\u001b[0;31m---------------------------------------------------------------------------\u001b[0m",
      "\u001b[0;31mAttributeError\u001b[0m                            Traceback (most recent call last)",
      "\u001b[0;32m<ipython-input-42-bc905fca672d>\u001b[0m in \u001b[0;36m<cell line: 2>\u001b[0;34m()\u001b[0m\n\u001b[1;32m      1\u001b[0m \u001b[0mo\u001b[0m \u001b[0;34m=\u001b[0m \u001b[0mDemoPlainClass\u001b[0m\u001b[0;34m(\u001b[0m\u001b[0;34m)\u001b[0m \u001b[0;31m#example object\u001b[0m\u001b[0;34m\u001b[0m\u001b[0;34m\u001b[0m\u001b[0m\n\u001b[0;32m----> 2\u001b[0;31m \u001b[0mo\u001b[0m\u001b[0;34m.\u001b[0m\u001b[0ma\u001b[0m \u001b[0;31m# AttributeError: 'DemoPlainClass' object has no attribute 'a'\u001b[0m\u001b[0;34m\u001b[0m\u001b[0;34m\u001b[0m\u001b[0m\n\u001b[0m\u001b[1;32m      3\u001b[0m \u001b[0mo\u001b[0m\u001b[0;34m.\u001b[0m\u001b[0mb\u001b[0m\u001b[0;34m\u001b[0m\u001b[0;34m\u001b[0m\u001b[0m\n\u001b[1;32m      4\u001b[0m \u001b[0mo\u001b[0m\u001b[0;34m.\u001b[0m\u001b[0mc\u001b[0m\u001b[0;34m\u001b[0m\u001b[0;34m\u001b[0m\u001b[0m\n",
      "\u001b[0;31mAttributeError\u001b[0m: 'DemoPlainClass' object has no attribute 'a'"
     ]
    }
   ],
   "source": [
    "o = DemoPlainClass() #example object\n",
    "o.a # AttributeError: 'DemoPlainClass' object has no attribute 'a'\n"
   ]
  },
  {
   "cell_type": "code",
   "execution_count": null,
   "metadata": {
    "colab": {
     "base_uri": "https://localhost:8080/"
    },
    "id": "BP7kcr7nu8fx",
    "outputId": "f22f29ce-f073-4e96-87dc-dbf0af3c1701"
   },
   "outputs": [
    {
     "name": "stdout",
     "output_type": "stream",
     "text": [
      "1.1\n",
      "spam\n"
     ]
    }
   ],
   "source": [
    "print(o.b)\n",
    "print(o.c)"
   ]
  },
  {
   "cell_type": "markdown",
   "metadata": {
    "id": "qtWKnDq70Rgm"
   },
   "source": [
    "#### Inspecting a typing.NamedTuple"
   ]
  },
  {
   "cell_type": "code",
   "execution_count": null,
   "metadata": {
    "id": "iuC0qE6V0QtT"
   },
   "outputs": [],
   "source": [
    "# Example 5-11. meaning/demo_nt.py: a class built with typing.NamedTuple\n",
    "import typing\n",
    "\n",
    "class DemoNTClass(typing.NamedTuple):\n",
    "  a: int               # an annotation and also an instance attribute.\n",
    "  b: float = 1.1        # another annotation and also an instance attribute.\n",
    "  c = 'spam'           # just a plain old class attribute; no annotation will refer to it."
   ]
  },
  {
   "cell_type": "code",
   "execution_count": null,
   "metadata": {
    "colab": {
     "base_uri": "https://localhost:8080/"
    },
    "id": "Nx76k6vz0zX-",
    "outputId": "f8aade43-3414-42d0-8563-410900ac9acf"
   },
   "outputs": [
    {
     "data": {
      "text/plain": [
       "{'a': int, 'b': float}"
      ]
     },
     "execution_count": 46,
     "metadata": {},
     "output_type": "execute_result"
    }
   ],
   "source": [
    "DemoNTClass.__annotations__"
   ]
  },
  {
   "cell_type": "code",
   "execution_count": null,
   "metadata": {
    "colab": {
     "base_uri": "https://localhost:8080/"
    },
    "id": "6SiEJsri07MP",
    "outputId": "eccb9d35-09f5-4d41-d994-5fc2364064ca"
   },
   "outputs": [
    {
     "data": {
      "text/plain": [
       "_tuplegetter(0, 'Alias for field number 0')"
      ]
     },
     "execution_count": 47,
     "metadata": {},
     "output_type": "execute_result"
    }
   ],
   "source": [
    "DemoNTClass.a  # The a and b class attributes are descriptors"
   ]
  },
  {
   "cell_type": "code",
   "execution_count": null,
   "metadata": {
    "colab": {
     "base_uri": "https://localhost:8080/"
    },
    "id": "jui64sL_09g2",
    "outputId": "48cc8335-c118-4275-fea8-bc7dfde0ef4a"
   },
   "outputs": [
    {
     "data": {
      "text/plain": [
       "_tuplegetter(1, 'Alias for field number 1')"
      ]
     },
     "execution_count": 48,
     "metadata": {},
     "output_type": "execute_result"
    }
   ],
   "source": [
    "DemoNTClass.b"
   ]
  },
  {
   "cell_type": "code",
   "execution_count": null,
   "metadata": {
    "colab": {
     "base_uri": "https://localhost:8080/",
     "height": 35
    },
    "id": "8aNvLksc09eC",
    "outputId": "f5097e72-b1d9-4b02-ad7e-7b09291bbac8"
   },
   "outputs": [
    {
     "data": {
      "application/vnd.google.colaboratory.intrinsic+json": {
       "type": "string"
      },
      "text/plain": [
       "'spam'"
      ]
     },
     "execution_count": 49,
     "metadata": {},
     "output_type": "execute_result"
    }
   ],
   "source": [
    "DemoNTClass.c"
   ]
  },
  {
   "cell_type": "code",
   "execution_count": null,
   "metadata": {
    "colab": {
     "base_uri": "https://localhost:8080/",
     "height": 35
    },
    "id": "w39FoNRq1Pm7",
    "outputId": "c7905192-3ccc-4019-eeb3-31bca8b0c011"
   },
   "outputs": [
    {
     "data": {
      "application/vnd.google.colaboratory.intrinsic+json": {
       "type": "string"
      },
      "text/plain": [
       "'DemoNTClass(a, b)'"
      ]
     },
     "execution_count": 50,
     "metadata": {},
     "output_type": "execute_result"
    }
   ],
   "source": [
    "# DemoNTClass also gets a custom docstring\n",
    "DemoNTClass.__doc__"
   ]
  },
  {
   "cell_type": "code",
   "execution_count": null,
   "metadata": {
    "colab": {
     "base_uri": "https://localhost:8080/"
    },
    "id": "HFf1kCIT1VJq",
    "outputId": "1ea9e26b-0548-44e8-af7d-4d361f391b20"
   },
   "outputs": [
    {
     "name": "stdout",
     "output_type": "stream",
     "text": [
      "DemoNTClass(a=8, b=1.1)\n",
      "8\n",
      "1.1\n",
      "spam\n"
     ]
    }
   ],
   "source": [
    "nt = DemoNTClass(8)\n",
    "print(nt)\n",
    "print(nt.a)\n",
    "print(nt.b)\n",
    "print(nt.c)"
   ]
  },
  {
   "cell_type": "markdown",
   "metadata": {
    "id": "-k4cGZnz1uli"
   },
   "source": [
    "#### Inspecting a class decorated with dataclass"
   ]
  },
  {
   "cell_type": "code",
   "execution_count": null,
   "metadata": {
    "id": "EthE38ms1wgu"
   },
   "outputs": [],
   "source": [
    "# Example 5-12. meaning/demo_dc.py: a class decorated with @dataclass from dataclasses import dataclass\n",
    "\n",
    "@dataclass\n",
    "class DemoDataClass:\n",
    "    a: int         # an annotation and also an instance attribute controlled by a descriptor.\n",
    "    b: float = 1.1  # an annotation, and also becomes an instance attribute with a descriptor and a default value 1.1\n",
    "    c = 'spam'     # c is just a plain old class attribute; no annotation will refer to it."
   ]
  },
  {
   "cell_type": "code",
   "execution_count": null,
   "metadata": {
    "colab": {
     "base_uri": "https://localhost:8080/"
    },
    "id": "vM5gXzUR2G_g",
    "outputId": "d935ffaf-ad84-4dc1-f049-a7bfdb375af1"
   },
   "outputs": [
    {
     "data": {
      "text/plain": [
       "{'a': int, 'b': float}"
      ]
     },
     "execution_count": 53,
     "metadata": {},
     "output_type": "execute_result"
    }
   ],
   "source": [
    "DemoDataClass.__annotations__"
   ]
  },
  {
   "cell_type": "code",
   "execution_count": null,
   "metadata": {
    "colab": {
     "base_uri": "https://localhost:8080/",
     "height": 35
    },
    "id": "tr25wmDF2Now",
    "outputId": "dfd493fd-d823-4bd7-8c45-b659a725d3e7"
   },
   "outputs": [
    {
     "data": {
      "application/vnd.google.colaboratory.intrinsic+json": {
       "type": "string"
      },
      "text/plain": [
       "'DemoDataClass(a: int, b: float = 1.1)'"
      ]
     },
     "execution_count": 54,
     "metadata": {},
     "output_type": "execute_result"
    }
   ],
   "source": [
    "DemoDataClass.__doc__"
   ]
  },
  {
   "cell_type": "code",
   "execution_count": null,
   "metadata": {
    "colab": {
     "base_uri": "https://localhost:8080/",
     "height": 201
    },
    "id": "qVDoTQxj2Qn6",
    "outputId": "2c07913b-3676-463a-9964-01b371ec2f11"
   },
   "outputs": [
    {
     "ename": "AttributeError",
     "evalue": "ignored",
     "output_type": "error",
     "traceback": [
      "\u001b[0;31m---------------------------------------------------------------------------\u001b[0m",
      "\u001b[0;31mAttributeError\u001b[0m                            Traceback (most recent call last)",
      "\u001b[0;32m<ipython-input-55-6039a3f57d8a>\u001b[0m in \u001b[0;36m<cell line: 1>\u001b[0;34m()\u001b[0m\n\u001b[0;32m----> 1\u001b[0;31m \u001b[0mDemoDataClass\u001b[0m\u001b[0;34m.\u001b[0m\u001b[0ma\u001b[0m  \u001b[0;31m# a attribute only exist in instances of DemoDataClass\u001b[0m\u001b[0;34m\u001b[0m\u001b[0;34m\u001b[0m\u001b[0m\n\u001b[0m\u001b[1;32m      2\u001b[0m \u001b[0;31m# It will be a public attribute that we can get and set, unless the class is frozen.\u001b[0m\u001b[0;34m\u001b[0m\u001b[0;34m\u001b[0m\u001b[0m\n",
      "\u001b[0;31mAttributeError\u001b[0m: type object 'DemoDataClass' has no attribute 'a'"
     ]
    }
   ],
   "source": [
    "DemoDataClass.a  # a attribute only exist in instances of DemoDataClass\n",
    "# It will be a public attribute that we can get and set, unless the class is frozen."
   ]
  },
  {
   "cell_type": "code",
   "execution_count": null,
   "metadata": {
    "colab": {
     "base_uri": "https://localhost:8080/"
    },
    "id": "74YUTFiI2elK",
    "outputId": "2c21df64-d910-4428-9e37-1259089cac32"
   },
   "outputs": [
    {
     "data": {
      "text/plain": [
       "(1.1, 'spam')"
      ]
     },
     "execution_count": 56,
     "metadata": {},
     "output_type": "execute_result"
    }
   ],
   "source": [
    "DemoDataClass.b , DemoDataClass.c"
   ]
  },
  {
   "cell_type": "code",
   "execution_count": null,
   "metadata": {
    "colab": {
     "base_uri": "https://localhost:8080/"
    },
    "id": "cyL8YFLC20jZ",
    "outputId": "7f1383ff-9063-46b8-c644-e92025a272d1"
   },
   "outputs": [
    {
     "name": "stdout",
     "output_type": "stream",
     "text": [
      "9\n",
      "1.1\n",
      "spam\n"
     ]
    }
   ],
   "source": [
    "dc = DemoDataClass(9)  # a and b are instance attributes, and c is a class attribute we get via the instance.\n",
    "print(dc.a)\n",
    "print(dc.b)\n",
    "print(dc.c)"
   ]
  },
  {
   "cell_type": "code",
   "execution_count": null,
   "metadata": {
    "id": "4w7shStI3FB1"
   },
   "outputs": [],
   "source": [
    "# DemoDataClass instances are mutable—and no type checking is done at runtime\n",
    "dc.a = 10\n",
    "dc.b = 'oops'\n",
    "dc.c = 'whatever'"
   ]
  },
  {
   "cell_type": "markdown",
   "metadata": {
    "id": "cZ73302hxJnh"
   },
   "source": [
    "# More About @dataclass"
   ]
  },
  {
   "cell_type": "markdown",
   "metadata": {
    "id": "6F7LDXqqc_wh"
   },
   "source": [
    "## Default implementation of magic methods\n",
    "\n",
    "\n",
    "The `@dataclass` decorator will add the equivalent of these methods to the `InventoryItem` class:"
   ]
  },
  {
   "cell_type": "code",
   "execution_count": null,
   "metadata": {
    "id": "5E_AcIpMdG54"
   },
   "outputs": [],
   "source": [
    "@dataclass\n",
    "class InventoryItem:\n",
    "    '''Class for keeping track of an item in inventory.'''\n",
    "    name: str\n",
    "    unit_price: float\n",
    "    quantity_on_hand: int = 0\n",
    "\n",
    "def __init__(self, name: str, unit_price: float, quantity_on_hand: int = 0) -> None:\n",
    "    self.name = name\n",
    "    self.unit_price = unit_price\n",
    "    self.quantity_on_hand = quantity_on_hand\n",
    "\n",
    "def __repr__(self):\n",
    "    return f'InventoryItem(name={self.name!r}, unit_price={self.unit_price!r}, quantity_on_hand={self.quantity_on_hand!r})'\n",
    "\n",
    "def __eq__(self, other):\n",
    "    if other.__class__ is self.__class__:\n",
    "        return (self.name, self.unit_price, self.quantity_on_hand) == (other.name, other.unit_price, other.quantity_on_hand)\n",
    "    return NotImplemented\n",
    "\n",
    "def __ne__(self, other):\n",
    "    if other.__class__ is self.__class__:\n",
    "        return (self.name, self.unit_price, self.quantity_on_hand) != (other.name, other.unit_price, other.quantity_on_hand)\n",
    "    return NotImplemented"
   ]
  },
  {
   "cell_type": "markdown",
   "metadata": {
    "id": "BsXdjeJQ3j0n"
   },
   "source": [
    "`@dataclass(*, init=True, repr=True, eq=True, order=False, unsafe_hash=False, frozen=False)`\n",
    "\n",
    "* The * in the first position means the remaining parameters are keyword-only.\n",
    "* frozen=True: Protects against accidental changes to the class instances.\n",
    "* order=True: Allows sorting of instances of the data class."
   ]
  },
  {
   "cell_type": "markdown",
   "metadata": {
    "id": "OohRuco1WoNz"
   },
   "source": [
    "| Option       | Meaning                                              | Default | Notes                                                                                          |\n",
    "|--------------|------------------------------------------------------|---------|------------------------------------------------------------------------------------------------|\n",
    "| `init`       | Generate `__init__`                                  | True    | Ignored if `__init__` is implemented by user.                                                  |\n",
    "| `repr`       | Generate `__repr__`                                  | True    | Ignored if `__repr__` is implemented by user.                                                  |\n",
    "| `eq`         | Generate `__eq__`                                    | True    | Ignored if `__eq__` is implemented by user.                                                    |\n",
    "| `order`      | Generate `__lt__`, `__le__`, `__gt__`, `__ge__`      | False   | If True, raises exceptions if eq=False, or if any of the comparison methods are defined or inherited. |\n",
    "| `unsafe_hash`| Generate `__hash__`                                  | False   | Complex semantics and several caveats— see: [dataclass documentation](link_to_docs).                |\n",
    "| `frozen`     | Make instances “immutable”                                       | False   | Instances will be reasonably safe from accidental change, but not really immutable.             |\n",
    "\n"
   ]
  },
  {
   "cell_type": "markdown",
   "metadata": {
    "id": "kGKjvE2rxMoe"
   },
   "source": [
    "## Field Options\n",
    "\n",
    "- A **field** in a `@dataclass` is defined as a class variable that has a _type annotation_.\n",
    "- The **order** of the fields in all of the generated methods is the order in which they appear in the class definition.\n",
    "- Parameters which can be set to customize field properties:\n",
    "    - `default`: Provides a default value for the field.\n",
    "    - `default_factory`: A function that returns the initial value of the field.\n",
    "    - `init`: If true (the default), this field is included as a parameter to the generated `__init__` method.\n",
    "    - `repr`: If true (the default), this field is included in the string returned by the generated `__repr__` method.\n",
    "    - `compare`: If true (the default), this field is included in the generated equality and comparison methods (`__eq__`, `__gt__`, etc.).\n",
    "    - `hash`: Can be `True`, `False`, or `None`. If `None` (the default), uses the value of `compare`: if compare is true, then hash is true.\n",
    "    - `metadata`: A mapping (dictionary) which can contain user-defined data.\n",
    "- **Init-only Fields**: These are fields that can only be set during the initialization of the object. This is useful when we want to pass arguments to `__init__` that are not instance fields.\n",
    "- **Mutable Default Fields**: These are fields that have a default value that is mutable.\n",
    "- **Field List**: You can get a list of fields using `dataclasses.fields()` which returns a list of field objects.\n"
   ]
  },
  {
   "cell_type": "markdown",
   "metadata": {
    "id": "l6_D27PwQ8vi"
   },
   "source": [
    "|Option|Meaning|Default|\n",
    "|------|-------|-------|\n",
    "|default|Default value for field|_MISSING_TYPE|\n",
    "|default_factory|0-Parameter function used to produce a default|_MISSING_TYPE|\n",
    "|init|Include field in parameters to `__init__`|True|\n",
    "|repr|Include field in `__repr__`|True|\n",
    "|compare|Use field in comparison methods `__eq__`, `__lt__`, etc.|True|\n",
    "|hash|Include field in `__hash__` calculation|None|\n",
    "|metadata|Mapping with user-defined data; ignored by the `@dataclass`|None|\n"
   ]
  },
  {
   "cell_type": "markdown",
   "metadata": {
    "id": "6CnIbba2Rvkr"
   },
   "source": [
    "### Mutable Default"
   ]
  },
  {
   "cell_type": "code",
   "execution_count": null,
   "metadata": {
    "id": "I91wk5MZxNcL"
   },
   "outputs": [],
   "source": [
    "from dataclasses import dataclass, field\n",
    "\n",
    "@dataclass\n",
    "class ClubMember:\n",
    "    name: str\n",
    "    guests: list[str] = field(default_factory=list)  # To see error write `guests: list = []`\n",
    "    #guests: list[str] = []"
   ]
  },
  {
   "cell_type": "markdown",
   "metadata": {
    "id": "5sq9LWWlR03E"
   },
   "source": [
    "*NOTE*: `@dataclass` default factory is a partial solution to solve shared mutable default values that only applies to **list**, **dict**, and **set**. Thus, other mutable values pass this dataclass rejection without error.\n",
    "\n",
    "*NOTE*: `list[str]` means _a list of string elements._ However, `list` shows _guests_ accept a list of elements which have no type constraint."
   ]
  },
  {
   "cell_type": "code",
   "execution_count": null,
   "metadata": {
    "colab": {
     "base_uri": "https://localhost:8080/"
    },
    "id": "b1UlH3x6R3tB",
    "outputId": "27dc030e-b2b7-4eef-d326-446861ae7551"
   },
   "outputs": [
    {
     "name": "stdout",
     "output_type": "stream",
     "text": [
      "ClubMember(name='Alex', guests=[])\n",
      "club_member.athlete=False\n"
     ]
    }
   ],
   "source": [
    "@dataclass\n",
    "class ClubMember:\n",
    "    name: str\n",
    "    guests: list = field(default_factory=list)\n",
    "    athlete: bool = field(default=False, repr=False)\n",
    "\n",
    "club_member = ClubMember('Alex')\n",
    "\n",
    "print(club_member)\n",
    "print(f\"{club_member.athlete=}\")"
   ]
  },
  {
   "cell_type": "markdown",
   "metadata": {
    "id": "OWeKWNNlR6NY"
   },
   "source": [
    "**NOTE**: The default option exists because the field call takes the place of the default value in the field annotation."
   ]
  },
  {
   "cell_type": "markdown",
   "metadata": {
    "id": "Z614WvrUR87h"
   },
   "source": [
    "## Post-init Processing\n",
    "\n",
    "One of the key features of dataclasses is the `__post_init__()` method. When defined on the class, it will be called by the generated `__init__()`, normally as `self.__post_init__()`. This function is called by the built-in `__init__()` after initialization of all the attributes of a DataClass.\n",
    "\n",
    "This feature is handy when certain attributes are _dependent_ on the parameters passed in the `__init__()` but do not get their values directly from them. They get their values after performing some operation, such as _validation_ or _computation_, on a subset of arguments received in the constructor."
   ]
  },
  {
   "cell_type": "code",
   "execution_count": null,
   "metadata": {
    "id": "HGYDdNbOR_lJ"
   },
   "outputs": [],
   "source": [
    "# tag::DOCTESTS[]\n",
    "\"\"\"\n",
    "``HackerClubMember`` objects accept an optional ``handle`` argument::\n",
    "\n",
    "    >>> anna = HackerClubMember('Anna Ravenscroft', handle='AnnaRaven')\n",
    "    >>> anna\n",
    "    HackerClubMember(name='Anna Ravenscroft', guests=[], handle='AnnaRaven')\n",
    "\n",
    "If ``handle`` is omitted, it's set to the first part of the member's name::\n",
    "\n",
    "    >>> leo = HackerClubMember('Leo Rochael')\n",
    "    >>> leo\n",
    "    HackerClubMember(name='Leo Rochael', guests=[], handle='Leo')\n",
    "\n",
    "Members must have a unique handle. The following ``leo2`` will not be created,\n",
    "because its ``handle`` would be 'Leo', which was taken by ``leo``::\n",
    "\n",
    "    >>> leo2 = HackerClubMember('Leo DaVinci')\n",
    "    Traceback (most recent call last):\n",
    "      ...\n",
    "    ValueError: handle 'Leo' already exists.\n",
    "\n",
    "To fix, ``leo2`` must be created with an explicit ``handle``::\n",
    "\n",
    "    >>> leo2 = HackerClubMember('Leo DaVinci', handle='Neo')\n",
    "    >>> leo2\n",
    "    HackerClubMember(name='Leo DaVinci', guests=[], handle='Neo')\n",
    "\"\"\"\n",
    "# end::DOCTESTS[]\n",
    "\n",
    "# tag::HACKERCLUB[]\n",
    "from dataclasses import dataclass\n",
    "\n",
    "@dataclass\n",
    "class HackerClubMember(ClubMember):\n",
    "    all_handles = set()\n",
    "    handle: str = ''\n",
    "\n",
    "    def __post_init__(self):\n",
    "        cls = self.__class__\n",
    "        if self.handle == '':\n",
    "            self.handle = self.name.split()[0]\n",
    "        if self.handle in cls.all_handles:\n",
    "            msg = f'handle {self.handle!r} already exists.'\n",
    "            raise ValueError(msg)\n",
    "        cls.all_handles.add(self.handle)\n",
    "# end::HACKERCLUB[]"
   ]
  },
  {
   "cell_type": "code",
   "execution_count": null,
   "metadata": {
    "colab": {
     "base_uri": "https://localhost:8080/",
     "height": 35
    },
    "id": "g6B3AqPRSCj5",
    "outputId": "8d9944c0-2285-404b-8a8f-93ff0a407f85"
   },
   "outputs": [
    {
     "data": {
      "application/vnd.google.colaboratory.intrinsic+json": {
       "type": "string"
      },
      "text/plain": [
       "\"HackerClubMember(name: str, guests: list = <factory>, athlete: bool = False, handle: str = '')\""
      ]
     },
     "execution_count": 63,
     "metadata": {},
     "output_type": "execute_result"
    }
   ],
   "source": [
    "HackerClubMember.__doc__"
   ]
  },
  {
   "cell_type": "markdown",
   "metadata": {
    "id": "22jCwhkKSEgI"
   },
   "source": [
    "**NOTE**: `<factory>` is a short way of saying that some callable will produce the default value for guests"
   ]
  },
  {
   "cell_type": "markdown",
   "metadata": {
    "id": "_1K2WsGnSIbC"
   },
   "source": [
    "## Typed Class Attributes\n",
    "\n",
    "To add type annotation to class attributes if we use ordinary type annotations like `set[str]` the `@dataclass` will change it to an instance attribute. To prevent that behavior we use `typing.ClassVar[<attribute type>]`."
   ]
  },
  {
   "cell_type": "code",
   "execution_count": null,
   "metadata": {
    "colab": {
     "base_uri": "https://localhost:8080/"
    },
    "id": "cnVhAqueSK3h",
    "outputId": "472cad7f-bbdb-4f69-9e8c-106bb61bf9a7"
   },
   "outputs": [
    {
     "name": "stdout",
     "output_type": "stream",
     "text": [
      "Foo(ins_attr: set[str] = <factory>)\n",
      "Foo.cls_attr=set()\n"
     ]
    }
   ],
   "source": [
    "from typing import ClassVar\n",
    "from dataclasses import field\n",
    "\n",
    "@dataclass\n",
    "class Foo:\n",
    "    ins_attr: set[str] = field(default_factory=set)\n",
    "    cls_attr: ClassVar[set[str]] = set()\n",
    "\n",
    "print(Foo.__doc__)\n",
    "print(f\"{Foo.cls_attr=}\")"
   ]
  },
  {
   "cell_type": "markdown",
   "metadata": {
    "id": "t0DUnXdASP2h"
   },
   "source": [
    "**NOTE**: This is one of the cases that `@dataclass` considers type annotation."
   ]
  },
  {
   "cell_type": "markdown",
   "metadata": {
    "id": "GXpGvXq1SRkD"
   },
   "source": [
    "## Initialization Variables That Are Not Fields\n",
    "\n",
    "- Sometimes you need to pass arguments to `__init__` that are not instance fields. These arguments called **init-only variables**.\n",
    "- To declare an attribute as _init-only_ we use `dataclasses.InitVar[<attribute type>]`."
   ]
  },
  {
   "cell_type": "code",
   "execution_count": null,
   "metadata": {
    "colab": {
     "base_uri": "https://localhost:8080/"
    },
    "id": "0h-hdB4wSSDi",
    "outputId": "b4315a60-a08b-417f-8889-c18c5db68665"
   },
   "outputs": [
    {
     "name": "stdout",
     "output_type": "stream",
     "text": [
      "c.i=10, c.j=1\n",
      "c.database=None\n"
     ]
    }
   ],
   "source": [
    "from dataclasses import dataclass, InitVar\n",
    "\n",
    "class DatabaseType:\n",
    "    def lookup(self, search_text: str):\n",
    "        return len(search_text)\n",
    "\n",
    "@dataclass\n",
    "class C:\n",
    "    i: int\n",
    "    j: int = None\n",
    "    database: InitVar[DatabaseType] = None\n",
    "\n",
    "    def __post_init__(self, database):\n",
    "        if self.j is None and database is not None:\n",
    "            self.j = database.lookup('j')\n",
    "\n",
    "my_database = DatabaseType()\n",
    "c = C(10, database=my_database)\n",
    "\n",
    "print(f\"{c.i=}, {c.j=}\")\n",
    "print(f\"{c.database=}\")\n"
   ]
  },
  {
   "cell_type": "markdown",
   "metadata": {
    "id": "cyPNjm04f0wg"
   },
   "source": [
    "## Inheritance\n",
    "Behind the scene\n",
    "\n",
    "- It looks at all the base classes (the classes that your class inherits from) in reverse order. This order is known as the Method Resolution Order (MRO). It starts from the most basic class, object, and goes up to your class.\n",
    "\n",
    "- For each base class that is also a Data Class, it takes the fields (the variables defined in the class) and adds them to a list.\n",
    "\n",
    "- After it has looked at all the base classes, it then adds the fields from your class to the list.\n",
    "\n",
    "- This list of fields is then used to create methods for your class like `__init__`, `__repr__`, and others.\n",
    "\n",
    "- If a field is defined in both your class and a base class, the one in your class is used. This is because fields are added to the list in the order they are found, so later fields override earlier ones.\n",
    "\n",
    "**NOTE**: If a field is excluded from `__init__` (using `init=False`) and the field also specifies default_factory, then the default factory function will always be called from the generated `__init__` function. This happens because there is no other way to give the field an initial value."
   ]
  },
  {
   "cell_type": "code",
   "execution_count": null,
   "metadata": {
    "colab": {
     "base_uri": "https://localhost:8080/"
    },
    "id": "MSZjD-QkgBHq",
    "outputId": "04a9cdb6-7159-47df-907d-4438f6a08ff4"
   },
   "outputs": [
    {
     "name": "stdout",
     "output_type": "stream",
     "text": [
      "15 4 10\n",
      "11.0 4\n"
     ]
    }
   ],
   "source": [
    "from dataclasses import dataclass\n",
    "\n",
    "@dataclass\n",
    "class Base:\n",
    "    x: float = 11.0\n",
    "    y: int = 4\n",
    "\n",
    "\n",
    "@dataclass\n",
    "class C(Base):\n",
    "    z: int = 10\n",
    "    x: int = 15\n",
    "\n",
    "\n",
    "print(C.x,C.y,C.z)\n",
    "print(Base.x,Base.y) # 'Base' has no attribute 'z'"
   ]
  },
  {
   "cell_type": "markdown",
   "metadata": {
    "id": "DADf7pZgSWdi"
   },
   "source": [
    "## @dataclass Example: Dublin Core Resource Record"
   ]
  },
  {
   "cell_type": "code",
   "execution_count": null,
   "metadata": {
    "colab": {
     "base_uri": "https://localhost:8080/"
    },
    "id": "MGyKLeCWSXFV",
    "outputId": "4a93448a-e280-4cb0-dcbb-0432dfe6701b"
   },
   "outputs": [
    {
     "name": "stdout",
     "output_type": "stream",
     "text": [
      "Resource(identifier='978-0-13-475759-9', title='Refactoring, 2nd Edition', creators=['Martin Fowler', 'Kent Beck'], date=datetime.date(2018, 11, 19), type=<ResourceType.BOOK: 1>, description='Improving the design of existing code', language='EN', subjects=['computer programming', 'OOP'])\n",
      "True\n"
     ]
    }
   ],
   "source": [
    "\"\"\"\n",
    "Media resource description class with subset of the Dublin Core fields.\n",
    "\n",
    "Default field values:\n",
    "\n",
    "    >>> r = Resource('0')\n",
    "    >>> r  # doctest: +NORMALIZE_WHITESPACE\n",
    "    Resource(identifier='0', title='<untitled>', creators=[], date=None,\n",
    "    type=<ResourceType.BOOK: 1>, description='', language='', subjects=[])\n",
    "\n",
    "A complete resource record:\n",
    "# tag::DOCTEST[]\n",
    "\n",
    "    >>> description = 'Improving the design of existing code'\n",
    "    >>> book = Resource('978-0-13-475759-9', 'Refactoring, 2nd Edition',\n",
    "    ...     ['Martin Fowler', 'Kent Beck'], date(2018, 11, 19),\n",
    "    ...     ResourceType.BOOK, description, 'EN',\n",
    "    ...     ['computer programming', 'OOP'])\n",
    "    >>> book  # doctest: +NORMALIZE_WHITESPACE\n",
    "    Resource(identifier='978-0-13-475759-9', title='Refactoring, 2nd Edition',\n",
    "    creators=['Martin Fowler', 'Kent Beck'], date=datetime.date(2018, 11, 19),\n",
    "    type=<ResourceType.BOOK: 1>, description='Improving the design of existing code',\n",
    "    language='EN', subjects=['computer programming', 'OOP'])\n",
    "\n",
    "# end::DOCTEST[]\n",
    "\"\"\"\n",
    "\n",
    "# tag::DATACLASS[]\n",
    "from dataclasses import dataclass, field\n",
    "from typing import Optional\n",
    "from enum import Enum, auto\n",
    "from datetime import date\n",
    "\n",
    "\n",
    "class ResourceType(Enum):\n",
    "    BOOK = auto()\n",
    "    EBOOK = auto()\n",
    "    VIDEO = auto()\n",
    "\n",
    "\n",
    "@dataclass\n",
    "class Resource:\n",
    "    \"\"\"Media resource description.\"\"\"\n",
    "    identifier: str\n",
    "    title: str = '<untitled>'\n",
    "    creators: list[str] = field(default_factory=list)\n",
    "    date: Optional[date] = None\n",
    "    type: ResourceType = ResourceType.BOOK\n",
    "    description: str = ''\n",
    "    language: str = ''\n",
    "    subjects: list[str] = field(default_factory=list)\n",
    "# end::DATACLASS[]\n",
    "\n",
    "\n",
    "from typing import TypedDict\n",
    "\n",
    "\n",
    "class ResourceDict(TypedDict):\n",
    "    identifier: str\n",
    "    title: str\n",
    "    creators: list[str]\n",
    "    date: Optional[date]\n",
    "    type: ResourceType\n",
    "    description: str\n",
    "    language: str\n",
    "    subjects: list[str]\n",
    "\n",
    "\n",
    "if __name__ == '__main__':\n",
    "    r = Resource('0')\n",
    "    description = 'Improving the design of existing code'\n",
    "    book = Resource('978-0-13-475759-9', 'Refactoring, 2nd Edition',\n",
    "                    ['Martin Fowler', 'Kent Beck'], date(2018, 11, 19),\n",
    "                    ResourceType.BOOK, description,\n",
    "                    'EN', ['computer programming', 'OOP'])\n",
    "    print(book)\n",
    "    book_dict: ResourceDict = {\n",
    "        'identifier': '978-0-13-475759-9',\n",
    "        'title': 'Refactoring, 2nd Edition',\n",
    "        'creators': ['Martin Fowler', 'Kent Beck'],\n",
    "        'date': date(2018, 11, 19),\n",
    "        'type': ResourceType.BOOK,\n",
    "        'description': 'Improving the design of existing code',\n",
    "        'language': 'EN',\n",
    "        'subjects': ['computer programming', 'OOP']}\n",
    "    book2 = Resource(**book_dict)\n",
    "    print(book == book2)"
   ]
  },
  {
   "cell_type": "markdown",
   "metadata": {
    "id": "Xn1Uya3pSYmq"
   },
   "source": [
    "# Data Class as a Code Smell\n",
    "Main idea of Object Oriented Programming is to place _behavior_ and _data_ together in the same code unit which be called **class**. Therefore, if a class is wiledly used but has no significant behavior of its own, it is possible that code dealing with its instances is scattered in methods and functions throughout the system.\n",
    "\n",
    "**NOTE**: _Code Smell_ is a coding pattern that may be a symptom of poor object-oriented design. In other term, patterns in code that may indicate the need for refactoring.\n",
    "\n",
    "By the way, there are some common scenarios where it makes sense to have a data class with little or no behavior.\n",
    "\n",
    "## Data Class as Scaffolding\n",
    "In this scenario, the data class is an initial, simplistic implementation of a class to jump start a new project or module. With time, the class should get its own methods, instead of relying on methods of other classes to operate on its instances. Scaffolding is temporary; eventually your custom class may become fully independent from the builder you used to start it.\n",
    "\n",
    "## Data Class as Intermediate Representation\n",
    "A data class can be useful to build records about to be exported to JSON or some other interchange format, or to hold data that was just imported, crossing some system boundary.\n",
    "\n",
    "**NOTE**: Python’s data class builders all provide a method or function to convert an instance to a plain dict, and you can always invoke the constructor with a dict used as keyword arguments expanded with `**`. Such a dict is very close to a **JSON** record.\n",
    "\n",
    "**NOTE**: In this scenario, the data class instances should be handled as immutable objects even if the fields are mutable, you should not change them while they are in this intermediate form. If you do, you’re losing the key benefit of having data and behavior close together. When importing/exporting requires changing values, you should implement your own builder methods instead of using the given “as dict” methods or standard constructors."
   ]
  },
  {
   "cell_type": "markdown",
   "metadata": {
    "id": "7-Fn3n-wSsfk"
   },
   "source": [
    "# Pattern Matching Class Instances\n",
    "Class patterns are designed to match class instances by type and (optionally) by attributes.\n",
    "\n",
    "There are three variations of class patterns: **simple**, **keyword**, and **positional**. We’ll study them in that order.\n",
    "\n",
    "**NOTE**: The subject of a class pattern can be any class instance, not only instances of data classes."
   ]
  },
  {
   "cell_type": "markdown",
   "metadata": {
    "id": "wNiuKiGJcQal"
   },
   "source": [
    "## Simple Class Patterns\n",
    "\n",
    "the syntax for class pattern is as following:\n",
    "\n",
    "```python\n",
    "match x:\n",
    "    case float():\n",
    "        do_something_with(x)\n",
    "```\n",
    "However, becareful to not use `float` instead of `float()`, because `case float:` matches any subject as python sees `float` as a variable.\n",
    "\n",
    "**NOTE**: Nine blessed built-in types:\n",
    "- bytes\n",
    "- dict\n",
    "- float\n",
    "- frozenset\n",
    "- int\n",
    "- list\n",
    "- set\n",
    "- str\n",
    "- tuple\n",
    "\n",
    "**NOTE**: If the class is not one of hose nine blessed built-ins, then the argument-like variables represent patterns to be matched against attributes of an instance of that class."
   ]
  },
  {
   "cell_type": "markdown",
   "metadata": {
    "id": "PTEMtVClcSb1"
   },
   "source": [
    "## Keyword Class Patterns"
   ]
  },
  {
   "cell_type": "code",
   "execution_count": null,
   "metadata": {
    "id": "YZaIGFWQcTMD"
   },
   "outputs": [],
   "source": [
    "import typing\n",
    "\n",
    "class City(typing.NamedTuple):\n",
    "    continent: str\n",
    "    name: str\n",
    "    country: str\n",
    "\n",
    "cities = [\n",
    "    City('Asia', 'Tokyo', 'JP'),\n",
    "    City('Asia', 'Delhi', 'IN'),\n",
    "    City('North America', 'Mexico City', 'MX'),\n",
    "    City('North America', 'New York', 'US'),\n",
    "    City('South America', 'São Paulo', 'BR'),\n",
    "]"
   ]
  },
  {
   "cell_type": "code",
   "execution_count": null,
   "metadata": {
    "colab": {
     "base_uri": "https://localhost:8080/"
    },
    "id": "l1eju8lrcWGd",
    "outputId": "09c63efb-8fe1-4d13-dd32-bfc28a1edd37"
   },
   "outputs": [
    {
     "data": {
      "text/plain": [
       "[City(continent='Asia', name='Tokyo', country='JP'),\n",
       " City(continent='Asia', name='Delhi', country='IN')]"
      ]
     },
     "execution_count": 69,
     "metadata": {},
     "output_type": "execute_result"
    }
   ],
   "source": [
    "def match_asian_cities():\n",
    "    results = []\n",
    "    for city in cities:\n",
    "        match city:\n",
    "            case City(continent='Asia'):\n",
    "                results.append(city)\n",
    "    return results\n",
    "\n",
    "match_asian_cities()"
   ]
  },
  {
   "cell_type": "code",
   "execution_count": null,
   "metadata": {
    "colab": {
     "base_uri": "https://localhost:8080/"
    },
    "id": "ziG0zVsccY98",
    "outputId": "1b8546f8-f334-4682-8e53-030118b69a7a"
   },
   "outputs": [
    {
     "data": {
      "text/plain": [
       "['JP', 'IN']"
      ]
     },
     "execution_count": 70,
     "metadata": {},
     "output_type": "execute_result"
    }
   ],
   "source": [
    "def match_asian_countries():\n",
    "    results = []\n",
    "    for city in cities:\n",
    "        match city:\n",
    "            case City(continent='Asia', country=cc):\n",
    "                results.append(cc)\n",
    "    return results\n",
    "\n",
    "match_asian_countries()"
   ]
  },
  {
   "cell_type": "markdown",
   "metadata": {
    "id": "qQgw862HcakF"
   },
   "source": [
    "## Positional Class Patterns"
   ]
  },
  {
   "cell_type": "code",
   "execution_count": null,
   "metadata": {
    "colab": {
     "base_uri": "https://localhost:8080/"
    },
    "id": "xIfdRsREcbTI",
    "outputId": "eadbac98-9bd9-40a4-9bb4-a352e75a239b"
   },
   "outputs": [
    {
     "data": {
      "text/plain": [
       "[City(continent='Asia', name='Tokyo', country='JP'),\n",
       " City(continent='Asia', name='Delhi', country='IN')]"
      ]
     },
     "execution_count": 71,
     "metadata": {},
     "output_type": "execute_result"
    }
   ],
   "source": [
    "def match_asian_cities_pos():\n",
    "    results = []\n",
    "    for city in cities:\n",
    "        match city:\n",
    "            case City('Asia'):\n",
    "                results.append(city)\n",
    "    return results\n",
    "\n",
    "match_asian_cities_pos()"
   ]
  },
  {
   "cell_type": "code",
   "execution_count": null,
   "metadata": {
    "colab": {
     "base_uri": "https://localhost:8080/"
    },
    "id": "jAeaP_5jcehM",
    "outputId": "5213f3a2-7fea-48f4-f91a-ad80e24eb176"
   },
   "outputs": [
    {
     "data": {
      "text/plain": [
       "['JP', 'IN']"
      ]
     },
     "execution_count": 72,
     "metadata": {},
     "output_type": "execute_result"
    }
   ],
   "source": [
    "def match_asian_countries_pos():\n",
    "    results = []\n",
    "    for city in cities:\n",
    "        match city:\n",
    "            case City('Asia', _, country):\n",
    "                results.append(country)\n",
    "    return results\n",
    "\n",
    "match_asian_countries_pos()"
   ]
  },
  {
   "cell_type": "code",
   "execution_count": null,
   "metadata": {
    "colab": {
     "base_uri": "https://localhost:8080/"
    },
    "id": "12Hk48YPcgKl",
    "outputId": "5853d729-eea3-4a3c-d35b-65d9881a0fda"
   },
   "outputs": [
    {
     "data": {
      "text/plain": [
       "('continent', 'name', 'country')"
      ]
     },
     "execution_count": 73,
     "metadata": {},
     "output_type": "execute_result"
    }
   ],
   "source": [
    "City.__match_args__"
   ]
  },
  {
   "cell_type": "markdown",
   "metadata": {
    "id": "j0dtXpWrjPtm"
   },
   "source": [
    "# Why not just use namedtuple or NamedTuple?\n",
    "\n",
    "## namedtuple\n",
    "\n",
    "- Any namedtuple can be accidentally compared to any other with the same number of fields or other tuples. For example: `Point3D(2017, 6, 2) == Date(2017, 6, 2)` or `Point2D(1, 10) == (1, 10)`. With Data Classes, this would return `False`.\n",
    "- Instances are always iterable, which can make it difficult to add fields. If a library defines:\n",
    "\n",
    "```python\n",
    "Time = namedtuple('Time', ['hour', 'minute'])\n",
    "def get_time():\n",
    "    return Time(12, 0)\n",
    "```\n",
    "\n",
    "Then if a user uses this code as:\n",
    "\n",
    "```python\n",
    "hour, minute = get_time()\n",
    "```\n",
    "\n",
    "then it would not be possible to add a second field to Time without breaking the user’s code.\n",
    "\n",
    "- No option for mutable instances.\n",
    "- Cannot specify default values.\n",
    "- Cannot control which fields are used for `__init__`, `__repr__`, etc.\n",
    "- Cannot support combining fields by inheritance\n",
    "\n",
    "## NamedTuple\n",
    "For classes with statically defined fields, it does support similar syntax to Data Classes, using type annotations. This produces a **namedtuple**, so it shares namedtuples benefits and some of its downsides. Data Classes, unlike `typing.NamedTuple`, support combining fields via inheritance."
   ]
  },
  {
   "cell_type": "markdown",
   "metadata": {
    "id": "Y4zr0w9hSnU8"
   },
   "source": [
    "# Useful References\n",
    "\n",
    "- [Write Pythonic and Clean Code With namedtuple](https://realpython.com/python-namedtuple/)\n",
    "- [Which Python @dataclass is best? Feat. Pydantic, NamedTuple, attrs...](https://www.youtube.com/watch?v=vCLetdhswMg)\n",
    "- [PEP 526 – Syntax for Variable Annotations](https://peps.python.org/pep-0526/)\n",
    "- [PEP 484 – Type Hints](https://peps.python.org/pep-0484/)\n",
    "- [dataclasses — Data Classes](https://docs.python.org/3/library/dataclasses.html)\n",
    "- [Code Smell](https://martinfowler.com/bliki/CodeSmell.html)\n",
    "- [PEP 557 - Data Classes](https://peps.python.org/pep-0557/)"
   ]
  },
  {
   "cell_type": "markdown",
   "metadata": {
    "id": "66uPh7RZdNJO"
   },
   "source": [
    "# Lecturers\n",
    "\n",
    "1. Farzin Vatani, [Linkedin](https://www.linkedin.com/in/farzin-vatani)\n",
    "2. Zohreh Alizadeh, [Linkedin](https://www.linkedin.com/in/zohreh-bayramalizadeh/)\n",
    "\n",
    "\n",
    "present date : 2023-10-20\n"
   ]
  },
  {
   "cell_type": "markdown",
   "metadata": {
    "id": "JsPSe4EfLFW2"
   },
   "source": [
    "# Reviewers\n",
    "\n",
    "1. Hosein Toodehroosta, review date: 2023-10-19, [LinkedIn](https://www.linkedin.com/in/hossein-toodehroosta-4b34b9191?utm_source=share&utm_campaign=share_via&utm_content=profile&utm_medium=android_app)\n",
    "2. Mahyar Jahaninasab, review date: 2023-10-19, [Github](https://github.com/mahyar-jahaninasab)\n",
    "3. Reza Hashemian, review date: 2023-10-20, [LinkedIn](https://www.linkedin.com/in/rezahashemian)\n",
    "4. Mahya Asgarian, review date: 2023-10-20, [LinkedIn](https://www.linkedin.com/in/mahya-asgarian-9a7b13249)\n",
    "5. Ghazal Tajik, review date: 2023-10-20, [LinkedIn](https://www.linkedin.com/in/ghazal-tajik-1736a126b)\n",
    "5. Mehran Faraji, review date: 2023-10-20, [LinkedIn](https://www.linkedin.com/in/mehranfaraji/)"
   ]
  }
 ],
 "metadata": {
  "colab": {
   "provenance": []
  },
  "kernelspec": {
   "display_name": "Python 3 (ipykernel)",
   "language": "python",
   "name": "python3"
  },
  "language_info": {
   "codemirror_mode": {
    "name": "ipython",
    "version": 3
   },
   "file_extension": ".py",
   "mimetype": "text/x-python",
   "name": "python",
   "nbconvert_exporter": "python",
   "pygments_lexer": "ipython3",
   "version": "3.10.13"
  }
 },
 "nbformat": 4,
 "nbformat_minor": 4
}
